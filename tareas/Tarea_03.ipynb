{
 "cells": [
  {
   "cell_type": "markdown",
   "metadata": {},
   "source": [
    "# Tarea 03: Evaluación de funciones"
   ]
  },
  {
   "cell_type": "markdown",
   "metadata": {},
   "source": [
    "Fecha *límite* de entrega: **martes 28 de febrero del 2017, antes de las 15:00 horas**.\n",
    "\n",
    "**No** se recibirán tareas enviadas después del inicio de la clase.\n",
    "\n",
    "Manda un solo notebook de Jupyter con tus respuestas a las preguntas al ayudante.\n",
    "\n",
    "Explica brevemente qué estás haciendo. Redacta oraciones completas en español, usando acentos. Utiliza ecuaciones con notación LaTeX cuando sea necesario.\n",
    "\n",
    "El notebook debe ser ejecutable, es decir, cada celda debe correr sin errores, y debe reproducir la salida que aparece en la pantalla."
   ]
  },
  {
   "cell_type": "markdown",
   "metadata": {},
   "source": [
    "## 1. Polinomios "
   ]
  },
  {
   "cell_type": "markdown",
   "metadata": {},
   "source": [
    "En esta tarea, veremos cómo evaluar ciertas funciones en la computadora.\n",
    "\n",
    "Las funciones más fáciles de tratar son los **polinomios**."
   ]
  },
  {
   "cell_type": "markdown",
   "metadata": {},
   "source": [
    "[1] Utiliza notación LaTeX en una celda de Markdown para escribir un polinomio $p_n$ de grado $n$ con coeficientes \n",
    "$a_0$, $a_1$, $\\ldots$, $a_n$, donde $a_i$ es el coeficiente de $x^i$."
   ]
  },
  {
   "cell_type": "markdown",
   "metadata": {},
   "source": [
    "$$p_n(x) = a_{0} + a_{1}x + a_{2}x^2 + ... + a_{n}x^n $$"
   ]
  },
  {
   "cell_type": "markdown",
   "metadata": {},
   "source": [
    "[2] (i) Escribe una función `evaluar_polinomio` que evalúa un polinomio de grado $2$, $p(x) = a + bx + c x^2$. La función debe aceptar como argumentos los valores de $a$, $b$ y $c$, así como el valor de $x$ donde evaluar. Verifica que funciona con el polinomio $p(x) = 1 + 2x - 3x^2$. [Pista, aquí la función se llama como sigue:\n",
    "\n",
    "    evaluar_polinomio(a, b, c, x).\n",
    "   ]\n",
    "\n",
    "(ii) Escribe una función `evaluar_polinomio` evalúa un polinomio de grado $n$.\n",
    "Acepta un arreglo `a` de $n+1$ coeficients, en el orden `a_0`, `a_1`, etc., así como un valor `x`, y evalúa $p(x)$. [Pista: Recuerda que el $i$-ésimo elemento de un arreglo se accesa con `a[i]`, y el número de entradas de un arreglo es `length(a)`.] Verifica que funciona con el polinomio $p(x) = 1 + 2x - 3x^2$. [Pista: aquí, la función se llama como sigue: \n",
    "\n",
    "    evaluar_polinomio([1, 2, -3], x)\n",
    "   ]\n",
    "\n",
    "(iii) Verifica que funciona con un polinomio cúbico."
   ]
  },
  {
   "cell_type": "code",
   "execution_count": 16,
   "metadata": {
    "collapsed": false
   },
   "outputs": [
    {
     "name": "stderr",
     "output_type": "stream",
     "text": [
      "WARNING: Method definition evaluar_polinomio(#T<:Float64, #T<:Float64, #T<:Float64, #T<:Float64) in module Main at In[15]:3 overwritten at In[16]:3.\n"
     ]
    },
    {
     "data": {
      "text/plain": [
       "evaluar_polinomio (generic function with 5 methods)"
      ]
     },
     "execution_count": 16,
     "metadata": {},
     "output_type": "execute_result"
    }
   ],
   "source": [
    "###[2] (i)\n",
    "function evaluar_polinomio{T<:Float64}(a::T, b::T, c::T, x::T)\n",
    "    pol = a + b*x + c*x^2 #sólo multiplicamos los valores por la x corresp.\n",
    "    return pol\n",
    "end"
   ]
  },
  {
   "cell_type": "code",
   "execution_count": 19,
   "metadata": {
    "collapsed": false
   },
   "outputs": [
    {
     "data": {
      "text/plain": [
       "-7.0"
      ]
     },
     "execution_count": 19,
     "metadata": {},
     "output_type": "execute_result"
    }
   ],
   "source": [
    "evaluar_polinomio(1., 2., -3., 2.) #funciona"
   ]
  },
  {
   "cell_type": "code",
   "execution_count": 29,
   "metadata": {
    "collapsed": false
   },
   "outputs": [
    {
     "name": "stderr",
     "output_type": "stream",
     "text": [
      "WARNING: Method definition evaluar_pol_n(Array{#T<:Float64, N<:Any}, #T<:Float64) in module Main at In[27]:2 overwritten at In[29]:2.\n"
     ]
    },
    {
     "data": {
      "text/plain": [
       "evaluar_pol_n (generic function with 1 method)"
      ]
     },
     "execution_count": 29,
     "metadata": {},
     "output_type": "execute_result"
    }
   ],
   "source": [
    "function evaluar_pol_n{T<:Float64}(coefs::Array{T}, x::T)\n",
    "    n = length(coefs)\n",
    "    x_i = [x^i for i in 0:n-1]\n",
    "    pol = sum(coefs.*x_i)\n",
    "    return pol\n",
    "end"
   ]
  },
  {
   "cell_type": "code",
   "execution_count": 31,
   "metadata": {
    "collapsed": false
   },
   "outputs": [
    {
     "data": {
      "text/plain": [
       "15.0"
      ]
     },
     "execution_count": 31,
     "metadata": {},
     "output_type": "execute_result"
    }
   ],
   "source": [
    "evaluar_pol_n([1.,1.,1.,1.], 2.)"
   ]
  },
  {
   "cell_type": "code",
   "execution_count": 34,
   "metadata": {
    "collapsed": false
   },
   "outputs": [
    {
     "data": {
      "text/plain": [
       "-7.0"
      ]
     },
     "execution_count": 34,
     "metadata": {},
     "output_type": "execute_result"
    }
   ],
   "source": [
    "evaluar_pol_n([1.,2.,-3.], 2.) #funciona"
   ]
  },
  {
   "cell_type": "markdown",
   "metadata": {},
   "source": [
    "[3] Otra manera de evaluar un polinomio es con el llamado [**algoritmo de Horner**](https://es.wikipedia.org/wiki/Algoritmo_de_Horner). La idea es que es ineficiente calcular `xˆ3` desde cero, si ya contamos con el resultado de `xˆ2`.\n",
    "\n",
    "(i) Escribe una función para evaluar una función `evaluar_actualizar` usando esta idea: empieza desde el coeficiente de $x^0$, y guarda el valor actual de la potencia de `x` en una variable que vas actualizando."
   ]
  },
  {
   "cell_type": "code",
   "execution_count": 104,
   "metadata": {
    "collapsed": false
   },
   "outputs": [
    {
     "name": "stderr",
     "output_type": "stream",
     "text": [
      "WARNING: Method definition evaluar_actualizar(Array{#T<:Float64, N<:Any}, #T<:Float64) in module Main at In[102]:2 overwritten at In[104]:2.\n"
     ]
    },
    {
     "data": {
      "text/plain": [
       "evaluar_actualizar (generic function with 1 method)"
      ]
     },
     "execution_count": 104,
     "metadata": {},
     "output_type": "execute_result"
    }
   ],
   "source": [
    "function evaluar_actualizar{T<:Float64}(coefs::Array{T}, x::T)\n",
    "    n = length(coefs)\n",
    "    x_i = 1.\n",
    "    pol = coefs[1]\n",
    "    for i in 2:n\n",
    "        x_i = x_i*x\n",
    "        pol += coefs[i]*x_i\n",
    "    end\n",
    "    return pol\n",
    "end"
   ]
  },
  {
   "cell_type": "code",
   "execution_count": 105,
   "metadata": {
    "collapsed": false
   },
   "outputs": [
    {
     "data": {
      "text/plain": [
       "-7.0"
      ]
     },
     "execution_count": 105,
     "metadata": {},
     "output_type": "execute_result"
    }
   ],
   "source": [
    "evaluar_actualizar([1.,2.,-3.], 2.) #funciona"
   ]
  },
  {
   "cell_type": "markdown",
   "metadata": {},
   "source": [
    "(ii) Utiliza la descripción del algoritmo en la liga para escribir una función `evaluar_horner` que implementa el método de Horner (que se supone es aún más eficiente que la (i)), con la misma estructura que la función de la pregunta 2(ii). Verifica que da las mismas respuestas que las funciones de la pregunta 2."
   ]
  },
  {
   "cell_type": "code",
   "execution_count": 116,
   "metadata": {
    "collapsed": false
   },
   "outputs": [
    {
     "name": "stderr",
     "output_type": "stream",
     "text": [
      "WARNING: Method definition evaluar_horner(Array{#T<:Float64, N<:Any}, #T<:Float64) in module Main at In[114]:2 overwritten at In[116]:2.\n"
     ]
    },
    {
     "data": {
      "text/plain": [
       "evaluar_horner (generic function with 2 methods)"
      ]
     },
     "execution_count": 116,
     "metadata": {},
     "output_type": "execute_result"
    }
   ],
   "source": [
    "function evaluar_horner{T<:Float64}(coefs::Array{T},x::T)\n",
    "    n = length(coefs)\n",
    "    x_i = coefs[n]\n",
    "    for k = 1:n-1\n",
    "        x_i = coefs[n-k] + x_i*x\n",
    "    end\n",
    "    return x_i\n",
    "end"
   ]
  },
  {
   "cell_type": "code",
   "execution_count": 117,
   "metadata": {
    "collapsed": false
   },
   "outputs": [
    {
     "data": {
      "text/plain": [
       "-7.0"
      ]
     },
     "execution_count": 117,
     "metadata": {},
     "output_type": "execute_result"
    }
   ],
   "source": [
    "evaluar_horner([1.,2.,-3.], 2.)"
   ]
  },
  {
   "cell_type": "markdown",
   "metadata": {},
   "source": [
    "[4] ¿Cuál de estos tres algoritmos es \"mejor\"? Aquí, por \"mejor\" entenderemos \"más rápido\".\n",
    "Para verificarlo, utiliza el paquete `BenchmarkTools.jl`, y utiliza `@benchmark f($a, $x)` para ver cuánto tiempo se tarda cada función. (Debes poner explícitamente los signos `$`.) "
   ]
  },
  {
   "cell_type": "code",
   "execution_count": 127,
   "metadata": {
    "collapsed": false
   },
   "outputs": [
    {
     "name": "stderr",
     "output_type": "stream",
     "text": [
      "\u001b[1m\u001b[34mINFO: Nothing to be done\n",
      "\u001b[0m\u001b[1m\u001b[34mINFO: METADATA is out-of-date — you may not have the latest version of BenchmarkTools\n",
      "\u001b[0m\u001b[1m\u001b[34mINFO: Use `Pkg.update()` to get the latest versions of your packages\n",
      "\u001b[0m"
     ]
    }
   ],
   "source": [
    "Pkg.add(\"BenchmarkTools\");"
   ]
  },
  {
   "cell_type": "code",
   "execution_count": 119,
   "metadata": {
    "collapsed": false
   },
   "outputs": [
    {
     "name": "stderr",
     "output_type": "stream",
     "text": [
      "\u001b[1m\u001b[34mINFO: Precompiling module JLD.\n",
      "\u001b[0mWARNING: could not import Base.lastidx into LegacyStrings\n"
     ]
    }
   ],
   "source": [
    "using BenchmarkTools"
   ]
  },
  {
   "cell_type": "code",
   "execution_count": 131,
   "metadata": {
    "collapsed": false
   },
   "outputs": [
    {
     "data": {
      "text/plain": [
       "BenchmarkTools.Trial: \n",
       "  memory estimate:  0 bytes\n",
       "  allocs estimate:  0\n",
       "  --------------\n",
       "  minimum time:     13.591 ns (0.00% GC)\n",
       "  median time:      13.644 ns (0.00% GC)\n",
       "  mean time:        14.003 ns (0.00% GC)\n",
       "  maximum time:     99.684 ns (0.00% GC)\n",
       "  --------------\n",
       "  samples:          10000\n",
       "  evals/sample:     998\n",
       "  time tolerance:   5.00%\n",
       "  memory tolerance: 1.00%"
      ]
     },
     "execution_count": 131,
     "metadata": {},
     "output_type": "execute_result"
    }
   ],
   "source": [
    " @benchmark sin(1) #preparamos el paquete"
   ]
  },
  {
   "cell_type": "code",
   "execution_count": 137,
   "metadata": {
    "collapsed": false
   },
   "outputs": [
    {
     "data": {
      "text/plain": [
       "BenchmarkTools.Trial: \n",
       "  memory estimate:  0 bytes\n",
       "  allocs estimate:  0\n",
       "  --------------\n",
       "  minimum time:     2.089 ns (0.00% GC)\n",
       "  median time:      2.098 ns (0.00% GC)\n",
       "  mean time:        2.145 ns (0.00% GC)\n",
       "  maximum time:     11.177 ns (0.00% GC)\n",
       "  --------------\n",
       "  samples:          10000\n",
       "  evals/sample:     1000\n",
       "  time tolerance:   5.00%\n",
       "  memory tolerance: 1.00%"
      ]
     },
     "execution_count": 137,
     "metadata": {},
     "output_type": "execute_result"
    }
   ],
   "source": [
    "@benchmark evaluar_polinomio($1.,$2.,-$3., $2.)"
   ]
  },
  {
   "cell_type": "code",
   "execution_count": 134,
   "metadata": {
    "collapsed": false
   },
   "outputs": [
    {
     "data": {
      "text/plain": [
       "BenchmarkTools.Trial: \n",
       "  memory estimate:  288 bytes\n",
       "  allocs estimate:  5\n",
       "  --------------\n",
       "  minimum time:     123.035 ns (0.00% GC)\n",
       "  median time:      128.013 ns (0.00% GC)\n",
       "  mean time:        155.349 ns (15.15% GC)\n",
       "  maximum time:     2.661 μs (90.38% GC)\n",
       "  --------------\n",
       "  samples:          10000\n",
       "  evals/sample:     909\n",
       "  time tolerance:   5.00%\n",
       "  memory tolerance: 1.00%"
      ]
     },
     "execution_count": 134,
     "metadata": {},
     "output_type": "execute_result"
    }
   ],
   "source": [
    "@benchmark evaluar_pol_n($[1.,2.,-3.], $2.)"
   ]
  },
  {
   "cell_type": "code",
   "execution_count": 135,
   "metadata": {
    "collapsed": false
   },
   "outputs": [
    {
     "data": {
      "text/plain": [
       "BenchmarkTools.Trial: \n",
       "  memory estimate:  0 bytes\n",
       "  allocs estimate:  0\n",
       "  --------------\n",
       "  minimum time:     4.751 ns (0.00% GC)\n",
       "  median time:      4.911 ns (0.00% GC)\n",
       "  mean time:        4.979 ns (0.00% GC)\n",
       "  maximum time:     22.730 ns (0.00% GC)\n",
       "  --------------\n",
       "  samples:          10000\n",
       "  evals/sample:     1000\n",
       "  time tolerance:   5.00%\n",
       "  memory tolerance: 1.00%"
      ]
     },
     "execution_count": 135,
     "metadata": {},
     "output_type": "execute_result"
    }
   ],
   "source": [
    "@benchmark evaluar_actualizar($[1.,2.,-3.], $2.)"
   ]
  },
  {
   "cell_type": "code",
   "execution_count": 136,
   "metadata": {
    "collapsed": false
   },
   "outputs": [
    {
     "data": {
      "text/plain": [
       "BenchmarkTools.Trial: \n",
       "  memory estimate:  0 bytes\n",
       "  allocs estimate:  0\n",
       "  --------------\n",
       "  minimum time:     4.578 ns (0.00% GC)\n",
       "  median time:      4.664 ns (0.00% GC)\n",
       "  mean time:        4.773 ns (0.00% GC)\n",
       "  maximum time:     90.127 ns (0.00% GC)\n",
       "  --------------\n",
       "  samples:          10000\n",
       "  evals/sample:     1000\n",
       "  time tolerance:   5.00%\n",
       "  memory tolerance: 1.00%"
      ]
     },
     "execution_count": 136,
     "metadata": {},
     "output_type": "execute_result"
    }
   ],
   "source": [
    "@benchmark evaluar_horner($[1.,2.,-3.], $2.)"
   ]
  },
  {
   "cell_type": "markdown",
   "metadata": {},
   "source": [
    "Podemos ver que el método que no utiliza arreglos es el más rápido de todos, pero obviamente muy limitado. Vemos que actualizar la $x_i$ mejora bastante el rendimiento y que hay poca diferencia entre los últimos dos métodos, siendo el de Horner ligeramente más eficiente, pero estas pruebas las estamos haciendo para órdenes de n de $x^n$ muy pequeños (2), la diferencia en rendimiento se notará muchos más en órdenes mayores."
   ]
  },
  {
   "cell_type": "markdown",
   "metadata": {},
   "source": [
    "## 2. Funciones elementales"
   ]
  },
  {
   "cell_type": "markdown",
   "metadata": {},
   "source": [
    "¿Cómo evalúa una computadora la función exponencial? No hay ninguna forma fácil y exacta de evaluarla. Por eso debemos usar **aproximaciones**. Normalmente, aproximamos las funciones complicadas (o sea, ¡las que no sean polinomios!) por las únicas funciones con las cuales sí sabemos trabajar, los polinomios.\n",
    "\n",
    "Un primer tipo de aproximación es mediante las **series de Taylor**. (Ojo: no es la mejor solución, ni la que se utiliza realmente.)"
   ]
  },
  {
   "cell_type": "markdown",
   "metadata": {},
   "source": [
    "[5] Recuerda que la función exponencial se define mediante una serie de Taylor. Escribe esta serie de Taylor con notación LaTeX."
   ]
  },
  {
   "cell_type": "markdown",
   "metadata": {
    "collapsed": true
   },
   "source": [
    "Podemos aproximar la serie de Taylor con un **polinomio de Taylor** de grado $n$, que se obtiene al truncar la serie y retener sólo los términos de grado $\\le n$."
   ]
  },
  {
   "cell_type": "markdown",
   "metadata": {},
   "source": [
    "[6] Escribe una función para calcular el polinomio de Taylor de la función exponencial de orden $n$, evaluada en $x$. Utiliza una de las funciones de la preguntas 2 o 3 para evaluar el polinomio."
   ]
  },
  {
   "cell_type": "markdown",
   "metadata": {},
   "source": [
    "[7] ¿Cuál valor de $n$ nos da una buena aproximación? Podemos esperar que dependerá de $x$. Para saberlo, haz lo siguiente.\n",
    "\n",
    "(i) Dibuja la función $\\exp(x)$ y las aproximaciones con distintas $n$s. Puedes usar también `@manipulate`. ¿Qué valor de $n$ parece que necesites para tener una buena aproximación de `exp(1)`? Para `exp(5)`?\n",
    "\n",
    "(ii) Escribe una función que calcula la función exponencial que va variando $n$ *hasta que* la diferencia entre $p_{n-1}(x)$ y $p_n(x)$ sea menor que una tolerancia (la cual también es argumento de la función). ¿Concuerda con tu observación de la pregunta (i)?"
   ]
  },
  {
   "cell_type": "markdown",
   "metadata": {},
   "source": [
    "[8] Lo que acabamos de hacer es muy ineficiente -- ¿por qué?\n",
    "\n",
    "Una mejor manera de hacerlo es parecido al método de Horner: vamos guardando el valor actual del $i$-ésimo término y lo actualizamos durante el cálculo.\n",
    "\n",
    "(i) Implementa la función exponencial así, hasta que el tamaño del nuevo término sea menor que cierta tolerancia. Verifica que funciona."
   ]
  },
  {
   "cell_type": "markdown",
   "metadata": {},
   "source": [
    "[9] La función exponencial también sirve para números complejos. En Julia, $i$, la raíz cuadrada de $-1$, se escribe como `im`.\n",
    "\n",
    "(i) Utiliza esto para escribir una función `mi_sin(x)` para calcular $\\sin(x)$."
   ]
  },
  {
   "cell_type": "markdown",
   "metadata": {},
   "source": [
    "[10] Aunque estamos llevando a cabo cálculos con números de punto flotante, podemos lograr ciertas **garantías** sobre los resultados.\n",
    "\n",
    "(i) Escribe el teorema de Taylor con la forma del término complementario de Lagrange para un polinomio de Taylor $p_2(x)$ de grado 2, con término complementario de orden 3.\n",
    "\n",
    "(ii) Considera la función $\\exp$ en el rango $I = [-\\frac{1}{2}, \\frac{1}{2}]$. Encuentra una cota superior, $d$, para el término complementario en $I$. [Pista: Cuál es el valor máximo del término complementario sobre todo el intervalo?] \n",
    "\n",
    "(iii) Dibuja un \"tubo\" entre $p_2(x) - d$ y $p_2(x) + d$. Esto representa una región en la cual, de forma **garantizada**, cae $\\exp$ dentro del intervalo $I$. Dibuja $\\exp$ encima.\n",
    "\n",
    "[En `Plots.jl`, para rellenar la región entre la función `f` y la función `g`, puedes utilizar `plot(xx, f.(xx), fillrange=g.(xx), alpha=0.3)`, donde `xx` son las coordenadas `xx` de los puntos. Aquí, `alpha` corresponde al grado de transparencia de la región rellenada.]\n",
    "\n",
    "** Opcional: ¿Qué ocurre si haces lo mismo para un grado de polinomio de Taylor superior con su cota correspondiente. Puedes utilizar `@manipulate`."
   ]
  }
 ],
 "metadata": {
  "kernelspec": {
   "display_name": "Julia 0.5.1-pre",
   "language": "julia",
   "name": "julia-0.5"
  },
  "language_info": {
   "file_extension": ".jl",
   "mimetype": "application/julia",
   "name": "julia",
   "version": "0.5.1"
  }
 },
 "nbformat": 4,
 "nbformat_minor": 0
}
