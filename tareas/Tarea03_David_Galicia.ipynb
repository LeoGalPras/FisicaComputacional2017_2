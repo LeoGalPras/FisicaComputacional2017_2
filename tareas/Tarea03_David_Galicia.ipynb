{
 "cells": [
  {
   "cell_type": "markdown",
   "metadata": {},
   "source": [
    "# Tarea 03: Evaluación de funciones"
   ]
  },
  {
   "cell_type": "markdown",
   "metadata": {},
   "source": [
    "Fecha *límite* de entrega: **martes 28 de febrero del 2017, antes de las 15:00 horas**.\n",
    "\n",
    "**No** se recibirán tareas enviadas después del inicio de la clase.\n",
    "\n",
    "Manda un solo notebook de Jupyter con tus respuestas a las preguntas al ayudante.\n",
    "\n",
    "Explica brevemente qué estás haciendo. Redacta oraciones completas en español, usando acentos. Utiliza ecuaciones con notación LaTeX cuando sea necesario.\n",
    "\n",
    "El notebook debe ser ejecutable, es decir, cada celda debe correr sin errores, y debe reproducir la salida que aparece en la pantalla."
   ]
  },
  {
   "cell_type": "markdown",
   "metadata": {},
   "source": [
    "## 1. Polinomios "
   ]
  },
  {
   "cell_type": "markdown",
   "metadata": {},
   "source": [
    "En esta tarea, veremos cómo evaluar ciertas funciones en la computadora.\n",
    "\n",
    "Las funciones más fáciles de tratar son los **polinomios**."
   ]
  },
  {
   "cell_type": "markdown",
   "metadata": {},
   "source": [
    "[1] Utiliza notación LaTeX en una celda de Markdown para escribir un polinomio $p_n$ de grado $n$ con coeficientes \n",
    "$a_0$, $a_1$, $\\ldots$, $a_n$, donde $a_i$ es el coeficiente de $x^i$."
   ]
  },
  {
   "cell_type": "markdown",
   "metadata": {},
   "source": [
    "$$p_n(x) = a_{0} + a_{1}x + a_{2}x^2 + ... + a_{n}x^n $$"
   ]
  },
  {
   "cell_type": "markdown",
   "metadata": {},
   "source": [
    "[2] (i) Escribe una función `evaluar_polinomio` que evalúa un polinomio de grado $2$, $p(x) = a + bx + c x^2$. La función debe aceptar como argumentos los valores de $a$, $b$ y $c$, así como el valor de $x$ donde evaluar. Verifica que funciona con el polinomio $p(x) = 1 + 2x - 3x^2$. [Pista, aquí la función se llama como sigue:\n",
    "\n",
    "    evaluar_polinomio(a, b, c, x).\n",
    "   ]\n",
    "\n",
    "(ii) Escribe una función `evaluar_polinomio` evalúa un polinomio de grado $n$.\n",
    "Acepta un arreglo `a` de $n+1$ coeficients, en el orden `a_0`, `a_1`, etc., así como un valor `x`, y evalúa $p(x)$. [Pista: Recuerda que el $i$-ésimo elemento de un arreglo se accesa con `a[i]`, y el número de entradas de un arreglo es `length(a)`.] Verifica que funciona con el polinomio $p(x) = 1 + 2x - 3x^2$. [Pista: aquí, la función se llama como sigue: \n",
    "\n",
    "    evaluar_polinomio([1, 2, -3], x)\n",
    "   ]\n",
    "\n",
    "(iii) Verifica que funciona con un polinomio cúbico."
   ]
  },
  {
   "cell_type": "code",
   "execution_count": 1,
   "metadata": {
    "collapsed": false
   },
   "outputs": [
    {
     "data": {
      "text/plain": [
       "evaluar_polinomio (generic function with 1 method)"
      ]
     },
     "execution_count": 1,
     "metadata": {},
     "output_type": "execute_result"
    }
   ],
   "source": [
    "###[2] (i)\n",
    "function evaluar_polinomio{T<:Float64}(a::T, b::T, c::T, x::T)\n",
    "    pol = a + b*x + c*x^2 #sólo multiplicamos los valores por la x corresp.\n",
    "    return pol\n",
    "end"
   ]
  },
  {
   "cell_type": "code",
   "execution_count": 2,
   "metadata": {
    "collapsed": false
   },
   "outputs": [
    {
     "data": {
      "text/plain": [
       "-7.0"
      ]
     },
     "execution_count": 2,
     "metadata": {},
     "output_type": "execute_result"
    }
   ],
   "source": [
    "evaluar_polinomio(1., 2., -3., 2.) #funciona"
   ]
  },
  {
   "cell_type": "code",
   "execution_count": 3,
   "metadata": {
    "collapsed": false
   },
   "outputs": [
    {
     "data": {
      "text/plain": [
       "evaluar_pol_n (generic function with 1 method)"
      ]
     },
     "execution_count": 3,
     "metadata": {},
     "output_type": "execute_result"
    }
   ],
   "source": [
    "function evaluar_pol_n{T<:Float64}(coefs::Array{T}, x::T)\n",
    "    n = length(coefs)\n",
    "    x_i = [x^i for i in 0:n-1]\n",
    "    pol = sum(coefs.*x_i)\n",
    "    return pol\n",
    "end"
   ]
  },
  {
   "cell_type": "code",
   "execution_count": 4,
   "metadata": {
    "collapsed": false
   },
   "outputs": [
    {
     "data": {
      "text/plain": [
       "15.0"
      ]
     },
     "execution_count": 4,
     "metadata": {},
     "output_type": "execute_result"
    }
   ],
   "source": [
    "evaluar_pol_n([1.,1.,1.,1.], 2.)"
   ]
  },
  {
   "cell_type": "code",
   "execution_count": 5,
   "metadata": {
    "collapsed": false
   },
   "outputs": [
    {
     "data": {
      "text/plain": [
       "-7.0"
      ]
     },
     "execution_count": 5,
     "metadata": {},
     "output_type": "execute_result"
    }
   ],
   "source": [
    "evaluar_pol_n([1.,2.,-3.], 2.) #funciona"
   ]
  },
  {
   "cell_type": "markdown",
   "metadata": {},
   "source": [
    "[3] Otra manera de evaluar un polinomio es con el llamado [**algoritmo de Horner**](https://es.wikipedia.org/wiki/Algoritmo_de_Horner). La idea es que es ineficiente calcular `xˆ3` desde cero, si ya contamos con el resultado de `xˆ2`.\n",
    "\n",
    "(i) Escribe una función para evaluar una función `evaluar_actualizar` usando esta idea: empieza desde el coeficiente de $x^0$, y guarda el valor actual de la potencia de `x` en una variable que vas actualizando."
   ]
  },
  {
   "cell_type": "code",
   "execution_count": 6,
   "metadata": {
    "collapsed": false
   },
   "outputs": [
    {
     "data": {
      "text/plain": [
       "evaluar_actualizar (generic function with 1 method)"
      ]
     },
     "execution_count": 6,
     "metadata": {},
     "output_type": "execute_result"
    }
   ],
   "source": [
    "function evaluar_actualizar{T<:Float64}(coefs::Array{T}, x::T)\n",
    "    n = length(coefs)\n",
    "    x_i = 1.\n",
    "    pol = coefs[1]\n",
    "    for i in 2:n\n",
    "        x_i = x_i*x\n",
    "        pol += coefs[i]*x_i\n",
    "    end\n",
    "    return pol\n",
    "end"
   ]
  },
  {
   "cell_type": "code",
   "execution_count": 7,
   "metadata": {
    "collapsed": false
   },
   "outputs": [
    {
     "data": {
      "text/plain": [
       "-7.0"
      ]
     },
     "execution_count": 7,
     "metadata": {},
     "output_type": "execute_result"
    }
   ],
   "source": [
    "evaluar_actualizar([1.,2.,-3.], 2.) #funciona"
   ]
  },
  {
   "cell_type": "markdown",
   "metadata": {},
   "source": [
    "(ii) Utiliza la descripción del algoritmo en la liga para escribir una función `evaluar_horner` que implementa el método de Horner (que se supone es aún más eficiente que la (i)), con la misma estructura que la función de la pregunta 2(ii). Verifica que da las mismas respuestas que las funciones de la pregunta 2."
   ]
  },
  {
   "cell_type": "code",
   "execution_count": 8,
   "metadata": {
    "collapsed": false
   },
   "outputs": [
    {
     "data": {
      "text/plain": [
       "evaluar_horner (generic function with 1 method)"
      ]
     },
     "execution_count": 8,
     "metadata": {},
     "output_type": "execute_result"
    }
   ],
   "source": [
    "function evaluar_horner{T<:Float64}(coefs::Array{T},x::T)\n",
    "    n = length(coefs)\n",
    "    x_i = coefs[n]\n",
    "    for k = 1:n-1\n",
    "        x_i = coefs[n-k] + x_i*x\n",
    "    end\n",
    "    return x_i\n",
    "end"
   ]
  },
  {
   "cell_type": "code",
   "execution_count": 9,
   "metadata": {
    "collapsed": false
   },
   "outputs": [
    {
     "data": {
      "text/plain": [
       "-7.0"
      ]
     },
     "execution_count": 9,
     "metadata": {},
     "output_type": "execute_result"
    }
   ],
   "source": [
    "evaluar_horner([1.,2.,-3.], 2.)"
   ]
  },
  {
   "cell_type": "markdown",
   "metadata": {},
   "source": [
    "[4] ¿Cuál de estos tres algoritmos es \"mejor\"? Aquí, por \"mejor\" entenderemos \"más rápido\".\n",
    "Para verificarlo, utiliza el paquete `BenchmarkTools.jl`, y utiliza `@benchmark f($a, $x)` para ver cuánto tiempo se tarda cada función. (Debes poner explícitamente los signos `$`.) "
   ]
  },
  {
   "cell_type": "code",
   "execution_count": 10,
   "metadata": {
    "collapsed": false
   },
   "outputs": [
    {
     "name": "stderr",
     "output_type": "stream",
     "text": [
      "\u001b[1m\u001b[34mINFO: Nothing to be done\n",
      "\u001b[0m\u001b[1m\u001b[34mINFO: METADATA is out-of-date — you may not have the latest version of BenchmarkTools\n",
      "\u001b[0m\u001b[1m\u001b[34mINFO: Use `Pkg.update()` to get the latest versions of your packages\n",
      "\u001b[0m"
     ]
    }
   ],
   "source": [
    "Pkg.add(\"BenchmarkTools\");"
   ]
  },
  {
   "cell_type": "code",
   "execution_count": 11,
   "metadata": {
    "collapsed": false
   },
   "outputs": [],
   "source": [
    "using BenchmarkTools"
   ]
  },
  {
   "cell_type": "code",
   "execution_count": 12,
   "metadata": {
    "collapsed": false
   },
   "outputs": [
    {
     "data": {
      "text/plain": [
       "BenchmarkTools.Trial: \n",
       "  memory estimate:  0 bytes\n",
       "  allocs estimate:  0\n",
       "  --------------\n",
       "  minimum time:     13.597 ns (0.00% GC)\n",
       "  median time:      13.613 ns (0.00% GC)\n",
       "  mean time:        13.745 ns (0.00% GC)\n",
       "  maximum time:     98.588 ns (0.00% GC)\n",
       "  --------------\n",
       "  samples:          10000\n",
       "  evals/sample:     998\n",
       "  time tolerance:   5.00%\n",
       "  memory tolerance: 1.00%"
      ]
     },
     "execution_count": 12,
     "metadata": {},
     "output_type": "execute_result"
    }
   ],
   "source": [
    " @benchmark sin(1) #preparamos el paquete"
   ]
  },
  {
   "cell_type": "code",
   "execution_count": 13,
   "metadata": {
    "collapsed": false
   },
   "outputs": [
    {
     "data": {
      "text/plain": [
       "BenchmarkTools.Trial: \n",
       "  memory estimate:  0 bytes\n",
       "  allocs estimate:  0\n",
       "  --------------\n",
       "  minimum time:     2.089 ns (0.00% GC)\n",
       "  median time:      2.092 ns (0.00% GC)\n",
       "  mean time:        2.106 ns (0.00% GC)\n",
       "  maximum time:     11.111 ns (0.00% GC)\n",
       "  --------------\n",
       "  samples:          10000\n",
       "  evals/sample:     1000\n",
       "  time tolerance:   5.00%\n",
       "  memory tolerance: 1.00%"
      ]
     },
     "execution_count": 13,
     "metadata": {},
     "output_type": "execute_result"
    }
   ],
   "source": [
    "@benchmark evaluar_polinomio($1.,$2.,-$3., $2.)"
   ]
  },
  {
   "cell_type": "code",
   "execution_count": 14,
   "metadata": {
    "collapsed": false
   },
   "outputs": [
    {
     "data": {
      "text/plain": [
       "BenchmarkTools.Trial: \n",
       "  memory estimate:  288 bytes\n",
       "  allocs estimate:  5\n",
       "  --------------\n",
       "  minimum time:     122.472 ns (0.00% GC)\n",
       "  median time:      133.579 ns (0.00% GC)\n",
       "  mean time:        160.905 ns (12.45% GC)\n",
       "  maximum time:     3.007 μs (93.76% GC)\n",
       "  --------------\n",
       "  samples:          10000\n",
       "  evals/sample:     896\n",
       "  time tolerance:   5.00%\n",
       "  memory tolerance: 1.00%"
      ]
     },
     "execution_count": 14,
     "metadata": {},
     "output_type": "execute_result"
    }
   ],
   "source": [
    "@benchmark evaluar_pol_n($[1.,2.,-3.], $2.)"
   ]
  },
  {
   "cell_type": "code",
   "execution_count": 15,
   "metadata": {
    "collapsed": false
   },
   "outputs": [
    {
     "data": {
      "text/plain": [
       "BenchmarkTools.Trial: \n",
       "  memory estimate:  0 bytes\n",
       "  allocs estimate:  0\n",
       "  --------------\n",
       "  minimum time:     5.041 ns (0.00% GC)\n",
       "  median time:      5.057 ns (0.00% GC)\n",
       "  mean time:        5.364 ns (0.00% GC)\n",
       "  maximum time:     79.979 ns (0.00% GC)\n",
       "  --------------\n",
       "  samples:          10000\n",
       "  evals/sample:     1000\n",
       "  time tolerance:   5.00%\n",
       "  memory tolerance: 1.00%"
      ]
     },
     "execution_count": 15,
     "metadata": {},
     "output_type": "execute_result"
    }
   ],
   "source": [
    "@benchmark evaluar_actualizar($[1.,2.,-3.], $2.)"
   ]
  },
  {
   "cell_type": "code",
   "execution_count": 16,
   "metadata": {
    "collapsed": false
   },
   "outputs": [
    {
     "data": {
      "text/plain": [
       "BenchmarkTools.Trial: \n",
       "  memory estimate:  0 bytes\n",
       "  allocs estimate:  0\n",
       "  --------------\n",
       "  minimum time:     4.155 ns (0.00% GC)\n",
       "  median time:      4.165 ns (0.00% GC)\n",
       "  mean time:        4.246 ns (0.00% GC)\n",
       "  maximum time:     74.684 ns (0.00% GC)\n",
       "  --------------\n",
       "  samples:          10000\n",
       "  evals/sample:     1000\n",
       "  time tolerance:   5.00%\n",
       "  memory tolerance: 1.00%"
      ]
     },
     "execution_count": 16,
     "metadata": {},
     "output_type": "execute_result"
    }
   ],
   "source": [
    "@benchmark evaluar_horner($[1.,2.,-3.], $2.)"
   ]
  },
  {
   "cell_type": "markdown",
   "metadata": {},
   "source": [
    "Podemos ver que el método que no utiliza arreglos es el más rápido de todos, pero obviamente muy limitado. Vemos que actualizar la $x_i$ mejora bastante el rendimiento y que hay poca diferencia entre los últimos dos métodos, siendo el de Horner ligeramente más eficiente, pero estas pruebas las estamos haciendo para órdenes de n de $x^n$ muy pequeños (2), la diferencia en rendimiento se notará muchos más en órdenes mayores."
   ]
  },
  {
   "cell_type": "markdown",
   "metadata": {},
   "source": [
    "## 2. Funciones elementales"
   ]
  },
  {
   "cell_type": "markdown",
   "metadata": {},
   "source": [
    "¿Cómo evalúa una computadora la función exponencial? No hay ninguna forma fácil y exacta de evaluarla. Por eso debemos usar **aproximaciones**. Normalmente, aproximamos las funciones complicadas (o sea, ¡las que no sean polinomios!) por las únicas funciones con las cuales sí sabemos trabajar, los polinomios.\n",
    "\n",
    "Un primer tipo de aproximación es mediante las **series de Taylor**. (Ojo: no es la mejor solución, ni la que se utiliza realmente.)"
   ]
  },
  {
   "cell_type": "markdown",
   "metadata": {},
   "source": [
    "[5] Recuerda que la función exponencial se define mediante una serie de Taylor. Escribe esta serie de Taylor con notación LaTeX."
   ]
  },
  {
   "cell_type": "markdown",
   "metadata": {},
   "source": [
    "$$\\exp(x_0) = \\sum_{n=0}^\\infty {\\frac{(x-x_{0})^n}{n!}} $$"
   ]
  },
  {
   "cell_type": "markdown",
   "metadata": {
    "collapsed": true
   },
   "source": [
    "Podemos aproximar la serie de Taylor con un **polinomio de Taylor** de grado $n$, que se obtiene al truncar la serie y retener sólo los términos de grado $\\le n$."
   ]
  },
  {
   "cell_type": "markdown",
   "metadata": {},
   "source": [
    "[6] Escribe una función para calcular el polinomio de Taylor de la función exponencial de orden $n$, evaluada en $x$. Utiliza una de las funciones de la preguntas 2 o 3 para evaluar el polinomio."
   ]
  },
  {
   "cell_type": "code",
   "execution_count": 17,
   "metadata": {
    "collapsed": false
   },
   "outputs": [
    {
     "data": {
      "text/plain": [
       "2.7182818011463845"
      ]
     },
     "execution_count": 17,
     "metadata": {},
     "output_type": "execute_result"
    }
   ],
   "source": [
    "function exp_taylor(n::Int64,x0::Float64 = 0.)\n",
    "    polinomio = Float64[]\n",
    "    sum_e = 0\n",
    "    for i in 0:n\n",
    "        push!(polinomio,x0^i/factorial(i))\n",
    "    end\n",
    "    sum_e = sum(polinomio)\n",
    "    return sum_e\n",
    "end\n",
    "\n",
    "exp_taylor(10,1.)"
   ]
  },
  {
   "cell_type": "code",
   "execution_count": 18,
   "metadata": {
    "collapsed": false
   },
   "outputs": [
    {
     "data": {
      "text/html": [
       "<div id=\"interact-js-shim\">\n",
       "    <script charset=\"utf-8\">\n",
       "(function (IPython, $, _, MathJax) {\n",
       "    $.event.special.destroyed = {\n",
       "\tremove: function(o) {\n",
       "\t    if (o.handler) {\n",
       "\t\to.handler.apply(this, arguments)\n",
       "\t    }\n",
       "\t}\n",
       "    }\n",
       "\n",
       "    var OutputArea = IPython.version >= \"4.0.0\" ? require(\"notebook/js/outputarea\").OutputArea : IPython.OutputArea;\n",
       "\n",
       "    var redrawValue = function (container, type, val) {\n",
       "\tvar selector = $(\"<div/>\");\n",
       "\tvar oa = new OutputArea(_.extend(selector, {\n",
       "\t    selector: selector,\n",
       "\t    prompt_area: true,\n",
       "\t    events: IPython.events,\n",
       "\t    keyboard_manager: IPython.keyboard_manager\n",
       "\t})); // Hack to work with IPython 2.1.0\n",
       "\n",
       "\tswitch (type) {\n",
       "\tcase \"image/png\":\n",
       "            var _src = 'data:' + type + ';base64,' + val;\n",
       "\t    $(container).find(\"img\").attr('src', _src);\n",
       "\t    break;\n",
       "\tcase \"text/latex\":\n",
       "\t\tif (MathJax){\n",
       "\t\t\tvar math = MathJax.Hub.getAllJax(container)[0];\n",
       "\t\t\tMathJax.Hub.Queue([\"Text\", math, val.replace(/^\\${1,2}|\\${1,2}$/g, '')]);\n",
       "\t\t\tbreak;\n",
       "\t\t}\n",
       "\tdefault:\n",
       "\t    var toinsert = OutputArea.append_map[type].apply(\n",
       "\t\toa, [val, {}, selector]\n",
       "\t    );\n",
       "\t    $(container).empty().append(toinsert.contents());\n",
       "\t    selector.remove();\n",
       "\t}\n",
       "    }\n",
       "\n",
       "\n",
       "    $(document).ready(function() {\n",
       "\tfunction initComm(evt, data) {\n",
       "\t    var comm_manager = data.kernel.comm_manager;\n",
       "        //_.extend(comm_manager.targets, require(\"widgets/js/widget\"))\n",
       "\t    comm_manager.register_target(\"Signal\", function (comm) {\n",
       "            comm.on_msg(function (msg) {\n",
       "                var val = msg.content.data.value;\n",
       "                $(\".signal-\" + comm.comm_id).each(function() {\n",
       "                var type = $(this).data(\"type\");\n",
       "                if (typeof(val[type]) !== \"undefined\" && val[type] !== null) {\n",
       "                    redrawValue(this, type, val[type], type);\n",
       "                }\n",
       "                });\n",
       "                delete val;\n",
       "                delete msg.content.data.value;\n",
       "            });\n",
       "\t    });\n",
       "\n",
       "\t    // coordingate with Comm and redraw Signals\n",
       "\t    // XXX: Test using Reactive here to improve performance\n",
       "\t    $([IPython.events]).on(\n",
       "\t\t'output_appended.OutputArea', function (event, type, value, md, toinsert) {\n",
       "\t\t    if (md && md.reactive) {\n",
       "                // console.log(md.comm_id);\n",
       "                toinsert.addClass(\"signal-\" + md.comm_id);\n",
       "                toinsert.data(\"type\", type);\n",
       "                // Signal back indicating the mimetype required\n",
       "                var comm_manager = IPython.notebook.kernel.comm_manager;\n",
       "                var comm = comm_manager.comms[md.comm_id];\n",
       "                comm.then(function (c) {\n",
       "                    c.send({action: \"subscribe_mime\",\n",
       "                       mime: type});\n",
       "                    toinsert.bind(\"destroyed\", function() {\n",
       "                        c.send({action: \"unsubscribe_mime\",\n",
       "                               mime: type});\n",
       "                    });\n",
       "                })\n",
       "\t\t    }\n",
       "\t    });\n",
       "\t}\n",
       "\n",
       "\ttry {\n",
       "\t    // try to initialize right away. otherwise, wait on the status_started event.\n",
       "\t    initComm(undefined, IPython.notebook);\n",
       "\t} catch (e) {\n",
       "\t    $([IPython.events]).on('kernel_created.Kernel kernel_created.Session', initComm);\n",
       "\t}\n",
       "    });\n",
       "})(IPython, jQuery, _, MathJax);\n",
       "</script>\n",
       "    <script>\n",
       "        window.interactLoadedFlag = true\n",
       "       $(\"#interact-js-shim\").bind(\"destroyed\", function () {\n",
       "           if (window.interactLoadedFlag) {\n",
       "               console.warn(\"JavaScript required by Interact will be removed if you remove this cell or run using Interact more than once.\")\n",
       "           }\n",
       "       })\n",
       "       $([IPython.events]).on(\"kernel_starting.Kernel kernel_restarting.Kernel\", function () { window.interactLoadedFlag = false })\n",
       "   </script>\n",
       "</div>"
      ]
     },
     "metadata": {},
     "output_type": "display_data"
    }
   ],
   "source": [
    "using Plots\n",
    "gr()\n",
    "using Interact;"
   ]
  },
  {
   "cell_type": "markdown",
   "metadata": {},
   "source": [
    "[7] ¿Cuál valor de $n$ nos da una buena aproximación? Podemos esperar que dependerá de $x$. Para saberlo, haz lo siguiente.\n",
    "\n",
    "(i) Dibuja la función $\\exp(x)$ y las aproximaciones con distintas $n$s. Puedes usar también `@manipulate`. ¿Qué valor de $n$ parece que necesites para tener una buena aproximación de `exp(1)`? Para `exp(5)`?"
   ]
  },
  {
   "cell_type": "code",
   "execution_count": 19,
   "metadata": {
    "collapsed": false
   },
   "outputs": [
    {
     "data": {
      "text/html": [
       "<?xml version=\"1.0\" encoding=\"utf-8\"?>\n",
       "<svg xmlns=\"http://www.w3.org/2000/svg\" xmlns:xlink=\"http://www.w3.org/1999/xlink\" width=\"600\" height=\"400\" viewBox=\"0 0 600 400\">\n",
       "<defs>\n",
       "  <clipPath id=\"clip00\">\n",
       "    <rect x=\"0\" y=\"0\" width=\"600\" height=\"400\"/>\n",
       "  </clipPath>\n",
       "</defs>\n",
       "<polygon clip-path=\"url(#clip00)\" points=\"\n",
       "0,400 600,400 600,0 0,0 \n",
       "  \" fill=\"#ffffff\" fill-opacity=\"1\"/>\n",
       "<defs>\n",
       "  <clipPath id=\"clip01\">\n",
       "    <rect x=\"120\" y=\"0\" width=\"421\" height=\"400\"/>\n",
       "  </clipPath>\n",
       "</defs>\n",
       "<polygon clip-path=\"url(#clip00)\" points=\"\n",
       "21.7148,384.952 596.063,384.952 596.063,3.93701 21.7148,3.93701 \n",
       "  \" fill=\"#ffffff\" fill-opacity=\"1\"/>\n",
       "<defs>\n",
       "  <clipPath id=\"clip02\">\n",
       "    <rect x=\"21\" y=\"3\" width=\"575\" height=\"382\"/>\n",
       "  </clipPath>\n",
       "</defs>\n",
       "<polyline clip-path=\"url(#clip02)\" style=\"stroke:#00002d; stroke-width:0.8; stroke-opacity:0.5; fill:none\" stroke-dasharray=\"1, 2\" points=\"\n",
       "  87.5033,379.237 87.5033,9.65223 \n",
       "  \"/>\n",
       "<polyline clip-path=\"url(#clip02)\" style=\"stroke:#00002d; stroke-width:0.8; stroke-opacity:0.5; fill:none\" stroke-dasharray=\"1, 2\" points=\"\n",
       "  197.292,379.237 197.292,9.65223 \n",
       "  \"/>\n",
       "<polyline clip-path=\"url(#clip02)\" style=\"stroke:#00002d; stroke-width:0.8; stroke-opacity:0.5; fill:none\" stroke-dasharray=\"1, 2\" points=\"\n",
       "  307.081,379.237 307.081,9.65223 \n",
       "  \"/>\n",
       "<polyline clip-path=\"url(#clip02)\" style=\"stroke:#00002d; stroke-width:0.8; stroke-opacity:0.5; fill:none\" stroke-dasharray=\"1, 2\" points=\"\n",
       "  416.869,379.237 416.869,9.65223 \n",
       "  \"/>\n",
       "<polyline clip-path=\"url(#clip02)\" style=\"stroke:#00002d; stroke-width:0.8; stroke-opacity:0.5; fill:none\" stroke-dasharray=\"1, 2\" points=\"\n",
       "  526.658,379.237 526.658,9.65223 \n",
       "  \"/>\n",
       "<polyline clip-path=\"url(#clip02)\" style=\"stroke:#00002d; stroke-width:0.8; stroke-opacity:0.5; fill:none\" stroke-dasharray=\"1, 2\" points=\"\n",
       "  30.33,384.952 587.448,384.952 \n",
       "  \"/>\n",
       "<polyline clip-path=\"url(#clip02)\" style=\"stroke:#00002d; stroke-width:0.8; stroke-opacity:0.5; fill:none\" stroke-dasharray=\"1, 2\" points=\"\n",
       "  30.33,308.749 587.448,308.749 \n",
       "  \"/>\n",
       "<polyline clip-path=\"url(#clip02)\" style=\"stroke:#00002d; stroke-width:0.8; stroke-opacity:0.5; fill:none\" stroke-dasharray=\"1, 2\" points=\"\n",
       "  30.33,232.546 587.448,232.546 \n",
       "  \"/>\n",
       "<polyline clip-path=\"url(#clip02)\" style=\"stroke:#00002d; stroke-width:0.8; stroke-opacity:0.5; fill:none\" stroke-dasharray=\"1, 2\" points=\"\n",
       "  30.33,156.343 587.448,156.343 \n",
       "  \"/>\n",
       "<polyline clip-path=\"url(#clip02)\" style=\"stroke:#00002d; stroke-width:0.8; stroke-opacity:0.5; fill:none\" stroke-dasharray=\"1, 2\" points=\"\n",
       "  30.33,80.14 587.448,80.14 \n",
       "  \"/>\n",
       "<polyline clip-path=\"url(#clip02)\" style=\"stroke:#00002d; stroke-width:0.8; stroke-opacity:0.5; fill:none\" stroke-dasharray=\"1, 2\" points=\"\n",
       "  30.33,3.93701 587.448,3.93701 \n",
       "  \"/>\n",
       "<polyline clip-path=\"url(#clip02)\" style=\"stroke:#00002d; stroke-width:0.8; stroke-opacity:1; fill:none\" points=\"\n",
       "  21.7148,384.952 596.063,384.952 \n",
       "  \"/>\n",
       "<polyline clip-path=\"url(#clip02)\" style=\"stroke:#00002d; stroke-width:0.8; stroke-opacity:1; fill:none\" points=\"\n",
       "  87.5033,384.952 87.5033,379.237 \n",
       "  \"/>\n",
       "<polyline clip-path=\"url(#clip02)\" style=\"stroke:#00002d; stroke-width:0.8; stroke-opacity:1; fill:none\" points=\"\n",
       "  197.292,384.952 197.292,379.237 \n",
       "  \"/>\n",
       "<polyline clip-path=\"url(#clip02)\" style=\"stroke:#00002d; stroke-width:0.8; stroke-opacity:1; fill:none\" points=\"\n",
       "  307.081,384.952 307.081,379.237 \n",
       "  \"/>\n",
       "<polyline clip-path=\"url(#clip02)\" style=\"stroke:#00002d; stroke-width:0.8; stroke-opacity:1; fill:none\" points=\"\n",
       "  416.869,384.952 416.869,379.237 \n",
       "  \"/>\n",
       "<polyline clip-path=\"url(#clip02)\" style=\"stroke:#00002d; stroke-width:0.8; stroke-opacity:1; fill:none\" points=\"\n",
       "  526.658,384.952 526.658,379.237 \n",
       "  \"/>\n",
       "<polyline clip-path=\"url(#clip02)\" style=\"stroke:#00002d; stroke-width:0.8; stroke-opacity:1; fill:none\" points=\"\n",
       "  21.7148,384.952 21.7148,3.93701 \n",
       "  \"/>\n",
       "<polyline clip-path=\"url(#clip02)\" style=\"stroke:#00002d; stroke-width:0.8; stroke-opacity:1; fill:none\" points=\"\n",
       "  21.7148,384.952 30.33,384.952 \n",
       "  \"/>\n",
       "<polyline clip-path=\"url(#clip02)\" style=\"stroke:#00002d; stroke-width:0.8; stroke-opacity:1; fill:none\" points=\"\n",
       "  21.7148,308.749 30.33,308.749 \n",
       "  \"/>\n",
       "<polyline clip-path=\"url(#clip02)\" style=\"stroke:#00002d; stroke-width:0.8; stroke-opacity:1; fill:none\" points=\"\n",
       "  21.7148,232.546 30.33,232.546 \n",
       "  \"/>\n",
       "<polyline clip-path=\"url(#clip02)\" style=\"stroke:#00002d; stroke-width:0.8; stroke-opacity:1; fill:none\" points=\"\n",
       "  21.7148,156.343 30.33,156.343 \n",
       "  \"/>\n",
       "<polyline clip-path=\"url(#clip02)\" style=\"stroke:#00002d; stroke-width:0.8; stroke-opacity:1; fill:none\" points=\"\n",
       "  21.7148,80.14 30.33,80.14 \n",
       "  \"/>\n",
       "<polyline clip-path=\"url(#clip02)\" style=\"stroke:#00002d; stroke-width:0.8; stroke-opacity:1; fill:none\" points=\"\n",
       "  21.7148,3.93701 30.33,3.93701 \n",
       "  \"/>\n",
       "<g clip-path=\"url(#clip00)\">\n",
       "<text style=\"fill:#00002d; fill-opacity:1; font-family:Arial,Helvetica Neue,Helvetica,sans-serif; font-size:12; text-anchor:middle;\" transform=\"rotate(0, 87.5033, 396.952)\" x=\"87.5033\" y=\"396.952\">-4</text>\n",
       "</g>\n",
       "<g clip-path=\"url(#clip00)\">\n",
       "<text style=\"fill:#00002d; fill-opacity:1; font-family:Arial,Helvetica Neue,Helvetica,sans-serif; font-size:12; text-anchor:middle;\" transform=\"rotate(0, 197.292, 396.952)\" x=\"197.292\" y=\"396.952\">-2</text>\n",
       "</g>\n",
       "<g clip-path=\"url(#clip00)\">\n",
       "<text style=\"fill:#00002d; fill-opacity:1; font-family:Arial,Helvetica Neue,Helvetica,sans-serif; font-size:12; text-anchor:middle;\" transform=\"rotate(0, 307.081, 396.952)\" x=\"307.081\" y=\"396.952\">0</text>\n",
       "</g>\n",
       "<g clip-path=\"url(#clip00)\">\n",
       "<text style=\"fill:#00002d; fill-opacity:1; font-family:Arial,Helvetica Neue,Helvetica,sans-serif; font-size:12; text-anchor:middle;\" transform=\"rotate(0, 416.869, 396.952)\" x=\"416.869\" y=\"396.952\">2</text>\n",
       "</g>\n",
       "<g clip-path=\"url(#clip00)\">\n",
       "<text style=\"fill:#00002d; fill-opacity:1; font-family:Arial,Helvetica Neue,Helvetica,sans-serif; font-size:12; text-anchor:middle;\" transform=\"rotate(0, 526.658, 396.952)\" x=\"526.658\" y=\"396.952\">4</text>\n",
       "</g>\n",
       "<g clip-path=\"url(#clip00)\">\n",
       "<text style=\"fill:#00002d; fill-opacity:1; font-family:Arial,Helvetica Neue,Helvetica,sans-serif; font-size:12; text-anchor:end;\" transform=\"rotate(0, 20.5148, 389.452)\" x=\"20.5148\" y=\"389.452\">0</text>\n",
       "</g>\n",
       "<g clip-path=\"url(#clip00)\">\n",
       "<text style=\"fill:#00002d; fill-opacity:1; font-family:Arial,Helvetica Neue,Helvetica,sans-serif; font-size:12; text-anchor:end;\" transform=\"rotate(0, 20.5148, 313.249)\" x=\"20.5148\" y=\"313.249\">2</text>\n",
       "</g>\n",
       "<g clip-path=\"url(#clip00)\">\n",
       "<text style=\"fill:#00002d; fill-opacity:1; font-family:Arial,Helvetica Neue,Helvetica,sans-serif; font-size:12; text-anchor:end;\" transform=\"rotate(0, 20.5148, 237.046)\" x=\"20.5148\" y=\"237.046\">4</text>\n",
       "</g>\n",
       "<g clip-path=\"url(#clip00)\">\n",
       "<text style=\"fill:#00002d; fill-opacity:1; font-family:Arial,Helvetica Neue,Helvetica,sans-serif; font-size:12; text-anchor:end;\" transform=\"rotate(0, 20.5148, 160.843)\" x=\"20.5148\" y=\"160.843\">6</text>\n",
       "</g>\n",
       "<g clip-path=\"url(#clip00)\">\n",
       "<text style=\"fill:#00002d; fill-opacity:1; font-family:Arial,Helvetica Neue,Helvetica,sans-serif; font-size:12; text-anchor:end;\" transform=\"rotate(0, 20.5148, 84.64)\" x=\"20.5148\" y=\"84.64\">8</text>\n",
       "</g>\n",
       "<g clip-path=\"url(#clip00)\">\n",
       "<text style=\"fill:#00002d; fill-opacity:1; font-family:Arial,Helvetica Neue,Helvetica,sans-serif; font-size:12; text-anchor:end;\" transform=\"rotate(0, 20.5148, 8.43701)\" x=\"20.5148\" y=\"8.43701\">10</text>\n",
       "</g>\n",
       "<circle clip-path=\"url(#clip02)\" style=\"fill:#00002d; stroke:none; fill-opacity:1\" cx=\"37.9699\" cy=\"384.669\" r=\"3\"/>\n",
       "<circle clip-path=\"url(#clip02)\" style=\"fill:#0099ff; stroke:none; fill-opacity:1\" cx=\"37.9699\" cy=\"384.669\" r=\"2\"/>\n",
       "<circle clip-path=\"url(#clip02)\" style=\"fill:#00002d; stroke:none; fill-opacity:1\" cx=\"87.539\" cy=\"384.254\" r=\"3\"/>\n",
       "<circle clip-path=\"url(#clip02)\" style=\"fill:#0099ff; stroke:none; fill-opacity:1\" cx=\"87.539\" cy=\"384.254\" r=\"2\"/>\n",
       "<circle clip-path=\"url(#clip02)\" style=\"fill:#00002d; stroke:none; fill-opacity:1\" cx=\"117.328\" cy=\"383.75\" r=\"3\"/>\n",
       "<circle clip-path=\"url(#clip02)\" style=\"fill:#0099ff; stroke:none; fill-opacity:1\" cx=\"117.328\" cy=\"383.75\" r=\"2\"/>\n",
       "<circle clip-path=\"url(#clip02)\" style=\"fill:#00002d; stroke:none; fill-opacity:1\" cx=\"142.514\" cy=\"383.051\" r=\"3\"/>\n",
       "<circle clip-path=\"url(#clip02)\" style=\"fill:#0099ff; stroke:none; fill-opacity:1\" cx=\"142.514\" cy=\"383.051\" r=\"2\"/>\n",
       "<circle clip-path=\"url(#clip02)\" style=\"fill:#00002d; stroke:none; fill-opacity:1\" cx=\"169.873\" cy=\"381.823\" r=\"3\"/>\n",
       "<circle clip-path=\"url(#clip02)\" style=\"fill:#0099ff; stroke:none; fill-opacity:1\" cx=\"169.873\" cy=\"381.823\" r=\"2\"/>\n",
       "<circle clip-path=\"url(#clip02)\" style=\"fill:#00002d; stroke:none; fill-opacity:1\" cx=\"195.096\" cy=\"379.998\" r=\"3\"/>\n",
       "<circle clip-path=\"url(#clip02)\" style=\"fill:#0099ff; stroke:none; fill-opacity:1\" cx=\"195.096\" cy=\"379.998\" r=\"2\"/>\n",
       "<circle clip-path=\"url(#clip02)\" style=\"fill:#00002d; stroke:none; fill-opacity:1\" cx=\"222.138\" cy=\"376.844\" r=\"3\"/>\n",
       "<circle clip-path=\"url(#clip02)\" style=\"fill:#0099ff; stroke:none; fill-opacity:1\" cx=\"222.138\" cy=\"376.844\" r=\"2\"/>\n",
       "<circle clip-path=\"url(#clip02)\" style=\"fill:#00002d; stroke:none; fill-opacity:1\" cx=\"253.468\" cy=\"370.604\" r=\"3\"/>\n",
       "<circle clip-path=\"url(#clip02)\" style=\"fill:#0099ff; stroke:none; fill-opacity:1\" cx=\"253.468\" cy=\"370.604\" r=\"2\"/>\n",
       "<circle clip-path=\"url(#clip02)\" style=\"fill:#00002d; stroke:none; fill-opacity:1\" cx=\"281.31\" cy=\"361.125\" r=\"3\"/>\n",
       "<circle clip-path=\"url(#clip02)\" style=\"fill:#0099ff; stroke:none; fill-opacity:1\" cx=\"281.31\" cy=\"361.125\" r=\"2\"/>\n",
       "<circle clip-path=\"url(#clip02)\" style=\"fill:#00002d; stroke:none; fill-opacity:1\" cx=\"305.726\" cy=\"347.779\" r=\"3\"/>\n",
       "<circle clip-path=\"url(#clip02)\" style=\"fill:#0099ff; stroke:none; fill-opacity:1\" cx=\"305.726\" cy=\"347.779\" r=\"2\"/>\n",
       "<circle clip-path=\"url(#clip02)\" style=\"fill:#00002d; stroke:none; fill-opacity:1\" cx=\"332.345\" cy=\"324.582\" r=\"3\"/>\n",
       "<circle clip-path=\"url(#clip02)\" style=\"fill:#0099ff; stroke:none; fill-opacity:1\" cx=\"332.345\" cy=\"324.582\" r=\"2\"/>\n",
       "<circle clip-path=\"url(#clip02)\" style=\"fill:#00002d; stroke:none; fill-opacity:1\" cx=\"359.123\" cy=\"286.625\" r=\"3\"/>\n",
       "<circle clip-path=\"url(#clip02)\" style=\"fill:#0099ff; stroke:none; fill-opacity:1\" cx=\"359.123\" cy=\"286.625\" r=\"2\"/>\n",
       "<circle clip-path=\"url(#clip02)\" style=\"fill:#00002d; stroke:none; fill-opacity:1\" cx=\"388.729\" cy=\"216.335\" r=\"3\"/>\n",
       "<circle clip-path=\"url(#clip02)\" style=\"fill:#0099ff; stroke:none; fill-opacity:1\" cx=\"388.729\" cy=\"216.335\" r=\"2\"/>\n",
       "<circle clip-path=\"url(#clip02)\" style=\"fill:#00002d; stroke:none; fill-opacity:1\" cx=\"416.898\" cy=\"103.267\" r=\"3\"/>\n",
       "<circle clip-path=\"url(#clip02)\" style=\"fill:#0099ff; stroke:none; fill-opacity:1\" cx=\"416.898\" cy=\"103.267\" r=\"2\"/>\n",
       "<circle clip-path=\"url(#clip02)\" style=\"fill:#00002d; stroke:none; fill-opacity:1\" cx=\"431.543\" cy=\"17.1405\" r=\"3\"/>\n",
       "<circle clip-path=\"url(#clip02)\" style=\"fill:#0099ff; stroke:none; fill-opacity:1\" cx=\"431.543\" cy=\"17.1405\" r=\"2\"/>\n",
       "<circle clip-path=\"url(#clip02)\" style=\"fill:#00002d; stroke:none; fill-opacity:1\" cx=\"361.975\" cy=\"346.85\" r=\"3\"/>\n",
       "<circle clip-path=\"url(#clip02)\" style=\"fill:#e9746a; stroke:none; fill-opacity:1\" cx=\"361.975\" cy=\"346.85\" r=\"2\"/>\n",
       "<circle clip-path=\"url(#clip02)\" style=\"fill:#00002d; stroke:none; fill-opacity:1\" cx=\"361.975\" cy=\"346.85\" r=\"3\"/>\n",
       "<circle clip-path=\"url(#clip02)\" style=\"fill:#3cb370; stroke:none; fill-opacity:1\" cx=\"361.975\" cy=\"346.85\" r=\"2\"/>\n",
       "<circle clip-path=\"url(#clip02)\" style=\"fill:#00002d; stroke:none; fill-opacity:1\" cx=\"361.975\" cy=\"346.85\" r=\"3\"/>\n",
       "<circle clip-path=\"url(#clip02)\" style=\"fill:#d96fd5; stroke:none; fill-opacity:1\" cx=\"361.975\" cy=\"346.85\" r=\"2\"/>\n",
       "<circle clip-path=\"url(#clip02)\" style=\"fill:#00002d; stroke:none; fill-opacity:1\" cx=\"361.975\" cy=\"346.85\" r=\"3\"/>\n",
       "<circle clip-path=\"url(#clip02)\" style=\"fill:#b28c19; stroke:none; fill-opacity:1\" cx=\"361.975\" cy=\"346.85\" r=\"2\"/>\n",
       "<polygon clip-path=\"url(#clip00)\" points=\"\n",
       "505.547,115.537 578.063,115.537 578.063,24.817 505.547,24.817 \n",
       "  \" fill=\"#ffffff\" fill-opacity=\"1\"/>\n",
       "<polyline clip-path=\"url(#clip00)\" style=\"stroke:#00002d; stroke-width:0.8; stroke-opacity:1; fill:none\" points=\"\n",
       "  505.547,115.537 578.063,115.537 578.063,24.817 505.547,24.817 505.547,115.537 \n",
       "  \"/>\n",
       "<circle clip-path=\"url(#clip00)\" style=\"fill:#00002d; stroke:none; fill-opacity:1\" cx=\"517.547\" cy=\"39.937\" r=\"7\"/>\n",
       "<circle clip-path=\"url(#clip00)\" style=\"fill:#0099ff; stroke:none; fill-opacity:1\" cx=\"517.547\" cy=\"39.937\" r=\"7\"/>\n",
       "<circle clip-path=\"url(#clip00)\" style=\"fill:#00002d; stroke:none; fill-opacity:1\" cx=\"541.547\" cy=\"39.937\" r=\"7\"/>\n",
       "<circle clip-path=\"url(#clip00)\" style=\"fill:#0099ff; stroke:none; fill-opacity:1\" cx=\"541.547\" cy=\"39.937\" r=\"7\"/>\n",
       "<g clip-path=\"url(#clip00)\">\n",
       "<text style=\"fill:#00002d; fill-opacity:1; font-family:Arial,Helvetica Neue,Helvetica,sans-serif; font-size:12; text-anchor:start;\" transform=\"rotate(0, 553.547, 44.437)\" x=\"553.547\" y=\"44.437\">y1</text>\n",
       "</g>\n",
       "<circle clip-path=\"url(#clip00)\" style=\"fill:#00002d; stroke:none; fill-opacity:1\" cx=\"517.547\" cy=\"55.057\" r=\"7\"/>\n",
       "<circle clip-path=\"url(#clip00)\" style=\"fill:#e9746a; stroke:none; fill-opacity:1\" cx=\"517.547\" cy=\"55.057\" r=\"7\"/>\n",
       "<circle clip-path=\"url(#clip00)\" style=\"fill:#00002d; stroke:none; fill-opacity:1\" cx=\"541.547\" cy=\"55.057\" r=\"7\"/>\n",
       "<circle clip-path=\"url(#clip00)\" style=\"fill:#e9746a; stroke:none; fill-opacity:1\" cx=\"541.547\" cy=\"55.057\" r=\"7\"/>\n",
       "<g clip-path=\"url(#clip00)\">\n",
       "<text style=\"fill:#00002d; fill-opacity:1; font-family:Arial,Helvetica Neue,Helvetica,sans-serif; font-size:12; text-anchor:start;\" transform=\"rotate(0, 553.547, 59.557)\" x=\"553.547\" y=\"59.557\">y2</text>\n",
       "</g>\n",
       "<circle clip-path=\"url(#clip00)\" style=\"fill:#00002d; stroke:none; fill-opacity:1\" cx=\"517.547\" cy=\"70.177\" r=\"7\"/>\n",
       "<circle clip-path=\"url(#clip00)\" style=\"fill:#3cb370; stroke:none; fill-opacity:1\" cx=\"517.547\" cy=\"70.177\" r=\"7\"/>\n",
       "<circle clip-path=\"url(#clip00)\" style=\"fill:#00002d; stroke:none; fill-opacity:1\" cx=\"541.547\" cy=\"70.177\" r=\"7\"/>\n",
       "<circle clip-path=\"url(#clip00)\" style=\"fill:#3cb370; stroke:none; fill-opacity:1\" cx=\"541.547\" cy=\"70.177\" r=\"7\"/>\n",
       "<g clip-path=\"url(#clip00)\">\n",
       "<text style=\"fill:#00002d; fill-opacity:1; font-family:Arial,Helvetica Neue,Helvetica,sans-serif; font-size:12; text-anchor:start;\" transform=\"rotate(0, 553.547, 74.677)\" x=\"553.547\" y=\"74.677\">y3</text>\n",
       "</g>\n",
       "<circle clip-path=\"url(#clip00)\" style=\"fill:#00002d; stroke:none; fill-opacity:1\" cx=\"517.547\" cy=\"85.297\" r=\"7\"/>\n",
       "<circle clip-path=\"url(#clip00)\" style=\"fill:#d96fd5; stroke:none; fill-opacity:1\" cx=\"517.547\" cy=\"85.297\" r=\"7\"/>\n",
       "<circle clip-path=\"url(#clip00)\" style=\"fill:#00002d; stroke:none; fill-opacity:1\" cx=\"541.547\" cy=\"85.297\" r=\"7\"/>\n",
       "<circle clip-path=\"url(#clip00)\" style=\"fill:#d96fd5; stroke:none; fill-opacity:1\" cx=\"541.547\" cy=\"85.297\" r=\"7\"/>\n",
       "<g clip-path=\"url(#clip00)\">\n",
       "<text style=\"fill:#00002d; fill-opacity:1; font-family:Arial,Helvetica Neue,Helvetica,sans-serif; font-size:12; text-anchor:start;\" transform=\"rotate(0, 553.547, 89.797)\" x=\"553.547\" y=\"89.797\">y4</text>\n",
       "</g>\n",
       "<circle clip-path=\"url(#clip00)\" style=\"fill:#00002d; stroke:none; fill-opacity:1\" cx=\"517.547\" cy=\"100.417\" r=\"7\"/>\n",
       "<circle clip-path=\"url(#clip00)\" style=\"fill:#b28c19; stroke:none; fill-opacity:1\" cx=\"517.547\" cy=\"100.417\" r=\"7\"/>\n",
       "<circle clip-path=\"url(#clip00)\" style=\"fill:#00002d; stroke:none; fill-opacity:1\" cx=\"541.547\" cy=\"100.417\" r=\"7\"/>\n",
       "<circle clip-path=\"url(#clip00)\" style=\"fill:#b28c19; stroke:none; fill-opacity:1\" cx=\"541.547\" cy=\"100.417\" r=\"7\"/>\n",
       "<g clip-path=\"url(#clip00)\">\n",
       "<text style=\"fill:#00002d; fill-opacity:1; font-family:Arial,Helvetica Neue,Helvetica,sans-serif; font-size:12; text-anchor:start;\" transform=\"rotate(0, 553.547, 104.917)\" x=\"553.547\" y=\"104.917\">y5</text>\n",
       "</g>\n",
       "</svg>\n"
      ]
     },
     "execution_count": 19,
     "metadata": {},
     "output_type": "execute_result"
    }
   ],
   "source": [
    "function graficar_exp()\n",
    "    p = scatter(exp, ylim = (0,10.) )\n",
    "    for i in 5:5:20\n",
    "    enes = []\n",
    "    push!(enes,exp_taylor(i))\n",
    "    p = scatter!(enes)\n",
    "end\n",
    "    return p\n",
    "end\n",
    "graficar_exp()"
   ]
  },
  {
   "cell_type": "markdown",
   "metadata": {},
   "source": [
    "\n",
    "(ii) Escribe una función que calcula la función exponencial que va variando $n$ *hasta que* la diferencia entre $p_{n-1}(x)$ y $p_n(x)$ sea menor que una tolerancia (la cual también es argumento de la función). ¿Concuerda con tu observación de la pregunta (i)?"
   ]
  },
  {
   "cell_type": "code",
   "execution_count": null,
   "metadata": {
    "collapsed": true
   },
   "outputs": [],
   "source": []
  },
  {
   "cell_type": "markdown",
   "metadata": {},
   "source": [
    "[8] Lo que acabamos de hacer es muy ineficiente -- ¿por qué?"
   ]
  },
  {
   "cell_type": "markdown",
   "metadata": {},
   "source": [
    "Una mejor manera de hacerlo es parecido al método de Horner: vamos guardando el valor actual del $i$-ésimo término y lo actualizamos durante el cálculo.\n",
    "\n",
    "(i) Implementa la función exponencial así, hasta que el tamaño del nuevo término sea menor que cierta tolerancia. Verifica que funciona."
   ]
  },
  {
   "cell_type": "code",
   "execution_count": null,
   "metadata": {
    "collapsed": true
   },
   "outputs": [],
   "source": []
  },
  {
   "cell_type": "markdown",
   "metadata": {},
   "source": [
    "[9] La función exponencial también sirve para números complejos. En Julia, $i$, la raíz cuadrada de $-1$, se escribe como `im`.\n",
    "\n",
    "(i) Utiliza esto para escribir una función `mi_sin(x)` para calcular $\\sin(x)$."
   ]
  },
  {
   "cell_type": "code",
   "execution_count": null,
   "metadata": {
    "collapsed": true
   },
   "outputs": [],
   "source": []
  },
  {
   "cell_type": "markdown",
   "metadata": {},
   "source": [
    "[10] Aunque estamos llevando a cabo cálculos con números de punto flotante, podemos lograr ciertas **garantías** sobre los resultados.\n",
    "\n",
    "(i) Escribe el teorema de Taylor con la forma del término complementario de Lagrange para un polinomio de Taylor $p_2(x)$ de grado 2, con término complementario de orden 3."
   ]
  },
  {
   "cell_type": "code",
   "execution_count": null,
   "metadata": {
    "collapsed": true
   },
   "outputs": [],
   "source": []
  },
  {
   "cell_type": "markdown",
   "metadata": {},
   "source": [
    "(ii) Considera la función $\\exp$ en el rango $I = [-\\frac{1}{2}, \\frac{1}{2}]$. Encuentra una cota superior, $d$, para el término complementario en $I$. [Pista: Cuál es el valor máximo del término complementario sobre todo el intervalo?] "
   ]
  },
  {
   "cell_type": "code",
   "execution_count": null,
   "metadata": {
    "collapsed": true
   },
   "outputs": [],
   "source": []
  },
  {
   "cell_type": "markdown",
   "metadata": {},
   "source": [
    "(iii) Dibuja un \"tubo\" entre $p_2(x) - d$ y $p_2(x) + d$. Esto representa una región en la cual, de forma **garantizada**, cae $\\exp$ dentro del intervalo $I$. Dibuja $\\exp$ encima.\n",
    "\n",
    "[En `Plots.jl`, para rellenar la región entre la función `f` y la función `g`, puedes utilizar `plot(xx, f.(xx), fillrange=g.(xx), alpha=0.3)`, donde `xx` son las coordenadas `xx` de los puntos. Aquí, `alpha` corresponde al grado de transparencia de la región rellenada.]\n",
    "\n",
    "** Opcional: ¿Qué ocurre si haces lo mismo para un grado de polinomio de Taylor superior con su cota correspondiente. Puedes utilizar `@manipulate`."
   ]
  },
  {
   "cell_type": "code",
   "execution_count": null,
   "metadata": {
    "collapsed": true
   },
   "outputs": [],
   "source": []
  }
 ],
 "metadata": {
  "kernelspec": {
   "display_name": "Julia 0.5.1-pre",
   "language": "julia",
   "name": "julia-0.5"
  },
  "language_info": {
   "file_extension": ".jl",
   "mimetype": "application/julia",
   "name": "julia",
   "version": "0.5.1"
  }
 },
 "nbformat": 4,
 "nbformat_minor": 0
}
