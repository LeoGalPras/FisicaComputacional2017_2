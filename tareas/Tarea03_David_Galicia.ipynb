{
 "cells": [
  {
   "cell_type": "markdown",
   "metadata": {},
   "source": [
    "# Tarea 03: Evaluación de funciones"
   ]
  },
  {
   "cell_type": "markdown",
   "metadata": {},
   "source": [
    "Fecha *límite* de entrega: **martes 28 de febrero del 2017, antes de las 15:00 horas**.\n",
    "\n",
    "**No** se recibirán tareas enviadas después del inicio de la clase.\n",
    "\n",
    "Manda un solo notebook de Jupyter con tus respuestas a las preguntas al ayudante.\n",
    "\n",
    "Explica brevemente qué estás haciendo. Redacta oraciones completas en español, usando acentos. Utiliza ecuaciones con notación LaTeX cuando sea necesario.\n",
    "\n",
    "El notebook debe ser ejecutable, es decir, cada celda debe correr sin errores, y debe reproducir la salida que aparece en la pantalla."
   ]
  },
  {
   "cell_type": "markdown",
   "metadata": {},
   "source": [
    "## 1. Polinomios "
   ]
  },
  {
   "cell_type": "markdown",
   "metadata": {},
   "source": [
    "En esta tarea, veremos cómo evaluar ciertas funciones en la computadora.\n",
    "\n",
    "Las funciones más fáciles de tratar son los **polinomios**."
   ]
  },
  {
   "cell_type": "markdown",
   "metadata": {},
   "source": [
    "[1] Utiliza notación LaTeX en una celda de Markdown para escribir un polinomio $p_n$ de grado $n$ con coeficientes \n",
    "$a_0$, $a_1$, $\\ldots$, $a_n$, donde $a_i$ es el coeficiente de $x^i$."
   ]
  },
  {
   "cell_type": "markdown",
   "metadata": {},
   "source": [
    "$$p_n(x) = a_{0} + a_{1}x + a_{2}x^2 + ... + a_{n}x^n $$"
   ]
  },
  {
   "cell_type": "markdown",
   "metadata": {},
   "source": [
    "[2] (i) Escribe una función `evaluar_polinomio` que evalúa un polinomio de grado $2$, $p(x) = a + bx + c x^2$. La función debe aceptar como argumentos los valores de $a$, $b$ y $c$, así como el valor de $x$ donde evaluar. Verifica que funciona con el polinomio $p(x) = 1 + 2x - 3x^2$. [Pista, aquí la función se llama como sigue:\n",
    "\n",
    "    evaluar_polinomio(a, b, c, x).\n",
    "   ]\n",
    "\n",
    "(ii) Escribe una función `evaluar_polinomio` evalúa un polinomio de grado $n$.\n",
    "Acepta un arreglo `a` de $n+1$ coeficients, en el orden `a_0`, `a_1`, etc., así como un valor `x`, y evalúa $p(x)$. [Pista: Recuerda que el $i$-ésimo elemento de un arreglo se accesa con `a[i]`, y el número de entradas de un arreglo es `length(a)`.] Verifica que funciona con el polinomio $p(x) = 1 + 2x - 3x^2$. [Pista: aquí, la función se llama como sigue: \n",
    "\n",
    "    evaluar_polinomio([1, 2, -3], x)\n",
    "   ]\n",
    "\n",
    "(iii) Verifica que funciona con un polinomio cúbico."
   ]
  },
  {
   "cell_type": "code",
   "execution_count": 1,
   "metadata": {
    "collapsed": false
   },
   "outputs": [
    {
     "data": {
      "text/plain": [
       "evaluar_polinomio (generic function with 1 method)"
      ]
     },
     "execution_count": 1,
     "metadata": {},
     "output_type": "execute_result"
    }
   ],
   "source": [
    "###[2] (i)\n",
    "function evaluar_polinomio{T<:Float64}(a::T, b::T, c::T, x::T)\n",
    "    pol = a + b*x + c*x^2 #sólo multiplicamos los valores por la x corresp.\n",
    "    return pol\n",
    "end"
   ]
  },
  {
   "cell_type": "code",
   "execution_count": 2,
   "metadata": {
    "collapsed": false
   },
   "outputs": [
    {
     "data": {
      "text/plain": [
       "-7.0"
      ]
     },
     "execution_count": 2,
     "metadata": {},
     "output_type": "execute_result"
    }
   ],
   "source": [
    "evaluar_polinomio(1., 2., -3., 2.) #funciona"
   ]
  },
  {
   "cell_type": "code",
   "execution_count": 3,
   "metadata": {
    "collapsed": false
   },
   "outputs": [
    {
     "data": {
      "text/plain": [
       "evaluar_pol_n (generic function with 1 method)"
      ]
     },
     "execution_count": 3,
     "metadata": {},
     "output_type": "execute_result"
    }
   ],
   "source": [
    "function evaluar_pol_n{T<:Float64}(coefs::Array{T}, x::T)\n",
    "    n = length(coefs)\n",
    "    x_i = [x^i for i in 0:n-1]\n",
    "    pol = sum(coefs.*x_i)\n",
    "    return pol\n",
    "end"
   ]
  },
  {
   "cell_type": "code",
   "execution_count": 4,
   "metadata": {
    "collapsed": false
   },
   "outputs": [
    {
     "data": {
      "text/plain": [
       "15.0"
      ]
     },
     "execution_count": 4,
     "metadata": {},
     "output_type": "execute_result"
    }
   ],
   "source": [
    "evaluar_pol_n([1.,1.,1.,1.], 2.)"
   ]
  },
  {
   "cell_type": "code",
   "execution_count": 5,
   "metadata": {
    "collapsed": false
   },
   "outputs": [
    {
     "data": {
      "text/plain": [
       "-7.0"
      ]
     },
     "execution_count": 5,
     "metadata": {},
     "output_type": "execute_result"
    }
   ],
   "source": [
    "evaluar_pol_n([1.,2.,-3.], 2.) #funciona"
   ]
  },
  {
   "cell_type": "markdown",
   "metadata": {},
   "source": [
    "[3] Otra manera de evaluar un polinomio es con el llamado [**algoritmo de Horner**](https://es.wikipedia.org/wiki/Algoritmo_de_Horner). La idea es que es ineficiente calcular `xˆ3` desde cero, si ya contamos con el resultado de `xˆ2`.\n",
    "\n",
    "(i) Escribe una función para evaluar una función `evaluar_actualizar` usando esta idea: empieza desde el coeficiente de $x^0$, y guarda el valor actual de la potencia de `x` en una variable que vas actualizando."
   ]
  },
  {
   "cell_type": "code",
   "execution_count": 6,
   "metadata": {
    "collapsed": false
   },
   "outputs": [
    {
     "data": {
      "text/plain": [
       "evaluar_actualizar (generic function with 1 method)"
      ]
     },
     "execution_count": 6,
     "metadata": {},
     "output_type": "execute_result"
    }
   ],
   "source": [
    "function evaluar_actualizar{T<:Float64}(coefs::Array{T}, x::T)\n",
    "    n = length(coefs)\n",
    "    x_i = 1.\n",
    "    pol = coefs[1]\n",
    "    for i in 2:n\n",
    "        x_i = x_i*x\n",
    "        pol += coefs[i]*x_i\n",
    "    end\n",
    "    return pol\n",
    "end"
   ]
  },
  {
   "cell_type": "code",
   "execution_count": 7,
   "metadata": {
    "collapsed": false
   },
   "outputs": [
    {
     "data": {
      "text/plain": [
       "-7.0"
      ]
     },
     "execution_count": 7,
     "metadata": {},
     "output_type": "execute_result"
    }
   ],
   "source": [
    "evaluar_actualizar([1.,2.,-3.], 2.) #funciona"
   ]
  },
  {
   "cell_type": "markdown",
   "metadata": {},
   "source": [
    "(ii) Utiliza la descripción del algoritmo en la liga para escribir una función `evaluar_horner` que implementa el método de Horner (que se supone es aún más eficiente que la (i)), con la misma estructura que la función de la pregunta 2(ii). Verifica que da las mismas respuestas que las funciones de la pregunta 2."
   ]
  },
  {
   "cell_type": "code",
   "execution_count": 8,
   "metadata": {
    "collapsed": false
   },
   "outputs": [
    {
     "data": {
      "text/plain": [
       "evaluar_horner (generic function with 1 method)"
      ]
     },
     "execution_count": 8,
     "metadata": {},
     "output_type": "execute_result"
    }
   ],
   "source": [
    "function evaluar_horner{T<:Float64}(coefs::Array{T},x::T)\n",
    "    n = length(coefs)\n",
    "    x_i = coefs[n]\n",
    "    for k = 1:n-1\n",
    "        x_i = coefs[n-k] + x_i*x\n",
    "    end\n",
    "    return x_i\n",
    "end"
   ]
  },
  {
   "cell_type": "code",
   "execution_count": 9,
   "metadata": {
    "collapsed": false
   },
   "outputs": [
    {
     "data": {
      "text/plain": [
       "-7.0"
      ]
     },
     "execution_count": 9,
     "metadata": {},
     "output_type": "execute_result"
    }
   ],
   "source": [
    "evaluar_horner([1.,2.,-3.], 2.)"
   ]
  },
  {
   "cell_type": "markdown",
   "metadata": {},
   "source": [
    "[4] ¿Cuál de estos tres algoritmos es \"mejor\"? Aquí, por \"mejor\" entenderemos \"más rápido\".\n",
    "Para verificarlo, utiliza el paquete `BenchmarkTools.jl`, y utiliza `@benchmark f($a, $x)` para ver cuánto tiempo se tarda cada función. (Debes poner explícitamente los signos `$`.) "
   ]
  },
  {
   "cell_type": "code",
   "execution_count": 10,
   "metadata": {
    "collapsed": false
   },
   "outputs": [
    {
     "name": "stderr",
     "output_type": "stream",
     "text": [
      "\u001b[1m\u001b[34mINFO: Nothing to be done\n",
      "\u001b[0m\u001b[1m\u001b[34mINFO: METADATA is out-of-date — you may not have the latest version of BenchmarkTools\n",
      "\u001b[0m\u001b[1m\u001b[34mINFO: Use `Pkg.update()` to get the latest versions of your packages\n",
      "\u001b[0m"
     ]
    }
   ],
   "source": [
    "Pkg.add(\"BenchmarkTools\");"
   ]
  },
  {
   "cell_type": "code",
   "execution_count": 11,
   "metadata": {
    "collapsed": false
   },
   "outputs": [],
   "source": [
    "using BenchmarkTools"
   ]
  },
  {
   "cell_type": "code",
   "execution_count": 12,
   "metadata": {
    "collapsed": false
   },
   "outputs": [
    {
     "data": {
      "text/plain": [
       "BenchmarkTools.Trial: \n",
       "  memory estimate:  0 bytes\n",
       "  allocs estimate:  0\n",
       "  --------------\n",
       "  minimum time:     14.005 ns (0.00% GC)\n",
       "  median time:      14.464 ns (0.00% GC)\n",
       "  mean time:        14.534 ns (0.00% GC)\n",
       "  maximum time:     32.816 ns (0.00% GC)\n",
       "  --------------\n",
       "  samples:          10000\n",
       "  evals/sample:     998\n",
       "  time tolerance:   5.00%\n",
       "  memory tolerance: 1.00%"
      ]
     },
     "execution_count": 12,
     "metadata": {},
     "output_type": "execute_result"
    }
   ],
   "source": [
    " @benchmark sin(1) #preparamos el paquete"
   ]
  },
  {
   "cell_type": "code",
   "execution_count": 13,
   "metadata": {
    "collapsed": false
   },
   "outputs": [
    {
     "data": {
      "text/plain": [
       "BenchmarkTools.Trial: \n",
       "  memory estimate:  0 bytes\n",
       "  allocs estimate:  0\n",
       "  --------------\n",
       "  minimum time:     2.144 ns (0.00% GC)\n",
       "  median time:      2.159 ns (0.00% GC)\n",
       "  mean time:        2.181 ns (0.00% GC)\n",
       "  maximum time:     11.197 ns (0.00% GC)\n",
       "  --------------\n",
       "  samples:          10000\n",
       "  evals/sample:     1000\n",
       "  time tolerance:   5.00%\n",
       "  memory tolerance: 1.00%"
      ]
     },
     "execution_count": 13,
     "metadata": {},
     "output_type": "execute_result"
    }
   ],
   "source": [
    "@benchmark evaluar_polinomio($1.,$2.,-$3., $2.)"
   ]
  },
  {
   "cell_type": "code",
   "execution_count": 14,
   "metadata": {
    "collapsed": false
   },
   "outputs": [
    {
     "data": {
      "text/plain": [
       "BenchmarkTools.Trial: \n",
       "  memory estimate:  288 bytes\n",
       "  allocs estimate:  5\n",
       "  --------------\n",
       "  minimum time:     123.666 ns (0.00% GC)\n",
       "  median time:      128.204 ns (0.00% GC)\n",
       "  mean time:        149.544 ns (11.99% GC)\n",
       "  maximum time:     1.917 μs (91.55% GC)\n",
       "  --------------\n",
       "  samples:          10000\n",
       "  evals/sample:     903\n",
       "  time tolerance:   5.00%\n",
       "  memory tolerance: 1.00%"
      ]
     },
     "execution_count": 14,
     "metadata": {},
     "output_type": "execute_result"
    }
   ],
   "source": [
    "@benchmark evaluar_pol_n($[1.,2.,-3.], $2.)"
   ]
  },
  {
   "cell_type": "code",
   "execution_count": 15,
   "metadata": {
    "collapsed": false
   },
   "outputs": [
    {
     "data": {
      "text/plain": [
       "BenchmarkTools.Trial: \n",
       "  memory estimate:  0 bytes\n",
       "  allocs estimate:  0\n",
       "  --------------\n",
       "  minimum time:     4.892 ns (0.00% GC)\n",
       "  median time:      4.900 ns (0.00% GC)\n",
       "  mean time:        4.974 ns (0.00% GC)\n",
       "  maximum time:     14.013 ns (0.00% GC)\n",
       "  --------------\n",
       "  samples:          10000\n",
       "  evals/sample:     1000\n",
       "  time tolerance:   5.00%\n",
       "  memory tolerance: 1.00%"
      ]
     },
     "execution_count": 15,
     "metadata": {},
     "output_type": "execute_result"
    }
   ],
   "source": [
    "@benchmark evaluar_actualizar($[1.,2.,-3.], $2.)"
   ]
  },
  {
   "cell_type": "code",
   "execution_count": 16,
   "metadata": {
    "collapsed": false
   },
   "outputs": [
    {
     "data": {
      "text/plain": [
       "BenchmarkTools.Trial: \n",
       "  memory estimate:  0 bytes\n",
       "  allocs estimate:  0\n",
       "  --------------\n",
       "  minimum time:     4.736 ns (0.00% GC)\n",
       "  median time:      4.745 ns (0.00% GC)\n",
       "  mean time:        4.896 ns (0.00% GC)\n",
       "  maximum time:     24.005 ns (0.00% GC)\n",
       "  --------------\n",
       "  samples:          10000\n",
       "  evals/sample:     1000\n",
       "  time tolerance:   5.00%\n",
       "  memory tolerance: 1.00%"
      ]
     },
     "execution_count": 16,
     "metadata": {},
     "output_type": "execute_result"
    }
   ],
   "source": [
    "@benchmark evaluar_horner($[1.,2.,-3.], $2.)"
   ]
  },
  {
   "cell_type": "markdown",
   "metadata": {},
   "source": [
    "Podemos ver que el método que no utiliza arreglos es el más rápido de todos, pero obviamente muy limitado. Vemos que actualizar la $x_i$ mejora bastante el rendimiento y que hay poca diferencia entre los últimos dos métodos, siendo el de Horner ligeramente más eficiente, pero estas pruebas las estamos haciendo para órdenes de n de $x^n$ muy pequeños (2), la diferencia en rendimiento se notará muchos más en órdenes mayores."
   ]
  },
  {
   "cell_type": "markdown",
   "metadata": {},
   "source": [
    "## 2. Funciones elementales"
   ]
  },
  {
   "cell_type": "markdown",
   "metadata": {},
   "source": [
    "¿Cómo evalúa una computadora la función exponencial? No hay ninguna forma fácil y exacta de evaluarla. Por eso debemos usar **aproximaciones**. Normalmente, aproximamos las funciones complicadas (o sea, ¡las que no sean polinomios!) por las únicas funciones con las cuales sí sabemos trabajar, los polinomios.\n",
    "\n",
    "Un primer tipo de aproximación es mediante las **series de Taylor**. (Ojo: no es la mejor solución, ni la que se utiliza realmente.)"
   ]
  },
  {
   "cell_type": "markdown",
   "metadata": {},
   "source": [
    "[5] Recuerda que la función exponencial se define mediante una serie de Taylor. Escribe esta serie de Taylor con notación LaTeX."
   ]
  },
  {
   "cell_type": "markdown",
   "metadata": {},
   "source": [
    "$$\\exp(x) = \\sum_{n=0}^\\infty {\\frac{(x-x_{0})^n}{n!}} $$\n",
    "alrededor de $x_0$, si $x_0 = 0$ se reduce a:\n",
    "$$\\exp(x) = \\sum_{n=0}^\\infty {\\frac{x^n}{n!}} .$$"
   ]
  },
  {
   "cell_type": "markdown",
   "metadata": {
    "collapsed": true
   },
   "source": [
    "Podemos aproximar la serie de Taylor con un **polinomio de Taylor** de grado $n$, que se obtiene al truncar la serie y retener sólo los términos de grado $\\le n$."
   ]
  },
  {
   "cell_type": "markdown",
   "metadata": {},
   "source": [
    "[6] Escribe una función para calcular el polinomio de Taylor de la función exponencial de orden $n$, evaluada en $x$. Utiliza una de las funciones de la preguntas 2 o 3 para evaluar el polinomio."
   ]
  },
  {
   "cell_type": "code",
   "execution_count": 17,
   "metadata": {
    "collapsed": false
   },
   "outputs": [],
   "source": [
    "#Esta función no utilizaba la evaluación de Horner\n",
    "#function exp_taylor2(n::Int64,x0::Float64 = 0.)\n",
    " #   polinomio = Float64[]\n",
    "  #  sum_e = 0\n",
    "   # for i in 0:n\n",
    "    #    push!(polinomio,x0^i/factorial(i))\n",
    "    #end\n",
    "    #sum_e = sum(polinomio)\n",
    "    #return sum_e\n",
    "#end"
   ]
  },
  {
   "cell_type": "code",
   "execution_count": 18,
   "metadata": {
    "collapsed": false
   },
   "outputs": [
    {
     "data": {
      "text/plain": [
       "exp_taylor (generic function with 2 methods)"
      ]
     },
     "execution_count": 18,
     "metadata": {},
     "output_type": "execute_result"
    }
   ],
   "source": [
    "function exp_taylor(n::Int64,x0::Float64 = 0.)\n",
    "    polinomio = Float64[]\n",
    "    sum_e = 0.0\n",
    "    for i in 0:n\n",
    "        push!(polinomio,1/factorial(i))\n",
    "    end\n",
    "    sum_e = evaluar_horner(polinomio,x0)\n",
    "    return sum_e\n",
    "end"
   ]
  },
  {
   "cell_type": "code",
   "execution_count": 19,
   "metadata": {
    "collapsed": false
   },
   "outputs": [
    {
     "data": {
      "text/plain": [
       "2.0"
      ]
     },
     "execution_count": 19,
     "metadata": {},
     "output_type": "execute_result"
    }
   ],
   "source": [
    "exp_taylor(1,1.)"
   ]
  },
  {
   "cell_type": "code",
   "execution_count": 20,
   "metadata": {
    "collapsed": false
   },
   "outputs": [
    {
     "data": {
      "text/html": [
       "<div id=\"interact-js-shim\">\n",
       "    <script charset=\"utf-8\">\n",
       "(function (IPython, $, _, MathJax) {\n",
       "    $.event.special.destroyed = {\n",
       "\tremove: function(o) {\n",
       "\t    if (o.handler) {\n",
       "\t\to.handler.apply(this, arguments)\n",
       "\t    }\n",
       "\t}\n",
       "    }\n",
       "\n",
       "    var OutputArea = IPython.version >= \"4.0.0\" ? require(\"notebook/js/outputarea\").OutputArea : IPython.OutputArea;\n",
       "\n",
       "    var redrawValue = function (container, type, val) {\n",
       "\tvar selector = $(\"<div/>\");\n",
       "\tvar oa = new OutputArea(_.extend(selector, {\n",
       "\t    selector: selector,\n",
       "\t    prompt_area: true,\n",
       "\t    events: IPython.events,\n",
       "\t    keyboard_manager: IPython.keyboard_manager\n",
       "\t})); // Hack to work with IPython 2.1.0\n",
       "\n",
       "\tswitch (type) {\n",
       "\tcase \"image/png\":\n",
       "            var _src = 'data:' + type + ';base64,' + val;\n",
       "\t    $(container).find(\"img\").attr('src', _src);\n",
       "\t    break;\n",
       "\tcase \"text/latex\":\n",
       "\t\tif (MathJax){\n",
       "\t\t\tvar math = MathJax.Hub.getAllJax(container)[0];\n",
       "\t\t\tMathJax.Hub.Queue([\"Text\", math, val.replace(/^\\${1,2}|\\${1,2}$/g, '')]);\n",
       "\t\t\tbreak;\n",
       "\t\t}\n",
       "\tdefault:\n",
       "\t    var toinsert = OutputArea.append_map[type].apply(\n",
       "\t\toa, [val, {}, selector]\n",
       "\t    );\n",
       "\t    $(container).empty().append(toinsert.contents());\n",
       "\t    selector.remove();\n",
       "\t}\n",
       "    }\n",
       "\n",
       "\n",
       "    $(document).ready(function() {\n",
       "\tfunction initComm(evt, data) {\n",
       "\t    var comm_manager = data.kernel.comm_manager;\n",
       "        //_.extend(comm_manager.targets, require(\"widgets/js/widget\"))\n",
       "\t    comm_manager.register_target(\"Signal\", function (comm) {\n",
       "            comm.on_msg(function (msg) {\n",
       "                var val = msg.content.data.value;\n",
       "                $(\".signal-\" + comm.comm_id).each(function() {\n",
       "                var type = $(this).data(\"type\");\n",
       "                if (typeof(val[type]) !== \"undefined\" && val[type] !== null) {\n",
       "                    redrawValue(this, type, val[type], type);\n",
       "                }\n",
       "                });\n",
       "                delete val;\n",
       "                delete msg.content.data.value;\n",
       "            });\n",
       "\t    });\n",
       "\n",
       "\t    // coordingate with Comm and redraw Signals\n",
       "\t    // XXX: Test using Reactive here to improve performance\n",
       "\t    $([IPython.events]).on(\n",
       "\t\t'output_appended.OutputArea', function (event, type, value, md, toinsert) {\n",
       "\t\t    if (md && md.reactive) {\n",
       "                // console.log(md.comm_id);\n",
       "                toinsert.addClass(\"signal-\" + md.comm_id);\n",
       "                toinsert.data(\"type\", type);\n",
       "                // Signal back indicating the mimetype required\n",
       "                var comm_manager = IPython.notebook.kernel.comm_manager;\n",
       "                var comm = comm_manager.comms[md.comm_id];\n",
       "                comm.then(function (c) {\n",
       "                    c.send({action: \"subscribe_mime\",\n",
       "                       mime: type});\n",
       "                    toinsert.bind(\"destroyed\", function() {\n",
       "                        c.send({action: \"unsubscribe_mime\",\n",
       "                               mime: type});\n",
       "                    });\n",
       "                })\n",
       "\t\t    }\n",
       "\t    });\n",
       "\t}\n",
       "\n",
       "\ttry {\n",
       "\t    // try to initialize right away. otherwise, wait on the status_started event.\n",
       "\t    initComm(undefined, IPython.notebook);\n",
       "\t} catch (e) {\n",
       "\t    $([IPython.events]).on('kernel_created.Kernel kernel_created.Session', initComm);\n",
       "\t}\n",
       "    });\n",
       "})(IPython, jQuery, _, MathJax);\n",
       "</script>\n",
       "    <script>\n",
       "        window.interactLoadedFlag = true\n",
       "       $(\"#interact-js-shim\").bind(\"destroyed\", function () {\n",
       "           if (window.interactLoadedFlag) {\n",
       "               console.warn(\"JavaScript required by Interact will be removed if you remove this cell or run using Interact more than once.\")\n",
       "           }\n",
       "       })\n",
       "       $([IPython.events]).on(\"kernel_starting.Kernel kernel_restarting.Kernel\", function () { window.interactLoadedFlag = false })\n",
       "   </script>\n",
       "</div>"
      ]
     },
     "metadata": {},
     "output_type": "display_data"
    }
   ],
   "source": [
    "using Plots\n",
    "gr()\n",
    "using Interact;"
   ]
  },
  {
   "cell_type": "markdown",
   "metadata": {},
   "source": [
    "[7] ¿Cuál valor de $n$ nos da una buena aproximación? Podemos esperar que dependerá de $x$. Para saberlo, haz lo siguiente.\n",
    "\n",
    "(i) Dibuja la función $\\exp(x)$ y las aproximaciones con distintas $n$s. Puedes usar también `@manipulate`. ¿Qué valor de $n$ parece que necesites para tener una buena aproximación de `exp(1)`? Para `exp(5)`?"
   ]
  },
  {
   "cell_type": "code",
   "execution_count": 21,
   "metadata": {
    "collapsed": false
   },
   "outputs": [
    {
     "data": {
      "text/plain": [
       "graficar_exp (generic function with 1 method)"
      ]
     },
     "execution_count": 21,
     "metadata": {},
     "output_type": "execute_result"
    }
   ],
   "source": [
    "function graficar_exp(x::Float64,n::Int64)\n",
    "    p = plot(0.9:0.001:5.5,exp, label=\"e^x\",\n",
    "        title=\"e ^ x vs  Su aproximación en Taylor\",\n",
    "        xlabel = \"x\",\n",
    "        ylabel = \"y\")\n",
    "    for i in 1:n\n",
    "    exp_aprox = exp_taylor(i,x)\n",
    "        exps = Float64[]\n",
    "        push!(exps,exp_aprox)\n",
    "    scatter!([x],exps,\n",
    "            label=\"n_$i\",\n",
    "            ylims=(exp_taylor(i,x)-0.05,exp_taylor(i,x)+0.05),\n",
    "            xlims=(x-0.001,x+0.001))\n",
    "end\n",
    "    return p\n",
    "end"
   ]
  },
  {
   "cell_type": "code",
   "execution_count": 22,
   "metadata": {
    "collapsed": false
   },
   "outputs": [
    {
     "data": {
      "text/html": [],
      "text/plain": [
       "Interact.Slider{Int64}(Signal{Int64}(1, nactions=1),\"n\",1,1:20,\"horizontal\",true,\"d\",true)"
      ]
     },
     "metadata": {},
     "output_type": "display_data"
    },
    {
     "data": {
      "text/html": [],
      "text/plain": [
       "Interact.Options{:ToggleButtons,Float64}(Signal{Float64}(1.0, nactions=1),\"x\",1.0,\"1.0\",Interact.OptionDict(DataStructures.OrderedDict(\"1.0\"=>1.0,\"5.0\"=>5.0),Dict(5.0=>\"5.0\",1.0=>\"1.0\")),Any[],Any[],true,\"horizontal\")"
      ]
     },
     "metadata": {},
     "output_type": "display_data"
    },
    {
     "data": {
      "text/html": [
       "<?xml version=\"1.0\" encoding=\"utf-8\"?>\n",
       "<svg xmlns=\"http://www.w3.org/2000/svg\" xmlns:xlink=\"http://www.w3.org/1999/xlink\" width=\"600\" height=\"400\" viewBox=\"0 0 600 400\">\n",
       "<defs>\n",
       "  <clipPath id=\"clip00\">\n",
       "    <rect x=\"0\" y=\"0\" width=\"600\" height=\"400\"/>\n",
       "  </clipPath>\n",
       "</defs>\n",
       "<polygon clip-path=\"url(#clip00)\" points=\"\n",
       "0,400 600,400 600,0 0,0 \n",
       "  \" fill=\"#ffffff\" fill-opacity=\"1\"/>\n",
       "<defs>\n",
       "  <clipPath id=\"clip01\">\n",
       "    <rect x=\"120\" y=\"0\" width=\"421\" height=\"400\"/>\n",
       "  </clipPath>\n",
       "</defs>\n",
       "<polygon clip-path=\"url(#clip00)\" points=\"\n",
       "54.7703,369.674 596.063,369.674 596.063,23.3815 54.7703,23.3815 \n",
       "  \" fill=\"#ffffff\" fill-opacity=\"1\"/>\n",
       "<defs>\n",
       "  <clipPath id=\"clip02\">\n",
       "    <rect x=\"54\" y=\"23\" width=\"542\" height=\"347\"/>\n",
       "  </clipPath>\n",
       "</defs>\n",
       "<polyline clip-path=\"url(#clip02)\" style=\"stroke:#00002d; stroke-width:0.8; stroke-opacity:0.5; fill:none\" stroke-dasharray=\"1, 2\" points=\"\n",
       "  54.7703,364.48 54.7703,28.5758 \n",
       "  \"/>\n",
       "<polyline clip-path=\"url(#clip02)\" style=\"stroke:#00002d; stroke-width:0.8; stroke-opacity:0.5; fill:none\" stroke-dasharray=\"1, 2\" points=\"\n",
       "  190.094,364.48 190.094,28.5758 \n",
       "  \"/>\n",
       "<polyline clip-path=\"url(#clip02)\" style=\"stroke:#00002d; stroke-width:0.8; stroke-opacity:0.5; fill:none\" stroke-dasharray=\"1, 2\" points=\"\n",
       "  325.417,364.48 325.417,28.5758 \n",
       "  \"/>\n",
       "<polyline clip-path=\"url(#clip02)\" style=\"stroke:#00002d; stroke-width:0.8; stroke-opacity:0.5; fill:none\" stroke-dasharray=\"1, 2\" points=\"\n",
       "  460.74,364.48 460.74,28.5758 \n",
       "  \"/>\n",
       "<polyline clip-path=\"url(#clip02)\" style=\"stroke:#00002d; stroke-width:0.8; stroke-opacity:0.5; fill:none\" stroke-dasharray=\"1, 2\" points=\"\n",
       "  62.8897,335.045 587.944,335.045 \n",
       "  \"/>\n",
       "<polyline clip-path=\"url(#clip02)\" style=\"stroke:#00002d; stroke-width:0.8; stroke-opacity:0.5; fill:none\" stroke-dasharray=\"1, 2\" points=\"\n",
       "  62.8897,265.786 587.944,265.786 \n",
       "  \"/>\n",
       "<polyline clip-path=\"url(#clip02)\" style=\"stroke:#00002d; stroke-width:0.8; stroke-opacity:0.5; fill:none\" stroke-dasharray=\"1, 2\" points=\"\n",
       "  62.8897,196.528 587.944,196.528 \n",
       "  \"/>\n",
       "<polyline clip-path=\"url(#clip02)\" style=\"stroke:#00002d; stroke-width:0.8; stroke-opacity:0.5; fill:none\" stroke-dasharray=\"1, 2\" points=\"\n",
       "  62.8897,127.269 587.944,127.269 \n",
       "  \"/>\n",
       "<polyline clip-path=\"url(#clip02)\" style=\"stroke:#00002d; stroke-width:0.8; stroke-opacity:0.5; fill:none\" stroke-dasharray=\"1, 2\" points=\"\n",
       "  62.8897,58.0107 587.944,58.0107 \n",
       "  \"/>\n",
       "<polyline clip-path=\"url(#clip02)\" style=\"stroke:#00002d; stroke-width:0.8; stroke-opacity:1; fill:none\" points=\"\n",
       "  54.7703,369.674 596.063,369.674 \n",
       "  \"/>\n",
       "<polyline clip-path=\"url(#clip02)\" style=\"stroke:#00002d; stroke-width:0.8; stroke-opacity:1; fill:none\" points=\"\n",
       "  54.7703,369.674 54.7703,364.48 \n",
       "  \"/>\n",
       "<polyline clip-path=\"url(#clip02)\" style=\"stroke:#00002d; stroke-width:0.8; stroke-opacity:1; fill:none\" points=\"\n",
       "  190.094,369.674 190.094,364.48 \n",
       "  \"/>\n",
       "<polyline clip-path=\"url(#clip02)\" style=\"stroke:#00002d; stroke-width:0.8; stroke-opacity:1; fill:none\" points=\"\n",
       "  325.417,369.674 325.417,364.48 \n",
       "  \"/>\n",
       "<polyline clip-path=\"url(#clip02)\" style=\"stroke:#00002d; stroke-width:0.8; stroke-opacity:1; fill:none\" points=\"\n",
       "  460.74,369.674 460.74,364.48 \n",
       "  \"/>\n",
       "<polyline clip-path=\"url(#clip02)\" style=\"stroke:#00002d; stroke-width:0.8; stroke-opacity:1; fill:none\" points=\"\n",
       "  54.7703,369.674 54.7703,23.3815 \n",
       "  \"/>\n",
       "<polyline clip-path=\"url(#clip02)\" style=\"stroke:#00002d; stroke-width:0.8; stroke-opacity:1; fill:none\" points=\"\n",
       "  54.7703,335.045 62.8897,335.045 \n",
       "  \"/>\n",
       "<polyline clip-path=\"url(#clip02)\" style=\"stroke:#00002d; stroke-width:0.8; stroke-opacity:1; fill:none\" points=\"\n",
       "  54.7703,265.786 62.8897,265.786 \n",
       "  \"/>\n",
       "<polyline clip-path=\"url(#clip02)\" style=\"stroke:#00002d; stroke-width:0.8; stroke-opacity:1; fill:none\" points=\"\n",
       "  54.7703,196.528 62.8897,196.528 \n",
       "  \"/>\n",
       "<polyline clip-path=\"url(#clip02)\" style=\"stroke:#00002d; stroke-width:0.8; stroke-opacity:1; fill:none\" points=\"\n",
       "  54.7703,127.269 62.8897,127.269 \n",
       "  \"/>\n",
       "<polyline clip-path=\"url(#clip02)\" style=\"stroke:#00002d; stroke-width:0.8; stroke-opacity:1; fill:none\" points=\"\n",
       "  54.7703,58.0107 62.8897,58.0107 \n",
       "  \"/>\n",
       "<g clip-path=\"url(#clip00)\">\n",
       "<text style=\"fill:#00002d; fill-opacity:1; font-family:Arial,Helvetica Neue,Helvetica,sans-serif; font-size:12; text-anchor:middle;\" transform=\"rotate(0, 54.7703, 381.674)\" x=\"54.7703\" y=\"381.674\">0.9990</text>\n",
       "</g>\n",
       "<g clip-path=\"url(#clip00)\">\n",
       "<text style=\"fill:#00002d; fill-opacity:1; font-family:Arial,Helvetica Neue,Helvetica,sans-serif; font-size:12; text-anchor:middle;\" transform=\"rotate(0, 190.094, 381.674)\" x=\"190.094\" y=\"381.674\">0.9995</text>\n",
       "</g>\n",
       "<g clip-path=\"url(#clip00)\">\n",
       "<text style=\"fill:#00002d; fill-opacity:1; font-family:Arial,Helvetica Neue,Helvetica,sans-serif; font-size:12; text-anchor:middle;\" transform=\"rotate(0, 325.417, 381.674)\" x=\"325.417\" y=\"381.674\">1.0000</text>\n",
       "</g>\n",
       "<g clip-path=\"url(#clip00)\">\n",
       "<text style=\"fill:#00002d; fill-opacity:1; font-family:Arial,Helvetica Neue,Helvetica,sans-serif; font-size:12; text-anchor:middle;\" transform=\"rotate(0, 460.74, 381.674)\" x=\"460.74\" y=\"381.674\">1.0005</text>\n",
       "</g>\n",
       "<g clip-path=\"url(#clip00)\">\n",
       "<text style=\"fill:#00002d; fill-opacity:1; font-family:Arial,Helvetica Neue,Helvetica,sans-serif; font-size:12; text-anchor:end;\" transform=\"rotate(0, 53.5703, 339.545)\" x=\"53.5703\" y=\"339.545\">1.96</text>\n",
       "</g>\n",
       "<g clip-path=\"url(#clip00)\">\n",
       "<text style=\"fill:#00002d; fill-opacity:1; font-family:Arial,Helvetica Neue,Helvetica,sans-serif; font-size:12; text-anchor:end;\" transform=\"rotate(0, 53.5703, 270.286)\" x=\"53.5703\" y=\"270.286\">1.98</text>\n",
       "</g>\n",
       "<g clip-path=\"url(#clip00)\">\n",
       "<text style=\"fill:#00002d; fill-opacity:1; font-family:Arial,Helvetica Neue,Helvetica,sans-serif; font-size:12; text-anchor:end;\" transform=\"rotate(0, 53.5703, 201.028)\" x=\"53.5703\" y=\"201.028\">2.00</text>\n",
       "</g>\n",
       "<g clip-path=\"url(#clip00)\">\n",
       "<text style=\"fill:#00002d; fill-opacity:1; font-family:Arial,Helvetica Neue,Helvetica,sans-serif; font-size:12; text-anchor:end;\" transform=\"rotate(0, 53.5703, 131.769)\" x=\"53.5703\" y=\"131.769\">2.02</text>\n",
       "</g>\n",
       "<g clip-path=\"url(#clip00)\">\n",
       "<text style=\"fill:#00002d; fill-opacity:1; font-family:Arial,Helvetica Neue,Helvetica,sans-serif; font-size:12; text-anchor:end;\" transform=\"rotate(0, 53.5703, 62.5107)\" x=\"53.5703\" y=\"62.5107\">2.04</text>\n",
       "</g>\n",
       "<g clip-path=\"url(#clip00)\">\n",
       "<text style=\"fill:#00002d; fill-opacity:1; font-family:Arial,Helvetica Neue,Helvetica,sans-serif; font-size:21; text-anchor:start;\" transform=\"rotate(0, 161.482, 18.7488)\" x=\"161.482\" y=\"18.7488\">e ^ x vs  Su aproximación en Taylor</text>\n",
       "</g>\n",
       "<g clip-path=\"url(#clip00)\">\n",
       "<text style=\"fill:#00002d; fill-opacity:1; font-family:Arial,Helvetica Neue,Helvetica,sans-serif; font-size:16; text-anchor:middle;\" transform=\"rotate(0, 325.417, 397.6)\" x=\"325.417\" y=\"397.6\">x</text>\n",
       "</g>\n",
       "<g clip-path=\"url(#clip00)\">\n",
       "<text style=\"fill:#00002d; fill-opacity:1; font-family:Arial,Helvetica Neue,Helvetica,sans-serif; font-size:16; text-anchor:middle;\" transform=\"rotate(-90, 14.4, 196.528)\" x=\"14.4\" y=\"196.528\">y</text>\n",
       "</g>\n",
       "<polyline clip-path=\"url(#clip02)\" style=\"stroke:#0099ff; stroke-width:0.8; stroke-opacity:1; fill:none\" points=\"\n",
       "  -26739.2,-1395.04 -26468.6,-1403.57 -26197.9,-1412.1 -25927.3,-1420.63 -25656.6,-1429.18 -25386,-1437.74 -25115.3,-1446.3 -24844.7,-1454.88 -24574,-1463.46 -24303.4,-1472.05 \n",
       "  -24032.8,-1480.65 -23762.1,-1489.25 -23491.5,-1497.87 -23220.8,-1506.49 -22950.2,-1515.13 -22679.5,-1523.77 -22408.9,-1532.42 -22138.2,-1541.08 -21867.6,-1549.75 -21596.9,-1558.42 \n",
       "  -21326.3,-1567.11 -21055.6,-1575.8 -20785,-1584.5 -20514.4,-1593.22 -20243.7,-1601.93 -19973.1,-1610.66 -19702.4,-1619.4 -19431.8,-1628.15 -19161.1,-1636.9 -18890.5,-1645.67 \n",
       "  -18619.8,-1654.44 -18349.2,-1663.22 -18078.5,-1672.01 -17807.9,-1680.81 -17537.2,-1689.62 -17266.6,-1698.43 -16995.9,-1707.26 -16725.3,-1716.09 -16454.7,-1724.93 -16184,-1733.79 \n",
       "  -15913.4,-1742.65 -15642.7,-1751.52 -15372.1,-1760.39 -15101.4,-1769.28 -14830.8,-1778.18 -14560.1,-1787.08 -14289.5,-1796 -14018.8,-1804.92 -13748.2,-1813.85 -13477.5,-1822.79 \n",
       "  -13206.9,-1831.74 -12936.3,-1840.7 -12665.6,-1849.67 -12395,-1858.64 -12124.3,-1867.63 -11853.7,-1876.62 -11583,-1885.63 -11312.4,-1894.64 -11041.7,-1903.66 -10771.1,-1912.69 \n",
       "  -10500.4,-1921.73 -10229.8,-1930.78 -9959.14,-1939.84 -9688.5,-1948.91 -9417.85,-1957.98 -9147.2,-1967.07 -8876.56,-1976.16 -8605.91,-1985.26 -8335.27,-1994.38 -8064.62,-2003.5 \n",
       "  -7793.97,-2012.63 -7523.33,-2021.77 -7252.68,-2030.92 -6982.03,-2040.07 -6711.39,-2049.24 -6440.74,-2058.42 -6170.1,-2067.6 -5899.45,-2076.8 -5628.8,-2086 -5358.16,-2095.21 \n",
       "  -5087.51,-2104.44 -4816.86,-2113.67 -4546.22,-2122.91 -4275.57,-2132.16 -4004.92,-2141.42 -3734.28,-2150.68 -3463.63,-2159.96 -3192.99,-2169.25 -2922.34,-2178.55 -2651.69,-2187.85 \n",
       "  -2381.05,-2197.17 -2110.4,-2206.49 -1839.75,-2215.82 -1569.11,-2225.17 -1298.46,-2234.52 -1027.81,-2243.88 -757.169,-2253.25 -486.522,-2262.63 -215.876,-2272.02 54.7703,-2281.42 \n",
       "  325.417,-2290.83 596.063,-2300.25 866.709,-2309.67 1137.36,-2319.11 1408,-2328.56 1678.65,-2338.01 1949.29,-2347.48 2219.94,-2356.95 2490.59,-2366.44 2761.23,-2375.93 \n",
       "  3031.88,-2385.43 3302.53,-2394.95 3573.17,-2404.47 3843.82,-2414 4114.47,-2423.54 4385.11,-2433.09 4655.76,-2442.65 4926.4,-2452.22 5197.05,-2461.8 5467.7,-2471.39 \n",
       "  5738.34,-2480.99 6008.99,-2490.6 6279.64,-2500.21 6550.28,-2509.84 6820.93,-2519.48 7091.57,-2529.13 7362.22,-2538.78 7632.87,-2548.45 7903.51,-2558.12 8174.16,-2567.81 \n",
       "  8444.81,-2577.5 8715.45,-2587.21 8986.1,-2596.92 9256.75,-2606.65 9527.39,-2616.38 9798.04,-2626.13 10068.7,-2635.88 10339.3,-2645.64 10610,-2655.41 10880.6,-2665.2 \n",
       "  11151.3,-2674.99 11421.9,-2684.79 11692.6,-2694.6 11963.2,-2704.43 12233.9,-2714.26 12504.5,-2724.1 12775.1,-2733.95 13045.8,-2743.81 13316.4,-2753.68 13587.1,-2763.56 \n",
       "  13857.7,-2773.46 14128.4,-2783.36 14399,-2793.27 14669.7,-2803.19 14940.3,-2813.12 15211,-2823.06 15481.6,-2833.01 15752.3,-2842.97 16022.9,-2852.94 16293.5,-2862.92 \n",
       "  16564.2,-2872.91 16834.8,-2882.91 17105.5,-2892.92 17376.1,-2902.94 17646.8,-2912.97 17917.4,-2923.01 18188.1,-2933.06 18458.7,-2943.12 18729.4,-2953.19 19000,-2963.27 \n",
       "  19270.7,-2973.36 19541.3,-2983.46 19812,-2993.58 20082.6,-3003.7 20353.2,-3013.83 20623.9,-3023.97 20894.5,-3034.12 21165.2,-3044.28 21435.8,-3054.45 21706.5,-3064.64 \n",
       "  21977.1,-3074.83 22247.8,-3085.03 22518.4,-3095.24 22789.1,-3105.47 23059.7,-3115.7 23330.4,-3125.94 23601,-3136.2 23871.6,-3146.46 24142.3,-3156.73 24412.9,-3167.02 \n",
       "  24683.6,-3177.31 24954.2,-3187.62 25224.9,-3197.93 25495.5,-3208.26 25766.2,-3218.59 26036.8,-3228.94 26307.5,-3239.3 26578.1,-3249.66 26848.8,-3260.04 27119.4,-3270.43 \n",
       "  27390,-3280.83 27660.7,-3291.23 27931.3,-3301.65 28202,-3312.08 28472.6,-3322.52 28743.3,-3332.97 29013.9,-3343.43 29284.6,-3353.9 29555.2,-3364.38 29825.9,-3374.88 \n",
       "  30096.5,-3385.38 30367.2,-3395.89 30637.8,-3406.42 30908.5,-3416.95 31179.1,-3427.49 31449.7,-3438.05 31720.4,-3448.62 31991,-3459.19 32261.7,-3469.78 32532.3,-3480.38 \n",
       "  32803,-3490.98 33073.6,-3501.6 33344.3,-3512.23 33614.9,-3522.87 33885.6,-3533.52 34156.2,-3544.18 34426.9,-3554.86 34697.5,-3565.54 34968.1,-3576.23 35238.8,-3586.94 \n",
       "  35509.4,-3597.65 35780.1,-3608.38 36050.7,-3619.11 36321.4,-3629.86 36592,-3640.62 36862.7,-3651.38 37133.3,-3662.16 37404,-3672.95 37674.6,-3683.75 37945.3,-3694.57 \n",
       "  38215.9,-3705.39 38486.5,-3716.22 38757.2,-3727.07 39027.8,-3737.92 39298.5,-3748.79 39569.1,-3759.66 39839.8,-3770.55 40110.4,-3781.45 40381.1,-3792.36 40651.7,-3803.28 \n",
       "  40922.4,-3814.21 41193,-3825.15 41463.7,-3836.1 41734.3,-3847.07 42005,-3858.04 42275.6,-3869.03 42546.2,-3880.03 42816.9,-3891.03 43087.5,-3902.05 43358.2,-3913.08 \n",
       "  43628.8,-3924.12 43899.5,-3935.18 44170.1,-3946.24 44440.8,-3957.31 44711.4,-3968.4 44982.1,-3979.49 45252.7,-3990.6 45523.4,-4001.72 45794,-4012.85 46064.6,-4023.99 \n",
       "  46335.3,-4035.14 46605.9,-4046.31 46876.6,-4057.48 47147.2,-4068.67 47417.9,-4079.86 47688.5,-4091.07 47959.2,-4102.29 48229.8,-4113.52 48500.5,-4124.76 48771.1,-4136.01 \n",
       "  49041.8,-4147.28 49312.4,-4158.55 49583,-4169.84 49853.7,-4181.14 50124.3,-4192.45 50395,-4203.77 50665.6,-4215.1 50936.3,-4226.44 51206.9,-4237.8 51477.6,-4249.16 \n",
       "  51748.2,-4260.54 52018.9,-4271.93 52289.5,-4283.33 52560.2,-4294.74 52830.8,-4306.16 53101.5,-4317.6 53372.1,-4329.04 53642.7,-4340.5 53913.4,-4351.97 54184,-4363.45 \n",
       "  54454.7,-4374.94 54725.3,-4386.44 54996,-4397.96 55266.6,-4409.48 55537.3,-4421.02 55807.9,-4432.57 56078.6,-4444.13 56349.2,-4455.7 56619.9,-4467.29 56890.5,-4478.88 \n",
       "  57161.1,-4490.49 57431.8,-4502.11 57702.4,-4513.74 57973.1,-4525.38 58243.7,-4537.03 58514.4,-4548.7 58785,-4560.38 59055.7,-4572.07 59326.3,-4583.77 59597,-4595.48 \n",
       "  59867.6,-4607.2 60138.3,-4618.94 60408.9,-4630.68 60679.5,-4642.44 60950.2,-4654.21 61220.8,-4666 61491.5,-4677.79 61762.1,-4689.6 62032.8,-4701.41 62303.4,-4713.24 \n",
       "  62574.1,-4725.09 62844.7,-4736.94 63115.4,-4748.8 63386,-4760.68 63656.7,-4772.57 63927.3,-4784.47 64197.9,-4796.38 64468.6,-4808.31 64739.2,-4820.25 65009.9,-4832.19 \n",
       "  65280.5,-4844.15 65551.2,-4856.13 65821.8,-4868.11 66092.5,-4880.11 66363.1,-4892.12 66633.8,-4904.14 66904.4,-4916.17 67175.1,-4928.21 67445.7,-4940.27 67716.4,-4952.34 \n",
       "  67987,-4964.42 68257.6,-4976.51 68528.3,-4988.62 68798.9,-5000.74 69069.6,-5012.86 69340.2,-5025.01 69610.9,-5037.16 69881.5,-5049.32 70152.2,-5061.5 70422.8,-5073.69 \n",
       "  70693.5,-5085.89 70964.1,-5098.11 71234.8,-5110.34 71505.4,-5122.57 71776,-5134.83 72046.7,-5147.09 72317.3,-5159.36 72588,-5171.65 72858.6,-5183.95 73129.3,-5196.27 \n",
       "  73399.9,-5208.59 73670.6,-5220.93 73941.2,-5233.28 74211.9,-5245.64 74482.5,-5258.01 74753.2,-5270.4 75023.8,-5282.8 75294.4,-5295.21 75565.1,-5307.63 75835.7,-5320.07 \n",
       "  76106.4,-5332.52 76377,-5344.98 76647.7,-5357.45 76918.3,-5369.94 77189,-5382.44 77459.6,-5394.95 77730.3,-5407.47 78000.9,-5420.01 78271.6,-5432.56 78542.2,-5445.12 \n",
       "  78812.9,-5457.69 79083.5,-5470.28 79354.1,-5482.88 79624.8,-5495.49 79895.4,-5508.11 80166.1,-5520.75 80436.7,-5533.4 80707.4,-5546.06 80978,-5558.74 81248.7,-5571.42 \n",
       "  81519.3,-5584.12 81790,-5596.84 82060.6,-5609.56 82331.3,-5622.3 82601.9,-5635.05 82872.5,-5647.82 83143.2,-5660.59 83413.8,-5673.38 83684.5,-5686.18 83955.1,-5699 \n",
       "  84225.8,-5711.83 84496.4,-5724.67 84767.1,-5737.52 85037.7,-5750.39 85308.4,-5763.27 85579,-5776.16 85849.7,-5789.06 86120.3,-5801.98 86390.9,-5814.91 86661.6,-5827.86 \n",
       "  86932.2,-5840.81 87202.9,-5853.78 87473.5,-5866.76 87744.2,-5879.76 88014.8,-5892.77 88285.5,-5905.79 88556.1,-5918.83 88826.8,-5931.87 89097.4,-5944.93 89368.1,-5958.01 \n",
       "  89638.7,-5971.09 89909.4,-5984.19 90180,-5997.31 90450.6,-6010.43 90721.3,-6023.57 90991.9,-6036.73 91262.6,-6049.89 91533.2,-6063.07 91803.9,-6076.26 92074.5,-6089.47 \n",
       "  92345.2,-6102.69 92615.8,-6115.92 92886.5,-6129.16 93157.1,-6142.42 93427.8,-6155.69 93698.4,-6168.98 93969,-6182.28 94239.7,-6195.59 94510.3,-6208.91 94781,-6222.25 \n",
       "  95051.6,-6235.6 95322.3,-6248.96 95592.9,-6262.34 95863.6,-6275.73 96134.2,-6289.14 96404.9,-6302.56 96675.5,-6315.99 96946.2,-6329.43 97216.8,-6342.89 97487.4,-6356.36 \n",
       "  97758.1,-6369.85 98028.7,-6383.35 98299.4,-6396.86 98570,-6410.39 98840.7,-6423.93 99111.3,-6437.48 99382,-6451.05 99652.6,-6464.63 99923.3,-6478.22 100194,-6491.83 \n",
       "  100465,-6505.45 100735,-6519.08 101006,-6532.73 101276,-6546.39 101547,-6560.07 101818,-6573.76 102088,-6587.46 102359,-6601.18 102630,-6614.91 102900,-6628.65 \n",
       "  103171,-6642.41 103442,-6656.18 103712,-6669.97 103983,-6683.77 104254,-6697.58 104524,-6711.41 104795,-6725.25 105066,-6739.1 105336,-6752.97 105607,-6766.85 \n",
       "  105877,-6780.75 106148,-6794.66 106419,-6808.58 106689,-6822.52 106960,-6836.47 107231,-6850.44 107501,-6864.42 107772,-6878.41 108043,-6892.42 108313,-6906.44 \n",
       "  108584,-6920.48 108855,-6934.53 109125,-6948.59 109396,-6962.67 109667,-6976.76 109937,-6990.87 110208,-7004.99 110478,-7019.12 110749,-7033.27 111020,-7047.43 \n",
       "  111290,-7061.61 111561,-7075.8 111832,-7090.01 112102,-7104.23 112373,-7118.46 112644,-7132.71 112914,-7146.97 113185,-7161.25 113456,-7175.54 113726,-7189.84 \n",
       "  113997,-7204.16 114268,-7218.5 114538,-7232.85 114809,-7247.21 115079,-7261.58 115350,-7275.98 115621,-7290.38 115891,-7304.8 116162,-7319.24 116433,-7333.68 \n",
       "  116703,-7348.15 116974,-7362.63 117245,-7377.12 117515,-7391.62 117786,-7406.15 118057,-7420.68 118327,-7435.23 118598,-7449.8 118869,-7464.38 119139,-7478.97 \n",
       "  119410,-7493.58 119680,-7508.2 119951,-7522.84 120222,-7537.49 120492,-7552.16 120763,-7566.84 121034,-7581.54 121304,-7596.25 121575,-7610.98 121846,-7625.72 \n",
       "  122116,-7640.47 122387,-7655.24 122658,-7670.03 122928,-7684.83 123199,-7699.64 123469,-7714.47 123740,-7729.31 124011,-7744.17 124281,-7759.05 124552,-7773.94 \n",
       "  124823,-7788.84 125093,-7803.76 125364,-7818.69 125635,-7833.64 125905,-7848.6 126176,-7863.58 126447,-7878.58 126717,-7893.59 126988,-7908.61 127259,-7923.65 \n",
       "  127529,-7938.7 127800,-7953.77 128070,-7968.85 128341,-7983.95 128612,-7999.07 128882,-8014.19 129153,-8029.34 129424,-8044.5 129694,-8059.67 129965,-8074.86 \n",
       "  130236,-8090.07 130506,-8105.29 130777,-8120.52 131048,-8135.77 131318,-8151.04 131589,-8166.32 131860,-8181.62 132130,-8196.93 132401,-8212.25 132671,-8227.6 \n",
       "  132942,-8242.95 133213,-8258.33 133483,-8273.72 133754,-8289.12 134025,-8304.54 134295,-8319.97 134566,-8335.42 134837,-8350.89 135107,-8366.37 135378,-8381.87 \n",
       "  135649,-8397.38 135919,-8412.91 136190,-8428.45 136461,-8444.01 136731,-8459.58 137002,-8475.17 137272,-8490.78 137543,-8506.4 137814,-8522.04 138084,-8537.69 \n",
       "  138355,-8553.36 138626,-8569.04 138896,-8584.74 139167,-8600.45 139438,-8616.18 139708,-8631.93 139979,-8647.69 140250,-8663.47 140520,-8679.26 140791,-8695.07 \n",
       "  141062,-8710.9 141332,-8726.74 141603,-8742.6 141873,-8758.47 142144,-8774.36 142415,-8790.26 142685,-8806.18 142956,-8822.12 143227,-8838.07 143497,-8854.04 \n",
       "  143768,-8870.03 144039,-8886.03 144309,-8902.04 144580,-8918.08 144851,-8934.12 145121,-8950.19 145392,-8966.27 145662,-8982.37 145933,-8998.48 146204,-9014.61 \n",
       "  146474,-9030.75 146745,-9046.91 147016,-9063.09 147286,-9079.28 147557,-9095.49 147828,-9111.72 148098,-9127.96 148369,-9144.22 148640,-9160.5 148910,-9176.79 \n",
       "  149181,-9193.09 149452,-9209.42 149722,-9225.76 149993,-9242.11 150263,-9258.49 150534,-9274.88 150805,-9291.28 151075,-9307.7 151346,-9324.14 151617,-9340.6 \n",
       "  151887,-9357.07 152158,-9373.56 152429,-9390.06 152699,-9406.58 152970,-9423.12 153241,-9439.67 153511,-9456.24 153782,-9472.83 154053,-9489.43 154323,-9506.05 \n",
       "  154594,-9522.69 154864,-9539.34 155135,-9556.01 155406,-9572.7 155676,-9589.4 155947,-9606.12 156218,-9622.86 156488,-9639.61 156759,-9656.38 157030,-9673.17 \n",
       "  157300,-9689.97 157571,-9706.8 157842,-9723.63 158112,-9740.49 158383,-9757.36 158654,-9774.25 158924,-9791.15 159195,-9808.07 159465,-9825.01 159736,-9841.97 \n",
       "  160007,-9858.94 160277,-9875.93 160548,-9892.94 160819,-9909.96 161089,-9927 161360,-9944.06 161631,-9961.14 161901,-9978.23 162172,-9995.34 162443,-10012.5 \n",
       "  162713,-10029.6 162984,-10046.8 163255,-10063.9 163525,-10081.1 163796,-10098.4 164066,-10115.6 164337,-10132.8 164608,-10150.1 164878,-10167.4 165149,-10184.7 \n",
       "  165420,-10202 165690,-10219.3 165961,-10236.7 166232,-10254 166502,-10271.4 166773,-10288.8 167044,-10306.2 167314,-10323.7 167585,-10341.1 167855,-10358.6 \n",
       "  168126,-10376.1 168397,-10393.6 168667,-10411.1 168938,-10428.7 169209,-10446.2 169479,-10463.8 169750,-10481.4 170021,-10499 170291,-10516.6 170562,-10534.3 \n",
       "  170833,-10552 171103,-10569.6 171374,-10587.3 171645,-10605.1 171915,-10622.8 172186,-10640.6 172456,-10658.3 172727,-10676.1 172998,-10693.9 173268,-10711.7 \n",
       "  173539,-10729.6 173810,-10747.5 174080,-10765.3 174351,-10783.2 174622,-10801.1 174892,-10819.1 175163,-10837 175434,-10855 175704,-10873 175975,-10891 \n",
       "  176246,-10909 176516,-10927 176787,-10945.1 177057,-10963.2 177328,-10981.3 177599,-10999.4 177869,-11017.5 178140,-11035.7 178411,-11053.8 178681,-11072 \n",
       "  178952,-11090.2 179223,-11108.4 179493,-11126.7 179764,-11144.9 180035,-11163.2 180305,-11181.5 180576,-11199.8 180847,-11218.2 181117,-11236.5 181388,-11254.9 \n",
       "  181658,-11273.3 181929,-11291.7 182200,-11310.1 182470,-11328.5 182741,-11347 183012,-11365.5 183282,-11384 183553,-11402.5 183824,-11421 184094,-11439.6 \n",
       "  184365,-11458.1 184636,-11476.7 184906,-11495.3 185177,-11514 185448,-11532.6 185718,-11551.3 185989,-11570 186259,-11588.7 186530,-11607.4 186801,-11626.1 \n",
       "  187071,-11644.9 187342,-11663.7 187613,-11682.5 187883,-11701.3 188154,-11720.1 188425,-11739 188695,-11757.8 188966,-11776.7 189237,-11795.6 189507,-11814.6 \n",
       "  189778,-11833.5 190048,-11852.5 190319,-11871.4 190590,-11890.4 190860,-11909.5 191131,-11928.5 191402,-11947.6 191672,-11966.7 191943,-11985.8 192214,-12004.9 \n",
       "  192484,-12024 192755,-12043.2 193026,-12062.3 193296,-12081.5 193567,-12100.7 193838,-12120 194108,-12139.2 194379,-12158.5 194649,-12177.8 194920,-12197.1 \n",
       "  195191,-12216.4 195461,-12235.8 195732,-12255.1 196003,-12274.5 196273,-12293.9 196544,-12313.4 196815,-12332.8 197085,-12352.3 197356,-12371.8 197627,-12391.3 \n",
       "  197897,-12410.8 198168,-12430.3 198439,-12449.9 198709,-12469.5 198980,-12489.1 199250,-12508.7 199521,-12528.3 199792,-12548 200062,-12567.7 200333,-12587.4 \n",
       "  200604,-12607.1 200874,-12626.8 201145,-12646.6 201416,-12666.4 201686,-12686.2 201957,-12706 202228,-12725.8 202498,-12745.7 202769,-12765.6 203040,-12785.5 \n",
       "  203310,-12805.4 203581,-12825.3 203851,-12845.3 204122,-12865.3 204393,-12885.3 204663,-12905.3 204934,-12925.3 205205,-12945.4 205475,-12965.4 205746,-12985.5 \n",
       "  206017,-13005.7 206287,-13025.8 206558,-13046 206829,-13066.1 207099,-13086.3 207370,-13106.6 207641,-13126.8 207911,-13147.1 208182,-13167.3 208452,-13187.6 \n",
       "  208723,-13208 208994,-13228.3 209264,-13248.7 209535,-13269 209806,-13289.4 210076,-13309.9 210347,-13330.3 210618,-13350.8 210888,-13371.2 211159,-13391.8 \n",
       "  211430,-13412.3 211700,-13432.8 211971,-13453.4 212241,-13474 212512,-13494.6 212783,-13515.2 213053,-13535.9 213324,-13556.5 213595,-13577.2 213865,-13597.9 \n",
       "  214136,-13618.7 214407,-13639.4 214677,-13660.2 214948,-13681 215219,-13701.8 215489,-13722.6 215760,-13743.5 216031,-13764.3 216301,-13785.2 216572,-13806.2 \n",
       "  216842,-13827.1 217113,-13848.1 217384,-13869 217654,-13890 217925,-13911.1 218196,-13932.1 218466,-13953.2 218737,-13974.3 219008,-13995.4 219278,-14016.5 \n",
       "  219549,-14037.6 219820,-14058.8 220090,-14080 220361,-14101.2 220632,-14122.5 220902,-14143.7 221173,-14165 221443,-14186.3 221714,-14207.6 221985,-14228.9 \n",
       "  222255,-14250.3 222526,-14271.7 222797,-14293.1 223067,-14314.5 223338,-14336 223609,-14357.4 223879,-14378.9 224150,-14400.4 224421,-14422 224691,-14443.5 \n",
       "  224962,-14465.1 225233,-14486.7 225503,-14508.3 225774,-14530 226044,-14551.6 226315,-14573.3 226586,-14595 226856,-14616.8 227127,-14638.5 227398,-14660.3 \n",
       "  227668,-14682.1 227939,-14703.9 228210,-14725.7 228480,-14747.6 228751,-14769.5 229022,-14791.4 229292,-14813.3 229563,-14835.2 229834,-14857.2 230104,-14879.2 \n",
       "  230375,-14901.2 230645,-14923.2 230916,-14945.3 231187,-14967.4 231457,-14989.5 231728,-15011.6 231999,-15033.7 232269,-15055.9 232540,-15078.1 232811,-15100.3 \n",
       "  233081,-15122.5 233352,-15144.8 233623,-15167.1 233893,-15189.4 234164,-15211.7 234434,-15234.1 234705,-15256.4 234976,-15278.8 235246,-15301.2 235517,-15323.7 \n",
       "  235788,-15346.1 236058,-15368.6 236329,-15391.1 236600,-15413.6 236870,-15436.2 237141,-15458.7 237412,-15481.3 237682,-15503.9 237953,-15526.6 238224,-15549.2 \n",
       "  238494,-15571.9 238765,-15594.6 239035,-15617.4 239306,-15640.1 239577,-15662.9 239847,-15685.7 240118,-15708.5 240389,-15731.3 240659,-15754.2 240930,-15777.1 \n",
       "  241201,-15800 241471,-15822.9 241742,-15845.9 242013,-15868.9 242283,-15891.9 242554,-15914.9 242825,-15938 243095,-15961 243366,-15984.1 243636,-16007.2 \n",
       "  243907,-16030.4 244178,-16053.5 244448,-16076.7 244719,-16099.9 244990,-16123.2 245260,-16146.4 245531,-16169.7 245802,-16193 246072,-16216.3 246343,-16239.7 \n",
       "  246614,-16263.1 246884,-16286.5 247155,-16309.9 247426,-16333.3 247696,-16356.8 247967,-16380.3 248237,-16403.8 248508,-16427.3 248779,-16450.9 249049,-16474.5 \n",
       "  249320,-16498.1 249591,-16521.7 249861,-16545.4 250132,-16569.1 250403,-16592.8 250673,-16616.5 250944,-16640.2 251215,-16664 251485,-16687.8 251756,-16711.6 \n",
       "  252026,-16735.5 252297,-16759.4 252568,-16783.3 252838,-16807.2 253109,-16831.1 253380,-16855.1 253650,-16879.1 253921,-16903.1 254192,-16927.1 254462,-16951.2 \n",
       "  254733,-16975.3 255004,-16999.4 255274,-17023.5 255545,-17047.7 255816,-17071.8 256086,-17096.1 256357,-17120.3 256627,-17144.5 256898,-17168.8 257169,-17193.1 \n",
       "  257439,-17217.4 257710,-17241.8 257981,-17266.2 258251,-17290.6 258522,-17315 258793,-17339.5 259063,-17363.9 259334,-17388.4 259605,-17412.9 259875,-17437.5 \n",
       "  260146,-17462.1 260417,-17486.7 260687,-17511.3 260958,-17535.9 261228,-17560.6 261499,-17585.3 261770,-17610 262040,-17634.8 262311,-17659.5 262582,-17684.3 \n",
       "  262852,-17709.1 263123,-17734 263394,-17758.9 263664,-17783.8 263935,-17808.7 264206,-17833.6 264476,-17858.6 264747,-17883.6 265018,-17908.6 265288,-17933.6 \n",
       "  265559,-17958.7 265829,-17983.8 266100,-18008.9 266371,-18034.1 266641,-18059.2 266912,-18084.4 267183,-18109.6 267453,-18134.9 267724,-18160.2 267995,-18185.5 \n",
       "  268265,-18210.8 268536,-18236.1 268807,-18261.5 269077,-18286.9 269348,-18312.3 269619,-18337.8 269889,-18363.2 270160,-18388.7 270430,-18414.3 270701,-18439.8 \n",
       "  270972,-18465.4 271242,-18491 271513,-18516.6 271784,-18542.3 272054,-18567.9 272325,-18593.6 272596,-18619.4 272866,-18645.1 273137,-18670.9 273408,-18696.7 \n",
       "  273678,-18722.5 273949,-18748.4 274219,-18774.3 274490,-18800.2 274761,-18826.1 275031,-18852.1 275302,-18878.1 275573,-18904.1 275843,-18930.1 276114,-18956.2 \n",
       "  276385,-18982.3 276655,-19008.4 276926,-19034.5 277197,-19060.7 277467,-19086.9 277738,-19113.1 278009,-19139.4 278279,-19165.7 278550,-19192 278820,-19218.3 \n",
       "  279091,-19244.6 279362,-19271 279632,-19297.4 279903,-19323.9 280174,-19350.3 280444,-19376.8 280715,-19403.3 280986,-19429.9 281256,-19456.4 281527,-19483 \n",
       "  281798,-19509.6 282068,-19536.3 282339,-19563 282610,-19589.6 282880,-19616.4 283151,-19643.1 283421,-19669.9 283692,-19696.7 283963,-19723.5 284233,-19750.4 \n",
       "  284504,-19777.3 284775,-19804.2 285045,-19831.1 285316,-19858.1 285587,-19885.1 285857,-19912.1 286128,-19939.2 286399,-19966.2 286669,-19993.4 286940,-20020.5 \n",
       "  287211,-20047.6 287481,-20074.8 287752,-20102 288022,-20129.3 288293,-20156.5 288564,-20183.8 288834,-20211.1 289105,-20238.5 289376,-20265.9 289646,-20293.3 \n",
       "  289917,-20320.7 290188,-20348.2 290458,-20375.6 290729,-20403.2 291000,-20430.7 291270,-20458.3 291541,-20485.9 291812,-20513.5 292082,-20541.1 292353,-20568.8 \n",
       "  292623,-20596.5 292894,-20624.2 293165,-20652 293435,-20679.8 293706,-20707.6 293977,-20735.4 294247,-20763.3 294518,-20791.2 294789,-20819.1 295059,-20847.1 \n",
       "  295330,-20875.1 295601,-20903.1 295871,-20931.1 296142,-20959.2 296412,-20987.3 296683,-21015.4 296954,-21043.6 297224,-21071.8 297495,-21100 297766,-21128.2 \n",
       "  298036,-21156.5 298307,-21184.8 298578,-21213.1 298848,-21241.4 299119,-21269.8 299390,-21298.2 299660,-21326.6 299931,-21355.1 300202,-21383.6 300472,-21412.1 \n",
       "  300743,-21440.7 301013,-21469.2 301284,-21497.9 301555,-21526.5 301825,-21555.2 302096,-21583.8 302367,-21612.6 302637,-21641.3 302908,-21670.1 303179,-21698.9 \n",
       "  303449,-21727.7 303720,-21756.6 303991,-21785.5 304261,-21814.4 304532,-21843.4 304803,-21872.3 305073,-21901.4 305344,-21930.4 305614,-21959.5 305885,-21988.6 \n",
       "  306156,-22017.7 306426,-22046.8 306697,-22076 306968,-22105.2 307238,-22134.5 307509,-22163.7 307780,-22193.1 308050,-22222.4 308321,-22251.7 308592,-22281.1 \n",
       "  308862,-22310.5 309133,-22340 309404,-22369.5 309674,-22399 309945,-22428.5 310215,-22458.1 310486,-22487.7 310757,-22517.3 311027,-22547 311298,-22576.6 \n",
       "  311569,-22606.4 311839,-22636.1 312110,-22665.9 312381,-22695.7 312651,-22725.5 312922,-22755.4 313193,-22785.3 313463,-22815.2 313734,-22845.1 314005,-22875.1 \n",
       "  314275,-22905.1 314546,-22935.2 314816,-22965.2 315087,-22995.3 315358,-23025.5 315628,-23055.6 315899,-23085.8 316170,-23116.1 316440,-23146.3 316711,-23176.6 \n",
       "  316982,-23206.9 317252,-23237.3 317523,-23267.6 317794,-23298 318064,-23328.5 318335,-23358.9 318605,-23389.4 318876,-23420 319147,-23450.5 319417,-23481.1 \n",
       "  319688,-23511.7 319959,-23542.4 320229,-23573.1 320500,-23603.8 320771,-23634.5 321041,-23665.3 321312,-23696.1 321583,-23726.9 321853,-23757.8 322124,-23788.7 \n",
       "  322395,-23819.6 322665,-23850.6 322936,-23881.6 323206,-23912.6 323477,-23943.6 323748,-23974.7 324018,-24005.8 324289,-24037 324560,-24068.1 324830,-24099.3 \n",
       "  325101,-24130.6 325372,-24161.8 325642,-24193.1 325913,-24224.5 326184,-24255.8 326454,-24287.2 326725,-24318.7 326996,-24350.1 327266,-24381.6 327537,-24413.1 \n",
       "  327807,-24444.7 328078,-24476.3 328349,-24507.9 328619,-24539.5 328890,-24571.2 329161,-24602.9 329431,-24634.6 329702,-24666.4 329973,-24698.2 330243,-24730.1 \n",
       "  330514,-24761.9 330785,-24793.8 331055,-24825.8 331326,-24857.7 331597,-24889.7 331867,-24921.8 332138,-24953.8 332408,-24985.9 332679,-25018 332950,-25050.2 \n",
       "  333220,-25082.4 333491,-25114.6 333762,-25146.8 334032,-25179.1 334303,-25211.4 334574,-25243.8 334844,-25276.2 335115,-25308.6 335386,-25341 335656,-25373.5 \n",
       "  335927,-25406 336198,-25438.6 336468,-25471.2 336739,-25503.8 337009,-25536.4 337280,-25569.1 337551,-25601.8 337821,-25634.5 338092,-25667.3 338363,-25700.1 \n",
       "  338633,-25733 338904,-25765.8 339175,-25798.7 339445,-25831.7 339716,-25864.6 339987,-25897.6 340257,-25930.7 340528,-25963.7 340798,-25996.8 341069,-26030 \n",
       "  341340,-26063.2 341610,-26096.4 341881,-26129.6 342152,-26162.9 342422,-26196.2 342693,-26229.5 342964,-26262.9 343234,-26296.3 343505,-26329.7 343776,-26363.2 \n",
       "  344046,-26396.7 344317,-26430.2 344588,-26463.8 344858,-26497.4 345129,-26531 345399,-26564.7 345670,-26598.4 345941,-26632.1 346211,-26665.9 346482,-26699.7 \n",
       "  346753,-26733.5 347023,-26767.4 347294,-26801.3 347565,-26835.3 347835,-26869.2 348106,-26903.2 348377,-26937.3 348647,-26971.4 348918,-27005.5 349189,-27039.6 \n",
       "  349459,-27073.8 349730,-27108 350000,-27142.3 350271,-27176.5 350542,-27210.9 350812,-27245.2 351083,-27279.6 351354,-27314 351624,-27348.5 351895,-27383 \n",
       "  352166,-27417.5 352436,-27452 352707,-27486.6 352978,-27521.3 353248,-27555.9 353519,-27590.6 353790,-27625.3 354060,-27660.1 354331,-27694.9 354601,-27729.7 \n",
       "  354872,-27764.6 355143,-27799.5 355413,-27834.5 355684,-27869.4 355955,-27904.4 356225,-27939.5 356496,-27974.6 356767,-28009.7 357037,-28044.8 357308,-28080 \n",
       "  357579,-28115.2 357849,-28150.5 358120,-28185.8 358391,-28221.1 358661,-28256.5 358932,-28291.9 359202,-28327.3 359473,-28362.8 359744,-28398.3 360014,-28433.8 \n",
       "  360285,-28469.4 360556,-28505 360826,-28540.6 361097,-28576.3 361368,-28612 361638,-28647.8 361909,-28683.6 362180,-28719.4 362450,-28755.3 362721,-28791.1 \n",
       "  362991,-28827.1 363262,-28863 363533,-28899 363803,-28935.1 364074,-28971.2 364345,-29007.3 364615,-29043.4 364886,-29079.6 365157,-29115.8 365427,-29152.1 \n",
       "  365698,-29188.4 365969,-29224.7 366239,-29261.1 366510,-29297.5 366781,-29333.9 367051,-29370.4 367322,-29406.9 367592,-29443.4 367863,-29480 368134,-29516.6 \n",
       "  368404,-29553.3 368675,-29590 368946,-29626.7 369216,-29663.5 369487,-29700.3 369758,-29737.1 370028,-29774 370299,-29810.9 370570,-29847.9 370840,-29884.9 \n",
       "  371111,-29921.9 371382,-29959 371652,-29996.1 371923,-30033.2 372193,-30070.4 372464,-30107.6 372735,-30144.8 373005,-30182.1 373276,-30219.4 373547,-30256.8 \n",
       "  373817,-30294.2 374088,-30331.6 374359,-30369.1 374629,-30406.6 374900,-30444.2 375171,-30481.8 375441,-30519.4 375712,-30557 375983,-30594.7 376253,-30632.5 \n",
       "  376524,-30670.2 376794,-30708.1 377065,-30745.9 377336,-30783.8 377606,-30821.7 377877,-30859.7 378148,-30897.7 378418,-30935.7 378689,-30973.8 378960,-31011.9 \n",
       "  379230,-31050.1 379501,-31088.3 379772,-31126.5 380042,-31164.8 380313,-31203.1 380584,-31241.4 380854,-31279.8 381125,-31318.2 381395,-31356.7 381666,-31395.2 \n",
       "  381937,-31433.7 382207,-31472.3 382478,-31510.9 382749,-31549.6 383019,-31588.2 383290,-31627 383561,-31665.7 383831,-31704.5 384102,-31743.4 384373,-31782.3 \n",
       "  384643,-31821.2 384914,-31860.2 385184,-31899.2 385455,-31938.2 385726,-31977.3 385996,-32016.4 386267,-32055.6 386538,-32094.8 386808,-32134 387079,-32173.3 \n",
       "  387350,-32212.6 387620,-32251.9 387891,-32291.3 388162,-32330.8 388432,-32370.2 388703,-32409.8 388974,-32449.3 389244,-32488.9 389515,-32528.5 389785,-32568.2 \n",
       "  390056,-32607.9 390327,-32647.7 390597,-32687.5 390868,-32727.3 391139,-32767.2 391409,-32807.1 391680,-32847 391951,-32887 392221,-32927 392492,-32967.1 \n",
       "  392763,-33007.2 393033,-33047.4 393304,-33087.6 393575,-33127.8 393845,-33168.1 394116,-33208.4 394386,-33248.7 394657,-33289.1 394928,-33329.5 395198,-33370 \n",
       "  395469,-33410.5 395740,-33451.1 396010,-33491.7 396281,-33532.3 396552,-33573 396822,-33613.7 397093,-33654.4 397364,-33695.2 397634,-33736.1 397905,-33777 \n",
       "  398176,-33817.9 398446,-33858.8 398717,-33899.8 398987,-33940.9 399258,-33982 399529,-34023.1 399799,-34064.3 400070,-34105.5 400341,-34146.7 400611,-34188 \n",
       "  400882,-34229.3 401153,-34270.7 401423,-34312.1 401694,-34353.6 401965,-34395.1 402235,-34436.6 402506,-34478.2 402777,-34519.8 403047,-34561.5 403318,-34603.2 \n",
       "  403588,-34644.9 403859,-34686.7 404130,-34728.6 404400,-34770.4 404671,-34812.3 404942,-34854.3 405212,-34896.3 405483,-34938.3 405754,-34980.4 406024,-35022.5 \n",
       "  406295,-35064.7 406566,-35106.9 406836,-35149.2 407107,-35191.5 407377,-35233.8 407648,-35276.2 407919,-35318.6 408189,-35361 408460,-35403.6 408731,-35446.1 \n",
       "  409001,-35488.7 409272,-35531.3 409543,-35574 409813,-35616.7 410084,-35659.5 410355,-35702.3 410625,-35745.1 410896,-35788 411167,-35830.9 411437,-35873.9 \n",
       "  411708,-35916.9 411978,-35960 412249,-36003.1 412520,-36046.2 412790,-36089.4 413061,-36132.7 413332,-36175.9 413602,-36219.3 413873,-36262.6 414144,-36306 \n",
       "  414414,-36349.5 414685,-36393 414956,-36436.5 415226,-36480.1 415497,-36523.7 415768,-36567.4 416038,-36611.1 416309,-36654.9 416579,-36698.7 416850,-36742.5 \n",
       "  417121,-36786.4 417391,-36830.3 417662,-36874.3 417933,-36918.3 418203,-36962.4 418474,-37006.5 418745,-37050.6 419015,-37094.8 419286,-37139.1 419557,-37183.4 \n",
       "  419827,-37227.7 420098,-37272.1 420369,-37316.5 420639,-37360.9 420910,-37405.4 421180,-37450 421451,-37494.6 421722,-37539.2 421992,-37583.9 422263,-37628.6 \n",
       "  422534,-37673.4 422804,-37718.2 423075,-37763.1 423346,-37808 423616,-37852.9 423887,-37897.9 424158,-37943 424428,-37988.1 424699,-38033.2 424970,-38078.4 \n",
       "  425240,-38123.6 425511,-38168.9 425781,-38214.2 426052,-38259.6 426323,-38305 426593,-38350.4 426864,-38395.9 427135,-38441.4 427405,-38487 427676,-38532.7 \n",
       "  427947,-38578.3 428217,-38624.1 428488,-38669.8 428759,-38715.6 429029,-38761.5 429300,-38807.4 429570,-38853.4 429841,-38899.4 430112,-38945.4 430382,-38991.5 \n",
       "  430653,-39037.6 430924,-39083.8 431194,-39130.1 431465,-39176.3 431736,-39222.6 432006,-39269 432277,-39315.4 432548,-39361.9 432818,-39408.4 433089,-39455 \n",
       "  433360,-39501.6 433630,-39548.2 433901,-39594.9 434171,-39641.6 434442,-39688.4 434713,-39735.3 434983,-39782.1 435254,-39829.1 435525,-39876 435795,-39923.1 \n",
       "  436066,-39970.1 436337,-40017.2 436607,-40064.4 436878,-40111.6 437149,-40158.9 437419,-40206.2 437690,-40253.5 437961,-40300.9 438231,-40348.4 438502,-40395.9 \n",
       "  438772,-40443.4 439043,-40491 439314,-40538.6 439584,-40586.3 439855,-40634.1 440126,-40681.8 440396,-40729.7 440667,-40777.5 440938,-40825.5 441208,-40873.4 \n",
       "  441479,-40921.5 441750,-40969.5 442020,-41017.6 442291,-41065.8 442562,-41114 442832,-41162.3 443103,-41210.6 443373,-41259 443644,-41307.4 443915,-41355.8 \n",
       "  444185,-41404.3 444456,-41452.9 444727,-41501.5 444997,-41550.1 445268,-41598.8 445539,-41647.6 445809,-41696.3 446080,-41745.2 446351,-41794.1 446621,-41843 \n",
       "  446892,-41892 447163,-41941.1 447433,-41990.1 447704,-42039.3 447974,-42088.5 448245,-42137.7 448516,-42187 448786,-42236.3 449057,-42285.7 449328,-42335.1 \n",
       "  449598,-42384.6 449869,-42434.1 450140,-42483.7 450410,-42533.4 450681,-42583 450952,-42632.8 451222,-42682.6 451493,-42732.4 451763,-42782.3 452034,-42832.2 \n",
       "  452305,-42882.2 452575,-42932.2 452846,-42982.3 453117,-43032.4 453387,-43082.6 453658,-43132.8 453929,-43183.1 454199,-43233.4 454470,-43283.8 454741,-43334.2 \n",
       "  455011,-43384.7 455282,-43435.3 455553,-43485.8 455823,-43536.5 456094,-43587.2 456364,-43637.9 456635,-43688.7 456906,-43739.5 457176,-43790.4 457447,-43841.3 \n",
       "  457718,-43892.3 457988,-43943.4 458259,-43994.5 458530,-44045.6 458800,-44096.8 459071,-44148 459342,-44199.3 459612,-44250.7 459883,-44302.1 460154,-44353.5 \n",
       "  460424,-44405 460695,-44456.6 460965,-44508.2 461236,-44559.9 461507,-44611.6 461777,-44663.3 462048,-44715.1 462319,-44767 462589,-44818.9 462860,-44870.9 \n",
       "  463131,-44922.9 463401,-44975 463672,-45027.1 463943,-45079.3 464213,-45131.5 464484,-45183.8 464755,-45236.1 465025,-45288.5 465296,-45340.9 465566,-45393.4 \n",
       "  465837,-45446 466108,-45498.6 466378,-45551.2 466649,-45603.9 466920,-45656.7 467190,-45709.5 467461,-45762.3 467732,-45815.2 468002,-45868.2 468273,-45921.2 \n",
       "  468544,-45974.3 468814,-46027.4 469085,-46080.6 469355,-46133.8 469626,-46187.1 469897,-46240.4 470167,-46293.8 470438,-46347.3 470709,-46400.8 470979,-46454.3 \n",
       "  471250,-46507.9 471521,-46561.6 471791,-46615.3 472062,-46669 472333,-46722.9 472603,-46776.7 472874,-46830.7 473145,-46884.6 473415,-46938.7 473686,-46992.8 \n",
       "  473956,-47046.9 474227,-47101.1 474498,-47155.4 474768,-47209.7 475039,-47264 475310,-47318.4 475580,-47372.9 475851,-47427.4 476122,-47482 476392,-47536.6 \n",
       "  476663,-47591.3 476934,-47646.1 477204,-47700.9 477475,-47755.7 477746,-47810.6 478016,-47865.6 478287,-47920.6 478557,-47975.7 478828,-48030.8 479099,-48086 \n",
       "  479369,-48141.2 479640,-48196.5 479911,-48251.8 480181,-48307.2 480452,-48362.7 480723,-48418.2 480993,-48473.8 481264,-48529.4 481535,-48585.1 481805,-48640.8 \n",
       "  482076,-48696.6 482347,-48752.5 482617,-48808.4 482888,-48864.3 483158,-48920.3 483429,-48976.4 483700,-49032.5 483970,-49088.7 484241,-49144.9 484512,-49201.2 \n",
       "  484782,-49257.6 485053,-49314 485324,-49370.5 485594,-49427 485865,-49483.6 486136,-49540.2 486406,-49596.9 486677,-49653.6 486948,-49710.4 487218,-49767.3 \n",
       "  487489,-49824.2 487759,-49881.2 488030,-49938.2 488301,-49995.3 488571,-50052.5 488842,-50109.7 489113,-50166.9 489383,-50224.2 489654,-50281.6 489925,-50339.1 \n",
       "  490195,-50396.5 490466,-50454.1 490737,-50511.7 491007,-50569.4 491278,-50627.1 491548,-50684.9 491819,-50742.7 492090,-50800.6 492360,-50858.5 492631,-50916.6 \n",
       "  492902,-50974.6 493172,-51032.7 493443,-51090.9 493714,-51149.2 493984,-51207.5 494255,-51265.8 494526,-51324.2 494796,-51382.7 495067,-51441.3 495338,-51499.9 \n",
       "  495608,-51558.5 495879,-51617.2 496149,-51676 496420,-51734.8 496691,-51793.7 496961,-51852.6 497232,-51911.6 497503,-51970.7 497773,-52029.8 498044,-52089 \n",
       "  498315,-52148.3 498585,-52207.6 498856,-52266.9 499127,-52326.3 499397,-52385.8 499668,-52445.4 499939,-52505 500209,-52564.6 500480,-52624.3 500750,-52684.1 \n",
       "  501021,-52743.9 501292,-52803.8 501562,-52863.8 501833,-52923.8 502104,-52983.9 502374,-53044 502645,-53104.2 502916,-53164.5 503186,-53224.8 503457,-53285.2 \n",
       "  503728,-53345.6 503998,-53406.1 504269,-53466.7 504540,-53527.3 504810,-53588 505081,-53648.7 505351,-53709.5 505622,-53770.4 505893,-53831.3 506163,-53892.3 \n",
       "  506434,-53953.3 506705,-54014.4 506975,-54075.6 507246,-54136.8 507517,-54198.1 507787,-54259.5 508058,-54320.9 508329,-54382.3 508599,-54443.9 508870,-54505.5 \n",
       "  509141,-54567.1 509411,-54628.9 509682,-54690.6 509952,-54752.5 510223,-54814.4 510494,-54876.4 510764,-54938.4 511035,-55000.5 511306,-55062.6 511576,-55124.8 \n",
       "  511847,-55187.1 512118,-55249.5 512388,-55311.9 512659,-55374.3 512930,-55436.9 513200,-55499.5 513471,-55562.1 513741,-55624.8 514012,-55687.6 514283,-55750.4 \n",
       "  514553,-55813.3 514824,-55876.3 515095,-55939.3 515365,-56002.4 515636,-56065.6 515907,-56128.8 516177,-56192.1 516448,-56255.4 516719,-56318.9 516989,-56382.3 \n",
       "  517260,-56445.9 517531,-56509.5 517801,-56573.1 518072,-56636.9 518342,-56700.6 518613,-56764.5 518884,-56828.4 519154,-56892.4 519425,-56956.4 519696,-57020.6 \n",
       "  519966,-57084.7 520237,-57149 520508,-57213.3 520778,-57277.6 521049,-57342.1 521320,-57406.6 521590,-57471.1 521861,-57535.8 522132,-57600.5 522402,-57665.2 \n",
       "  522673,-57730 522943,-57794.9 523214,-57859.9 523485,-57924.9 523755,-57990 524026,-58055.1 524297,-58120.3 524567,-58185.6 524838,-58250.9 525109,-58316.3 \n",
       "  525379,-58381.8 525650,-58447.3 525921,-58512.9 526191,-58578.6 526462,-58644.3 526733,-58710.1 527003,-58776 527274,-58841.9 527544,-58907.9 527815,-58974 \n",
       "  528086,-59040.1 528356,-59106.3 528627,-59172.6 528898,-59238.9 529168,-59305.3 529439,-59371.8 529710,-59438.3 529980,-59504.9 530251,-59571.6 530522,-59638.3 \n",
       "  530792,-59705.1 531063,-59771.9 531334,-59838.9 531604,-59905.9 531875,-59972.9 532145,-60040.1 532416,-60107.2 532687,-60174.5 532957,-60241.8 533228,-60309.2 \n",
       "  533499,-60376.7 533769,-60444.2 534040,-60511.8 534311,-60579.5 534581,-60647.2 534852,-60715 535123,-60782.9 535393,-60850.9 535664,-60918.9 535934,-60986.9 \n",
       "  536205,-61055.1 536476,-61123.3 536746,-61191.6 537017,-61259.9 537288,-61328.3 537558,-61396.8 537829,-61465.4 538100,-61534 538370,-61602.7 538641,-61671.4 \n",
       "  538912,-61740.3 539182,-61809.2 539453,-61878.1 539724,-61947.2 539994,-62016.3 540265,-62085.5 540535,-62154.7 540806,-62224 541077,-62293.4 541347,-62362.8 \n",
       "  541618,-62432.4 541889,-62501.9 542159,-62571.6 542430,-62641.3 542701,-62711.1 542971,-62781 543242,-62850.9 543513,-62920.9 543783,-62991 544054,-63061.2 \n",
       "  544325,-63131.4 544595,-63201.7 544866,-63272 545136,-63342.5 545407,-63413 545678,-63483.5 545948,-63554.2 546219,-63624.9 546490,-63695.7 546760,-63766.5 \n",
       "  547031,-63837.5 547302,-63908.5 547572,-63979.5 547843,-64050.7 548114,-64121.9 548384,-64193.1 548655,-64264.5 548926,-64335.9 549196,-64407.4 549467,-64479 \n",
       "  549737,-64550.6 550008,-64622.3 550279,-64694.1 550549,-64766 550820,-64837.9 551091,-64909.9 551361,-64981.9 551632,-65054.1 551903,-65126.3 552173,-65198.6 \n",
       "  552444,-65270.9 552715,-65343.4 552985,-65415.9 553256,-65488.4 553527,-65561.1 553797,-65633.8 554068,-65706.6 554338,-65779.5 554609,-65852.4 554880,-65925.4 \n",
       "  555150,-65998.5 555421,-66071.7 555692,-66144.9 555962,-66218.2 556233,-66291.6 556504,-66365 556774,-66438.5 557045,-66512.1 557316,-66585.8 557586,-66659.6 \n",
       "  557857,-66733.4 558127,-66807.3 558398,-66881.2 558669,-66955.3 558939,-67029.4 559210,-67103.6 559481,-67177.8 559751,-67252.2 560022,-67326.6 560293,-67401.1 \n",
       "  560563,-67475.6 560834,-67550.3 561105,-67625 561375,-67699.8 561646,-67774.6 561917,-67849.6 562187,-67924.6 562458,-67999.7 562728,-68074.8 562999,-68150.1 \n",
       "  563270,-68225.4 563540,-68300.8 563811,-68376.2 564082,-68451.8 564352,-68527.4 564623,-68603 564894,-68678.8 565164,-68754.7 565435,-68830.6 565706,-68906.6 \n",
       "  565976,-68982.6 566247,-69058.8 566518,-69135 566788,-69211.3 567059,-69287.7 567329,-69364.1 567600,-69440.6 567871,-69517.2 568141,-69593.9 568412,-69670.7 \n",
       "  568683,-69747.5 568953,-69824.4 569224,-69901.4 569495,-69978.4 569765,-70055.6 570036,-70132.8 570307,-70210.1 570577,-70287.5 570848,-70364.9 571119,-70442.4 \n",
       "  571389,-70520 571660,-70597.7 571930,-70675.5 572201,-70753.3 572472,-70831.2 572742,-70909.2 573013,-70987.3 573284,-71065.5 573554,-71143.7 573825,-71222 \n",
       "  574096,-71300.4 574366,-71378.8 574637,-71457.4 574908,-71536 575178,-71614.7 575449,-71693.5 575720,-71772.3 575990,-71851.3 576261,-71930.3 576531,-72009.4 \n",
       "  576802,-72088.5 577073,-72167.8 577343,-72247.1 577614,-72326.5 577885,-72406 578155,-72485.6 578426,-72565.2 578697,-72645 578967,-72724.8 579238,-72804.6 \n",
       "  579509,-72884.6 579779,-72964.7 580050,-73044.8 580320,-73125 580591,-73205.3 580862,-73285.6 581132,-73366.1 581403,-73446.6 581674,-73527.2 581944,-73607.9 \n",
       "  582215,-73688.7 582486,-73769.5 582756,-73850.5 583027,-73931.5 583298,-74012.6 583568,-74093.8 583839,-74175 584110,-74256.4 584380,-74337.8 584651,-74419.3 \n",
       "  584921,-74500.9 585192,-74582.5 585463,-74664.3 585733,-74746.1 586004,-74828 586275,-74910 586545,-74992.1 586816,-75074.2 587087,-75156.5 587357,-75238.8 \n",
       "  587628,-75321.2 587899,-75403.7 588169,-75486.2 588440,-75568.9 588711,-75651.6 588981,-75734.4 589252,-75817.3 589522,-75900.3 589793,-75983.4 590064,-76066.5 \n",
       "  590334,-76149.8 590605,-76233.1 590876,-76316.5 591146,-76400 591417,-76483.5 591688,-76567.2 591958,-76650.9 592229,-76734.7 592500,-76818.6 592770,-76902.6 \n",
       "  593041,-76986.7 593312,-77070.8 593582,-77155 593853,-77239.4 594123,-77323.8 594394,-77408.3 594665,-77492.8 594935,-77577.5 595206,-77662.2 595477,-77747.1 \n",
       "  595747,-77832 596018,-77917 596289,-78002 596559,-78087.2 596830,-78172.5 597101,-78257.8 597371,-78343.2 597642,-78428.7 597913,-78514.3 598183,-78600 \n",
       "  598454,-78685.8 598724,-78771.6 598995,-78857.6 599266,-78943.6 599536,-79029.7 599807,-79115.9 600078,-79202.2 600348,-79288.5 600619,-79375 600890,-79461.5 \n",
       "  601160,-79548.2 601431,-79634.9 601702,-79721.7 601972,-79808.6 602243,-79895.5 602513,-79982.6 602784,-80069.7 603055,-80157 603325,-80244.3 603596,-80331.7 \n",
       "  603867,-80419.2 604137,-80506.8 604408,-80594.5 604679,-80682.2 604949,-80770.1 605220,-80858 605491,-80946 605761,-81034.2 606032,-81122.4 606303,-81210.6 \n",
       "  606573,-81299 606844,-81387.5 607114,-81476 607385,-81564.7 607656,-81653.4 607926,-81742.2 608197,-81831.1 608468,-81920.1 608738,-82009.2 609009,-82098.4 \n",
       "  609280,-82187.7 609550,-82277 609821,-82366.5 610092,-82456 610362,-82545.6 610633,-82635.3 610904,-82725.1 611174,-82815 611445,-82905 611715,-82995.1 \n",
       "  611986,-83085.3 612257,-83175.5 612527,-83265.8 612798,-83356.3 613069,-83446.8 613339,-83537.4 613610,-83628.1 613881,-83718.9 614151,-83809.8 614422,-83900.8 \n",
       "  614693,-83991.9 614963,-84083 615234,-84174.3 615505,-84265.6 615775,-84357 616046,-84448.6 616316,-84540.2 616587,-84631.9 616858,-84723.7 617128,-84815.6 \n",
       "  617399,-84907.6 617670,-84999.6 617940,-85091.8 618211,-85184.1 618482,-85276.4 618752,-85368.9 619023,-85461.4 619294,-85554 619564,-85646.8 619835,-85739.6 \n",
       "  620106,-85832.5 620376,-85925.5 620647,-86018.6 620917,-86111.8 621188,-86205 621459,-86298.4 621729,-86391.9 622000,-86485.5 622271,-86579.1 622541,-86672.9 \n",
       "  622812,-86766.7 623083,-86860.6 623353,-86954.7 623624,-87048.8 623895,-87143 624165,-87237.3 624436,-87331.7 624706,-87426.2 624977,-87520.8 625248,-87615.5 \n",
       "  625518,-87710.3 625789,-87805.2 626060,-87900.2 626330,-87995.2 626601,-88090.4 626872,-88185.6 627142,-88281 627413,-88376.5 627684,-88472 627954,-88567.6 \n",
       "  628225,-88663.4 628496,-88759.2 628766,-88855.1 629037,-88951.2 629307,-89047.3 629578,-89143.5 629849,-89239.8 630119,-89336.2 630390,-89432.7 630661,-89529.3 \n",
       "  630931,-89626 631202,-89722.8 631473,-89819.7 631743,-89916.7 632014,-90013.8 632285,-90111 632555,-90208.3 632826,-90305.7 633097,-90403.1 633367,-90500.7 \n",
       "  633638,-90598.4 633908,-90696.2 634179,-90794 634450,-90892 634720,-90990 634991,-91088.2 635262,-91186.5 635532,-91284.8 635803,-91383.3 636074,-91481.8 \n",
       "  636344,-91580.5 636615,-91679.2 636886,-91778.1 637156,-91877 637427,-91976.1 637698,-92075.2 637968,-92174.5 638239,-92273.8 638509,-92373.3 638780,-92472.8 \n",
       "  639051,-92572.5 639321,-92672.2 639592,-92772.1 639863,-92872 640133,-92972 640404,-93072.2 640675,-93172.4 640945,-93272.8 641216,-93373.2 641487,-93473.8 \n",
       "  641757,-93574.4 642028,-93675.2 642299,-93776 642569,-93877 642840,-93978 643110,-94079.2 643381,-94180.4 643652,-94281.8 643922,-94383.2 644193,-94484.8 \n",
       "  644464,-94586.4 644734,-94688.2 645005,-94790.1 645276,-94892 645546,-94994.1 645817,-95096.3 646088,-95198.5 646358,-95300.9 646629,-95403.4 646899,-95506 \n",
       "  647170,-95608.6 647441,-95711.4 647711,-95814.3 647982,-95917.3 648253,-96020.4 648523,-96123.6 648794,-96226.9 649065,-96330.3 649335,-96433.8 649606,-96537.4 \n",
       "  649877,-96641.1 650147,-96744.9 650418,-96848.8 650689,-96952.9 650959,-97057 651230,-97161.2 651500,-97265.5 651771,-97370 652042,-97474.5 652312,-97579.2 \n",
       "  652583,-97683.9 652854,-97788.8 653124,-97893.8 653395,-97998.8 653666,-98104 653936,-98209.3 654207,-98314.7 654478,-98420.2 654748,-98525.7 655019,-98631.5 \n",
       "  655290,-98737.3 655560,-98843.2 655831,-98949.2 656101,-99055.3 656372,-99161.5 656643,-99267.9 656913,-99374.3 657184,-99480.9 657455,-99587.5 657725,-99694.3 \n",
       "  657996,-99801.2 658267,-99908.1 658537,-100015 658808,-100122 659079,-100230 659349,-100337 659620,-100445 659891,-100552 660161,-100660 660432,-100768 \n",
       "  660702,-100876 660973,-100984 661244,-101092 661514,-101200 661785,-101309 662056,-101417 662326,-101526 662597,-101634 662868,-101743 663138,-101852 \n",
       "  663409,-101961 663680,-102070 663950,-102180 664221,-102289 664491,-102398 664762,-102508 665033,-102618 665303,-102727 665574,-102837 665845,-102947 \n",
       "  666115,-103057 666386,-103168 666657,-103278 666927,-103389 667198,-103499 667469,-103610 667739,-103721 668010,-103831 668281,-103942 668551,-104054 \n",
       "  668822,-104165 669092,-104276 669363,-104388 669634,-104499 669904,-104611 670175,-104723 670446,-104835 670716,-104947 670987,-105059 671258,-105171 \n",
       "  671528,-105283 671799,-105396 672070,-105508 672340,-105621 672611,-105734 672882,-105847 673152,-105960 673423,-106073 673693,-106186 673964,-106299 \n",
       "  674235,-106413 674505,-106527 674776,-106640 675047,-106754 675317,-106868 675588,-106982 675859,-107096 676129,-107210 676400,-107325 676671,-107439 \n",
       "  676941,-107554 677212,-107669 677483,-107784 677753,-107899 678024,-108014 678294,-108129 678565,-108244 678836,-108360 679106,-108475 679377,-108591 \n",
       "  679648,-108707 679918,-108822 680189,-108938 680460,-109055 680730,-109171 681001,-109287 681272,-109404 681542,-109520 681813,-109637 682084,-109754 \n",
       "  682354,-109871 682625,-109988 682895,-110105 683166,-110222 683437,-110340 683707,-110457 683978,-110575 684249,-110692 684519,-110810 684790,-110928 \n",
       "  685061,-111046 685331,-111165 685602,-111283 685873,-111401 686143,-111520 686414,-111639 686684,-111758 686955,-111876 687226,-111996 687496,-112115 \n",
       "  687767,-112234 688038,-112353 688308,-112473 688579,-112593 688850,-112712 689120,-112832 689391,-112952 689662,-113072 689932,-113193 690203,-113313 \n",
       "  690474,-113434 690744,-113554 691015,-113675 691285,-113796 691556,-113917 691827,-114038 692097,-114159 692368,-114280 692639,-114402 692909,-114523 \n",
       "  693180,-114645 693451,-114767 693721,-114889 693992,-115011 694263,-115133 694533,-115256 694804,-115378 695075,-115501 695345,-115623 695616,-115746 \n",
       "  695886,-115869 696157,-115992 696428,-116115 696698,-116238 696969,-116362 697240,-116485 697510,-116609 697781,-116733 698052,-116857 698322,-116981 \n",
       "  698593,-117105 698864,-117229 699134,-117354 699405,-117478 699676,-117603 699946,-117728 700217,-117853 700487,-117978 700758,-118103 701029,-118228 \n",
       "  701299,-118354 701570,-118479 701841,-118605 702111,-118731 702382,-118856 702653,-118983 702923,-119109 703194,-119235 703465,-119361 703735,-119488 \n",
       "  704006,-119615 704277,-119741 704547,-119868 704818,-119995 705088,-120123 705359,-120250 705630,-120377 705900,-120505 706171,-120633 706442,-120760 \n",
       "  706712,-120888 706983,-121016 707254,-121145 707524,-121273 707795,-121401 708066,-121530 708336,-121659 708607,-121788 708877,-121917 709148,-122046 \n",
       "  709419,-122175 709689,-122304 709960,-122434 710231,-122563 710501,-122693 710772,-122823 711043,-122953 711313,-123083 711584,-123213 711855,-123344 \n",
       "  712125,-123474 712396,-123605 712667,-123736 712937,-123867 713208,-123998 713478,-124129 713749,-124260 714020,-124392 714290,-124523 714561,-124655 \n",
       "  714832,-124787 715102,-124919 715373,-125051 715644,-125183 715914,-125316 716185,-125448 716456,-125581 716726,-125713 716997,-125846 717268,-125979 \n",
       "  717538,-126113 717809,-126246 718079,-126379 718350,-126513 718621,-126647 718891,-126780 719162,-126914 719433,-127048 719703,-127183 719974,-127317 \n",
       "  720245,-127452 720515,-127586 720786,-127721 721057,-127856 721327,-127991 721598,-128126 721869,-128261 722139,-128397 722410,-128533 722680,-128668 \n",
       "  722951,-128804 723222,-128940 723492,-129076 723763,-129212 724034,-129349 724304,-129485 724575,-129622 724846,-129759 725116,-129896 725387,-130033 \n",
       "  725658,-130170 725928,-130308 726199,-130445 726470,-130583 726740,-130720 727011,-130858 727281,-130996 727552,-131135 727823,-131273 728093,-131411 \n",
       "  728364,-131550 728635,-131689 728905,-131828 729176,-131967 729447,-132106 729717,-132245 729988,-132385 730259,-132524 730529,-132664 730800,-132804 \n",
       "  731070,-132944 731341,-133084 731612,-133224 731882,-133364 732153,-133505 732424,-133646 732694,-133787 732965,-133928 733236,-134069 733506,-134210 \n",
       "  733777,-134351 734048,-134493 734318,-134635 734589,-134776 734860,-134918 735130,-135060 735401,-135203 735671,-135345 735942,-135488 736213,-135630 \n",
       "  736483,-135773 736754,-135916 737025,-136059 737295,-136203 737566,-136346 737837,-136489 738107,-136633 738378,-136777 738649,-136921 738919,-137065 \n",
       "  739190,-137209 739461,-137354 739731,-137498 740002,-137643 740272,-137788 740543,-137933 740814,-138078 741084,-138223 741355,-138369 741626,-138514 \n",
       "  741896,-138660 742167,-138806 742438,-138952 742708,-139098 742979,-139244 743250,-139391 743520,-139537 743791,-139684 744062,-139831 744332,-139978 \n",
       "  744603,-140125 744873,-140272 745144,-140420 745415,-140567 745685,-140715 745956,-140863 746227,-141011 746497,-141159 746768,-141308 747039,-141456 \n",
       "  747309,-141605 747580,-141754 747851,-141903 748121,-142052 748392,-142201 748663,-142350 748933,-142500 749204,-142650 749474,-142799 749745,-142949 \n",
       "  750016,-143100 750286,-143250 750557,-143400 750828,-143551 751098,-143702 751369,-143853 751640,-144004 751910,-144155 752181,-144306 752452,-144458 \n",
       "  752722,-144609 752993,-144761 753263,-144913 753534,-145065 753805,-145217 754075,-145370 754346,-145522 754617,-145675 754887,-145828 755158,-145981 \n",
       "  755429,-146134 755699,-146288 755970,-146441 756241,-146595 756511,-146749 756782,-146902 757053,-147057 757323,-147211 757594,-147365 757864,-147520 \n",
       "  758135,-147675 758406,-147829 758676,-147984 758947,-148140 759218,-148295 759488,-148450 759759,-148606 760030,-148762 760300,-148918 760571,-149074 \n",
       "  760842,-149230 761112,-149387 761383,-149543 761654,-149700 761924,-149857 762195,-150014 762465,-150171 762736,-150329 763007,-150486 763277,-150644 \n",
       "  763548,-150802 763819,-150960 764089,-151118 764360,-151276 764631,-151435 764901,-151593 765172,-151752 765443,-151911 765713,-152070 765984,-152229 \n",
       "  766255,-152389 766525,-152548 766796,-152708 767066,-152868 767337,-153028 767608,-153188 767878,-153349 768149,-153509 768420,-153670 768690,-153831 \n",
       "  768961,-153992 769232,-154153 769502,-154314 769773,-154476 770044,-154638 770314,-154800 770585,-154962 770856,-155124 771126,-155286 771397,-155448 \n",
       "  771667,-155611 771938,-155774 772209,-155937 772479,-156100 772750,-156263 773021,-156427 773291,-156590 773562,-156754 773833,-156918 774103,-157082 \n",
       "  774374,-157247 774645,-157411 774915,-157576 775186,-157740 775456,-157905 775727,-158071 775998,-158236 776268,-158401 776539,-158567 776810,-158733 \n",
       "  777080,-158899 777351,-159065 777622,-159231 777892,-159397 778163,-159564 778434,-159731 778704,-159898 778975,-160065 779246,-160232 779516,-160400 \n",
       "  779787,-160567 780057,-160735 780328,-160903 780599,-161071 780869,-161239 781140,-161408 781411,-161576 781681,-161745 781952,-161914 782223,-162083 \n",
       "  782493,-162252 782764,-162422 783035,-162592 783305,-162761 783576,-162931 783847,-163101 784117,-163272 784388,-163442 784658,-163613 784929,-163784 \n",
       "  785200,-163955 785470,-164126 785741,-164297 786012,-164469 786282,-164640 786553,-164812 786824,-164984 787094,-165156 787365,-165329 787636,-165501 \n",
       "  787906,-165674 788177,-165847 788448,-166020 788718,-166193 788989,-166367 789259,-166540 789530,-166714 789801,-166888 790071,-167062 790342,-167236 \n",
       "  790613,-167411 790883,-167585 791154,-167760 791425,-167935 791695,-168110 791966,-168286 792237,-168461 792507,-168637 792778,-168813 793049,-168989 \n",
       "  793319,-169165 793590,-169341 793860,-169518 794131,-169694 794402,-169871 794672,-170048 794943,-170226 795214,-170403 795484,-170581 795755,-170758 \n",
       "  796026,-170936 796296,-171115 796567,-171293 796838,-171471 797108,-171650 797379,-171829 797649,-172008 797920,-172187 798191,-172367 798461,-172546 \n",
       "  798732,-172726 799003,-172906 799273,-173086 799544,-173266 799815,-173447 800085,-173627 800356,-173808 800627,-173989 800897,-174171 801168,-174352 \n",
       "  801439,-174533 801709,-174715 801980,-174897 802250,-175079 802521,-175262 802792,-175444 803062,-175627 803333,-175810 803604,-175993 803874,-176176 \n",
       "  804145,-176359 804416,-176543 804686,-176726 804957,-176910 805228,-177095 805498,-177279 805769,-177463 806040,-177648 806310,-177833 806581,-178018 \n",
       "  806851,-178203 807122,-178389 807393,-178574 807663,-178760 807934,-178946 808205,-179132 808475,-179318 808746,-179505 809017,-179692 809287,-179879 \n",
       "  809558,-180066 809829,-180253 810099,-180440 810370,-180628 810641,-180816 810911,-181004 811182,-181192 811452,-181381 811723,-181569 811994,-181758 \n",
       "  812264,-181947 812535,-182136 812806,-182326 813076,-182515 813347,-182705 813618,-182895 813888,-183085 814159,-183275 814430,-183466 814700,-183656 \n",
       "  814971,-183847 815242,-184038 815512,-184230 815783,-184421 816053,-184613 816324,-184804 816595,-184996 816865,-185189 817136,-185381 817407,-185574 \n",
       "  817677,-185766 817948,-185959 818219,-186153 818489,-186346 818760,-186540 819031,-186733 819301,-186927 819572,-187121 819842,-187316 820113,-187510 \n",
       "  820384,-187705 820654,-187900 820925,-188095 821196,-188290 821466,-188486 821737,-188682 822008,-188877 822278,-189074 822549,-189270 822820,-189466 \n",
       "  823090,-189663 823361,-189860 823632,-190057 823902,-190254 824173,-190452 824443,-190649 824714,-190847 824985,-191045 825255,-191244 825526,-191442 \n",
       "  825797,-191641 826067,-191840 826338,-192039 826609,-192238 826879,-192437 827150,-192637 827421,-192837 827691,-193037 827962,-193237 828233,-193438 \n",
       "  828503,-193638 828774,-193839 829044,-194040 829315,-194242 829586,-194443 829856,-194645 830127,-194847 830398,-195049 830668,-195251 830939,-195453 \n",
       "  831210,-195656 831480,-195859 831751,-196062 832022,-196265 832292,-196469 832563,-196673 832834,-196876 833104,-197081 833375,-197285 833645,-197489 \n",
       "  833916,-197694 834187,-197899 834457,-198104 834728,-198309 834999,-198515 835269,-198721 835540,-198927 835811,-199133 836081,-199339 836352,-199546 \n",
       "  836623,-199752 836893,-199959 837164,-200167 837435,-200374 837705,-200582 837976,-200789 838246,-200997 838517,-201206 838788,-201414 839058,-201623 \n",
       "  839329,-201832 839600,-202041 839870,-202250 840141,-202459 840412,-202669 840682,-202879 840953,-203089 841224,-203299 841494,-203510 841765,-203721 \n",
       "  842035,-203932 842306,-204143 842577,-204354 842847,-204566 843118,-204778 843389,-204990 843659,-205202 843930,-205414 844201,-205627 844471,-205840 \n",
       "  844742,-206053 845013,-206266 845283,-206480 845554,-206693 845825,-206907 846095,-207121 846366,-207336 846636,-207550 846907,-207765 847178,-207980 \n",
       "  847448,-208195 847719,-208411 847990,-208626 848260,-208842 848531,-209058 848802,-209274 849072,-209491 849343,-209708 849614,-209925 849884,-210142 \n",
       "  850155,-210359 850426,-210577 850696,-210795 850967,-211013 851237,-211231 851508,-211449 851779,-211668 852049,-211887 852320,-212106 852591,-212325 \n",
       "  852861,-212545 853132,-212765 853403,-212985 853673,-213205 853944,-213425 854215,-213646 854485,-213867 854756,-214088 855027,-214309 855297,-214531 \n",
       "  855568,-214753 855838,-214975 856109,-215197 856380,-215419 856650,-215642 856921,-215865 857192,-216088 857462,-216311 857733,-216535 858004,-216758 \n",
       "  858274,-216982 858545,-217207 858816,-217431 859086,-217656 859357,-217881 859628,-218106 859898,-218331 860169,-218557 860439,-218783 860710,-219009 \n",
       "  860981,-219235 861251,-219461 861522,-219688 861793,-219915 862063,-220142 862334,-220369 862605,-220597 862875,-220825 863146,-221053 863417,-221281 \n",
       "  863687,-221510 863958,-221738 864228,-221967 864499,-222197 864770,-222426 865040,-222656 865311,-222886 865582,-223116 865852,-223346 866123,-223577 \n",
       "  866394,-223807 866664,-224039 866935,-224270 867206,-224501 867476,-224733 867747,-224965 868018,-225197 868288,-225430 868559,-225662 868829,-225895 \n",
       "  869100,-226128 869371,-226362 869641,-226595 869912,-226829 870183,-227063 870453,-227298 870724,-227532 870995,-227767 871265,-228002 871536,-228237 \n",
       "  871807,-228473 872077,-228708 872348,-228944 872619,-229180 872889,-229417 873160,-229654 873430,-229890 873701,-230128 873972,-230365 874242,-230603 \n",
       "  874513,-230840 874784,-231078 875054,-231317 875325,-231555 875596,-231794 875866,-232033 876137,-232272 876408,-232512 876678,-232752 876949,-232992 \n",
       "  877220,-233232 877490,-233472 877761,-233713 878031,-233954 878302,-234195 878573,-234437 878843,-234678 879114,-234920 879385,-235162 879655,-235405 \n",
       "  879926,-235648 880197,-235890 880467,-236134 880738,-236377 881009,-236621 881279,-236864 881550,-237109 881820,-237353 882091,-237597 882362,-237842 \n",
       "  882632,-238087 882903,-238333 883174,-238578 883444,-238824 883715,-239070 883986,-239317 884256,-239563 884527,-239810 884798,-240057 885068,-240304 \n",
       "  885339,-240552 885610,-240800 885880,-241048 886151,-241296 886421,-241544 886692,-241793 886963,-242042 887233,-242292 887504,-242541 887775,-242791 \n",
       "  888045,-243041 888316,-243291 888587,-243542 888857,-243793 889128,-244044 889399,-244295 889669,-244546 889940,-244798 890211,-245050 890481,-245303 \n",
       "  890752,-245555 891022,-245808 891293,-246061 891564,-246314 891834,-246568 892105,-246822 892376,-247076 892646,-247330 892917,-247585 893188,-247839 \n",
       "  893458,-248095 893729,-248350 894000,-248606 894270,-248861 894541,-249118 894812,-249374 895082,-249630 895353,-249887 895623,-250145 895894,-250402 \n",
       "  896165,-250660 896435,-250917 896706,-251176 896977,-251434 897247,-251693 897518,-251952 897789,-252211 898059,-252470 898330,-252730 898601,-252990 \n",
       "  898871,-253250 899142,-253511 899413,-253772 899683,-254033 899954,-254294 900224,-254555 900495,-254817 900766,-255079 901036,-255342 901307,-255604 \n",
       "  901578,-255867 901848,-256130 902119,-256394 902390,-256657 902660,-256921 902931,-257185 903202,-257450 903472,-257714 903743,-257979 904013,-258245 \n",
       "  904284,-258510 904555,-258776 904825,-259042 905096,-259308 905367,-259575 905637,-259842 905908,-260109 906179,-260376 906449,-260644 906720,-260912 \n",
       "  906991,-261180 907261,-261448 907532,-261717 907803,-261986 908073,-262255 908344,-262525 908614,-262794 908885,-263065 909156,-263335 909426,-263605 \n",
       "  909697,-263876 909968,-264147 910238,-264419 910509,-264691 910780,-264962 911050,-265235 911321,-265507 911592,-265780 911862,-266053 912133,-266326 \n",
       "  912404,-266600 912674,-266874 912945,-267148 913215,-267422 913486,-267697 913757,-267972 914027,-268247 914298,-268523 914569,-268798 914839,-269075 \n",
       "  915110,-269351 915381,-269627 915651,-269904 915922,-270182 916193,-270459 916463,-270737 916734,-271015 917005,-271293 917275,-271572 917546,-271850 \n",
       "  917816,-272129 918087,-272409 918358,-272689 918628,-272968 918899,-273249 919170,-273529 919440,-273810 919711,-274091 919982,-274372 920252,-274654 \n",
       "  920523,-274936 920794,-275218 921064,-275501 921335,-275783 921606,-276066 921876,-276350 922147,-276633 922417,-276917 922688,-277202 922959,-277486 \n",
       "  923229,-277771 923500,-278056 923771,-278341 924041,-278627 924312,-278913 924583,-279199 924853,-279485 925124,-279772 925395,-280059 925665,-280346 \n",
       "  925936,-280634 926206,-280922 926477,-281210 926748,-281499 927018,-281787 927289,-282076 927560,-282366 927830,-282655 928101,-282945 928372,-283235 \n",
       "  928642,-283526 928913,-283817 929184,-284108 929454,-284399 929725,-284691 929996,-284983 930266,-285275 930537,-285568 930807,-285860 931078,-286154 \n",
       "  931349,-286447 931619,-286741 931890,-287035 932161,-287329 932431,-287624 932702,-287919 932973,-288214 933243,-288509 933514,-288805 933785,-289101 \n",
       "  934055,-289397 934326,-289694 934597,-289991 934867,-290288 935138,-290586 935408,-290884 935679,-291182 935950,-291480 936220,-291779 936491,-292078 \n",
       "  936762,-292378 937032,-292677 937303,-292977 937574,-293277 937844,-293578 938115,-293879 938386,-294180 938656,-294481 938927,-294783 939198,-295085 \n",
       "  939468,-295388 939739,-295690 940009,-295993 940280,-296296 940551,-296600 940821,-296904 941092,-297208 941363,-297513 941633,-297817 941904,-298122 \n",
       "  942175,-298428 942445,-298734 942716,-299040 942987,-299346 943257,-299652 943528,-299959 943799,-300267 944069,-300574 944340,-300882 944610,-301190 \n",
       "  944881,-301499 945152,-301807 945422,-302116 945693,-302426 945964,-302736 946234,-303046 946505,-303356 946776,-303667 947046,-303978 947317,-304289 \n",
       "  947588,-304600 947858,-304912 948129,-305224 948399,-305537 948670,-305850 948941,-306163 949211,-306476 949482,-306790 949753,-307104 950023,-307418 \n",
       "  950294,-307733 950565,-308048 950835,-308364 951106,-308679 951377,-308995 951647,-309311 951918,-309628 952189,-309945 952459,-310262 952730,-310580 \n",
       "  953000,-310898 953271,-311216 953542,-311534 953812,-311853 954083,-312172 954354,-312492 954624,-312811 954895,-313131 955166,-313452 955436,-313773 \n",
       "  955707,-314094 955978,-314415 956248,-314737 956519,-315059 956790,-315381 957060,-315704 957331,-316027 957601,-316350 957872,-316674 958143,-316998 \n",
       "  958413,-317322 958684,-317647 958955,-317972 959225,-318297 959496,-318622 959767,-318948 960037,-319274 960308,-319601 960579,-319928 960849,-320255 \n",
       "  961120,-320583 961391,-320911 961661,-321239 961932,-321567 962202,-321896 962473,-322225 962744,-322555 963014,-322885 963285,-323215 963556,-323545 \n",
       "  963826,-323876 964097,-324207 964368,-324539 964638,-324871 964909,-325203 965180,-325535 965450,-325868 965721,-326201 965992,-326535 966262,-326869 \n",
       "  966533,-327203 966803,-327537 967074,-327872 967345,-328207 967615,-328543 967886,-328879 968157,-329215 968427,-329551 968698,-329888 968969,-330225 \n",
       "  969239,-330563 969510,-330901 969781,-331239 970051,-331577 970322,-331916 970592,-332255 970863,-332595 971134,-332935 971404,-333275 971675,-333616 \n",
       "  971946,-333957 972216,-334298 972487,-334639 972758,-334981 973028,-335324 973299,-335666 973570,-336009 973840,-336353 974111,-336696 974382,-337040 \n",
       "  974652,-337384 974923,-337729 975193,-338074 975464,-338420 975735,-338765 976005,-339111 976276,-339458 976547,-339805 976817,-340152 977088,-340499 \n",
       "  977359,-340847 977629,-341195 977900,-341543 978171,-341892 978441,-342242 978712,-342591 978983,-342941 979253,-343291 979524,-343642 979794,-343993 \n",
       "  980065,-344344 980336,-344696 980606,-345048 980877,-345400 981148,-345753 981418,-346106 981689,-346459 981960,-346813 982230,-347167 982501,-347521 \n",
       "  982772,-347876 983042,-348231 983313,-348587 983584,-348943 983854,-349299 984125,-349656 984395,-350013 984666,-350370 984937,-350728 985207,-351086 \n",
       "  985478,-351444 985749,-351803 986019,-352162 986290,-352521 986561,-352881 986831,-353241 987102,-353602 987373,-353963 987643,-354324 987914,-354686 \n",
       "  988185,-355048 988455,-355410 988726,-355773 988996,-356136 989267,-356499 989538,-356863 989808,-357227 990079,-357592 990350,-357957 990620,-358322 \n",
       "  990891,-358688 991162,-359054 991432,-359420 991703,-359787 991974,-360154 992244,-360521 992515,-360889 992785,-361257 993056,-361626 993327,-361995 \n",
       "  993597,-362364 993868,-362734 994139,-363104 994409,-363474 994680,-363845 994951,-364216 995221,-364588 995492,-364960 995763,-365332 996033,-365704 \n",
       "  996304,-366077 996575,-366451 996845,-366825 997116,-367199 997386,-367573 997657,-367948 997928,-368323 998198,-368699 998469,-369075 998740,-369451 \n",
       "  999010,-369828 999281,-370205 999552,-370583 999822,-370961 1.00009e+06,-371339 1.00036e+06,-371718 1.00063e+06,-372097 1.0009e+06,-372476 1.00118e+06,-372856 1.00145e+06,-373236 \n",
       "  1.00172e+06,-373617 1.00199e+06,-373998 1.00226e+06,-374379 1.00253e+06,-374761 1.0028e+06,-375143 1.00307e+06,-375525 1.00334e+06,-375908 1.00361e+06,-376291 1.00388e+06,-376675 1.00415e+06,-377059 \n",
       "  1.00442e+06,-377443 1.00469e+06,-377828 1.00496e+06,-378213 1.00524e+06,-378599 1.00551e+06,-378984 1.00578e+06,-379371 1.00605e+06,-379757 1.00632e+06,-380144 1.00659e+06,-380532 1.00686e+06,-380920 \n",
       "  1.00713e+06,-381308 1.0074e+06,-381697 1.00767e+06,-382086 1.00794e+06,-382475 1.00821e+06,-382865 1.00848e+06,-383255 1.00875e+06,-383646 1.00902e+06,-384037 1.00929e+06,-384428 1.00957e+06,-384820 \n",
       "  1.00984e+06,-385212 1.01011e+06,-385604 1.01038e+06,-385997 1.01065e+06,-386391 1.01092e+06,-386784 1.01119e+06,-387178 1.01146e+06,-387573 1.01173e+06,-387968 1.012e+06,-388363 1.01227e+06,-388759 \n",
       "  1.01254e+06,-389155 1.01281e+06,-389551 1.01308e+06,-389948 1.01335e+06,-390345 1.01363e+06,-390743 1.0139e+06,-391141 1.01417e+06,-391540 1.01444e+06,-391939 1.01471e+06,-392338 1.01498e+06,-392737 \n",
       "  1.01525e+06,-393138 1.01552e+06,-393538 1.01579e+06,-393939 1.01606e+06,-394340 1.01633e+06,-394742 1.0166e+06,-395144 1.01687e+06,-395546 1.01714e+06,-395949 1.01741e+06,-396352 1.01768e+06,-396756 \n",
       "  1.01796e+06,-397160 1.01823e+06,-397565 1.0185e+06,-397970 1.01877e+06,-398375 1.01904e+06,-398781 1.01931e+06,-399187 1.01958e+06,-399593 1.01985e+06,-400000 1.02012e+06,-400407 1.02039e+06,-400815 \n",
       "  1.02066e+06,-401223 1.02093e+06,-401632 1.0212e+06,-402041 1.02147e+06,-402450 1.02174e+06,-402860 1.02202e+06,-403270 1.02229e+06,-403681 1.02256e+06,-404092 1.02283e+06,-404503 1.0231e+06,-404915 \n",
       "  1.02337e+06,-405327 1.02364e+06,-405740 1.02391e+06,-406153 1.02418e+06,-406566 1.02445e+06,-406980 1.02472e+06,-407395 1.02499e+06,-407809 1.02526e+06,-408225 1.02553e+06,-408640 1.0258e+06,-409056 \n",
       "  1.02607e+06,-409472 1.02635e+06,-409889 1.02662e+06,-410306 1.02689e+06,-410724 1.02716e+06,-411142 1.02743e+06,-411561 1.0277e+06,-411980 1.02797e+06,-412399 1.02824e+06,-412819 1.02851e+06,-413239 \n",
       "  1.02878e+06,-413659 1.02905e+06,-414080 1.02932e+06,-414502 1.02959e+06,-414924 1.02986e+06,-415346 1.03013e+06,-415768 1.03041e+06,-416192 1.03068e+06,-416615 1.03095e+06,-417039 1.03122e+06,-417463 \n",
       "  1.03149e+06,-417888 1.03176e+06,-418313 1.03203e+06,-418739 1.0323e+06,-419165 1.03257e+06,-419592 1.03284e+06,-420019 1.03311e+06,-420446 1.03338e+06,-420874 1.03365e+06,-421302 1.03392e+06,-421731 \n",
       "  1.03419e+06,-422160 1.03447e+06,-422589 1.03474e+06,-423019 1.03501e+06,-423449 1.03528e+06,-423880 1.03555e+06,-424311 1.03582e+06,-424743 1.03609e+06,-425175 1.03636e+06,-425608 1.03663e+06,-426041 \n",
       "  1.0369e+06,-426474 1.03717e+06,-426908 1.03744e+06,-427342 1.03771e+06,-427777 1.03798e+06,-428212 1.03825e+06,-428647 1.03852e+06,-429083 1.0388e+06,-429520 1.03907e+06,-429957 1.03934e+06,-430394 \n",
       "  1.03961e+06,-430832 1.03988e+06,-431270 1.04015e+06,-431708 1.04042e+06,-432148 1.04069e+06,-432587 1.04096e+06,-433027 1.04123e+06,-433467 1.0415e+06,-433908 1.04177e+06,-434349 1.04204e+06,-434791 \n",
       "  1.04231e+06,-435233 1.04258e+06,-435676 1.04286e+06,-436119 1.04313e+06,-436562 1.0434e+06,-437006 1.04367e+06,-437451 1.04394e+06,-437895 1.04421e+06,-438341 1.04448e+06,-438786 1.04475e+06,-439232 \n",
       "  1.04502e+06,-439679 1.04529e+06,-440126 1.04556e+06,-440573 1.04583e+06,-441021 1.0461e+06,-441470 1.04637e+06,-441919 1.04664e+06,-442368 1.04691e+06,-442818 1.04719e+06,-443268 1.04746e+06,-443718 \n",
       "  1.04773e+06,-444169 1.048e+06,-444621 1.04827e+06,-445073 1.04854e+06,-445525 1.04881e+06,-445978 1.04908e+06,-446431 1.04935e+06,-446885 1.04962e+06,-447340 1.04989e+06,-447794 1.05016e+06,-448249 \n",
       "  1.05043e+06,-448705 1.0507e+06,-449161 1.05097e+06,-449618 1.05125e+06,-450074 1.05152e+06,-450532 1.05179e+06,-450990 1.05206e+06,-451448 1.05233e+06,-451907 1.0526e+06,-452366 1.05287e+06,-452826 \n",
       "  1.05314e+06,-453286 1.05341e+06,-453747 1.05368e+06,-454208 1.05395e+06,-454669 1.05422e+06,-455131 1.05449e+06,-455594 1.05476e+06,-456057 1.05503e+06,-456520 1.0553e+06,-456984 1.05558e+06,-457448 \n",
       "  1.05585e+06,-457913 1.05612e+06,-458379 1.05639e+06,-458844 1.05666e+06,-459310 1.05693e+06,-459777 1.0572e+06,-460244 1.05747e+06,-460712 1.05774e+06,-461180 1.05801e+06,-461648 1.05828e+06,-462117 \n",
       "  1.05855e+06,-462587 1.05882e+06,-463057 1.05909e+06,-463527 1.05936e+06,-463998 1.05964e+06,-464470 1.05991e+06,-464941 1.06018e+06,-465414 1.06045e+06,-465886 1.06072e+06,-466360 1.06099e+06,-466833 \n",
       "  1.06126e+06,-467308 1.06153e+06,-467782 1.0618e+06,-468257 1.06207e+06,-468733 1.06234e+06,-469209 1.06261e+06,-469686 1.06288e+06,-470163 1.06315e+06,-470640 1.06342e+06,-471118 1.06369e+06,-471597 \n",
       "  1.06397e+06,-472076 1.06424e+06,-472555 1.06451e+06,-473035 1.06478e+06,-473515 1.06505e+06,-473996 1.06532e+06,-474478 1.06559e+06,-474960 1.06586e+06,-475442 1.06613e+06,-475925 1.0664e+06,-476408 \n",
       "  1.06667e+06,-476892 1.06694e+06,-477376 1.06721e+06,-477861 1.06748e+06,-478346 1.06775e+06,-478832 1.06803e+06,-479318 1.0683e+06,-479805 1.06857e+06,-480292 1.06884e+06,-480779 1.06911e+06,-481268 \n",
       "  1.06938e+06,-481756 1.06965e+06,-482245 1.06992e+06,-482735 1.07019e+06,-483225 1.07046e+06,-483716 1.07073e+06,-484207 1.071e+06,-484698 1.07127e+06,-485190 1.07154e+06,-485683 1.07181e+06,-486176 \n",
       "  1.07208e+06,-486669 1.07236e+06,-487163 1.07263e+06,-487658 1.0729e+06,-488153 1.07317e+06,-488649 1.07344e+06,-489145 1.07371e+06,-489641 1.07398e+06,-490138 1.07425e+06,-490636 1.07452e+06,-491134 \n",
       "  1.07479e+06,-491632 1.07506e+06,-492131 1.07533e+06,-492631 1.0756e+06,-493131 1.07587e+06,-493631 1.07614e+06,-494132 1.07642e+06,-494634 1.07669e+06,-495136 1.07696e+06,-495638 1.07723e+06,-496141 \n",
       "  1.0775e+06,-496645 1.07777e+06,-497149 1.07804e+06,-497653 1.07831e+06,-498158 1.07858e+06,-498664 1.07885e+06,-499170 1.07912e+06,-499676 1.07939e+06,-500183 1.07966e+06,-500691 1.07993e+06,-501199 \n",
       "  1.0802e+06,-501708 1.08047e+06,-502217 1.08075e+06,-502726 1.08102e+06,-503236 1.08129e+06,-503747 1.08156e+06,-504258 1.08183e+06,-504770 1.0821e+06,-505282 1.08237e+06,-505795 1.08264e+06,-506308 \n",
       "  1.08291e+06,-506821 1.08318e+06,-507336 1.08345e+06,-507850 1.08372e+06,-508366 1.08399e+06,-508881 1.08426e+06,-509398 1.08453e+06,-509914 1.08481e+06,-510432 1.08508e+06,-510950 1.08535e+06,-511468 \n",
       "  1.08562e+06,-511987 1.08589e+06,-512506 1.08616e+06,-513026 1.08643e+06,-513546 1.0867e+06,-514067 1.08697e+06,-514589 1.08724e+06,-515111 1.08751e+06,-515633 1.08778e+06,-516156 1.08805e+06,-516680 \n",
       "  1.08832e+06,-517204 1.08859e+06,-517728 1.08886e+06,-518254 1.08914e+06,-518779 1.08941e+06,-519305 1.08968e+06,-519832 1.08995e+06,-520359 1.09022e+06,-520887 1.09049e+06,-521415 1.09076e+06,-521944 \n",
       "  1.09103e+06,-522473 1.0913e+06,-523003 1.09157e+06,-523534 1.09184e+06,-524065 1.09211e+06,-524596 1.09238e+06,-525128 1.09265e+06,-525661 1.09292e+06,-526194 1.0932e+06,-526727 1.09347e+06,-527261 \n",
       "  1.09374e+06,-527796 1.09401e+06,-528331 1.09428e+06,-528867 1.09455e+06,-529403 1.09482e+06,-529940 1.09509e+06,-530477 1.09536e+06,-531015 1.09563e+06,-531553 1.0959e+06,-532092 1.09617e+06,-532632 \n",
       "  1.09644e+06,-533172 1.09671e+06,-533713 1.09698e+06,-534254 1.09725e+06,-534795 1.09753e+06,-535337 1.0978e+06,-535880 1.09807e+06,-536423 1.09834e+06,-536967 1.09861e+06,-537512 1.09888e+06,-538057 \n",
       "  1.09915e+06,-538602 1.09942e+06,-539148 1.09969e+06,-539695 1.09996e+06,-540242 1.10023e+06,-540789 1.1005e+06,-541337 1.10077e+06,-541886 1.10104e+06,-542435 1.10131e+06,-542985 1.10159e+06,-543536 \n",
       "  1.10186e+06,-544087 1.10213e+06,-544638 1.1024e+06,-545190 1.10267e+06,-545743 1.10294e+06,-546296 1.10321e+06,-546850 1.10348e+06,-547404 1.10375e+06,-547959 1.10402e+06,-548514 1.10429e+06,-549070 \n",
       "  1.10456e+06,-549626 1.10483e+06,-550183 1.1051e+06,-550741 1.10537e+06,-551299 1.10565e+06,-551858 1.10592e+06,-552417 1.10619e+06,-552977 1.10646e+06,-553537 1.10673e+06,-554098 1.107e+06,-554660 \n",
       "  1.10727e+06,-555222 1.10754e+06,-555784 1.10781e+06,-556348 1.10808e+06,-556911 1.10835e+06,-557476 1.10862e+06,-558041 1.10889e+06,-558606 1.10916e+06,-559172 1.10943e+06,-559739 1.1097e+06,-560306 \n",
       "  1.10998e+06,-560873 1.11025e+06,-561442 1.11052e+06,-562011 1.11079e+06,-562580 1.11106e+06,-563150 1.11133e+06,-563721 1.1116e+06,-564292 1.11187e+06,-564863 1.11214e+06,-565436 1.11241e+06,-566008 \n",
       "  1.11268e+06,-566582 1.11295e+06,-567156 1.11322e+06,-567730 1.11349e+06,-568306 1.11376e+06,-568881 1.11404e+06,-569458 1.11431e+06,-570034 1.11458e+06,-570612 1.11485e+06,-571190 1.11512e+06,-571769 \n",
       "  1.11539e+06,-572348 1.11566e+06,-572927 1.11593e+06,-573508 1.1162e+06,-574089 1.11647e+06,-574670 1.11674e+06,-575252 1.11701e+06,-575835 1.11728e+06,-576418 1.11755e+06,-577002 1.11782e+06,-577586 \n",
       "  1.11809e+06,-578171 1.11837e+06,-578757 1.11864e+06,-579343 1.11891e+06,-579930 1.11918e+06,-580517 1.11945e+06,-581105 1.11972e+06,-581694 1.11999e+06,-582283 1.12026e+06,-582873 1.12053e+06,-583463 \n",
       "  1.1208e+06,-584054 1.12107e+06,-584645 1.12134e+06,-585237 1.12161e+06,-585830 1.12188e+06,-586423 1.12215e+06,-587017 1.12243e+06,-587611 1.1227e+06,-588207 1.12297e+06,-588802 1.12324e+06,-589398 \n",
       "  1.12351e+06,-589995 1.12378e+06,-590593 1.12405e+06,-591191 1.12432e+06,-591789 1.12459e+06,-592388 1.12486e+06,-592988 1.12513e+06,-593589 1.1254e+06,-594190 1.12567e+06,-594791 1.12594e+06,-595394 \n",
       "  1.12621e+06,-595996 1.12648e+06,-596600 1.12676e+06,-597204 1.12703e+06,-597808 1.1273e+06,-598414 1.12757e+06,-599019 1.12784e+06,-599626 1.12811e+06,-600233 1.12838e+06,-600841 1.12865e+06,-601449 \n",
       "  1.12892e+06,-602058 1.12919e+06,-602667 1.12946e+06,-603277 1.12973e+06,-603888 1.13e+06,-604499 1.13027e+06,-605111 1.13054e+06,-605724 1.13082e+06,-606337 1.13109e+06,-606951 1.13136e+06,-607565 \n",
       "  1.13163e+06,-608180 1.1319e+06,-608796 1.13217e+06,-609412 1.13244e+06,-610029 1.13271e+06,-610646 1.13298e+06,-611264 1.13325e+06,-611883 1.13352e+06,-612502 1.13379e+06,-613122 1.13406e+06,-613743 \n",
       "  1.13433e+06,-614364 1.1346e+06,-614986 1.13487e+06,-615608 1.13515e+06,-616231 1.13542e+06,-616855 1.13569e+06,-617479 1.13596e+06,-618104 1.13623e+06,-618730 1.1365e+06,-619356 1.13677e+06,-619983 \n",
       "  1.13704e+06,-620610 1.13731e+06,-621238 1.13758e+06,-621867 1.13785e+06,-622496 1.13812e+06,-623126 1.13839e+06,-623757 1.13866e+06,-624388 1.13893e+06,-625020 1.13921e+06,-625652 1.13948e+06,-626285 \n",
       "  1.13975e+06,-626919 1.14002e+06,-627553 1.14029e+06,-628188 1.14056e+06,-628824 1.14083e+06,-629460 1.1411e+06,-630097 1.14137e+06,-630735 1.14164e+06,-631373 1.14191e+06,-632012 1.14218e+06,-632651 \n",
       "  1.14245e+06,-633291 1.14272e+06,-633932 1.14299e+06,-634573 1.14326e+06,-635215 1.14354e+06,-635858 1.14381e+06,-636501 1.14408e+06,-637145 1.14435e+06,-637790 1.14462e+06,-638435 1.14489e+06,-639081 \n",
       "  1.14516e+06,-639727 1.14543e+06,-640375 1.1457e+06,-641022 1.14597e+06,-641671 1.14624e+06,-642320 1.14651e+06,-642970 1.14678e+06,-643620 1.14705e+06,-644271 1.14732e+06,-644923 1.1476e+06,-645575 \n",
       "  1.14787e+06,-646228 1.14814e+06,-646882 1.14841e+06,-647536 1.14868e+06,-648191 1.14895e+06,-648847 1.14922e+06,-649503 1.14949e+06,-650160 1.14976e+06,-650818 1.15003e+06,-651476 1.1503e+06,-652135 \n",
       "  1.15057e+06,-652795 1.15084e+06,-653455 1.15111e+06,-654116 1.15138e+06,-654777 1.15165e+06,-655440 1.15193e+06,-656102 1.1522e+06,-656766 1.15247e+06,-657430 1.15274e+06,-658095 1.15301e+06,-658761 \n",
       "  1.15328e+06,-659427 1.15355e+06,-660094 1.15382e+06,-660761 1.15409e+06,-661430 1.15436e+06,-662098 1.15463e+06,-662768 1.1549e+06,-663438 1.15517e+06,-664109 1.15544e+06,-664781 1.15571e+06,-665453 \n",
       "  1.15599e+06,-666126 1.15626e+06,-666799 1.15653e+06,-667474 1.1568e+06,-668149 1.15707e+06,-668824 1.15734e+06,-669500 1.15761e+06,-670177 1.15788e+06,-670855 1.15815e+06,-671533 1.15842e+06,-672212 \n",
       "  1.15869e+06,-672892 1.15896e+06,-673572 1.15923e+06,-674253 1.1595e+06,-674935 1.15977e+06,-675618 1.16004e+06,-676301 1.16032e+06,-676984 1.16059e+06,-677669 1.16086e+06,-678354 1.16113e+06,-679040 \n",
       "  1.1614e+06,-679726 1.16167e+06,-680414 1.16194e+06,-681101 1.16221e+06,-681790 1.16248e+06,-682479 1.16275e+06,-683169 1.16302e+06,-683860 1.16329e+06,-684551 1.16356e+06,-685243 1.16383e+06,-685936 \n",
       "  1.1641e+06,-686629 1.16438e+06,-687323 1.16465e+06,-688018 1.16492e+06,-688714 1.16519e+06,-689410 1.16546e+06,-690107 1.16573e+06,-690804 1.166e+06,-691503 1.16627e+06,-692202 1.16654e+06,-692901 \n",
       "  1.16681e+06,-693602 1.16708e+06,-694303 1.16735e+06,-695004 1.16762e+06,-695707 1.16789e+06,-696410 1.16816e+06,-697114 1.16843e+06,-697819 1.16871e+06,-698524 1.16898e+06,-699230 1.16925e+06,-699937 \n",
       "  1.16952e+06,-700644 1.16979e+06,-701352 1.17006e+06,-702061 1.17033e+06,-702770 1.1706e+06,-703481 1.17087e+06,-704192 1.17114e+06,-704903 1.17141e+06,-705616 1.17168e+06,-706329 1.17195e+06,-707043 \n",
       "  1.17222e+06,-707757 1.17249e+06,-708472 1.17277e+06,-709188 1.17304e+06,-709905 1.17331e+06,-710622 1.17358e+06,-711341 1.17385e+06,-712059 1.17412e+06,-712779 1.17439e+06,-713499 1.17466e+06,-714220 \n",
       "  1.17493e+06,-714942 1.1752e+06,-715664 1.17547e+06,-716387 1.17574e+06,-717111 1.17601e+06,-717836 1.17628e+06,-718561 1.17655e+06,-719287 1.17682e+06,-720014 1.1771e+06,-720741 1.17737e+06,-721470 \n",
       "  1.17764e+06,-722199 1.17791e+06,-722928 1.17818e+06,-723659 1.17845e+06,-724390 1.17872e+06,-725122 1.17899e+06,-725854 1.17926e+06,-726588 1.17953e+06,-727322 1.1798e+06,-728057 1.18007e+06,-728792 \n",
       "  1.18034e+06,-729528 1.18061e+06,-730265 1.18088e+06,-731003 1.18116e+06,-731742 1.18143e+06,-732481 1.1817e+06,-733221 1.18197e+06,-733962 1.18224e+06,-734703 1.18251e+06,-735445 1.18278e+06,-736188 \n",
       "  1.18305e+06,-736932 1.18332e+06,-737676 1.18359e+06,-738422 1.18386e+06,-739167 1.18413e+06,-739914 1.1844e+06,-740662 1.18467e+06,-741410 1.18494e+06,-742159 1.18522e+06,-742908 1.18549e+06,-743659 \n",
       "  1.18576e+06,-744410 1.18603e+06,-745162 1.1863e+06,-745914 1.18657e+06,-746668 1.18684e+06,-747422 1.18711e+06,-748177 1.18738e+06,-748933 1.18765e+06,-749689 1.18792e+06,-750446 1.18819e+06,-751204 \n",
       "  1.18846e+06,-751963 1.18873e+06,-752722 1.189e+06,-753483 1.18927e+06,-754244 1.18955e+06,-755005 1.18982e+06,-755768 1.19009e+06,-756531 1.19036e+06,-757295 1.19063e+06,-758060 1.1909e+06,-758825 \n",
       "  1.19117e+06,-759592 1.19144e+06,-760359 1.19171e+06,-761127 1.19198e+06,-761895 1.19225e+06,-762665 1.19252e+06,-763435 1.19279e+06,-764206 1.19306e+06,-764978 1.19333e+06,-765750 1.19361e+06,-766523 \n",
       "  1.19388e+06,-767297 1.19415e+06,-768072 1.19442e+06,-768848 1.19469e+06,-769624 1.19496e+06,-770401 1.19523e+06,-771179 1.1955e+06,-771958 1.19577e+06,-772737 1.19604e+06,-773518 1.19631e+06,-774299 \n",
       "  1.19658e+06,-775080 1.19685e+06,-775863 1.19712e+06,-776646 1.19739e+06,-777431 1.19766e+06,-778215 1.19794e+06,-779001 1.19821e+06,-779788 1.19848e+06,-780575 1.19875e+06,-781363 1.19902e+06,-782152 \n",
       "  1.19929e+06,-782942 1.19956e+06,-783732 1.19983e+06,-784523 1.2001e+06,-785315 1.20037e+06,-786108 1.20064e+06,-786902 1.20091e+06,-787696 1.20118e+06,-788492 1.20145e+06,-789288 1.20172e+06,-790084 \n",
       "  1.202e+06,-790882 1.20227e+06,-791680 1.20254e+06,-792480 1.20281e+06,-793280 1.20308e+06,-794080 1.20335e+06,-794882 1.20362e+06,-795684 1.20389e+06,-796488 1.20416e+06,-797292 1.20443e+06,-798096 \n",
       "  1.2047e+06,-798902 1.20497e+06,-799708 1.20524e+06,-800516 1.20551e+06,-801324 1.20578e+06,-802133 1.20605e+06,-802942 1.20633e+06,-803753 1.2066e+06,-804564 1.20687e+06,-805376 1.20714e+06,-806189 \n",
       "  1.20741e+06,-807003 1.20768e+06,-807817 1.20795e+06,-808633 1.20822e+06,-809449 1.20849e+06,-810266 1.20876e+06,-811084 1.20903e+06,-811902 1.2093e+06,-812722 1.20957e+06,-813542 1.20984e+06,-814363 \n",
       "  1.21011e+06,-815185 1.21039e+06,-816008 1.21066e+06,-816831 1.21093e+06,-817655 1.2112e+06,-818481 1.21147e+06,-819307 1.21174e+06,-820133 1.21201e+06,-820961 1.21228e+06,-821790 1.21255e+06,-822619 \n",
       "  1.21282e+06,-823449 1.21309e+06,-824280 1.21336e+06,-825112 1.21363e+06,-825945 1.2139e+06,-826778 1.21417e+06,-827612 1.21444e+06,-828448 1.21472e+06,-829284 1.21499e+06,-830120 1.21526e+06,-830958 \n",
       "  1.21553e+06,-831797 1.2158e+06,-832636 1.21607e+06,-833476 1.21634e+06,-834317 1.21661e+06,-835159 1.21688e+06,-836002 1.21715e+06,-836845 1.21742e+06,-837690 1.21769e+06,-838535 1.21796e+06,-839381 \n",
       "  1.21823e+06,-840228 \n",
       "  \"/>\n",
       "<circle clip-path=\"url(#clip02)\" style=\"fill:#00002d; stroke:none; fill-opacity:1\" cx=\"325.417\" cy=\"196.528\" r=\"3\"/>\n",
       "<circle clip-path=\"url(#clip02)\" style=\"fill:#e9746a; stroke:none; fill-opacity:1\" cx=\"325.417\" cy=\"196.528\" r=\"2\"/>\n",
       "<polygon clip-path=\"url(#clip00)\" points=\"\n",
       "506.119,89.6215 578.063,89.6215 578.063,44.2615 506.119,44.2615 \n",
       "  \" fill=\"#ffffff\" fill-opacity=\"1\"/>\n",
       "<polyline clip-path=\"url(#clip00)\" style=\"stroke:#00002d; stroke-width:0.8; stroke-opacity:1; fill:none\" points=\"\n",
       "  506.119,89.6215 578.063,89.6215 578.063,44.2615 506.119,44.2615 506.119,89.6215 \n",
       "  \"/>\n",
       "<polyline clip-path=\"url(#clip00)\" style=\"stroke:#0099ff; stroke-width:0.8; stroke-opacity:1; fill:none\" points=\"\n",
       "  512.119,59.3815 548.119,59.3815 \n",
       "  \"/>\n",
       "<g clip-path=\"url(#clip00)\">\n",
       "<text style=\"fill:#00002d; fill-opacity:1; font-family:Arial,Helvetica Neue,Helvetica,sans-serif; font-size:12; text-anchor:start;\" transform=\"rotate(0, 554.119, 65.3134)\" x=\"554.119\" y=\"65.3134\">e</text>\n",
       "</g>\n",
       "<g clip-path=\"url(#clip00)\">\n",
       "<text style=\"fill:#00002d; fill-opacity:1; font-family:Arial,Helvetica Neue,Helvetica,sans-serif; font-size:10; text-anchor:start;\" transform=\"rotate(0, 560.709, 58.4608)\" x=\"560.709\" y=\"58.4608\">x</text>\n",
       "</g>\n",
       "<circle clip-path=\"url(#clip00)\" style=\"fill:#00002d; stroke:none; fill-opacity:1\" cx=\"518.119\" cy=\"74.5015\" r=\"7\"/>\n",
       "<circle clip-path=\"url(#clip00)\" style=\"fill:#e9746a; stroke:none; fill-opacity:1\" cx=\"518.119\" cy=\"74.5015\" r=\"7\"/>\n",
       "<circle clip-path=\"url(#clip00)\" style=\"fill:#00002d; stroke:none; fill-opacity:1\" cx=\"542.119\" cy=\"74.5015\" r=\"7\"/>\n",
       "<circle clip-path=\"url(#clip00)\" style=\"fill:#e9746a; stroke:none; fill-opacity:1\" cx=\"542.119\" cy=\"74.5015\" r=\"7\"/>\n",
       "<g clip-path=\"url(#clip00)\">\n",
       "<text style=\"fill:#00002d; fill-opacity:1; font-family:Arial,Helvetica Neue,Helvetica,sans-serif; font-size:12; text-anchor:start;\" transform=\"rotate(0, 554.119, 76.4779)\" x=\"554.119\" y=\"76.4779\">n</text>\n",
       "</g>\n",
       "<g clip-path=\"url(#clip00)\">\n",
       "<text style=\"fill:#00002d; fill-opacity:1; font-family:Arial,Helvetica Neue,Helvetica,sans-serif; font-size:10; text-anchor:start;\" transform=\"rotate(0, 560.709, 79.8853)\" x=\"560.709\" y=\"79.8853\">1</text>\n",
       "</g>\n",
       "</svg>\n"
      ]
     },
     "execution_count": 22,
     "metadata": {
      "comm_id": "61efc51a-1d4f-4384-ae74-96da98c55101",
      "reactive": true
     },
     "output_type": "execute_result"
    }
   ],
   "source": [
    "@manipulate for i in slider(1:20, value=1, label=\"n\"), x in [1.,5.]\n",
    "graficar_exp(x,i)\n",
    "end"
   ]
  },
  {
   "cell_type": "markdown",
   "metadata": {},
   "source": [
    "Para $e^1$ se necesitan más de 6 iteraciones para obtener un resultado bastante cercano al valor de exp(1), en cambio para exp(5) se necesitan más de 17 iteraciones, que es cuando los puntos en la gráfica se comienzan a encimar encima de los anteriores."
   ]
  },
  {
   "cell_type": "markdown",
   "metadata": {},
   "source": [
    "\n",
    "(ii) Escribe una función que calcula la función exponencial que va variando $n$ *hasta que* la diferencia entre $p_{n-1}(x)$ y $p_n(x)$ sea menor que una tolerancia (la cual también es argumento de la función). ¿Concuerda con tu observación de la pregunta (i)?"
   ]
  },
  {
   "cell_type": "code",
   "execution_count": 23,
   "metadata": {
    "collapsed": false
   },
   "outputs": [
    {
     "data": {
      "text/plain": [
       "aproximar_tol (generic function with 3 methods)"
      ]
     },
     "execution_count": 23,
     "metadata": {},
     "output_type": "execute_result"
    }
   ],
   "source": [
    "function aproximar_tol(x::Float64 = 1.0,tolerancia:: Real = 1e-3)\n",
    "    i = 0\n",
    "    dif = 1.0\n",
    "   while i < 100 && dif > tolerancia\n",
    "        i += 1\n",
    "        dif = abs(exp_taylor(i,x) - exp_taylor(i-1,x))\n",
    "    end\n",
    "    return i, exp_taylor(i,x)\n",
    "end"
   ]
  },
  {
   "cell_type": "code",
   "execution_count": 24,
   "metadata": {
    "collapsed": false
   },
   "outputs": [
    {
     "data": {
      "text/plain": [
       "(7,2.7182539682539684)"
      ]
     },
     "execution_count": 24,
     "metadata": {},
     "output_type": "execute_result"
    }
   ],
   "source": [
    "aproximar_tol(1.0)"
   ]
  },
  {
   "cell_type": "code",
   "execution_count": 25,
   "metadata": {
    "collapsed": false
   },
   "outputs": [
    {
     "data": {
      "text/plain": [
       "(18,148.41295107216433)"
      ]
     },
     "execution_count": 25,
     "metadata": {},
     "output_type": "execute_result"
    }
   ],
   "source": [
    "aproximar_tol(5.0)"
   ]
  },
  {
   "cell_type": "markdown",
   "metadata": {},
   "source": [
    "Obviamente gráficamente no podemos ver con demasiada precisión, nuestras observaciones de (i) coinciden con esta función si la tolerancia es 1e-3, al aumentar la tolerancia deja de coincidir y es necesario hacer más iteraciones."
   ]
  },
  {
   "cell_type": "code",
   "execution_count": 26,
   "metadata": {
    "collapsed": false
   },
   "outputs": [
    {
     "data": {
      "text/plain": [
       "(9,2.7182815255731922)"
      ]
     },
     "execution_count": 26,
     "metadata": {},
     "output_type": "execute_result"
    }
   ],
   "source": [
    "aproximar_tol(1.0, 1e-5)"
   ]
  },
  {
   "cell_type": "markdown",
   "metadata": {},
   "source": [
    "[8] Lo que acabamos de hacer es muy ineficiente -- ¿por qué?"
   ]
  },
  {
   "cell_type": "markdown",
   "metadata": {},
   "source": [
    "Porque estamos evaluando el polinomio para cada i dos veces, lo cuál es mucho cálculo innecesario en cada iteración."
   ]
  },
  {
   "cell_type": "markdown",
   "metadata": {},
   "source": [
    "Una mejor manera de hacerlo es parecido al método de Horner: vamos guardando el valor actual del $i$-ésimo término y lo actualizamos durante el cálculo.\n",
    "\n",
    "(i) Implementa la función exponencial así, hasta que el tamaño del nuevo término sea menor que cierta tolerancia. Verifica que funciona."
   ]
  },
  {
   "cell_type": "code",
   "execution_count": 27,
   "metadata": {
    "collapsed": false
   },
   "outputs": [
    {
     "data": {
      "text/plain": [
       "aproximar_tol2 (generic function with 3 methods)"
      ]
     },
     "execution_count": 27,
     "metadata": {},
     "output_type": "execute_result"
    }
   ],
   "source": [
    "function aproximar_tol2(x::Float64 = 1.0, tolerancia::Real = 1e-3)\n",
    "    sum_e = 0.0\n",
    "    nuevo = 1.0\n",
    "    i = 0\n",
    "    while i < 100 && x^i/factorial(i) > tolerancia\n",
    "        sum_e += x^i/factorial(i)\n",
    "        i += 1\n",
    "    end\n",
    "    \n",
    "   return i, sum_e\n",
    "end"
   ]
  },
  {
   "cell_type": "code",
   "execution_count": 28,
   "metadata": {
    "collapsed": false
   },
   "outputs": [
    {
     "data": {
      "text/plain": [
       "(20,148.4131078683383)"
      ]
     },
     "execution_count": 28,
     "metadata": {},
     "output_type": "execute_result"
    }
   ],
   "source": [
    "aproximar_tol2(5.,1e-4)"
   ]
  },
  {
   "cell_type": "code",
   "execution_count": 29,
   "metadata": {
    "collapsed": false
   },
   "outputs": [
    {
     "data": {
      "text/plain": [
       "BenchmarkTools.Trial: \n",
       "  memory estimate:  3.88 KiB\n",
       "  allocs estimate:  54\n",
       "  --------------\n",
       "  minimum time:     1.963 μs (0.00% GC)\n",
       "  median time:      2.158 μs (0.00% GC)\n",
       "  mean time:        2.627 μs (15.09% GC)\n",
       "  maximum time:     243.768 μs (97.59% GC)\n",
       "  --------------\n",
       "  samples:          10000\n",
       "  evals/sample:     10\n",
       "  time tolerance:   5.00%\n",
       "  memory tolerance: 1.00%"
      ]
     },
     "execution_count": 29,
     "metadata": {},
     "output_type": "execute_result"
    }
   ],
   "source": [
    "@benchmark aproximar_tol($1.0, $1e-5)"
   ]
  },
  {
   "cell_type": "code",
   "execution_count": 30,
   "metadata": {
    "collapsed": false
   },
   "outputs": [
    {
     "data": {
      "text/plain": [
       "BenchmarkTools.Trial: \n",
       "  memory estimate:  0 bytes\n",
       "  allocs estimate:  0\n",
       "  --------------\n",
       "  minimum time:     83.612 ns (0.00% GC)\n",
       "  median time:      86.161 ns (0.00% GC)\n",
       "  mean time:        88.008 ns (0.00% GC)\n",
       "  maximum time:     151.443 ns (0.00% GC)\n",
       "  --------------\n",
       "  samples:          10000\n",
       "  evals/sample:     960\n",
       "  time tolerance:   5.00%\n",
       "  memory tolerance: 1.00%"
      ]
     },
     "execution_count": 30,
     "metadata": {},
     "output_type": "execute_result"
    }
   ],
   "source": [
    "@benchmark aproximar_tol2($1.0, $1e-5)"
   ]
  },
  {
   "cell_type": "markdown",
   "metadata": {},
   "source": [
    "Es muchísimo más eficiente, no gasta memoria. Sin embargo ambas funciones fallan para tolerancias más grandes, habría que corregirlo con big()."
   ]
  },
  {
   "cell_type": "markdown",
   "metadata": {},
   "source": [
    "[9] La función exponencial también sirve para números complejos. En Julia, $i$, la raíz cuadrada de $-1$, se escribe como `im`.\n",
    "\n",
    "(i) Utiliza esto para escribir una función `mi_sin(x)` para calcular $\\sin(x)$."
   ]
  },
  {
   "cell_type": "code",
   "execution_count": 31,
   "metadata": {
    "collapsed": false
   },
   "outputs": [
    {
     "data": {
      "text/plain": [
       "mi_sin (generic function with 1 method)"
      ]
     },
     "execution_count": 31,
     "metadata": {},
     "output_type": "execute_result"
    }
   ],
   "source": [
    "function mi_sin(x)\n",
    "    seno = imag(exp(im*x))\n",
    "    return seno\n",
    "end"
   ]
  },
  {
   "cell_type": "code",
   "execution_count": 32,
   "metadata": {
    "collapsed": false
   },
   "outputs": [
    {
     "data": {
      "text/plain": [
       "1.0"
      ]
     },
     "execution_count": 32,
     "metadata": {},
     "output_type": "execute_result"
    }
   ],
   "source": [
    "mi_sin(pi/2)"
   ]
  },
  {
   "cell_type": "markdown",
   "metadata": {},
   "source": [
    "[10] Aunque estamos llevando a cabo cálculos con números de punto flotante, podemos lograr ciertas **garantías** sobre los resultados.\n",
    "\n",
    "(i) Escribe el teorema de Taylor con la forma del término complementario de Lagrange para un polinomio de Taylor $p_2(x)$ de grado 2, con término complementario de orden 3."
   ]
  },
  {
   "cell_type": "markdown",
   "metadata": {
    "collapsed": true
   },
   "source": [
    "Teorema: $f(x)$ se puede descomponer como: \n",
    "$$ f(x) = f^{(0)}(x_0)+ f'(x_0)x + \\frac{f''(x_0)x^2}{2} + \\mathcal{O}(x^3) $$\n",
    "\n",
    "donde los términos de órden mayores a 3 están acotados por:\n",
    "\n",
    "$$ R_n = \\frac{f^{(n+1)}(x^*))}{(n+1)!}(x-x_0)^{n+1} $$ .\n",
    "\n",
    "http://mathworld.wolfram.com/LagrangeRemainder.html"
   ]
  },
  {
   "cell_type": "markdown",
   "metadata": {},
   "source": [
    "(ii) Considera la función $\\exp$ en el rango $I = [-\\frac{1}{2}, \\frac{1}{2}]$. Encuentra una cota superior, $d$, para el término complementario en $I$. [Pista: Cuál es el valor máximo del término complementario sobre todo el intervalo?] "
   ]
  },
  {
   "cell_type": "markdown",
   "metadata": {
    "collapsed": true
   },
   "source": [
    "La función alcanzará su máximo en $x^*=\\frac{1}{2}$. Entonces evaluemos $R_n$:"
   ]
  },
  {
   "cell_type": "code",
   "execution_count": 33,
   "metadata": {
    "collapsed": false
   },
   "outputs": [
    {
     "data": {
      "text/plain": [
       "0.03434835980625267"
      ]
     },
     "execution_count": 33,
     "metadata": {},
     "output_type": "execute_result"
    }
   ],
   "source": [
    "Rn = exp(0.5)/factorial(3) * (0.5)^3"
   ]
  },
  {
   "cell_type": "markdown",
   "metadata": {},
   "source": [
    "(iii) Dibuja un \"tubo\" entre $p_2(x) - d$ y $p_2(x) + d$. Esto representa una región en la cual, de forma **garantizada**, cae $\\exp$ dentro del intervalo $I$. Dibuja $\\exp$ encima.\n",
    "\n",
    "[En `Plots.jl`, para rellenar la región entre la función `f` y la función `g`, puedes utilizar `plot(xx, f.(xx), fillrange=g.(xx), alpha=0.3)`, donde `xx` son las coordenadas `xx` de los puntos. Aquí, `alpha` corresponde al grado de transparencia de la región rellenada.]\n",
    "\n",
    "** Opcional: ¿Qué ocurre si haces lo mismo para un grado de polinomio de Taylor superior con su cota correspondiente. Puedes utilizar `@manipulate`."
   ]
  },
  {
   "cell_type": "code",
   "execution_count": 34,
   "metadata": {
    "collapsed": false
   },
   "outputs": [
    {
     "data": {
      "text/html": [
       "<?xml version=\"1.0\" encoding=\"utf-8\"?>\n",
       "<svg xmlns=\"http://www.w3.org/2000/svg\" xmlns:xlink=\"http://www.w3.org/1999/xlink\" width=\"600\" height=\"400\" viewBox=\"0 0 600 400\">\n",
       "<defs>\n",
       "  <clipPath id=\"clip00\">\n",
       "    <rect x=\"0\" y=\"0\" width=\"600\" height=\"400\"/>\n",
       "  </clipPath>\n",
       "</defs>\n",
       "<polygon clip-path=\"url(#clip00)\" points=\"\n",
       "0,400 600,400 600,0 0,0 \n",
       "  \" fill=\"#ffffff\" fill-opacity=\"1\"/>\n",
       "<defs>\n",
       "  <clipPath id=\"clip01\">\n",
       "    <rect x=\"120\" y=\"0\" width=\"421\" height=\"400\"/>\n",
       "  </clipPath>\n",
       "</defs>\n",
       "<polygon clip-path=\"url(#clip00)\" points=\"\n",
       "30.6037,384.952 596.063,384.952 596.063,3.93701 30.6037,3.93701 \n",
       "  \" fill=\"#ffffff\" fill-opacity=\"1\"/>\n",
       "<defs>\n",
       "  <clipPath id=\"clip02\">\n",
       "    <rect x=\"30\" y=\"3\" width=\"566\" height=\"382\"/>\n",
       "  </clipPath>\n",
       "</defs>\n",
       "<polyline clip-path=\"url(#clip02)\" style=\"stroke:#00002d; stroke-width:0.8; stroke-opacity:0.5; fill:none\" stroke-dasharray=\"1, 2\" points=\"\n",
       "  30.6037,379.237 30.6037,9.65223 \n",
       "  \"/>\n",
       "<polyline clip-path=\"url(#clip02)\" style=\"stroke:#00002d; stroke-width:0.8; stroke-opacity:0.5; fill:none\" stroke-dasharray=\"1, 2\" points=\"\n",
       "  171.969,379.237 171.969,9.65223 \n",
       "  \"/>\n",
       "<polyline clip-path=\"url(#clip02)\" style=\"stroke:#00002d; stroke-width:0.8; stroke-opacity:0.5; fill:none\" stroke-dasharray=\"1, 2\" points=\"\n",
       "  313.333,379.237 313.333,9.65223 \n",
       "  \"/>\n",
       "<polyline clip-path=\"url(#clip02)\" style=\"stroke:#00002d; stroke-width:0.8; stroke-opacity:0.5; fill:none\" stroke-dasharray=\"1, 2\" points=\"\n",
       "  454.698,379.237 454.698,9.65223 \n",
       "  \"/>\n",
       "<polyline clip-path=\"url(#clip02)\" style=\"stroke:#00002d; stroke-width:0.8; stroke-opacity:0.5; fill:none\" stroke-dasharray=\"1, 2\" points=\"\n",
       "  596.063,379.237 596.063,9.65223 \n",
       "  \"/>\n",
       "<polyline clip-path=\"url(#clip02)\" style=\"stroke:#00002d; stroke-width:0.8; stroke-opacity:0.5; fill:none\" stroke-dasharray=\"1, 2\" points=\"\n",
       "  39.0856,239.01 587.581,239.01 \n",
       "  \"/>\n",
       "<polyline clip-path=\"url(#clip02)\" style=\"stroke:#00002d; stroke-width:0.8; stroke-opacity:0.5; fill:none\" stroke-dasharray=\"1, 2\" points=\"\n",
       "  39.0856,60.7484 587.581,60.7484 \n",
       "  \"/>\n",
       "<polyline clip-path=\"url(#clip02)\" style=\"stroke:#00002d; stroke-width:0.8; stroke-opacity:1; fill:none\" points=\"\n",
       "  30.6037,384.952 596.063,384.952 \n",
       "  \"/>\n",
       "<polyline clip-path=\"url(#clip02)\" style=\"stroke:#00002d; stroke-width:0.8; stroke-opacity:1; fill:none\" points=\"\n",
       "  30.6037,384.952 30.6037,379.237 \n",
       "  \"/>\n",
       "<polyline clip-path=\"url(#clip02)\" style=\"stroke:#00002d; stroke-width:0.8; stroke-opacity:1; fill:none\" points=\"\n",
       "  171.969,384.952 171.969,379.237 \n",
       "  \"/>\n",
       "<polyline clip-path=\"url(#clip02)\" style=\"stroke:#00002d; stroke-width:0.8; stroke-opacity:1; fill:none\" points=\"\n",
       "  313.333,384.952 313.333,379.237 \n",
       "  \"/>\n",
       "<polyline clip-path=\"url(#clip02)\" style=\"stroke:#00002d; stroke-width:0.8; stroke-opacity:1; fill:none\" points=\"\n",
       "  454.698,384.952 454.698,379.237 \n",
       "  \"/>\n",
       "<polyline clip-path=\"url(#clip02)\" style=\"stroke:#00002d; stroke-width:0.8; stroke-opacity:1; fill:none\" points=\"\n",
       "  596.063,384.952 596.063,379.237 \n",
       "  \"/>\n",
       "<polyline clip-path=\"url(#clip02)\" style=\"stroke:#00002d; stroke-width:0.8; stroke-opacity:1; fill:none\" points=\"\n",
       "  30.6037,384.952 30.6037,3.93701 \n",
       "  \"/>\n",
       "<polyline clip-path=\"url(#clip02)\" style=\"stroke:#00002d; stroke-width:0.8; stroke-opacity:1; fill:none\" points=\"\n",
       "  30.6037,239.01 39.0856,239.01 \n",
       "  \"/>\n",
       "<polyline clip-path=\"url(#clip02)\" style=\"stroke:#00002d; stroke-width:0.8; stroke-opacity:1; fill:none\" points=\"\n",
       "  30.6037,60.7484 39.0856,60.7484 \n",
       "  \"/>\n",
       "<g clip-path=\"url(#clip00)\">\n",
       "<text style=\"fill:#00002d; fill-opacity:1; font-family:Arial,Helvetica Neue,Helvetica,sans-serif; font-size:12; text-anchor:middle;\" transform=\"rotate(0, 30.6037, 396.952)\" x=\"30.6037\" y=\"396.952\">-0.50</text>\n",
       "</g>\n",
       "<g clip-path=\"url(#clip00)\">\n",
       "<text style=\"fill:#00002d; fill-opacity:1; font-family:Arial,Helvetica Neue,Helvetica,sans-serif; font-size:12; text-anchor:middle;\" transform=\"rotate(0, 171.969, 396.952)\" x=\"171.969\" y=\"396.952\">-0.25</text>\n",
       "</g>\n",
       "<g clip-path=\"url(#clip00)\">\n",
       "<text style=\"fill:#00002d; fill-opacity:1; font-family:Arial,Helvetica Neue,Helvetica,sans-serif; font-size:12; text-anchor:middle;\" transform=\"rotate(0, 313.333, 396.952)\" x=\"313.333\" y=\"396.952\">0.00</text>\n",
       "</g>\n",
       "<g clip-path=\"url(#clip00)\">\n",
       "<text style=\"fill:#00002d; fill-opacity:1; font-family:Arial,Helvetica Neue,Helvetica,sans-serif; font-size:12; text-anchor:middle;\" transform=\"rotate(0, 454.698, 396.952)\" x=\"454.698\" y=\"396.952\">0.25</text>\n",
       "</g>\n",
       "<g clip-path=\"url(#clip00)\">\n",
       "<text style=\"fill:#00002d; fill-opacity:1; font-family:Arial,Helvetica Neue,Helvetica,sans-serif; font-size:12; text-anchor:middle;\" transform=\"rotate(0, 596.063, 396.952)\" x=\"596.063\" y=\"396.952\">0.50</text>\n",
       "</g>\n",
       "<g clip-path=\"url(#clip00)\">\n",
       "<text style=\"fill:#00002d; fill-opacity:1; font-family:Arial,Helvetica Neue,Helvetica,sans-serif; font-size:12; text-anchor:end;\" transform=\"rotate(0, 29.4037, 243.51)\" x=\"29.4037\" y=\"243.51\">1.0</text>\n",
       "</g>\n",
       "<g clip-path=\"url(#clip00)\">\n",
       "<text style=\"fill:#00002d; fill-opacity:1; font-family:Arial,Helvetica Neue,Helvetica,sans-serif; font-size:12; text-anchor:end;\" transform=\"rotate(0, 29.4037, 65.2484)\" x=\"29.4037\" y=\"65.2484\">1.5</text>\n",
       "</g>\n",
       "<polyline clip-path=\"url(#clip02)\" style=\"stroke:#0099ff; stroke-width:0.8; stroke-opacity:1; fill:none\" points=\"\n",
       "  30.6037,379.291 36.2583,377.117 41.9129,374.922 47.5675,372.705 53.222,370.466 58.8766,368.204 64.5312,365.919 70.1858,363.611 75.8404,361.28 81.495,358.926 \n",
       "  87.1496,356.548 92.8042,354.146 98.4588,351.72 104.113,349.27 109.768,346.795 115.423,344.295 121.077,341.77 126.732,339.22 132.386,336.644 138.041,334.042 \n",
       "  143.696,331.414 149.35,328.76 155.005,326.079 160.659,323.37 166.314,320.635 171.969,317.872 177.623,315.082 183.278,312.263 188.932,309.416 194.587,306.541 \n",
       "  200.241,303.636 205.896,300.703 211.551,297.74 217.205,294.747 222.86,291.724 228.514,288.671 234.169,285.587 239.824,282.472 245.478,279.325 251.133,276.147 \n",
       "  256.787,272.937 262.442,269.695 268.097,266.421 273.751,263.113 279.406,259.772 285.06,256.398 290.715,252.989 296.37,249.547 302.024,246.069 307.679,242.557 \n",
       "  313.333,239.01 318.988,235.427 324.643,231.808 330.297,228.152 335.952,224.46 341.606,220.73 347.261,216.964 352.915,213.159 358.57,209.316 364.225,205.435 \n",
       "  369.879,201.514 375.534,197.554 381.188,193.554 386.843,189.514 392.498,185.434 398.152,181.312 403.807,177.149 409.461,172.944 415.116,168.697 420.771,164.408 \n",
       "  426.425,160.075 432.08,155.698 437.734,151.278 443.389,146.813 449.044,142.303 454.698,137.748 460.353,133.147 466.007,128.5 471.662,123.807 477.317,119.066 \n",
       "  482.971,114.277 488.626,109.44 494.28,104.555 499.935,99.6207 505.59,94.6367 511.244,89.6026 516.899,84.5179 522.553,79.3822 528.208,74.1948 533.862,68.9552 \n",
       "  539.517,63.663 545.172,58.3177 550.826,52.9186 556.481,47.4652 562.135,41.957 567.79,36.3935 573.445,30.774 579.099,25.0981 584.754,19.3652 590.408,13.5746 \n",
       "  596.063,7.72581 \n",
       "  \"/>\n",
       "<polygon clip-path=\"url(#clip02)\" points=\"\n",
       "30.6037,360.46 36.2583,358.659 41.9129,356.823 47.5675,354.952 53.222,353.044 58.8766,351.101 64.5312,349.122 70.1858,347.108 75.8404,345.058 81.495,342.972 \n",
       "  87.1496,340.851 92.8042,338.694 98.4588,336.502 104.113,334.273 109.768,332.009 115.423,329.71 121.077,327.375 126.732,325.004 132.386,322.597 138.041,320.155 \n",
       "  143.696,317.677 149.35,315.164 155.005,312.615 160.659,310.03 166.314,307.409 171.969,304.753 177.623,302.061 183.278,299.334 188.932,296.571 194.587,293.772 \n",
       "  200.241,290.938 205.896,288.068 211.551,285.162 217.205,282.221 222.86,279.244 228.514,276.231 234.169,273.183 239.824,270.099 245.478,266.98 251.133,263.824 \n",
       "  256.787,260.634 262.442,257.407 268.097,254.145 273.751,250.847 279.406,247.513 285.06,244.144 290.715,240.74 296.37,237.299 302.024,233.823 307.679,230.311 \n",
       "  313.333,226.764 318.988,223.181 324.643,219.562 330.297,215.908 335.952,212.218 341.606,208.492 347.261,204.731 352.915,200.934 358.57,197.101 364.225,193.233 \n",
       "  369.879,189.329 375.534,185.389 381.188,181.414 386.843,177.403 392.498,173.357 398.152,169.275 403.807,165.157 409.461,161.003 415.116,156.814 420.771,152.589 \n",
       "  426.425,148.329 432.08,144.033 437.734,139.701 443.389,135.334 449.044,130.93 454.698,126.492 460.353,122.017 466.007,117.507 471.662,112.962 477.317,108.38 \n",
       "  482.971,103.763 488.626,99.1108 494.28,94.4225 499.935,89.6986 505.59,84.939 511.244,80.1438 516.899,75.3129 522.553,70.4464 528.208,65.5442 533.862,60.6063 \n",
       "  539.517,55.6328 545.172,50.6237 550.826,45.5789 556.481,40.4984 562.135,35.3823 567.79,30.2306 573.445,25.0432 579.099,19.8201 584.754,14.5614 590.408,9.26703 \n",
       "  596.063,3.93701 596.063,28.429 590.408,33.759 584.754,39.0533 579.099,44.3121 573.445,49.5351 567.79,54.7225 562.135,59.8743 556.481,64.9904 550.826,70.0708 \n",
       "  545.172,75.1156 539.517,80.1248 533.862,85.0983 528.208,90.0361 522.553,94.9383 516.899,99.8049 511.244,104.636 505.59,109.431 499.935,114.191 494.28,118.914 \n",
       "  488.626,123.603 482.971,128.255 477.317,132.872 471.662,137.454 466.007,141.999 460.353,146.509 454.698,150.984 449.044,155.422 443.389,159.825 437.734,164.193 \n",
       "  432.08,168.525 426.425,172.821 420.771,177.081 415.116,181.306 409.461,185.495 403.807,189.649 398.152,193.766 392.498,197.849 386.843,201.895 381.188,205.906 \n",
       "  375.534,209.881 369.879,213.821 364.225,217.725 358.57,221.593 352.915,225.426 347.261,229.223 341.606,232.984 335.952,236.71 330.297,240.4 324.643,244.054 \n",
       "  318.988,247.673 313.333,251.256 307.679,254.803 302.024,258.315 296.37,261.791 290.715,265.231 285.06,268.636 279.406,272.005 273.751,275.339 268.097,278.637 \n",
       "  262.442,281.899 256.787,285.125 251.133,288.316 245.478,291.472 239.824,294.591 234.169,297.675 228.514,300.723 222.86,303.736 217.205,306.713 211.551,309.654 \n",
       "  205.896,312.56 200.241,315.43 194.587,318.264 188.932,321.063 183.278,323.826 177.623,326.553 171.969,329.245 166.314,331.901 160.659,334.522 155.005,337.107 \n",
       "  149.35,339.656 143.696,342.169 138.041,344.647 132.386,347.089 126.732,349.496 121.077,351.867 115.423,354.202 109.768,356.501 104.113,358.765 98.4588,360.994 \n",
       "  92.8042,363.186 87.1496,365.343 81.495,367.464 75.8404,369.55 70.1858,371.6 64.5312,373.614 58.8766,375.593 53.222,377.536 47.5675,379.444 41.9129,381.315 \n",
       "  36.2583,383.151 30.6037,384.952 \n",
       "  \" fill=\"#e9746a\" fill-opacity=\"0.3\"/>\n",
       "<polyline clip-path=\"url(#clip02)\" style=\"stroke:#e9746a; stroke-width:0.8; stroke-opacity:0.3; fill:none\" points=\"\n",
       "  30.6037,360.46 36.2583,358.659 41.9129,356.823 47.5675,354.952 53.222,353.044 58.8766,351.101 64.5312,349.122 70.1858,347.108 75.8404,345.058 81.495,342.972 \n",
       "  87.1496,340.851 92.8042,338.694 98.4588,336.502 104.113,334.273 109.768,332.009 115.423,329.71 121.077,327.375 126.732,325.004 132.386,322.597 138.041,320.155 \n",
       "  143.696,317.677 149.35,315.164 155.005,312.615 160.659,310.03 166.314,307.409 171.969,304.753 177.623,302.061 183.278,299.334 188.932,296.571 194.587,293.772 \n",
       "  200.241,290.938 205.896,288.068 211.551,285.162 217.205,282.221 222.86,279.244 228.514,276.231 234.169,273.183 239.824,270.099 245.478,266.98 251.133,263.824 \n",
       "  256.787,260.634 262.442,257.407 268.097,254.145 273.751,250.847 279.406,247.513 285.06,244.144 290.715,240.74 296.37,237.299 302.024,233.823 307.679,230.311 \n",
       "  313.333,226.764 318.988,223.181 324.643,219.562 330.297,215.908 335.952,212.218 341.606,208.492 347.261,204.731 352.915,200.934 358.57,197.101 364.225,193.233 \n",
       "  369.879,189.329 375.534,185.389 381.188,181.414 386.843,177.403 392.498,173.357 398.152,169.275 403.807,165.157 409.461,161.003 415.116,156.814 420.771,152.589 \n",
       "  426.425,148.329 432.08,144.033 437.734,139.701 443.389,135.334 449.044,130.93 454.698,126.492 460.353,122.017 466.007,117.507 471.662,112.962 477.317,108.38 \n",
       "  482.971,103.763 488.626,99.1108 494.28,94.4225 499.935,89.6986 505.59,84.939 511.244,80.1438 516.899,75.3129 522.553,70.4464 528.208,65.5442 533.862,60.6063 \n",
       "  539.517,55.6328 545.172,50.6237 550.826,45.5789 556.481,40.4984 562.135,35.3823 567.79,30.2306 573.445,25.0432 579.099,19.8201 584.754,14.5614 590.408,9.26703 \n",
       "  596.063,3.93701 \n",
       "  \"/>\n",
       "<polygon clip-path=\"url(#clip00)\" points=\"\n",
       "505.547,70.177 578.063,70.177 578.063,24.817 505.547,24.817 \n",
       "  \" fill=\"#ffffff\" fill-opacity=\"1\"/>\n",
       "<polyline clip-path=\"url(#clip00)\" style=\"stroke:#00002d; stroke-width:0.8; stroke-opacity:1; fill:none\" points=\"\n",
       "  505.547,70.177 578.063,70.177 578.063,24.817 505.547,24.817 505.547,70.177 \n",
       "  \"/>\n",
       "<polyline clip-path=\"url(#clip00)\" style=\"stroke:#0099ff; stroke-width:0.8; stroke-opacity:1; fill:none\" points=\"\n",
       "  511.547,39.937 547.547,39.937 \n",
       "  \"/>\n",
       "<g clip-path=\"url(#clip00)\">\n",
       "<text style=\"fill:#00002d; fill-opacity:1; font-family:Arial,Helvetica Neue,Helvetica,sans-serif; font-size:12; text-anchor:start;\" transform=\"rotate(0, 553.547, 44.437)\" x=\"553.547\" y=\"44.437\">y1</text>\n",
       "</g>\n",
       "<polyline clip-path=\"url(#clip00)\" style=\"stroke:#e9746a; stroke-width:0.8; stroke-opacity:0.3; fill:none\" points=\"\n",
       "  511.547,55.057 547.547,55.057 \n",
       "  \"/>\n",
       "<g clip-path=\"url(#clip00)\">\n",
       "<text style=\"fill:#00002d; fill-opacity:1; font-family:Arial,Helvetica Neue,Helvetica,sans-serif; font-size:12; text-anchor:start;\" transform=\"rotate(0, 553.547, 59.557)\" x=\"553.547\" y=\"59.557\">y2</text>\n",
       "</g>\n",
       "</svg>\n"
      ]
     },
     "execution_count": 34,
     "metadata": {},
     "output_type": "execute_result"
    }
   ],
   "source": [
    "xx = -0.5:0.01:0.5\n",
    "plot(xx, exp)\n",
    "plot!(xx, [exp_taylor(2, x) + Rn for x in xx],\n",
    "    fillrange = [exp_taylor(2, x)-Rn for x in xx],\n",
    "    alpha = .3)"
   ]
  },
  {
   "cell_type": "code",
   "execution_count": 40,
   "metadata": {
    "collapsed": false
   },
   "outputs": [
    {
     "data": {
      "text/html": [],
      "text/plain": [
       "Interact.Options{:SelectionSlider,Int64}(Signal{Int64}(6, nactions=1),\"i\",6,\"6\",Interact.OptionDict(DataStructures.OrderedDict(\"2\"=>2,\"3\"=>3,\"4\"=>4,\"5\"=>5,\"6\"=>6,\"7\"=>7,\"8\"=>8,\"9\"=>9,\"10\"=>10),Dict(7=>\"7\",4=>\"4\",9=>\"9\",10=>\"10\",2=>\"2\",3=>\"3\",5=>\"5\",8=>\"8\",6=>\"6\")),Any[],Any[],true,\"horizontal\")"
      ]
     },
     "metadata": {},
     "output_type": "display_data"
    },
    {
     "data": {
      "text/html": [
       "<?xml version=\"1.0\" encoding=\"utf-8\"?>\n",
       "<svg xmlns=\"http://www.w3.org/2000/svg\" xmlns:xlink=\"http://www.w3.org/1999/xlink\" width=\"600\" height=\"400\" viewBox=\"0 0 600 400\">\n",
       "<defs>\n",
       "  <clipPath id=\"clip00\">\n",
       "    <rect x=\"0\" y=\"0\" width=\"600\" height=\"400\"/>\n",
       "  </clipPath>\n",
       "</defs>\n",
       "<polygon clip-path=\"url(#clip00)\" points=\"\n",
       "0,400 600,400 600,0 0,0 \n",
       "  \" fill=\"#ffffff\" fill-opacity=\"1\"/>\n",
       "<defs>\n",
       "  <clipPath id=\"clip01\">\n",
       "    <rect x=\"120\" y=\"0\" width=\"421\" height=\"400\"/>\n",
       "  </clipPath>\n",
       "</defs>\n",
       "<polygon clip-path=\"url(#clip00)\" points=\"\n",
       "30.6037,384.952 596.063,384.952 596.063,3.93701 30.6037,3.93701 \n",
       "  \" fill=\"#ffffff\" fill-opacity=\"1\"/>\n",
       "<defs>\n",
       "  <clipPath id=\"clip02\">\n",
       "    <rect x=\"30\" y=\"3\" width=\"566\" height=\"382\"/>\n",
       "  </clipPath>\n",
       "</defs>\n",
       "<polyline clip-path=\"url(#clip02)\" style=\"stroke:#00002d; stroke-width:0.8; stroke-opacity:0.5; fill:none\" stroke-dasharray=\"1, 2\" points=\"\n",
       "  30.6037,379.237 30.6037,9.65223 \n",
       "  \"/>\n",
       "<polyline clip-path=\"url(#clip02)\" style=\"stroke:#00002d; stroke-width:0.8; stroke-opacity:0.5; fill:none\" stroke-dasharray=\"1, 2\" points=\"\n",
       "  171.969,379.237 171.969,9.65223 \n",
       "  \"/>\n",
       "<polyline clip-path=\"url(#clip02)\" style=\"stroke:#00002d; stroke-width:0.8; stroke-opacity:0.5; fill:none\" stroke-dasharray=\"1, 2\" points=\"\n",
       "  313.333,379.237 313.333,9.65223 \n",
       "  \"/>\n",
       "<polyline clip-path=\"url(#clip02)\" style=\"stroke:#00002d; stroke-width:0.8; stroke-opacity:0.5; fill:none\" stroke-dasharray=\"1, 2\" points=\"\n",
       "  454.698,379.237 454.698,9.65223 \n",
       "  \"/>\n",
       "<polyline clip-path=\"url(#clip02)\" style=\"stroke:#00002d; stroke-width:0.8; stroke-opacity:0.5; fill:none\" stroke-dasharray=\"1, 2\" points=\"\n",
       "  596.063,379.237 596.063,9.65223 \n",
       "  \"/>\n",
       "<polyline clip-path=\"url(#clip02)\" style=\"stroke:#00002d; stroke-width:0.8; stroke-opacity:0.5; fill:none\" stroke-dasharray=\"1, 2\" points=\"\n",
       "  39.0856,241.1 587.581,241.1 \n",
       "  \"/>\n",
       "<polyline clip-path=\"url(#clip02)\" style=\"stroke:#00002d; stroke-width:0.8; stroke-opacity:0.5; fill:none\" stroke-dasharray=\"1, 2\" points=\"\n",
       "  39.0856,58.317 587.581,58.317 \n",
       "  \"/>\n",
       "<polyline clip-path=\"url(#clip02)\" style=\"stroke:#00002d; stroke-width:0.8; stroke-opacity:1; fill:none\" points=\"\n",
       "  30.6037,384.952 596.063,384.952 \n",
       "  \"/>\n",
       "<polyline clip-path=\"url(#clip02)\" style=\"stroke:#00002d; stroke-width:0.8; stroke-opacity:1; fill:none\" points=\"\n",
       "  30.6037,384.952 30.6037,379.237 \n",
       "  \"/>\n",
       "<polyline clip-path=\"url(#clip02)\" style=\"stroke:#00002d; stroke-width:0.8; stroke-opacity:1; fill:none\" points=\"\n",
       "  171.969,384.952 171.969,379.237 \n",
       "  \"/>\n",
       "<polyline clip-path=\"url(#clip02)\" style=\"stroke:#00002d; stroke-width:0.8; stroke-opacity:1; fill:none\" points=\"\n",
       "  313.333,384.952 313.333,379.237 \n",
       "  \"/>\n",
       "<polyline clip-path=\"url(#clip02)\" style=\"stroke:#00002d; stroke-width:0.8; stroke-opacity:1; fill:none\" points=\"\n",
       "  454.698,384.952 454.698,379.237 \n",
       "  \"/>\n",
       "<polyline clip-path=\"url(#clip02)\" style=\"stroke:#00002d; stroke-width:0.8; stroke-opacity:1; fill:none\" points=\"\n",
       "  596.063,384.952 596.063,379.237 \n",
       "  \"/>\n",
       "<polyline clip-path=\"url(#clip02)\" style=\"stroke:#00002d; stroke-width:0.8; stroke-opacity:1; fill:none\" points=\"\n",
       "  30.6037,384.952 30.6037,3.93701 \n",
       "  \"/>\n",
       "<polyline clip-path=\"url(#clip02)\" style=\"stroke:#00002d; stroke-width:0.8; stroke-opacity:1; fill:none\" points=\"\n",
       "  30.6037,241.1 39.0856,241.1 \n",
       "  \"/>\n",
       "<polyline clip-path=\"url(#clip02)\" style=\"stroke:#00002d; stroke-width:0.8; stroke-opacity:1; fill:none\" points=\"\n",
       "  30.6037,58.317 39.0856,58.317 \n",
       "  \"/>\n",
       "<g clip-path=\"url(#clip00)\">\n",
       "<text style=\"fill:#00002d; fill-opacity:1; font-family:Arial,Helvetica Neue,Helvetica,sans-serif; font-size:12; text-anchor:middle;\" transform=\"rotate(0, 30.6037, 396.952)\" x=\"30.6037\" y=\"396.952\">-0.50</text>\n",
       "</g>\n",
       "<g clip-path=\"url(#clip00)\">\n",
       "<text style=\"fill:#00002d; fill-opacity:1; font-family:Arial,Helvetica Neue,Helvetica,sans-serif; font-size:12; text-anchor:middle;\" transform=\"rotate(0, 171.969, 396.952)\" x=\"171.969\" y=\"396.952\">-0.25</text>\n",
       "</g>\n",
       "<g clip-path=\"url(#clip00)\">\n",
       "<text style=\"fill:#00002d; fill-opacity:1; font-family:Arial,Helvetica Neue,Helvetica,sans-serif; font-size:12; text-anchor:middle;\" transform=\"rotate(0, 313.333, 396.952)\" x=\"313.333\" y=\"396.952\">0.00</text>\n",
       "</g>\n",
       "<g clip-path=\"url(#clip00)\">\n",
       "<text style=\"fill:#00002d; fill-opacity:1; font-family:Arial,Helvetica Neue,Helvetica,sans-serif; font-size:12; text-anchor:middle;\" transform=\"rotate(0, 454.698, 396.952)\" x=\"454.698\" y=\"396.952\">0.25</text>\n",
       "</g>\n",
       "<g clip-path=\"url(#clip00)\">\n",
       "<text style=\"fill:#00002d; fill-opacity:1; font-family:Arial,Helvetica Neue,Helvetica,sans-serif; font-size:12; text-anchor:middle;\" transform=\"rotate(0, 596.063, 396.952)\" x=\"596.063\" y=\"396.952\">0.50</text>\n",
       "</g>\n",
       "<g clip-path=\"url(#clip00)\">\n",
       "<text style=\"fill:#00002d; fill-opacity:1; font-family:Arial,Helvetica Neue,Helvetica,sans-serif; font-size:12; text-anchor:end;\" transform=\"rotate(0, 29.4037, 245.6)\" x=\"29.4037\" y=\"245.6\">1.0</text>\n",
       "</g>\n",
       "<g clip-path=\"url(#clip00)\">\n",
       "<text style=\"fill:#00002d; fill-opacity:1; font-family:Arial,Helvetica Neue,Helvetica,sans-serif; font-size:12; text-anchor:end;\" transform=\"rotate(0, 29.4037, 62.817)\" x=\"29.4037\" y=\"62.817\">1.5</text>\n",
       "</g>\n",
       "<polyline clip-path=\"url(#clip02)\" style=\"stroke:#0099ff; stroke-width:0.8; stroke-opacity:1; fill:none\" points=\"\n",
       "  30.6037,384.939 36.2583,382.711 41.9129,380.46 47.5675,378.187 53.222,375.89 58.8766,373.571 64.5312,371.228 70.1858,368.862 75.8404,366.472 81.495,364.058 \n",
       "  87.1496,361.62 92.8042,359.157 98.4588,356.67 104.113,354.157 109.768,351.62 115.423,349.056 121.077,346.467 126.732,343.852 132.386,341.211 138.041,338.543 \n",
       "  143.696,335.848 149.35,333.127 155.005,330.377 160.659,327.601 166.314,324.796 171.969,321.963 177.623,319.102 183.278,316.212 188.932,313.293 194.587,310.344 \n",
       "  200.241,307.366 205.896,304.358 211.551,301.32 217.205,298.251 222.86,295.151 228.514,292.021 234.169,288.858 239.824,285.664 245.478,282.438 251.133,279.18 \n",
       "  256.787,275.888 262.442,272.564 268.097,269.206 273.751,265.815 279.406,262.389 285.06,258.929 290.715,255.434 296.37,251.904 302.024,248.339 307.679,244.738 \n",
       "  313.333,241.1 318.988,237.426 324.643,233.715 330.297,229.967 335.952,226.181 341.606,222.357 347.261,218.495 352.915,214.594 358.57,210.653 364.225,206.673 \n",
       "  369.879,202.653 375.534,198.593 381.188,194.492 386.843,190.349 392.498,186.165 398.152,181.939 403.807,177.67 409.461,173.359 415.116,169.004 420.771,164.606 \n",
       "  426.425,160.163 432.08,155.675 437.734,151.143 443.389,146.565 449.044,141.941 454.698,137.27 460.353,132.553 466.007,127.788 471.662,122.975 477.317,118.114 \n",
       "  482.971,113.204 488.626,108.244 494.28,103.235 499.935,98.1754 505.59,93.0649 511.244,87.9032 516.899,82.6895 522.553,77.4234 528.208,72.1045 533.862,66.732 \n",
       "  539.517,61.3056 545.172,55.8246 550.826,50.2886 556.481,44.6969 562.135,39.049 567.79,33.3443 573.445,27.5824 579.099,21.7625 584.754,15.8841 590.408,9.94662 \n",
       "  596.063,3.94948 \n",
       "  \"/>\n",
       "<polygon clip-path=\"url(#clip02)\" points=\"\n",
       "30.6037,384.926 36.2583,382.697 41.9129,380.447 47.5675,378.173 53.222,375.877 58.8766,373.558 64.5312,371.215 70.1858,368.849 75.8404,366.459 81.495,364.045 \n",
       "  87.1496,361.607 92.8042,359.144 98.4588,356.657 104.113,354.144 109.768,351.606 115.423,349.043 121.077,346.454 126.732,343.839 132.386,341.198 138.041,338.53 \n",
       "  143.696,335.835 149.35,333.113 155.005,330.364 160.659,327.588 166.314,324.783 171.969,321.95 177.623,319.089 183.278,316.199 188.932,313.28 194.587,310.331 \n",
       "  200.241,307.353 205.896,304.345 211.551,301.307 217.205,298.238 222.86,295.138 228.514,292.008 234.169,288.845 239.824,285.651 245.478,282.425 251.133,279.167 \n",
       "  256.787,275.875 262.442,272.551 268.097,269.193 273.751,265.802 279.406,262.376 285.06,258.916 290.715,255.421 296.37,251.891 302.024,248.326 307.679,244.725 \n",
       "  313.333,241.087 318.988,237.413 324.643,233.702 330.297,229.954 335.952,226.168 341.606,222.344 347.261,218.482 352.915,214.581 358.57,210.64 364.225,206.66 \n",
       "  369.879,202.64 375.534,198.58 381.188,194.479 386.843,190.336 392.498,186.152 398.152,181.926 403.807,177.657 409.461,173.346 415.116,168.991 420.771,164.592 \n",
       "  426.425,160.15 432.08,155.662 437.734,151.13 443.389,146.552 449.044,141.928 454.698,137.257 460.353,132.539 466.007,127.775 471.662,122.962 477.317,118.101 \n",
       "  482.971,113.19 488.626,108.231 494.28,103.222 499.935,98.1623 505.59,93.0519 511.244,87.8901 516.899,82.6765 522.553,77.4104 528.208,72.0915 533.862,66.7191 \n",
       "  539.517,61.2926 545.172,55.8117 550.826,50.2757 556.481,44.684 562.135,39.0362 567.79,33.3315 573.445,27.5696 579.099,21.7498 584.754,15.8715 590.408,9.93406 \n",
       "  596.063,3.93701 596.063,3.96317 590.408,9.96022 584.754,15.8976 579.099,21.7759 573.445,27.5958 567.79,33.3577 562.135,39.0623 556.481,44.7102 550.826,50.3018 \n",
       "  545.172,55.8379 539.517,61.3188 533.862,66.7452 528.208,72.1176 522.553,77.4366 516.899,82.7026 511.244,87.9163 505.59,93.0781 499.935,98.1885 494.28,103.248 \n",
       "  488.626,108.257 482.971,113.217 477.317,118.127 471.662,122.988 466.007,127.801 460.353,132.566 454.698,137.283 449.044,141.954 443.389,146.578 437.734,151.156 \n",
       "  432.08,155.688 426.425,160.176 420.771,164.619 415.116,169.017 409.461,173.372 403.807,177.684 398.152,181.952 392.498,186.178 386.843,190.362 381.188,194.505 \n",
       "  375.534,198.606 369.879,202.666 364.225,206.686 358.57,210.666 352.915,214.607 347.261,218.508 341.606,222.37 335.952,226.194 330.297,229.98 324.643,233.728 \n",
       "  318.988,237.439 313.333,241.113 307.679,244.751 302.024,248.352 296.37,251.917 290.715,255.447 285.06,258.942 279.406,262.402 273.751,265.828 268.097,269.219 \n",
       "  262.442,272.577 256.787,275.901 251.133,279.193 245.478,282.451 239.824,285.677 234.169,288.871 228.514,292.034 222.86,295.165 217.205,298.264 211.551,301.333 \n",
       "  205.896,304.371 200.241,307.379 194.587,310.357 188.932,313.306 183.278,316.225 177.623,319.115 171.969,321.976 166.314,324.809 160.659,327.614 155.005,330.39 \n",
       "  149.35,333.14 143.696,335.861 138.041,338.556 132.386,341.224 126.732,343.865 121.077,346.48 115.423,349.069 109.768,351.633 104.113,354.17 98.4588,356.683 \n",
       "  92.8042,359.17 87.1496,361.633 81.495,364.071 75.8404,366.485 70.1858,368.875 64.5312,371.241 58.8766,373.584 53.222,375.903 47.5675,378.199 41.9129,380.473 \n",
       "  36.2583,382.724 30.6037,384.952 \n",
       "  \" fill=\"#e9746a\" fill-opacity=\"0.3\"/>\n",
       "<polyline clip-path=\"url(#clip02)\" style=\"stroke:#e9746a; stroke-width:0.8; stroke-opacity:0.3; fill:none\" points=\"\n",
       "  30.6037,384.926 36.2583,382.697 41.9129,380.447 47.5675,378.173 53.222,375.877 58.8766,373.558 64.5312,371.215 70.1858,368.849 75.8404,366.459 81.495,364.045 \n",
       "  87.1496,361.607 92.8042,359.144 98.4588,356.657 104.113,354.144 109.768,351.606 115.423,349.043 121.077,346.454 126.732,343.839 132.386,341.198 138.041,338.53 \n",
       "  143.696,335.835 149.35,333.113 155.005,330.364 160.659,327.588 166.314,324.783 171.969,321.95 177.623,319.089 183.278,316.199 188.932,313.28 194.587,310.331 \n",
       "  200.241,307.353 205.896,304.345 211.551,301.307 217.205,298.238 222.86,295.138 228.514,292.008 234.169,288.845 239.824,285.651 245.478,282.425 251.133,279.167 \n",
       "  256.787,275.875 262.442,272.551 268.097,269.193 273.751,265.802 279.406,262.376 285.06,258.916 290.715,255.421 296.37,251.891 302.024,248.326 307.679,244.725 \n",
       "  313.333,241.087 318.988,237.413 324.643,233.702 330.297,229.954 335.952,226.168 341.606,222.344 347.261,218.482 352.915,214.581 358.57,210.64 364.225,206.66 \n",
       "  369.879,202.64 375.534,198.58 381.188,194.479 386.843,190.336 392.498,186.152 398.152,181.926 403.807,177.657 409.461,173.346 415.116,168.991 420.771,164.592 \n",
       "  426.425,160.15 432.08,155.662 437.734,151.13 443.389,146.552 449.044,141.928 454.698,137.257 460.353,132.539 466.007,127.775 471.662,122.962 477.317,118.101 \n",
       "  482.971,113.19 488.626,108.231 494.28,103.222 499.935,98.1623 505.59,93.0519 511.244,87.8901 516.899,82.6765 522.553,77.4104 528.208,72.0915 533.862,66.7191 \n",
       "  539.517,61.2926 545.172,55.8117 550.826,50.2757 556.481,44.684 562.135,39.0362 567.79,33.3315 573.445,27.5696 579.099,21.7498 584.754,15.8715 590.408,9.93406 \n",
       "  596.063,3.93701 \n",
       "  \"/>\n",
       "<polygon clip-path=\"url(#clip00)\" points=\"\n",
       "505.547,70.177 578.063,70.177 578.063,24.817 505.547,24.817 \n",
       "  \" fill=\"#ffffff\" fill-opacity=\"1\"/>\n",
       "<polyline clip-path=\"url(#clip00)\" style=\"stroke:#00002d; stroke-width:0.8; stroke-opacity:1; fill:none\" points=\"\n",
       "  505.547,70.177 578.063,70.177 578.063,24.817 505.547,24.817 505.547,70.177 \n",
       "  \"/>\n",
       "<polyline clip-path=\"url(#clip00)\" style=\"stroke:#0099ff; stroke-width:0.8; stroke-opacity:1; fill:none\" points=\"\n",
       "  511.547,39.937 547.547,39.937 \n",
       "  \"/>\n",
       "<g clip-path=\"url(#clip00)\">\n",
       "<text style=\"fill:#00002d; fill-opacity:1; font-family:Arial,Helvetica Neue,Helvetica,sans-serif; font-size:12; text-anchor:start;\" transform=\"rotate(0, 553.547, 44.437)\" x=\"553.547\" y=\"44.437\">y1</text>\n",
       "</g>\n",
       "<polyline clip-path=\"url(#clip00)\" style=\"stroke:#e9746a; stroke-width:0.8; stroke-opacity:0.3; fill:none\" points=\"\n",
       "  511.547,55.057 547.547,55.057 \n",
       "  \"/>\n",
       "<g clip-path=\"url(#clip00)\">\n",
       "<text style=\"fill:#00002d; fill-opacity:1; font-family:Arial,Helvetica Neue,Helvetica,sans-serif; font-size:12; text-anchor:start;\" transform=\"rotate(0, 553.547, 59.557)\" x=\"553.547\" y=\"59.557\">y2</text>\n",
       "</g>\n",
       "</svg>\n"
      ]
     },
     "execution_count": 40,
     "metadata": {
      "comm_id": "0ce94164-a539-4ce4-be13-45e169878560",
      "reactive": true
     },
     "output_type": "execute_result"
    }
   ],
   "source": [
    "@manipulate for i in 2:10\n",
    "    Rn = exp(0.5)*((0.5)^i)/factorial(i)\n",
    "    plot(xx,exp)\n",
    "    plot!(xx,[exp_taylor(i,x)+ Rn for x in xx],\n",
    "        fillrange=[exp_taylor(i,x) - Rn for x in xx],\n",
    "        alpha = .3 )\n",
    "end"
   ]
  },
  {
   "cell_type": "markdown",
   "metadata": {},
   "source": [
    "Al crecer $n$ se reduce el rango de error."
   ]
  },
  {
   "cell_type": "code",
   "execution_count": null,
   "metadata": {
    "collapsed": true
   },
   "outputs": [],
   "source": []
  }
 ],
 "metadata": {
  "kernelspec": {
   "display_name": "Julia 0.5.1-pre",
   "language": "julia",
   "name": "julia-0.5"
  },
  "language_info": {
   "file_extension": ".jl",
   "mimetype": "application/julia",
   "name": "julia",
   "version": "0.5.1"
  },
  "widgets": {
   "state": {
    "0a52c6ce-4f9c-46ab-be38-bbedd8aaf7f2": {
     "views": [
      {
       "cell_index": 39
      }
     ]
    },
    "317bc4bf-1a77-4584-a979-1064ac4a83c7": {
     "views": [
      {
       "cell_index": 39
      }
     ]
    },
    "eb197e8b-b327-41aa-9b7a-81b68f9d39ec": {
     "views": [
      {
       "cell_index": 65
      }
     ]
    }
   },
   "version": "1.2.0"
  }
 },
 "nbformat": 4,
 "nbformat_minor": 0
}
