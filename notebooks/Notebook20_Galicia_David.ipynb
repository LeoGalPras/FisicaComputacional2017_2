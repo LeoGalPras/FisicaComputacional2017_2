{
 "cells": [
  {
   "cell_type": "markdown",
   "metadata": {},
   "source": [
    "# Eigenvalores y eigenvectores "
   ]
  },
  {
   "cell_type": "markdown",
   "metadata": {},
   "source": [
    "Otro problema crucial de la álgebra lineal, y, por lo tanto, de la álgebra lineal numérica, es encontrar valores y vectores propios, también llamados eigenvalores y eigenvectores (\"eigen\" = \"propio\" en alemán).\n",
    "\n",
    "Recordemos que $\\mathbf{v}$ es un eigenvector de la matriz $\\mathsf{M}$,  con eigenvalor $\\lambda \\in \\mathbb{C}$,  si\n",
    "\n",
    "$$\\mathsf{M} \\cdot \\mathbf{v} = \\lambda \\, \\mathbf{v},$$\n",
    "\n",
    "es decir que la *dirección* de $\\mathbf{v}$ es invariante bajo la transformación $\\mathsf{M}$, pero la *magnitud* se puede cambiar (o sea, el vector se puede \"estirar\").\n",
    "\n",
    "Recordemos que si $\\mathbf{v}$ es un eigenvector de $\\mathsf{M}$ con eigenvalor $\\lambda$, entonces $\\alpha \\mathbf{v}$ también lo es, para cualquier escalar $\\alpha \\neq 0$."
   ]
  },
  {
   "cell_type": "markdown",
   "metadata": {},
   "source": [
    "¿Por qué son importantes este tipo de problemas? Surgen en problemas físicos como son el encontrar los modos normales de un conjunto de osciladores acoplados, o las energías posibles de un sistema cuántico. En particular, surgen al llevar a cabo una separación de variables en ecuaciones diferenciales parciales.\n",
    "\n",
    "Por ejemplo, consideremos el problema de encontrar las energías y estados posibles de una partícula libre en una caja finita de longitud $L$. El problema se reduce a encontrar los valores posibles de $E$ y $\\psi$ que satisfacen la ecuación de Helmholtz,\n",
    "\n",
    "$$\\nabla^2 \\psi = E \\psi$$\n",
    "\n",
    "con condiciones dadas en la frontera, por ejemplo\n",
    "$\\psi(x=0) = \\psi(x=L) = 0$."
   ]
  },
  {
   "cell_type": "markdown",
   "metadata": {},
   "source": [
    "## El método de potencias "
   ]
  },
  {
   "cell_type": "markdown",
   "metadata": {},
   "source": [
    "No pueden existir métodos directos para calcular eigenvalores para matrices generales, ya que los eigenvalores satisfacen la ecuación polinomial $\\mathrm{det}(\\mathsf{M} - \\lambda \\mathsf{I}) = 0$, la cual sabemos que no se puede resolver de manera exacta cuando el grado $>4$.\n",
    "\n",
    "Por lo tanto, debemos considerar métodos iterativos."
   ]
  },
  {
   "cell_type": "markdown",
   "metadata": {},
   "source": [
    "El método iterativo más sencillo para calcular un eigenvalor particular de una matriz es el **método de potencias**. Consiste en calcular potencias de la matriz $\\mathsf{M}$, aplicadas a un vector $\\mathbf{v}$ inicial arbitrario (pero no-cero).\n",
    "\n",
    "El algoritmo es como sigue: Se escoge un vector inicial arbitrario y se aplica $\\mathsf{M}$ a este vector (es decir, se calcula $\\mathsf{M} \\cdot \\mathbf{v}$). Luego se aplica $\\mathsf{M}$ al resultado, y así sucesivamente.\n"
   ]
  },
  {
   "cell_type": "markdown",
   "metadata": {},
   "source": [
    "**[1]** (i) Escribe una función que implementa este método, para una matriz `M` dada."
   ]
  },
  {
   "cell_type": "code",
   "execution_count": 33,
   "metadata": {
    "collapsed": false
   },
   "outputs": [
    {
     "name": "stderr",
     "output_type": "stream",
     "text": [
      "WARNING: Method definition mult_iter(Any, Any, Any) in module Main at In[1]:2 overwritten at In[33]:2.\n"
     ]
    },
    {
     "data": {
      "text/plain": [
       "mult_iter (generic function with 1 method)"
      ]
     },
     "execution_count": 33,
     "metadata": {},
     "output_type": "execute_result"
    }
   ],
   "source": [
    "function mult_iter(M, v, n)\n",
    "    for i in 1:n\n",
    "        v = M*v\n",
    "    end\n",
    "    v\n",
    "end"
   ]
  },
  {
   "cell_type": "code",
   "execution_count": 34,
   "metadata": {
    "collapsed": false
   },
   "outputs": [
    {
     "data": {
      "text/plain": [
       "2-element Array{Int64,1}:\n",
       " 37\n",
       " 81"
      ]
     },
     "execution_count": 34,
     "metadata": {},
     "output_type": "execute_result"
    }
   ],
   "source": [
    "A = [1 2\n",
    "    3 4]\n",
    "b = [1, 3]\n",
    "mult_iter(A,b,2)"
   ]
  },
  {
   "cell_type": "markdown",
   "metadata": {},
   "source": [
    "(ii) Considera una matriz $\\mathbf{M}$ de $2 \\times 2$, e.g. $\\begin{pmatrix} 2 & 1 \\\\ 1 & 1 \\end{pmatrix}$. \n",
    "Aplica el método. Imprime los resultados después de cada paso. ¿Cuál problema observas?"
   ]
  },
  {
   "cell_type": "code",
   "execution_count": 35,
   "metadata": {
    "collapsed": false
   },
   "outputs": [
    {
     "data": {
      "text/plain": [
       "2-element Array{Int64,1}:\n",
       " 31241\n",
       " 19308"
      ]
     },
     "execution_count": 35,
     "metadata": {},
     "output_type": "execute_result"
    }
   ],
   "source": [
    "M = [2 1\n",
    "    1 1]\n",
    "mult_iter(M,b,10)"
   ]
  },
  {
   "cell_type": "markdown",
   "metadata": {},
   "source": [
    "Que el vector crece mucho :(."
   ]
  },
  {
   "cell_type": "markdown",
   "metadata": {},
   "source": [
    "(iii) ¿Cuál es la solución a este problema? Impleméntalo."
   ]
  },
  {
   "cell_type": "markdown",
   "metadata": {},
   "source": [
    "Utilizar un vector unitario para que no crezca."
   ]
  },
  {
   "cell_type": "code",
   "execution_count": 36,
   "metadata": {
    "collapsed": false
   },
   "outputs": [
    {
     "name": "stderr",
     "output_type": "stream",
     "text": [
      "WARNING: Method definition normalizar(Any) in module Main at In[5]:2 overwritten at In[36]:2.\n"
     ]
    },
    {
     "data": {
      "text/plain": [
       "normalizar (generic function with 1 method)"
      ]
     },
     "execution_count": 36,
     "metadata": {},
     "output_type": "execute_result"
    }
   ],
   "source": [
    "function normalizar(v)\n",
    "    v_un = v/norm(v)\n",
    "end"
   ]
  },
  {
   "cell_type": "code",
   "execution_count": 51,
   "metadata": {
    "collapsed": false
   },
   "outputs": [
    {
     "data": {
      "text/plain": [
       "1.0"
      ]
     },
     "execution_count": 51,
     "metadata": {},
     "output_type": "execute_result"
    }
   ],
   "source": [
    "g,f = normalizar([11 9])\n",
    "sqrt(g^2+f^2)"
   ]
  },
  {
   "cell_type": "code",
   "execution_count": 58,
   "metadata": {
    "collapsed": false
   },
   "outputs": [
    {
     "name": "stderr",
     "output_type": "stream",
     "text": [
      "WARNING: Method definition mult_iter2(Any, Any, Any) in module Main at In[54]:2 overwritten at In[58]:2.\n"
     ]
    },
    {
     "data": {
      "text/plain": [
       "mult_iter2 (generic function with 1 method)"
      ]
     },
     "execution_count": 58,
     "metadata": {},
     "output_type": "execute_result"
    }
   ],
   "source": [
    "function mult_iter2(M, v, n)\n",
    "    for i in 1:n\n",
    "        v = M*v\n",
    "        v = normalizar(v)\n",
    "    end\n",
    "    v\n",
    "end"
   ]
  },
  {
   "cell_type": "code",
   "execution_count": 65,
   "metadata": {
    "collapsed": false
   },
   "outputs": [
    {
     "data": {
      "text/plain": [
       "2-element Array{Float64,1}:\n",
       " 0.850651\n",
       " 0.525731"
      ]
     },
     "execution_count": 65,
     "metadata": {},
     "output_type": "execute_result"
    }
   ],
   "source": [
    "mult_iter2(M, b, 100)"
   ]
  },
  {
   "cell_type": "markdown",
   "metadata": {},
   "source": [
    "(iv) Calcula a mano los eigenvalores y eigenvectores de tu matriz. ¿Funciona el método? ¿Cuál eigenvector y eigenvalor te da?"
   ]
  },
  {
   "cell_type": "code",
   "execution_count": 66,
   "metadata": {
    "collapsed": false
   },
   "outputs": [
    {
     "data": {
      "text/plain": [
       "2-element Array{Float64,1}:\n",
       " 0.381966\n",
       " 2.61803 "
      ]
     },
     "execution_count": 66,
     "metadata": {},
     "output_type": "execute_result"
    }
   ],
   "source": [
    "eigvals(M)"
   ]
  },
  {
   "cell_type": "markdown",
   "metadata": {},
   "source": [
    "O haciéndolo realmente a mano da $$ \\lambda_{12}= \\frac{3 \\pm \\sqrt{5}}{2} $$"
   ]
  },
  {
   "cell_type": "code",
   "execution_count": 67,
   "metadata": {
    "collapsed": false
   },
   "outputs": [
    {
     "data": {
      "text/plain": [
       "2.618033988749895"
      ]
     },
     "execution_count": 67,
     "metadata": {},
     "output_type": "execute_result"
    }
   ],
   "source": [
    "(3+ sqrt(5) )/2"
   ]
  },
  {
   "cell_type": "code",
   "execution_count": 68,
   "metadata": {
    "collapsed": false
   },
   "outputs": [
    {
     "data": {
      "text/plain": [
       "0.3819660112501051"
      ]
     },
     "execution_count": 68,
     "metadata": {},
     "output_type": "execute_result"
    }
   ],
   "source": [
    "(3- sqrt(5) )/2"
   ]
  },
  {
   "cell_type": "code",
   "execution_count": 69,
   "metadata": {
    "collapsed": false
   },
   "outputs": [
    {
     "data": {
      "text/plain": [
       "2×2 Array{Float64,2}:\n",
       "  0.525731  -0.850651\n",
       " -0.850651  -0.525731"
      ]
     },
     "execution_count": 69,
     "metadata": {},
     "output_type": "execute_result"
    }
   ],
   "source": [
    "eigvecs(M)"
   ]
  },
  {
   "cell_type": "markdown",
   "metadata": {},
   "source": [
    "(v) Supón que la matriz $\\mathsf{M}$ cuenta con una base completa de eigenvectores $\\mathbf{v}_i$. Descompone un vector inicial arbitrario $\\mathbf{v}$ como una combinación lineal de los eigenvectores, e investiga el resultado de aplicar $\\mathsf{M}^n$ a este vector inicial. Así, explica (con papel y pluma) el comportamiento del método."
   ]
  },
  {
   "cell_type": "markdown",
   "metadata": {},
   "source": [
    "$$\\vec{v} = \\sum_{i=1}^n a_{i} \\vec{v_i} $$ \n",
    "para una matriz de $n\\times n$. Al aplicar $\\mathbb{M}^n$ s esto tenemos que\n",
    "$$ \\mathbb{M}^n v = \\lambda^n \\sum_{i=1}^n a_{i} \\vec{v_i} $$\n",
    "por lo que tendremos que al aplicar el método muchas veces tenderá al eigenvalor con el coeficiente $a_i$ más grande."
   ]
  },
  {
   "cell_type": "markdown",
   "metadata": {},
   "source": [
    "**[2]** Aplica el método a la matriz de discretización de la partícula libre en una caja. ¿Cuál eigenvalor está calculando? ¿Qué ocurre?"
   ]
  },
  {
   "cell_type": "code",
   "execution_count": 3,
   "metadata": {
    "collapsed": false
   },
   "outputs": [
    {
     "name": "stderr",
     "output_type": "stream",
     "text": [
      "WARNING: Method definition schrödinger1d(Any) in module Main at In[1]:2 overwritten at In[3]:2.\n"
     ]
    },
    {
     "data": {
      "text/plain": [
       "schrödinger1d (generic function with 1 method)"
      ]
     },
     "execution_count": 3,
     "metadata": {},
     "output_type": "execute_result"
    }
   ],
   "source": [
    "function schrödinger1d(n)\n",
    "    Ψ = zeros(n,n)\n",
    "    k = 1/(n-1)\n",
    "    Ψ[1,:] = Ψ[:,1] = Ψ[:,end] = Ψ[end,:] = 0\n",
    "    \n",
    "    for i in 2:n-1\n",
    "        for j in 2:n-1\n",
    "            if i == j\n",
    "                Ψ[i,j] = 1/(-2k^2)\n",
    "            end\n",
    "        end\n",
    "    end\n",
    "    \n",
    "    for j in 2:n-1\n",
    "        for i in 2:n-1\n",
    "            #Ψ[i,j] = (Ψ[i+1,j] + Ψ[i-1,j] -2Ψ[i,j]) / k^2\n",
    "            Ψ[i,j] = (Ψ[i+1,j] + Ψ[i-1,j] -2Ψ[i,j])\n",
    "        end\n",
    "    end\n",
    "    Ψ\n",
    "end"
   ]
  },
  {
   "cell_type": "code",
   "execution_count": 4,
   "metadata": {
    "collapsed": false
   },
   "outputs": [
    {
     "data": {
      "text/plain": [
       "10×10 Array{Float64,2}:\n",
       " 0.0   0.0    0.0    0.0    0.0    0.0    0.0    0.0    0.0  0.0\n",
       " 0.0  81.0  -40.5    0.0    0.0    0.0    0.0    0.0    0.0  0.0\n",
       " 0.0  81.0   40.5  -40.5    0.0    0.0    0.0    0.0    0.0  0.0\n",
       " 0.0  81.0   40.5   40.5  -40.5    0.0    0.0    0.0    0.0  0.0\n",
       " 0.0  81.0   40.5   40.5   40.5  -40.5    0.0    0.0    0.0  0.0\n",
       " 0.0  81.0   40.5   40.5   40.5   40.5  -40.5    0.0    0.0  0.0\n",
       " 0.0  81.0   40.5   40.5   40.5   40.5   40.5  -40.5    0.0  0.0\n",
       " 0.0  81.0   40.5   40.5   40.5   40.5   40.5   40.5  -40.5  0.0\n",
       " 0.0  81.0   40.5   40.5   40.5   40.5   40.5   40.5   40.5  0.0\n",
       " 0.0   0.0    0.0    0.0    0.0    0.0    0.0    0.0    0.0  0.0"
      ]
     },
     "execution_count": 4,
     "metadata": {},
     "output_type": "execute_result"
    }
   ],
   "source": [
    "ss = schrödinger1d(10)"
   ]
  },
  {
   "cell_type": "code",
   "execution_count": 91,
   "metadata": {
    "collapsed": false
   },
   "outputs": [
    {
     "name": "stderr",
     "output_type": "stream",
     "text": [
      "sys:1: MatplotlibDeprecationWarning: The set_axis_bgcolor function was deprecated in version 2.0. Use set_facecolor instead.\n"
     ]
    },
    {
     "data": {
      "text/plain": [
       "Plots.GRBackend()"
      ]
     },
     "execution_count": 91,
     "metadata": {},
     "output_type": "execute_result"
    }
   ],
   "source": [
    "using Plots, Interact\n",
    "gr()"
   ]
  },
  {
   "cell_type": "markdown",
   "metadata": {},
   "source": [
    "**[3]** (Opcional) Considera una matriz real y **simétrica**, $\\mathsf{S}$. Extiende el método de potencias para calcular *varios* eigenvalores y eigenvectores. [Pista: ¿cuáles propiedades especiales tienen las matrices simétricas, en términos de eigenvalores y eigenvectores?] "
   ]
  },
  {
   "cell_type": "code",
   "execution_count": null,
   "metadata": {
    "collapsed": true
   },
   "outputs": [],
   "source": []
  },
  {
   "cell_type": "markdown",
   "metadata": {},
   "source": [
    "## Facilidades de Julia para álgebra lineal numérica "
   ]
  },
  {
   "cell_type": "markdown",
   "metadata": {},
   "source": [
    "Resulta que Julia cuenta con facilidades muy completas para llevar a cabo tareas de álgebra lineal numérica. \n",
    "Provee un interfaz fácil de utilizar a librerías estándares como LAPACK.\n",
    "Para nuestros fines, dos de los más importantes son los siguientes.\n",
    "\n",
    "### Sistemas de ecuaciones lineales\n",
    "\n",
    "Para resolver el sistema de ecuaciones lineales $\\mathsf{A} \\cdot \\mathbf{x} = \\mathbf{b}$, utilizamos\n",
    "\n",
    "    A \\ b\n",
    "    \n",
    "[La notación rara surge así: `b / A` se puede considerar como $b \\, A^{-1}$. De la misma forma, `A \\ b` denote $A^{-1} \\, b$. Nótese que numéricamente **nunca** hay que calcular explícitamente la inversa de una matriz, sino más bien resolvemos directamente un sistema de ecuaciones].\n",
    "\n",
    "¿Qué algoritmo utiliza? Resulta que es inteligente: intenta escoger el algoritmo más adecuado para un problema dado."
   ]
  },
  {
   "cell_type": "markdown",
   "metadata": {},
   "source": [
    "### Problemas de eigenvalores y eigenvectores\n",
    "\n",
    "El cálculo de eigenvalores y eigenvectores en general es un área complicada. Julia provee, de nuevo, un interfaz sencillo a algoritmos ya probados. La sintaxis es\n",
    "\n",
    "    eig(A)\n",
    "    eigvals(A)\n",
    "    eigvecs(A)"
   ]
  },
  {
   "cell_type": "markdown",
   "metadata": {},
   "source": [
    "**[4]** Calcula los eigenvalores y eigenvectores de la matriz de discretización del operador de Schrödinger para una partícula libre. Compáralos con los resultados analíticos. ¿Qué observas?"
   ]
  },
  {
   "cell_type": "markdown",
   "metadata": {},
   "source": [
    "**[5]** Haz lo mismo para el oscilador armónico cuántico."
   ]
  },
  {
   "cell_type": "markdown",
   "metadata": {},
   "source": [
    "## Modos normales"
   ]
  },
  {
   "cell_type": "markdown",
   "metadata": {},
   "source": [
    "**[6]** Considera un sistema compuesto por cuatro carritos de masa $m$, acoplados con resortes sobre una pista recta. El carrito en cada extremo está acoplado mediante un resorte a una pared. Todos los resortes obedecen la ley de Hooke con la misma constante $k$.\n",
    "\n",
    "\n",
    "(i) Deduce las ecuaciones de movimiento a partir de la segunda ley de Newton y escríbelas en forma matricial. \n",
    "\n",
    "(ii) Para resolver el sistema de ecuaciones, proponemos la solución\n",
    "\n",
    "$$\n",
    "\\vec{x}(t) = \\mathrm{Re}(\\vec{z}(t)), \\quad \\vec{z}(t) = \\vec{a}e^{i\\omega t},\n",
    "$$\n",
    "donde $\\vec{a}$ es un vector complejo que tiene la información de la amplitud y la fase de las oscilaciones, que dependen de las condiciones iniciales. \n",
    "\n",
    "Las **frecuencias normales** del sistema son las raíces positivas de la ecuación característica de la matriz $\\mathbb{K} - \\omega^2\\mathbb{M}$ y los modos normales son los vectores que satisfacen la ecuación de autovalores $(\\mathbb{K} - \\omega^2\\mathbb{M})\\vec{a} = 0$. El movimiento del sistema está dado por la superposición de todos los modos normales.\n",
    "\n",
    "(iii) Calcula las frecuencias normales y los modos normales del sistema.\n",
    "\n",
    "(iv) Grafica, para cada modo normal, la posición de los carritos como función del tiempo. Describe cada modo normal en términos del movimiento de cada carrito.\n",
    "\n",
    "(v) Haz una animación del movimiento."
   ]
  }
 ],
 "metadata": {
  "kernelspec": {
   "display_name": "Julia 0.5.1-pre",
   "language": "julia",
   "name": "julia-0.5"
  },
  "language_info": {
   "file_extension": ".jl",
   "mimetype": "application/julia",
   "name": "julia",
   "version": "0.5.1"
  }
 },
 "nbformat": 4,
 "nbformat_minor": 1
}
