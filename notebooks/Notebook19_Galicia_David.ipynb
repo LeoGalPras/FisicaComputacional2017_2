{
 "cells": [
  {
   "cell_type": "markdown",
   "metadata": {},
   "source": [
    "# La ecuación de Poisson"
   ]
  },
  {
   "cell_type": "markdown",
   "metadata": {},
   "source": [
    "En este notebook, veremos cómo podemos resolver la **ecuación de Poisson** en 2D,\n",
    "\n",
    "$$ \\nabla^2 V(\\mathbf{x}) = -\\rho(\\mathbf{x}) \\qquad (*)$$\n",
    "\n",
    "para encontrar el potencial y campo eléctrico debido a una distribución de carga $\\rho(\\mathbf{x})$ en una caja cuadrada. Extenderemos la misma idea que aplicamos en 1D."
   ]
  },
  {
   "cell_type": "markdown",
   "metadata": {},
   "source": [
    "**[1]** Discreticemos la caja de tamaño $L_x \\times L_y$ con $M_x$ y $M_y$ celdas en $x$ y $y$, respectivamente, de tamaños $h_x$ y $h_y$. Denotemos por $V_{i,j}$ el valor aproximado de $V(x_i, y_j)$ en el nodo $(x_i, y_j)$.\n",
    "\n",
    "(i) Encuentra una aproximación en diferencias finitas para $\\nabla^2 V(x_i, y_j)$ en el punto $(x_i, y_j)$ de la malla.\n",
    "\n",
    "(ii) Así, escribe la ecuación discretizada correspondiente a (*) en el nodo $(x_i, y_j)$."
   ]
  },
  {
   "cell_type": "code",
   "execution_count": 1,
   "metadata": {
    "collapsed": false
   },
   "outputs": [
    {
     "data": {
      "text/plain": [
       "malla (generic function with 5 methods)"
      ]
     },
     "execution_count": 1,
     "metadata": {},
     "output_type": "execute_result"
    }
   ],
   "source": [
    "function malla(Lx=(0.0,1.0), Ly=(0.0,1.0), hx=1e-2, hy=1e-2)\n",
    "    Mx = Lx[1]:hx:Lx[2]\n",
    "    My = Lx[1]:hy:Ly[2]\n",
    "    return Mx, My\n",
    "end"
   ]
  },
  {
   "cell_type": "markdown",
   "metadata": {},
   "source": [
    "$$ V_{i,j} = \\frac{h_y^2(V_{i+1,j} + V_{i-1,j}) + h_x^2(V_{i,j+1} + V_{i,j-1}) + h_x^2 h_y^2( \\rho_{i,j})}{ 2(h_x^2 + h_y^2)}$$"
   ]
  },
  {
   "cell_type": "markdown",
   "metadata": {},
   "source": [
    "**[2]** Para seguir lo que hicimos en 1D, escribe todas estas ecuaciones, para todas las $i$ y $j$, simultáneamente como *una sola ecuación matricial*. Es decir, \n",
    "debemos recolectar todas las $\\phi(x_i, y_j)$ en *un solo vector*.\n",
    "\n",
    "(i) Inventa una manera de hacer esto (es decir, enlistar los puntos $(x_i, y_j)$ de una forma coherente), y escribe funciones correspondientes para pasar de la posición dada por $(i, j)$ a la posición $k$ en tu lista, y vice versa.\n",
    "\n",
    "(ii) Para sistemas chiquitos, muestra las matrices correspondientes que se generan."
   ]
  },
  {
   "cell_type": "code",
   "execution_count": 2,
   "metadata": {
    "collapsed": false
   },
   "outputs": [
    {
     "name": "stdout",
     "output_type": "stream",
     "text": [
      "length(a[1,:]) = 2\n"
     ]
    },
    {
     "data": {
      "text/plain": [
       "3"
      ]
     },
     "execution_count": 2,
     "metadata": {},
     "output_type": "execute_result"
    }
   ],
   "source": [
    "a = [1 2\n",
    "    3 4 \n",
    "    5 6]\n",
    "@show length(a[1,:])\n",
    "length(a[:,1])"
   ]
  },
  {
   "cell_type": "code",
   "execution_count": 3,
   "metadata": {
    "collapsed": false
   },
   "outputs": [
    {
     "data": {
      "text/plain": [
       "2×3 Array{Int64,2}:\n",
       " 0  1  2\n",
       " 3  4  5"
      ]
     },
     "execution_count": 3,
     "metadata": {},
     "output_type": "execute_result"
    }
   ],
   "source": [
    "b = [1 2 3\n",
    "    1 2 3\n",
    "    1 2 3]\n",
    "c = [0 1 2\n",
    "    3 4 5]"
   ]
  },
  {
   "cell_type": "code",
   "execution_count": 4,
   "metadata": {
    "collapsed": false
   },
   "outputs": [
    {
     "data": {
      "text/plain": [
       "matriz_a_vector (generic function with 1 method)"
      ]
     },
     "execution_count": 4,
     "metadata": {},
     "output_type": "execute_result"
    }
   ],
   "source": [
    "function matriz_a_vector(a)\n",
    "    m = length(a[1,:])\n",
    "    n = length(a[:,1])\n",
    "    k = 1\n",
    "    vec_a = zeros(m*n)\n",
    "   for i in 1:n\n",
    "        for j in 1:m\n",
    "            k = (i-1)*m + j\n",
    "            vec_a[k] = a[i,j]\n",
    "            #@show a[i,j], i ,j, k\n",
    "        end\n",
    "    end\n",
    "    \n",
    "    return vec_a\n",
    "end"
   ]
  },
  {
   "cell_type": "code",
   "execution_count": 5,
   "metadata": {
    "collapsed": false
   },
   "outputs": [],
   "source": [
    "matriz_a_vector(a);"
   ]
  },
  {
   "cell_type": "code",
   "execution_count": 6,
   "metadata": {
    "collapsed": true
   },
   "outputs": [],
   "source": [
    "matriz_a_vector(b);"
   ]
  },
  {
   "cell_type": "code",
   "execution_count": 7,
   "metadata": {
    "collapsed": false
   },
   "outputs": [
    {
     "data": {
      "text/plain": [
       "6-element Array{Float64,1}:\n",
       " 0.0\n",
       " 1.0\n",
       " 2.0\n",
       " 3.0\n",
       " 4.0\n",
       " 5.0"
      ]
     },
     "execution_count": 7,
     "metadata": {},
     "output_type": "execute_result"
    }
   ],
   "source": [
    "matriz_a_vector(c)"
   ]
  },
  {
   "cell_type": "code",
   "execution_count": 8,
   "metadata": {
    "collapsed": false
   },
   "outputs": [
    {
     "data": {
      "text/plain": [
       "5"
      ]
     },
     "execution_count": 8,
     "metadata": {},
     "output_type": "execute_result"
    }
   ],
   "source": [
    "function pos_matriz(i, j, a)\n",
    "    m = length(a[1,:])\n",
    "    return k = (i-1)*m + j\n",
    "end\n",
    "pos_matriz(2,3,a)"
   ]
  },
  {
   "cell_type": "code",
   "execution_count": 62,
   "metadata": {
    "collapsed": false
   },
   "outputs": [
    {
     "name": "stderr",
     "output_type": "stream",
     "text": [
      "WARNING: Method definition pos_vector(Any, Any) in module Main at In[50]:2 overwritten at In[62]:2.\n"
     ]
    },
    {
     "data": {
      "text/plain": [
       "pos_vector (generic function with 1 method)"
      ]
     },
     "execution_count": 62,
     "metadata": {},
     "output_type": "execute_result"
    }
   ],
   "source": [
    "function pos_vector(k,a) #mal\n",
    "    m = length(a[1,:])\n",
    "    n = length(a[:,1])\n",
    "    i = k÷m +1   #?\n",
    "    j = k÷n +1 #?\n",
    "    @show i,j\n",
    "    return i, j, a[i,j]\n",
    "end"
   ]
  },
  {
   "cell_type": "code",
   "execution_count": 61,
   "metadata": {
    "collapsed": false
   },
   "outputs": [
    {
     "name": "stdout",
     "output_type": "stream",
     "text": [
      "(i,j) = (2,2)\n"
     ]
    },
    {
     "data": {
      "text/plain": [
       "(2,2,4)"
      ]
     },
     "execution_count": 61,
     "metadata": {},
     "output_type": "execute_result"
    }
   ],
   "source": [
    "pos_vector(3,c)"
   ]
  },
  {
   "cell_type": "markdown",
   "metadata": {},
   "source": [
    "### Matriz A para este sistema"
   ]
  },
  {
   "cell_type": "code",
   "execution_count": null,
   "metadata": {
    "collapsed": false
   },
   "outputs": [],
   "source": []
  },
  {
   "cell_type": "markdown",
   "metadata": {},
   "source": [
    "**[3]** (i) Resuelve la ecuación de Laplace,\n",
    "$$\\nabla^2 V = 0$$ con condiciones de frontera de Dirichlet, es decir, con valores dados en las fronteras. Empieza con el caso que $V=0$ en tres de las fronteras y $V=\\mathrm{constante}$ en la frontera de arriba. \n",
    "\n",
    "(ii) Dibuja el potencial como una función en 3D, y como equipotenciales (con la función `contour` o similar).\n",
    "\n",
    "(iii) Encuentra las componentes del campo eléctrico $\\mathbf{E} = -\\nabla \\phi$. Dibuja el campo vectorial usando la función `quiver`.\n",
    "\n",
    "(iv) Experimenta con distintas condiciones de frontera. Utiliza `@manipulate`."
   ]
  },
  {
   "cell_type": "markdown",
   "metadata": {},
   "source": [
    "**[4]** Resuelve la ecuación de Poisson para una carga puntual tipo delta en algún punto de la malla. Utiliza condiciones de frontera $V(x_i, y_j) = 0$ (representando un campo que decae $0$ a una distancia grande desde la carga). Dibuja el potencial y el campo eléctrico."
   ]
  },
  {
   "cell_type": "markdown",
   "metadata": {},
   "source": [
    "**[5]** Encuentra el potencial y el campo eléctrico para un capacitor \"real\", es decir, dos placas paralelas de tamaño finito (menor de la caja), tanto entre las placas como afuera de ellas."
   ]
  }
 ],
 "metadata": {
  "kernelspec": {
   "display_name": "Julia 0.5.1-pre",
   "language": "julia",
   "name": "julia-0.5"
  },
  "language_info": {
   "file_extension": ".jl",
   "mimetype": "application/julia",
   "name": "julia",
   "version": "0.5.1"
  },
  "toc": {
   "colors": {
    "hover_highlight": "#DAA520",
    "running_highlight": "#FF0000",
    "selected_highlight": "#FFD700"
   },
   "moveMenuLeft": true,
   "nav_menu": {
    "height": "30px",
    "width": "252px"
   },
   "navigate_menu": true,
   "number_sections": true,
   "sideBar": true,
   "threshold": "2",
   "toc_cell": false,
   "toc_section_display": "block",
   "toc_window_display": false
  }
 },
 "nbformat": 4,
 "nbformat_minor": 1
}
