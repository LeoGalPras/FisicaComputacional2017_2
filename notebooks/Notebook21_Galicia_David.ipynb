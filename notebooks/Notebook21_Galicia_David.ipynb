{
 "cells": [
  {
   "cell_type": "markdown",
   "metadata": {},
   "source": [
    "# Procesos estocásticos"
   ]
  },
  {
   "cell_type": "markdown",
   "metadata": {},
   "source": [
    "El concepto de *aleatoriedad* o *estocasticidad* juega un papel cada vez más importante en la física. Se tratan de procesos que son *aleatorios* o *estocásticos*; un ejemplo es el decaimiento radioactivo, \n",
    "\n",
    "Para modelar estos procesos en la computadora, necesitamos poder generar *números aleatorios* en la computadora. Hay un solo problema: ¡una computadora determinista no tiene fuente de aleatoriedad!\n",
    "\n",
    "[Sin embargo, se pueden captar datos de procesos aleatorios reales, o de la propia computadara; ver, por ejemplo, <http://www.random.org/>.]\n",
    "\n"
   ]
  },
  {
   "cell_type": "markdown",
   "metadata": {},
   "source": [
    "# Números pseudoaleatorios"
   ]
  },
  {
   "cell_type": "markdown",
   "metadata": {},
   "source": [
    "Podemos producir secuencias de números que *parecen ser* aleatorios (decimos que son *pseudoaleatorios*), usando iteraciones deterministas suficientemente complicadas; sin embargo, estas se tienen que diseñar con mucho cuidado.\n",
    "\n",
    "Un ejemplo se utilizaba antes, pero que *ya no se ocupa*, ya que no es lo suficientemente bueno, son los llamados generadores congruenciales lineales, de la forma\n",
    "\n",
    "$$X_{n+1} = \\left( a X_n + c \\right)~~\\bmod~~m.$$"
   ]
  },
  {
   "cell_type": "markdown",
   "metadata": {},
   "source": [
    "Implementa esta recurrencia con $a = 6364136223846793005$ y $c=\t1442695040888963407$. Usamos enteros *unsigned* (sin signo):\n",
    "\n",
    "    a = UInt64(6364136223846793005)\n",
    "    \n",
    "Tomamos $m=2^{64}$, por lo cual **no es necesario llevar a cabo el `mod` de forma explícita**.\n",
    "    \n",
    "Los números resultantes caen entre 0 y $2^{64} - 1$, inclusivo.\n",
    "\n",
    "**[1]** (i) Escribe una función que implementa esta recurrencia para generar un número aleatorio entero en este rango nuevo cada vez que la llamas.\n",
    "\n",
    "(ii) Utiliza esto para hacer una función `mi_rand` que genere números reales aleatorios en el intervalo real $[0, 1)$, es decir, que incluya $0$ pero excluye $1$."
   ]
  },
  {
   "cell_type": "code",
   "execution_count": 184,
   "metadata": {
    "collapsed": false
   },
   "outputs": [
    {
     "data": {
      "text/plain": [
       "0x7fffffffffffffff"
      ]
     },
     "execution_count": 184,
     "metadata": {},
     "output_type": "execute_result"
    }
   ],
   "source": [
    "const a = UInt64(6364136223846793005)\n",
    "const c = UInt64(1442695040888963407)\n",
    "m = UInt64( (2^63 - 1))"
   ]
  },
  {
   "cell_type": "code",
   "execution_count": 185,
   "metadata": {
    "collapsed": false
   },
   "outputs": [
    {
     "name": "stderr",
     "output_type": "stream",
     "text": [
      "WARNING: Method definition aleatorio() in module Main at In[2]:5 overwritten at In[185]:3.\n"
     ]
    },
    {
     "data": {
      "text/plain": [
       "aleatorio (generic function with 1 method)"
      ]
     },
     "execution_count": 185,
     "metadata": {},
     "output_type": "execute_result"
    }
   ],
   "source": [
    "x0 = convert(UInt64,floor(time()))\n",
    "function aleatorio()\n",
    "    global x0\n",
    "    x_n = a*x0 + c\n",
    "    x0 = x_n\n",
    "    return x0\n",
    "end"
   ]
  },
  {
   "cell_type": "code",
   "execution_count": 186,
   "metadata": {
    "collapsed": false
   },
   "outputs": [
    {
     "data": {
      "text/plain": [
       "1.2204193108093772e19"
      ]
     },
     "execution_count": 186,
     "metadata": {},
     "output_type": "execute_result"
    }
   ],
   "source": [
    "convert(Float64,aleatorio())"
   ]
  },
  {
   "cell_type": "code",
   "execution_count": 187,
   "metadata": {
    "collapsed": false
   },
   "outputs": [
    {
     "name": "stderr",
     "output_type": "stream",
     "text": [
      "WARNING: Method definition mi_rand() in module Main at In[15]:2 overwritten at In[187]:2.\n"
     ]
    },
    {
     "data": {
      "text/plain": [
       "mi_rand (generic function with 2 methods)"
      ]
     },
     "execution_count": 187,
     "metadata": {},
     "output_type": "execute_result"
    }
   ],
   "source": [
    "function mi_rand()\n",
    "    global x0\n",
    "    x_n = a*x0 + c\n",
    "    x0 = x_n\n",
    "    r = x0/(big(2)^64)\n",
    "end"
   ]
  },
  {
   "cell_type": "code",
   "execution_count": 188,
   "metadata": {
    "collapsed": false
   },
   "outputs": [
    {
     "name": "stderr",
     "output_type": "stream",
     "text": [
      "WARNING: Method definition mi_rand(Any) in module Main at In[66]:2 overwritten at In[188]:2.\n"
     ]
    },
    {
     "data": {
      "text/plain": [
       "mi_rand (generic function with 2 methods)"
      ]
     },
     "execution_count": 188,
     "metadata": {},
     "output_type": "execute_result"
    }
   ],
   "source": [
    "function mi_rand(n)\n",
    "    global x0\n",
    "    r = zeros(n)\n",
    "    for i in 1:n\n",
    "    x_n = a*x0 + c\n",
    "    x0 = x_n\n",
    "    r[i] = x0/(big(2)^64)\n",
    "    end\n",
    "    r\n",
    "end"
   ]
  },
  {
   "cell_type": "code",
   "execution_count": 203,
   "metadata": {
    "collapsed": false
   },
   "outputs": [],
   "source": [
    "mi_rand(100);"
   ]
  },
  {
   "cell_type": "markdown",
   "metadata": {},
   "source": [
    "**[2]** Escribe una función para calcular un *histograma*, es decir, dado un vector de datos de entrada, y un número $M$ de cajas, calcula cuántos de los datos cae en cada caja."
   ]
  },
  {
   "cell_type": "code",
   "execution_count": 190,
   "metadata": {
    "collapsed": true
   },
   "outputs": [],
   "source": [
    "using Plots"
   ]
  },
  {
   "cell_type": "code",
   "execution_count": 191,
   "metadata": {
    "collapsed": false
   },
   "outputs": [
    {
     "name": "stderr",
     "output_type": "stream",
     "text": [
      "WARNING: Method definition mi_hist2(Any, Any) in module Main at In[166]:2 overwritten at In[191]:2.\n"
     ]
    },
    {
     "data": {
      "text/plain": [
       "mi_hist2 (generic function with 1 method)"
      ]
     },
     "execution_count": 191,
     "metadata": {},
     "output_type": "execute_result"
    }
   ],
   "source": [
    "function mi_hist2(datos, M) #corregir primera caja\n",
    "    sort!(datos) #ordenar\n",
    "    max = datos[end]\n",
    "    min = datos[1]\n",
    "    cajas = linspace(min,max,M+1) \n",
    "    reps = zeros(Int64,M) #contador\n",
    "    for i in 1:length(datos)\n",
    "        for j in 2:M\n",
    "            #@show datos[i], cajas[j], j\n",
    "            if datos[i] <= cajas[j]\n",
    "                reps[j] += 1\n",
    "                break\n",
    "            else\n",
    "                continue\n",
    "            end\n",
    "        end\n",
    "    end\n",
    "    return reps\n",
    "end"
   ]
  },
  {
   "cell_type": "code",
   "execution_count": 192,
   "metadata": {
    "collapsed": false
   },
   "outputs": [
    {
     "name": "stderr",
     "output_type": "stream",
     "text": [
      "WARNING: Method definition histo(Array, Int64) in module Main at In[167]:2 overwritten at In[192]:2.\n"
     ]
    },
    {
     "data": {
      "text/plain": [
       "histo (generic function with 1 method)"
      ]
     },
     "execution_count": 192,
     "metadata": {},
     "output_type": "execute_result"
    }
   ],
   "source": [
    "function histo(datos::Array, N_hist::Int64)\n",
    "    sort!(datos) #orden\n",
    "    sup = datos[end] \n",
    "    inf = datos[1]\n",
    "    dx = (sup - inf)/ N_hist #largo intervalo\n",
    "    bin = zeros(Int64,N_hist) #genero bin para contar repeticiones\n",
    "    for i = 1 : length(datos)\n",
    "            x1 = inf\n",
    "        for j = 1 : N_hist\n",
    "            x2 = x1 + dx\n",
    "            if datos[i] <= x2\n",
    "                bin[j] += 1\n",
    "                break\n",
    "            else\n",
    "                x1 += dx\n",
    "            end\n",
    "        end\n",
    "    end\n",
    "    return bin\n",
    "end"
   ]
  },
  {
   "cell_type": "code",
   "execution_count": 193,
   "metadata": {
    "collapsed": false
   },
   "outputs": [
    {
     "data": {
      "text/plain": [
       "5-element Array{Int64,1}:\n",
       " 3\n",
       " 1\n",
       " 2\n",
       " 1\n",
       " 3"
      ]
     },
     "execution_count": 193,
     "metadata": {},
     "output_type": "execute_result"
    }
   ],
   "source": [
    "histo(rand(10),5)"
   ]
  },
  {
   "cell_type": "code",
   "execution_count": 194,
   "metadata": {
    "collapsed": false
   },
   "outputs": [
    {
     "data": {
      "text/html": [
       "<img src=\"data:image/png;base64,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\" />"
      ]
     },
     "execution_count": 194,
     "metadata": {},
     "output_type": "execute_result"
    }
   ],
   "source": [
    "bar(histo(rand(2000),50))"
   ]
  },
  {
   "cell_type": "markdown",
   "metadata": {},
   "source": [
    "**[3]** (i) Utiliza tu función para generar $N$ números aleatorios y haz un histograma.\n",
    "\n",
    "(ii) Cambia $N$ y vuelve a calcular el histograma. Encuentra el tamaño del \"error\" de las barras con respecto al valor esperado en función de $N$. \n",
    "\n",
    "(iii) Dibuja el error *relativo* como función de $N$. ¿Qué esperas que pase? ¿Cómo cambia el error relativo con $N$? "
   ]
  },
  {
   "cell_type": "code",
   "execution_count": 195,
   "metadata": {
    "collapsed": false
   },
   "outputs": [
    {
     "data": {
      "text/html": [
       "<img src=\"data:image/png;base64,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\" />"
      ]
     },
     "execution_count": 195,
     "metadata": {},
     "output_type": "execute_result"
    }
   ],
   "source": [
    "bar(histo(mi_rand(2000),50))"
   ]
  },
  {
   "cell_type": "code",
   "execution_count": 196,
   "metadata": {
    "collapsed": false
   },
   "outputs": [
    {
     "data": {
      "text/plain": [
       "error_histo (generic function with 1 method)"
      ]
     },
     "execution_count": 196,
     "metadata": {},
     "output_type": "execute_result"
    }
   ],
   "source": [
    "function error_histo(datos, n)\n",
    "    abs = (histo(datos, n) - length(datos)/n)\n",
    "end"
   ]
  },
  {
   "cell_type": "code",
   "execution_count": 199,
   "metadata": {
    "collapsed": false
   },
   "outputs": [
    {
     "data": {
      "text/plain": [
       "10-element Array{Float64,1}:\n",
       "  31.0\n",
       "  16.0\n",
       "  11.0\n",
       "   2.0\n",
       "  -3.0\n",
       "  -3.0\n",
       "  -8.0\n",
       " -13.0\n",
       "  -2.0\n",
       " -31.0"
      ]
     },
     "execution_count": 199,
     "metadata": {},
     "output_type": "execute_result"
    }
   ],
   "source": [
    "error_histo(mi_rand(2000),10)"
   ]
  },
  {
   "cell_type": "code",
   "execution_count": 202,
   "metadata": {
    "collapsed": false
   },
   "outputs": [
    {
     "data": {
      "text/html": [
       "<img src=\"data:image/png;base64,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\" />"
      ]
     },
     "execution_count": 202,
     "metadata": {},
     "output_type": "execute_result"
    }
   ],
   "source": [
    "dd = mi_rand(2000)\n",
    "bar(histo(dd, 50))\n",
    "bar!(error_histo(dd, 50))"
   ]
  },
  {
   "cell_type": "markdown",
   "metadata": {},
   "source": [
    "En Julia, existe una función `rand()` que utiliza un generador moderno de alta calidad, actualmente el llamado Mersenne Twister, para generar número aleatorios. Hay otros generadores disponibles en el paquete [`RandomNumbers.jl`](https://github.com/sunoru/RandomNumbers.jl)."
   ]
  },
  {
   "cell_type": "markdown",
   "metadata": {},
   "source": [
    "# Caminatas aleatorias"
   ]
  },
  {
   "cell_type": "markdown",
   "metadata": {},
   "source": [
    "Uno de los procesos estocásticos más fundamentales e importantes en la física es el *movimiento Browniano*. Un acercamiento inicial a este problema se da a través de las *caminatas aleatorias*, que modela una partícula que recibe impactos al azar, los cuales hacen que brinque en direcciones aleatorias."
   ]
  },
  {
   "cell_type": "markdown",
   "metadata": {},
   "source": [
    "**[4]** Piensa en un caminante aleatorio en una dimensión que vive en los enteros. Empieza en la posición $x=0$. En cada paso de tiempo, brinca a la derecha o a la izquierda con igual probabilidad $\\frac{1}{2}$.\n",
    "\n",
    "(i) Utiliza la función `mi_rand` o `rand` para generar el brinco: $+1$ o $-1$, cada uno con probabilidad $\\frac{1}{2}$.\n",
    "\n",
    "(ii) Haz una función que calcule la trayectoria de una caminata aleatoria que empiece en $0$ y toma $N$ pasos al azar. \n",
    "\n",
    "(iii) Dibuja unas cuantas trayectorias en una misma gráfica, con la posición $x(t)$ como función del tiempo $t$. ¿Qué observas?\n",
    "\n",
    "(iv) Ahora dibuja muchas trayectorias en una misma gráfica. ¿Qué observas?"
   ]
  },
  {
   "cell_type": "code",
   "execution_count": 234,
   "metadata": {
    "collapsed": false
   },
   "outputs": [
    {
     "name": "stderr",
     "output_type": "stream",
     "text": [
      "WARNING: Method definition caminante1d(Any) in module Main at In[204]:2 overwritten at In[234]:2.\n"
     ]
    },
    {
     "data": {
      "text/plain": [
       "caminante1d (generic function with 1 method)"
      ]
     },
     "execution_count": 234,
     "metadata": {},
     "output_type": "execute_result"
    }
   ],
   "source": [
    "function caminante1d(n)\n",
    "    trayectoria = zeros(n)\n",
    "    for i in 1:n\n",
    "        if rand()<= 1/2\n",
    "            trayectoria[i] += 1\n",
    "        else\n",
    "            trayectoria[i] -= 1\n",
    "        end\n",
    "    end  \n",
    "    trayectoria     \n",
    "end"
   ]
  },
  {
   "cell_type": "code",
   "execution_count": 239,
   "metadata": {
    "collapsed": false
   },
   "outputs": [
    {
     "data": {
      "text/plain": [
       "-2.0"
      ]
     },
     "execution_count": 239,
     "metadata": {},
     "output_type": "execute_result"
    }
   ],
   "source": [
    "caminante1d(10)\n",
    "sum(caminante1d(10))"
   ]
  },
  {
   "cell_type": "markdown",
   "metadata": {},
   "source": [
    "**[5]** Modifica tu función para que brinque a la derecha con probabilidad $p$ y a la izquierda con probabilidad $q := 1-p$. Dibuja las trayectorias para varios valores de $p$. ¿Qué observas?"
   ]
  },
  {
   "cell_type": "markdown",
   "metadata": {},
   "source": [
    "**[6]** ¿Cómo puedes caracterizar la posición de los caminantes después de $N$ pasos? Hazlo. ¿Cómo evoluciona en el tiempo? Si es demasiado trivial, piensa en otra caracterización."
   ]
  },
  {
   "cell_type": "markdown",
   "metadata": {},
   "source": [
    "# Caminatas aleatorias en 2D"
   ]
  },
  {
   "cell_type": "markdown",
   "metadata": {},
   "source": [
    "**[7]** Una partícula grande inmersa en un fluido lleva a cabo una caminata aleatoria / movimiento Browniano. \n",
    "\n",
    "(i) Simula una partícula que vive en una red cuadrada con coordenadas enteras y puede brincar en cualquiera de las 4 direcciones más cercanas con igual probabilidad. \n",
    "\n",
    "(ii) Dibuja unas trayectorias. ¿Qué observas?\n",
    "\n",
    "(iii) Dibuja muchas trayectorias. ¿Qué observas?\n",
    "\n",
    "(iv) ¿Cómo puedes caracterizar la distribución al tiempo $t$?"
   ]
  },
  {
   "cell_type": "markdown",
   "metadata": {},
   "source": [
    "**[8]** Para acercarnos al movimiento Browniano, podemos hacer que los brincos sean de distintos tamaños. Piensa en varias formas de hacerlo, implementarlas, y dibuja las trayectorias correspondientes. ¿Cómo se pueden caracterizar los comportamientos resultantes?"
   ]
  }
 ],
 "metadata": {
  "kernelspec": {
   "display_name": "Julia 0.5.1-pre",
   "language": "julia",
   "name": "julia-0.5"
  },
  "language_info": {
   "file_extension": ".jl",
   "mimetype": "application/julia",
   "name": "julia",
   "version": "0.5.1"
  }
 },
 "nbformat": 4,
 "nbformat_minor": 1
}
