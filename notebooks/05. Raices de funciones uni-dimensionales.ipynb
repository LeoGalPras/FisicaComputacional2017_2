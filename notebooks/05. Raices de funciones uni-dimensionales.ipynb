{
 "cells": [
  {
   "cell_type": "markdown",
   "metadata": {},
   "source": [
    "# Raíces de funciones uni-dimensionales"
   ]
  },
  {
   "cell_type": "markdown",
   "metadata": {},
   "source": [
    "En este notebook, investigaremos algunos métodos para encontrar **raíces** de funciones uni-dimensionales, usando métodos iterativos. Esto es un problema que ocurre por todos lados en la física, por ejemplo para el pozo cuadrado en mecánica cuántica, o para encontrar el valor máximo de una función.\n",
    "\n",
    "Recuerda que $x^*$ es una raíz (o cero) de la función $f$ si $f(x^*) = 0$. Como sabemos, en general las raíces de una función no se pueden encontrar de manera analítica, excepto para funciones $f$ que sean polinomios de grado $\\le 4$.\n",
    "\n",
    "Por lo tanto, para encontrar raíces tendremos que utilizar algoritmos iterativos.\n",
    "Recuerda que un algoritmo iterativo tiene la forma general\n",
    "\n",
    "$$x_{n+1} := f(x_n),$$\n",
    "\n",
    "y consiste en comenzar en un punto inicial $x_0$ y generar una secuencia $x_1 = f(x_0)$; $x_2 = f(x_1)$, etc.\n",
    "Si diseñamos correctamente el algoritmo, la esperanza es que la secuencia $(x_n)_{n=1}^\\infty$ converja a alguna raíz  $x^*$ con $f(x_\\infty) = 0$, es decir que $f(x_n) \\to 0$ cuando $n \\to \\infty$."
   ]
  },
  {
   "cell_type": "markdown",
   "metadata": {},
   "source": [
    "Dado que no podemos llevar a cabo la iteración un número infinito de veces, se corta la iteración después de un cierto número de pasos, para dar una solución *aproximada*, que se encuentra dentro de cierta *tolerancia* del resultado teórico exacto $x^*$. Por lo tanto, cualquier algoritmo iterativo requiere una condición de terminación."
   ]
  },
  {
   "cell_type": "markdown",
   "metadata": {},
   "source": [
    "# Raíces de funciones: Bisección"
   ]
  },
  {
   "cell_type": "markdown",
   "metadata": {},
   "source": [
    "Un primer método para encontrar una raíz es el **método de bisección**.\n",
    "Dada una función continua $f$, una condición suficiente (pero no necesaria) para que *exista* una raiz en un intervalo dado $[a, b]$ es que $F$ cambie de signo en el intervalo, es decir, que $f(a)$ y $f(b)$ tengan signos opuestos. Si ocurre esto, entonces el teorema del valor intermedio nos dice que se sigue que $f$ sí tiene al menos una raíz en $[a, b]$."
   ]
  },
  {
   "cell_type": "markdown",
   "metadata": {},
   "source": [
    "[1] La idea del método de bisección es de adivinar que el punto medio del intervalo $[a, b]$ sea una primera aproximación para la raíz. Escribamos una función que implemente bisección, que toma como argumento la función $f$ y el intervalo $[a, b]$.\n",
    "\n",
    "(i) Define $c$ como el punto medio del intervalo.\n",
    "\n",
    "(ii) Esto divide el intervalo original en dos partes. Es posible (aunque improbable) que $c$ ya es la raíz, en cuyo caso ya podemos terminar la función y regresar la raíz que hemos encontrado. ¿Cómo se checa si ya es la raíz? Si no, ¿cómo podemos saber en cuál de los dos sub-intervalos cae la raíz? Impleméntalo. \n",
    "\n",
    "[Pista: Tal vez querrás definir una función `signo` que toma un argumento `x` y regresa $0$ si `x` es igual a `0`, regresa `1` si `x` es mayor que cero, y regresa `-1` si `x` es menor que cero.]\n",
    "\n",
    "(iii) Repite estos pasos hasta que encuentres la raíz con cierta tolerancia."
   ]
  },
  {
   "cell_type": "code",
   "execution_count": 90,
   "metadata": {
    "collapsed": false
   },
   "outputs": [
    {
     "name": "stderr",
     "output_type": "stream",
     "text": [
      "WARNING: Method definition signo(Real) in module Main at In[83]:2 overwritten at In[90]:2.\n",
      "WARNING: Method definition ceros_biseccion(Function, Real, Real) in module Main at In[83]:17 overwritten at In[90]:17.\n",
      "\u001b[1m\u001b[31mWARNING: replacing docs for 'ceros_biseccion :: Tuple{Function,Real,Real}' in module 'Main'.\u001b[0m\n"
     ]
    },
    {
     "data": {
      "text/plain": [
       "ceros_biseccion"
      ]
     },
     "execution_count": 90,
     "metadata": {},
     "output_type": "execute_result"
    }
   ],
   "source": [
    "function signo(x::Real)\n",
    "   if x < 0\n",
    "        return signo_x = -1\n",
    "    elseif x == 0\n",
    "        return signo_x = 0\n",
    "    elseif x > 0\n",
    "        return signo_x = 1\n",
    "    end\n",
    "end\n",
    "\n",
    "\n",
    "\n",
    "\"\"\"\n",
    "Función que calcula una raíz 'raiz' de una función real F en un intervalo [a,b] utilizando el método de bisección.\n",
    "\"\"\"\n",
    "function ceros_biseccion(F::Function, a::Real, b::Real)\n",
    "    c = (a+b)/2      #calculo el punto medio\n",
    "    if signo(F(c)) == 0\n",
    "        return raiz = c #si le atinas justo a la mitad del intervalo regresa\n",
    "    else\n",
    "        i = 0 #inicio contador para tolerancia\n",
    "        while F(c) > 1e-15 #defino una tolerancia de la raiz menor a 10^-15\n",
    "            i += 1\n",
    "            if signo(F(c))*signo(F(a)) < 0\n",
    "                a, b = a, c #a se queda igual, b se vuelve el punto medio [a,b]->[a,c]\n",
    "                c = (a+b)/2\n",
    "                if i == 100000\n",
    "                    error(\"No se encontró raíz.\")\n",
    "                end\n",
    "            else\n",
    "                a, b = c, b #b se queda igual, a se vuelve el punto medio [a,b]->[c,b]\n",
    "                c = (a+b)/2\n",
    "                if i == 100000\n",
    "                    error(\"No se encontró raíz.\")\n",
    "                end\n",
    "            end\n",
    "        end\n",
    "        end      \n",
    "    return raiz = c\n",
    "end"
   ]
  },
  {
   "cell_type": "code",
   "execution_count": 93,
   "metadata": {
    "collapsed": false
   },
   "outputs": [
    {
     "name": "stderr",
     "output_type": "stream",
     "text": [
      "WARNING: Method definition g(Any) in module Main at In[92]:1 overwritten at In[93]:1.\n"
     ]
    },
    {
     "data": {
      "text/plain": [
       "0.5"
      ]
     },
     "execution_count": 93,
     "metadata": {},
     "output_type": "execute_result"
    }
   ],
   "source": [
    "g(x) = x^2 -2\n",
    "ceros_biseccion(g, -1, 2)"
   ]
  },
  {
   "cell_type": "code",
   "execution_count": 94,
   "metadata": {
    "collapsed": false
   },
   "outputs": [
    {
     "data": {
      "text/plain": [
       "1.5707963267948966"
      ]
     },
     "execution_count": 94,
     "metadata": {},
     "output_type": "execute_result"
    }
   ],
   "source": [
    "pi/2"
   ]
  },
  {
   "cell_type": "markdown",
   "metadata": {},
   "source": [
    "[2] Aplica tu función para encontrar *las dos* raíces cuadradas de $2$. Para hacerlo, tendrás que escoger (a mano) intervalos iniciales a mano cumplan con la condición de cambio de signo."
   ]
  },
  {
   "cell_type": "code",
   "execution_count": 86,
   "metadata": {
    "collapsed": false
   },
   "outputs": [
    {
     "name": "stderr",
     "output_type": "stream",
     "text": [
      "WARNING: Method definition h(Any) in module Main at In[78]:1 overwritten at In[86]:1.\n"
     ]
    },
    {
     "data": {
      "text/plain": [
       "0.6749999999999999"
      ]
     },
     "execution_count": 86,
     "metadata": {},
     "output_type": "execute_result"
    }
   ],
   "source": [
    "h(x) = x - sqrt(2)\n",
    "ceros_biseccion(h,-0.1,3)"
   ]
  },
  {
   "cell_type": "code",
   "execution_count": 68,
   "metadata": {
    "collapsed": false
   },
   "outputs": [
    {
     "data": {
      "text/plain": [
       "-0.5"
      ]
     },
     "execution_count": 68,
     "metadata": {},
     "output_type": "execute_result"
    }
   ],
   "source": [
    "ceros_biseccion(h,-2,1)"
   ]
  },
  {
   "cell_type": "markdown",
   "metadata": {},
   "source": [
    "[3] (i) Haz una versión nueva de tu función que regresa un arreglo de todos los iterados `x`. Utiliza un método gráfico para estimar la tasa de convergencia del método hacia la raíz."
   ]
  },
  {
   "cell_type": "code",
   "execution_count": null,
   "metadata": {
    "collapsed": true
   },
   "outputs": [],
   "source": []
  },
  {
   "cell_type": "markdown",
   "metadata": {},
   "source": [
    "(ii) Haz una versión nueva de tu función que escoge otro punto (que no sea el punto medio) entre $a$ y $b$, escogido de forma lineal entre $a$ y $b$ con un parámetro $\\alpha$, tal que $\\alpha = 0$ da $a$ y $\\alpha=1$ da $b$. ¿Cambia la tasa de convergencia?"
   ]
  },
  {
   "cell_type": "code",
   "execution_count": null,
   "metadata": {
    "collapsed": true
   },
   "outputs": [],
   "source": []
  },
  {
   "cell_type": "markdown",
   "metadata": {},
   "source": [
    "# Raíz cuadrada: El algoritmo Babilónico"
   ]
  },
  {
   "cell_type": "markdown",
   "metadata": {},
   "source": [
    "Un ejemplo de un algoritmo sorprendente es el *algoritmo Babilónico* (o de Herón) para calcular la raiz cuadrada $\\sqrt{y}$ de un número real $y$. "
   ]
  },
  {
   "cell_type": "markdown",
   "metadata": {},
   "source": [
    "[4] ¿De cuál ecuación es raíz el número $\\sqrt{y}$? ¿Cuál otra solución de esta ecuación hay?"
   ]
  },
  {
   "cell_type": "markdown",
   "metadata": {},
   "source": [
    "Para un algoritmo, siempre necesitamos una *idea*, que toma una adivinanza $x_n$ y produce una (probablemente) mejor, $x_{n+1}$. La idea del algoritmo Babilónico es la siguiente."
   ]
  },
  {
   "cell_type": "markdown",
   "metadata": {},
   "source": [
    "[5] (i) Dada una adivinanza $x_n$, es posible (pero improbable) que $x_n$ ya es $\\sqrt{y}$. ¿Cómo lo puedes verificar, sin utilizar (por supuesto) alguna función en Julia que calcule la raíz cuadrada? Escribe el código correspondiente.\n",
    "\n",
    "(ii) Si $x_n$ no es raíz, demuestra que $\\frac{y}{x_n}$ se encuentra *del lado opuesto de $\\sqrt{y}$ que $x_n$* sobre la recta real.\n",
    "\n",
    "(iii) Así, tenemos dos valores que se encuentran por dos lados diferentes de $\\sqrt{y}$. ¿Cuál sería una mejor adivinanza para $x_{n+1}$? Impleméntalo.\n",
    "\n",
    "[6] (i) Utiliza esta idea para escribir una función que calcule $\\sqrt{y}$ para una $y$ dada.\n",
    "\n",
    "(ii) ¿Qué tan rápido converge a la raíz cuadrada? Grafícalo."
   ]
  }
 ],
 "metadata": {
  "kernelspec": {
   "display_name": "Julia 0.5.1-pre",
   "language": "julia",
   "name": "julia-0.5"
  },
  "language_info": {
   "file_extension": ".jl",
   "mimetype": "application/julia",
   "name": "julia",
   "version": "0.5.1"
  }
 },
 "nbformat": 4,
 "nbformat_minor": 0
}
