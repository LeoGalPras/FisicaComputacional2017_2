{
 "cells": [
  {
   "cell_type": "markdown",
   "metadata": {},
   "source": [
    "# Interpolación"
   ]
  },
  {
   "cell_type": "markdown",
   "metadata": {},
   "source": [
    "En el notebook 7, vimos cómo utilizar una discretización de una función continua para calcular numéricamente una derivada.\n",
    "\n",
    "Un problema muy común en el cómputo científico es el problema opuesto: tener datos discretos, y querer encontrar una función continua que los aproxime. Una manera de hacer esto es la **interpolación**: \n",
    "\n",
    "> dados datos $(x_i, y_i)$ para $i=1,\\ldots,N$, queremos encontrar una función $f(x)$ que pasa exactamente por los puntos, es decir, tal que $f(x_i) = y_i$ para cada $i$.\n",
    "\n",
    "Provee, entre muchas otras cosas, una manera de formalizar la derivación de diferencias finitas para calcular derivadas, y para llevar a cabo integrales. Mucho más allá, provee la manera de trabajar con funciones de forma numérica.\n",
    "\n",
    "Podríamos escoger distintas clases de función $f$ que interpolar. Aquí, trabajaremos con los **polinomios**."
   ]
  },
  {
   "cell_type": "markdown",
   "metadata": {},
   "source": [
    "**[1]** El primer caso que tratar es el de dos puntos $(x_1, y_1)$ y $(x_2, y_2)$. Es claro que podemos interpolar dos puntos con una recta. Para encontrar cuál recta es, hacemos lo siguiente.\n",
    "\n",
    "(i) Define una función $L_1(x)$ que es lineal y tal que $L_1(x)$ tome el valor $0$ en $x = x_2$. Ahora haz que también tome el valor $1$ en $x = x_1$.\n",
    "\n",
    "(ii) Por simetría, encuentra la función $L_2(x)$ tal que $L_2(x_1) = 0$ y $L_2(x_2) = 1$.\n",
    "\n",
    "(iii) Utiliza $L_1$ y $L_2$ para encontrar un polinomio lineal que interpola los datos.\n",
    "\n",
    "(iv) Impleméntalo y dibuja el resultado."
   ]
  },
  {
   "cell_type": "code",
   "execution_count": 30,
   "metadata": {
    "collapsed": false
   },
   "outputs": [
    {
     "name": "stderr",
     "output_type": "stream",
     "text": [
      "WARNING: Method definition l1(Any, Any, Any) in module Main at In[24]:2 overwritten at In[30]:2.\n",
      "WARNING: Method definition l2(Any, Any, Any) in module Main at In[24]:7 overwritten at In[30]:7.\n",
      "WARNING: Method definition l(Any, Any, Any, Any, Any) in module Main at In[24]:12 overwritten at In[30]:12.\n"
     ]
    },
    {
     "data": {
      "text/plain": [
       "l (generic function with 2 methods)"
      ]
     },
     "execution_count": 30,
     "metadata": {},
     "output_type": "execute_result"
    }
   ],
   "source": [
    "function l1(x, x1, x2)\n",
    "    l1 = (x - x2)/(x1 - x2)\n",
    "   return l1\n",
    "end\n",
    "\n",
    "function l2(x, x1, x2)\n",
    "    l2 = (x - x1)/(x2 - x1)\n",
    "   return l2\n",
    "end\n",
    "\n",
    "function l(x, x1, x2, y1, y2)\n",
    "    l = y1*l1(x,x1,x2) + y2*l2(x,x1,x2)\n",
    "   return l\n",
    "end"
   ]
  },
  {
   "cell_type": "code",
   "execution_count": 31,
   "metadata": {
    "collapsed": false
   },
   "outputs": [
    {
     "data": {
      "text/plain": [
       "Plots.GRBackend()"
      ]
     },
     "execution_count": 31,
     "metadata": {},
     "output_type": "execute_result"
    }
   ],
   "source": [
    "using Plots\n",
    "gr()"
   ]
  },
  {
   "cell_type": "code",
   "execution_count": 110,
   "metadata": {
    "collapsed": false
   },
   "outputs": [
    {
     "data": {
      "text/html": [
       "<?xml version=\"1.0\" encoding=\"utf-8\"?>\n",
       "<svg xmlns=\"http://www.w3.org/2000/svg\" xmlns:xlink=\"http://www.w3.org/1999/xlink\" width=\"600\" height=\"400\" viewBox=\"0 0 600 400\">\n",
       "<defs>\n",
       "  <clipPath id=\"clip00\">\n",
       "    <rect x=\"0\" y=\"0\" width=\"600\" height=\"400\"/>\n",
       "  </clipPath>\n",
       "</defs>\n",
       "<polygon clip-path=\"url(#clip00)\" points=\"\n",
       "0,400 600,400 600,0 0,0 \n",
       "  \" fill=\"#ffffff\" fill-opacity=\"1\"/>\n",
       "<defs>\n",
       "  <clipPath id=\"clip01\">\n",
       "    <rect x=\"120\" y=\"0\" width=\"421\" height=\"400\"/>\n",
       "  </clipPath>\n",
       "</defs>\n",
       "<polygon clip-path=\"url(#clip00)\" points=\"\n",
       "30.6037,384.952 596.063,384.952 596.063,3.93701 30.6037,3.93701 \n",
       "  \" fill=\"#ffffff\" fill-opacity=\"1\"/>\n",
       "<defs>\n",
       "  <clipPath id=\"clip02\">\n",
       "    <rect x=\"30\" y=\"3\" width=\"566\" height=\"382\"/>\n",
       "  </clipPath>\n",
       "</defs>\n",
       "<polyline clip-path=\"url(#clip02)\" style=\"stroke:#00002d; stroke-width:0.8; stroke-opacity:0.5; fill:none\" stroke-dasharray=\"1, 2\" points=\"\n",
       "  30.6037,379.237 30.6037,9.65223 \n",
       "  \"/>\n",
       "<polyline clip-path=\"url(#clip02)\" style=\"stroke:#00002d; stroke-width:0.8; stroke-opacity:0.5; fill:none\" stroke-dasharray=\"1, 2\" points=\"\n",
       "  171.969,379.237 171.969,9.65223 \n",
       "  \"/>\n",
       "<polyline clip-path=\"url(#clip02)\" style=\"stroke:#00002d; stroke-width:0.8; stroke-opacity:0.5; fill:none\" stroke-dasharray=\"1, 2\" points=\"\n",
       "  313.333,379.237 313.333,9.65223 \n",
       "  \"/>\n",
       "<polyline clip-path=\"url(#clip02)\" style=\"stroke:#00002d; stroke-width:0.8; stroke-opacity:0.5; fill:none\" stroke-dasharray=\"1, 2\" points=\"\n",
       "  454.698,379.237 454.698,9.65223 \n",
       "  \"/>\n",
       "<polyline clip-path=\"url(#clip02)\" style=\"stroke:#00002d; stroke-width:0.8; stroke-opacity:0.5; fill:none\" stroke-dasharray=\"1, 2\" points=\"\n",
       "  596.063,379.237 596.063,9.65223 \n",
       "  \"/>\n",
       "<polyline clip-path=\"url(#clip02)\" style=\"stroke:#00002d; stroke-width:0.8; stroke-opacity:0.5; fill:none\" stroke-dasharray=\"1, 2\" points=\"\n",
       "  39.0856,384.952 587.581,384.952 \n",
       "  \"/>\n",
       "<polyline clip-path=\"url(#clip02)\" style=\"stroke:#00002d; stroke-width:0.8; stroke-opacity:0.5; fill:none\" stroke-dasharray=\"1, 2\" points=\"\n",
       "  39.0856,289.698 587.581,289.698 \n",
       "  \"/>\n",
       "<polyline clip-path=\"url(#clip02)\" style=\"stroke:#00002d; stroke-width:0.8; stroke-opacity:0.5; fill:none\" stroke-dasharray=\"1, 2\" points=\"\n",
       "  39.0856,194.444 587.581,194.444 \n",
       "  \"/>\n",
       "<polyline clip-path=\"url(#clip02)\" style=\"stroke:#00002d; stroke-width:0.8; stroke-opacity:0.5; fill:none\" stroke-dasharray=\"1, 2\" points=\"\n",
       "  39.0856,99.1907 587.581,99.1907 \n",
       "  \"/>\n",
       "<polyline clip-path=\"url(#clip02)\" style=\"stroke:#00002d; stroke-width:0.8; stroke-opacity:0.5; fill:none\" stroke-dasharray=\"1, 2\" points=\"\n",
       "  39.0856,3.93701 587.581,3.93701 \n",
       "  \"/>\n",
       "<polyline clip-path=\"url(#clip02)\" style=\"stroke:#00002d; stroke-width:0.8; stroke-opacity:1; fill:none\" points=\"\n",
       "  30.6037,384.952 596.063,384.952 \n",
       "  \"/>\n",
       "<polyline clip-path=\"url(#clip02)\" style=\"stroke:#00002d; stroke-width:0.8; stroke-opacity:1; fill:none\" points=\"\n",
       "  30.6037,384.952 30.6037,379.237 \n",
       "  \"/>\n",
       "<polyline clip-path=\"url(#clip02)\" style=\"stroke:#00002d; stroke-width:0.8; stroke-opacity:1; fill:none\" points=\"\n",
       "  171.969,384.952 171.969,379.237 \n",
       "  \"/>\n",
       "<polyline clip-path=\"url(#clip02)\" style=\"stroke:#00002d; stroke-width:0.8; stroke-opacity:1; fill:none\" points=\"\n",
       "  313.333,384.952 313.333,379.237 \n",
       "  \"/>\n",
       "<polyline clip-path=\"url(#clip02)\" style=\"stroke:#00002d; stroke-width:0.8; stroke-opacity:1; fill:none\" points=\"\n",
       "  454.698,384.952 454.698,379.237 \n",
       "  \"/>\n",
       "<polyline clip-path=\"url(#clip02)\" style=\"stroke:#00002d; stroke-width:0.8; stroke-opacity:1; fill:none\" points=\"\n",
       "  596.063,384.952 596.063,379.237 \n",
       "  \"/>\n",
       "<polyline clip-path=\"url(#clip02)\" style=\"stroke:#00002d; stroke-width:0.8; stroke-opacity:1; fill:none\" points=\"\n",
       "  30.6037,384.952 30.6037,3.93701 \n",
       "  \"/>\n",
       "<polyline clip-path=\"url(#clip02)\" style=\"stroke:#00002d; stroke-width:0.8; stroke-opacity:1; fill:none\" points=\"\n",
       "  30.6037,384.952 39.0856,384.952 \n",
       "  \"/>\n",
       "<polyline clip-path=\"url(#clip02)\" style=\"stroke:#00002d; stroke-width:0.8; stroke-opacity:1; fill:none\" points=\"\n",
       "  30.6037,289.698 39.0856,289.698 \n",
       "  \"/>\n",
       "<polyline clip-path=\"url(#clip02)\" style=\"stroke:#00002d; stroke-width:0.8; stroke-opacity:1; fill:none\" points=\"\n",
       "  30.6037,194.444 39.0856,194.444 \n",
       "  \"/>\n",
       "<polyline clip-path=\"url(#clip02)\" style=\"stroke:#00002d; stroke-width:0.8; stroke-opacity:1; fill:none\" points=\"\n",
       "  30.6037,99.1907 39.0856,99.1907 \n",
       "  \"/>\n",
       "<polyline clip-path=\"url(#clip02)\" style=\"stroke:#00002d; stroke-width:0.8; stroke-opacity:1; fill:none\" points=\"\n",
       "  30.6037,3.93701 39.0856,3.93701 \n",
       "  \"/>\n",
       "<g clip-path=\"url(#clip00)\">\n",
       "<text style=\"fill:#00002d; fill-opacity:1; font-family:Arial,Helvetica Neue,Helvetica,sans-serif; font-size:12; text-anchor:middle;\" transform=\"rotate(0, 30.6037, 396.952)\" x=\"30.6037\" y=\"396.952\">1.00</text>\n",
       "</g>\n",
       "<g clip-path=\"url(#clip00)\">\n",
       "<text style=\"fill:#00002d; fill-opacity:1; font-family:Arial,Helvetica Neue,Helvetica,sans-serif; font-size:12; text-anchor:middle;\" transform=\"rotate(0, 171.969, 396.952)\" x=\"171.969\" y=\"396.952\">1.25</text>\n",
       "</g>\n",
       "<g clip-path=\"url(#clip00)\">\n",
       "<text style=\"fill:#00002d; fill-opacity:1; font-family:Arial,Helvetica Neue,Helvetica,sans-serif; font-size:12; text-anchor:middle;\" transform=\"rotate(0, 313.333, 396.952)\" x=\"313.333\" y=\"396.952\">1.50</text>\n",
       "</g>\n",
       "<g clip-path=\"url(#clip00)\">\n",
       "<text style=\"fill:#00002d; fill-opacity:1; font-family:Arial,Helvetica Neue,Helvetica,sans-serif; font-size:12; text-anchor:middle;\" transform=\"rotate(0, 454.698, 396.952)\" x=\"454.698\" y=\"396.952\">1.75</text>\n",
       "</g>\n",
       "<g clip-path=\"url(#clip00)\">\n",
       "<text style=\"fill:#00002d; fill-opacity:1; font-family:Arial,Helvetica Neue,Helvetica,sans-serif; font-size:12; text-anchor:middle;\" transform=\"rotate(0, 596.063, 396.952)\" x=\"596.063\" y=\"396.952\">2.00</text>\n",
       "</g>\n",
       "<g clip-path=\"url(#clip00)\">\n",
       "<text style=\"fill:#00002d; fill-opacity:1; font-family:Arial,Helvetica Neue,Helvetica,sans-serif; font-size:12; text-anchor:end;\" transform=\"rotate(0, 29.4037, 389.452)\" x=\"29.4037\" y=\"389.452\">0.0</text>\n",
       "</g>\n",
       "<g clip-path=\"url(#clip00)\">\n",
       "<text style=\"fill:#00002d; fill-opacity:1; font-family:Arial,Helvetica Neue,Helvetica,sans-serif; font-size:12; text-anchor:end;\" transform=\"rotate(0, 29.4037, 294.198)\" x=\"29.4037\" y=\"294.198\">0.5</text>\n",
       "</g>\n",
       "<g clip-path=\"url(#clip00)\">\n",
       "<text style=\"fill:#00002d; fill-opacity:1; font-family:Arial,Helvetica Neue,Helvetica,sans-serif; font-size:12; text-anchor:end;\" transform=\"rotate(0, 29.4037, 198.944)\" x=\"29.4037\" y=\"198.944\">1.0</text>\n",
       "</g>\n",
       "<g clip-path=\"url(#clip00)\">\n",
       "<text style=\"fill:#00002d; fill-opacity:1; font-family:Arial,Helvetica Neue,Helvetica,sans-serif; font-size:12; text-anchor:end;\" transform=\"rotate(0, 29.4037, 103.691)\" x=\"29.4037\" y=\"103.691\">1.5</text>\n",
       "</g>\n",
       "<g clip-path=\"url(#clip00)\">\n",
       "<text style=\"fill:#00002d; fill-opacity:1; font-family:Arial,Helvetica Neue,Helvetica,sans-serif; font-size:12; text-anchor:end;\" transform=\"rotate(0, 29.4037, 8.43701)\" x=\"29.4037\" y=\"8.43701\">2.0</text>\n",
       "</g>\n",
       "<polyline clip-path=\"url(#clip02)\" style=\"stroke:#0099ff; stroke-width:0.8; stroke-opacity:1; fill:none\" points=\"\n",
       "  30.6037,194.444 36.2583,192.539 41.9129,190.634 47.5675,188.729 53.222,186.824 58.8766,184.919 64.5312,183.014 70.1858,181.109 75.8404,179.204 81.495,177.299 \n",
       "  87.1496,175.394 92.8042,173.489 98.4588,171.584 104.113,169.678 109.768,167.773 115.423,165.868 121.077,163.963 126.732,162.058 132.386,160.153 138.041,158.248 \n",
       "  143.696,156.343 149.35,154.438 155.005,152.533 160.659,150.628 166.314,148.723 171.969,146.818 177.623,144.913 183.278,143.007 188.932,141.102 194.587,139.197 \n",
       "  200.241,137.292 205.896,135.387 211.551,133.482 217.205,131.577 222.86,129.672 228.514,127.767 234.169,125.862 239.824,123.957 245.478,122.052 251.133,120.147 \n",
       "  256.787,118.241 262.442,116.336 268.097,114.431 273.751,112.526 279.406,110.621 285.06,108.716 290.715,106.811 296.37,104.906 302.024,103.001 307.679,101.096 \n",
       "  313.333,99.1907 318.988,97.2857 324.643,95.3806 330.297,93.4755 335.952,91.5704 341.606,89.6654 347.261,87.7603 352.915,85.8552 358.57,83.9501 364.225,82.0451 \n",
       "  369.879,80.14 375.534,78.2349 381.188,76.3298 386.843,74.4248 392.498,72.5197 398.152,70.6146 403.807,68.7095 409.461,66.8045 415.116,64.8994 420.771,62.9943 \n",
       "  426.425,61.0892 432.08,59.1842 437.734,57.2791 443.389,55.374 449.044,53.4689 454.698,51.5639 460.353,49.6588 466.007,47.7537 471.662,45.8486 477.317,43.9436 \n",
       "  482.971,42.0385 488.626,40.1334 494.28,38.2283 499.935,36.3233 505.59,34.4182 511.244,32.5131 516.899,30.608 522.553,28.703 528.208,26.7979 533.862,24.8928 \n",
       "  539.517,22.9878 545.172,21.0827 550.826,19.1776 556.481,17.2725 562.135,15.3675 567.79,13.4624 573.445,11.5573 579.099,9.65223 584.754,7.74716 590.408,5.84208 \n",
       "  596.063,3.93701 \n",
       "  \"/>\n",
       "<polyline clip-path=\"url(#clip02)\" style=\"stroke:#e9746a; stroke-width:0.8; stroke-opacity:1; fill:none\" points=\"\n",
       "  30.6037,194.444 36.2583,196.35 41.9129,198.255 47.5675,200.16 53.222,202.065 58.8766,203.97 64.5312,205.875 70.1858,207.78 75.8404,209.685 81.495,211.59 \n",
       "  87.1496,213.495 92.8042,215.4 98.4588,217.305 104.113,219.21 109.768,221.115 115.423,223.021 121.077,224.926 126.732,226.831 132.386,228.736 138.041,230.641 \n",
       "  143.696,232.546 149.35,234.451 155.005,236.356 160.659,238.261 166.314,240.166 171.969,242.071 177.623,243.976 183.278,245.881 188.932,247.787 194.587,249.692 \n",
       "  200.241,251.597 205.896,253.502 211.551,255.407 217.205,257.312 222.86,259.217 228.514,261.122 234.169,263.027 239.824,264.932 245.478,266.837 251.133,268.742 \n",
       "  256.787,270.647 262.442,272.552 268.097,274.458 273.751,276.363 279.406,278.268 285.06,280.173 290.715,282.078 296.37,283.983 302.024,285.888 307.679,287.793 \n",
       "  313.333,289.698 318.988,291.603 324.643,293.508 330.297,295.413 335.952,297.318 341.606,299.224 347.261,301.129 352.915,303.034 358.57,304.939 364.225,306.844 \n",
       "  369.879,308.749 375.534,310.654 381.188,312.559 386.843,314.464 392.498,316.369 398.152,318.274 403.807,320.179 409.461,322.084 415.116,323.99 420.771,325.895 \n",
       "  426.425,327.8 432.08,329.705 437.734,331.61 443.389,333.515 449.044,335.42 454.698,337.325 460.353,339.23 466.007,341.135 471.662,343.04 477.317,344.945 \n",
       "  482.971,346.85 488.626,348.755 494.28,350.661 499.935,352.566 505.59,354.471 511.244,356.376 516.899,358.281 522.553,360.186 528.208,362.091 533.862,363.996 \n",
       "  539.517,365.901 545.172,367.806 550.826,369.711 556.481,371.616 562.135,373.521 567.79,375.427 573.445,377.332 579.099,379.237 584.754,381.142 590.408,383.047 \n",
       "  596.063,384.952 \n",
       "  \"/>\n",
       "<polyline clip-path=\"url(#clip02)\" style=\"stroke:#3cb370; stroke-width:0.8; stroke-opacity:1; fill:none\" points=\"\n",
       "  30.6037,384.952 36.2583,383.047 41.9129,381.142 47.5675,379.237 53.222,377.332 58.8766,375.427 64.5312,373.521 70.1858,371.616 75.8404,369.711 81.495,367.806 \n",
       "  87.1496,365.901 92.8042,363.996 98.4588,362.091 104.113,360.186 109.768,358.281 115.423,356.376 121.077,354.471 126.732,352.566 132.386,350.661 138.041,348.755 \n",
       "  143.696,346.85 149.35,344.945 155.005,343.04 160.659,341.135 166.314,339.23 171.969,337.325 177.623,335.42 183.278,333.515 188.932,331.61 194.587,329.705 \n",
       "  200.241,327.8 205.896,325.895 211.551,323.99 217.205,322.084 222.86,320.179 228.514,318.274 234.169,316.369 239.824,314.464 245.478,312.559 251.133,310.654 \n",
       "  256.787,308.749 262.442,306.844 268.097,304.939 273.751,303.034 279.406,301.129 285.06,299.224 290.715,297.318 296.37,295.413 302.024,293.508 307.679,291.603 \n",
       "  313.333,289.698 318.988,287.793 324.643,285.888 330.297,283.983 335.952,282.078 341.606,280.173 347.261,278.268 352.915,276.363 358.57,274.458 364.225,272.552 \n",
       "  369.879,270.647 375.534,268.742 381.188,266.837 386.843,264.932 392.498,263.027 398.152,261.122 403.807,259.217 409.461,257.312 415.116,255.407 420.771,253.502 \n",
       "  426.425,251.597 432.08,249.692 437.734,247.787 443.389,245.881 449.044,243.976 454.698,242.071 460.353,240.166 466.007,238.261 471.662,236.356 477.317,234.451 \n",
       "  482.971,232.546 488.626,230.641 494.28,228.736 499.935,226.831 505.59,224.926 511.244,223.021 516.899,221.115 522.553,219.21 528.208,217.305 533.862,215.4 \n",
       "  539.517,213.495 545.172,211.59 550.826,209.685 556.481,207.78 562.135,205.875 567.79,203.97 573.445,202.065 579.099,200.16 584.754,198.255 590.408,196.35 \n",
       "  596.063,194.444 \n",
       "  \"/>\n",
       "<polygon clip-path=\"url(#clip00)\" points=\"\n",
       "508.842,85.297 578.063,85.297 578.063,24.817 508.842,24.817 \n",
       "  \" fill=\"#ffffff\" fill-opacity=\"1\"/>\n",
       "<polyline clip-path=\"url(#clip00)\" style=\"stroke:#00002d; stroke-width:0.8; stroke-opacity:1; fill:none\" points=\"\n",
       "  508.842,85.297 578.063,85.297 578.063,24.817 508.842,24.817 508.842,85.297 \n",
       "  \"/>\n",
       "<polyline clip-path=\"url(#clip00)\" style=\"stroke:#0099ff; stroke-width:0.8; stroke-opacity:1; fill:none\" points=\"\n",
       "  514.842,39.937 550.842,39.937 \n",
       "  \"/>\n",
       "<g clip-path=\"url(#clip00)\">\n",
       "<text style=\"fill:#00002d; fill-opacity:1; font-family:Arial,Helvetica Neue,Helvetica,sans-serif; font-size:12; text-anchor:start;\" transform=\"rotate(0, 556.842, 44.437)\" x=\"556.842\" y=\"44.437\">l</text>\n",
       "</g>\n",
       "<polyline clip-path=\"url(#clip00)\" style=\"stroke:#e9746a; stroke-width:0.8; stroke-opacity:1; fill:none\" points=\"\n",
       "  514.842,55.057 550.842,55.057 \n",
       "  \"/>\n",
       "<g clip-path=\"url(#clip00)\">\n",
       "<text style=\"fill:#00002d; fill-opacity:1; font-family:Arial,Helvetica Neue,Helvetica,sans-serif; font-size:12; text-anchor:start;\" transform=\"rotate(0, 556.842, 59.557)\" x=\"556.842\" y=\"59.557\">l1</text>\n",
       "</g>\n",
       "<polyline clip-path=\"url(#clip00)\" style=\"stroke:#3cb370; stroke-width:0.8; stroke-opacity:1; fill:none\" points=\"\n",
       "  514.842,70.177 550.842,70.177 \n",
       "  \"/>\n",
       "<g clip-path=\"url(#clip00)\">\n",
       "<text style=\"fill:#00002d; fill-opacity:1; font-family:Arial,Helvetica Neue,Helvetica,sans-serif; font-size:12; text-anchor:start;\" transform=\"rotate(0, 556.842, 74.677)\" x=\"556.842\" y=\"74.677\">l2</text>\n",
       "</g>\n",
       "</svg>\n"
      ]
     },
     "execution_count": 110,
     "metadata": {},
     "output_type": "execute_result"
    }
   ],
   "source": [
    "rango = collect(1:0.01:2)\n",
    "plot(rango, l(rango,1,2,1,2), label=\"l\")\n",
    "plot!(rango, l1(rango,1,2), label=\"l1\")\n",
    "plot!(rango, l2(rango,1,2), label=\"l2\")"
   ]
  },
  {
   "cell_type": "markdown",
   "metadata": {},
   "source": [
    "**[2]** Ahora generalicemos esto a $N$ puntos:\n",
    "\n",
    "(i) Encuentra un polinomio $L_1(x)$ sencillo, tal que $L(x)$ sea igual a $0$ para $x=x_2$, $x=x_3$, ..., $x=x_N$. Ahora normalízalo para que $L_1(x_1) = 1$."
   ]
  },
  {
   "cell_type": "markdown",
   "metadata": {},
   "source": [
    "$$ L_1 (x) = \\frac{(x - x_2)(x - x_3)...(x - x_n)}{(x_1 - x_2)(x_1 - x_3)...(x_1 - x_n)} $$"
   ]
  },
  {
   "cell_type": "code",
   "execution_count": 58,
   "metadata": {
    "collapsed": false
   },
   "outputs": [
    {
     "name": "stderr",
     "output_type": "stream",
     "text": [
      "WARNING: Method definition L1(Any, Array{T<:Any, 1}) in module Main at In[47]:2 overwritten at In[58]:2.\n"
     ]
    },
    {
     "data": {
      "text/plain": [
       "L1 (generic function with 2 methods)"
      ]
     },
     "execution_count": 58,
     "metadata": {},
     "output_type": "execute_result"
    }
   ],
   "source": [
    "function L1(x, xn:: Vector)\n",
    "    n = length(xn)\n",
    "    L1 = 1\n",
    "    for j in 2:n\n",
    "    L1 *= (x - xn[j])/(xn[1] - xn[j])\n",
    "    end\n",
    "   return L1\n",
    "end"
   ]
  },
  {
   "cell_type": "code",
   "execution_count": 65,
   "metadata": {
    "collapsed": false
   },
   "outputs": [
    {
     "data": {
      "text/plain": [
       "-0.0"
      ]
     },
     "execution_count": 65,
     "metadata": {},
     "output_type": "execute_result"
    }
   ],
   "source": [
    "L1(6,[1,2,3,4,5,6])"
   ]
  },
  {
   "cell_type": "markdown",
   "metadata": {},
   "source": [
    "(ii) De manera similar, encuentra $L_i(x)$ que sea igual a $1$ en $x_i$, y que se anule en $x_j$ para $j \\neq i$."
   ]
  },
  {
   "cell_type": "markdown",
   "metadata": {},
   "source": [
    "$$ L_i (x) = \\prod_{j}^n \\frac{(x - x_j)}{(x_i - x_j)} $$"
   ]
  },
  {
   "cell_type": "code",
   "execution_count": 148,
   "metadata": {
    "collapsed": false
   },
   "outputs": [
    {
     "name": "stderr",
     "output_type": "stream",
     "text": [
      "WARNING: Method definition Li(Any, Array{T<:Any, 1}, Any) in module Main at In[136]:6 overwritten at In[148]:6.\n",
      "\u001b[1m\u001b[31mWARNING: replacing docs for 'Li :: Tuple{Any,Array{T,1},Any}' in module 'Main'.\u001b[0m\n"
     ]
    },
    {
     "data": {
      "text/plain": [
       "Li"
      ]
     },
     "execution_count": 148,
     "metadata": {},
     "output_type": "execute_result"
    }
   ],
   "source": [
    "\"\"\"\n",
    "Polinomio que vale 1 en la entrada i de xn y cero para todos\n",
    "los demás valores de xn.\n",
    "\"\"\"\n",
    "function Li(x, xn:: Vector, i)\n",
    "    n = length(xn)\n",
    "    Li = 1\n",
    "    for j in 1:n\n",
    "        if j==i\n",
    "            continue\n",
    "        end\n",
    "        Li *= (x - xn[j])/(xn[i] - xn[j])\n",
    "    end\n",
    "    return Li\n",
    "end"
   ]
  },
  {
   "cell_type": "code",
   "execution_count": 149,
   "metadata": {
    "collapsed": false
   },
   "outputs": [
    {
     "data": {
      "text/plain": [
       "0.0"
      ]
     },
     "execution_count": 149,
     "metadata": {},
     "output_type": "execute_result"
    }
   ],
   "source": [
    "Li(1,[1,2,3,4,5,6],6)"
   ]
  },
  {
   "cell_type": "code",
   "execution_count": 150,
   "metadata": {
    "collapsed": false
   },
   "outputs": [
    {
     "data": {
      "text/plain": [
       "1.0"
      ]
     },
     "execution_count": 150,
     "metadata": {},
     "output_type": "execute_result"
    }
   ],
   "source": [
    "Li(2,[1,2,3,4,5,6],2)"
   ]
  },
  {
   "cell_type": "code",
   "execution_count": 151,
   "metadata": {
    "collapsed": false
   },
   "outputs": [
    {
     "data": {
      "text/plain": [
       "315.0"
      ]
     },
     "execution_count": 151,
     "metadata": {},
     "output_type": "execute_result"
    }
   ],
   "source": [
    "Li(10,[1,2,3,4,5,6],2)"
   ]
  },
  {
   "cell_type": "code",
   "execution_count": 152,
   "metadata": {
    "collapsed": false
   },
   "outputs": [
    {
     "name": "stderr",
     "output_type": "stream",
     "text": [
      "WARNING: Method definition Li2(Any, Array{T<:Any, 1}, Any) in module Main at In[137]:6 overwritten at In[152]:6.\n",
      "\u001b[1m\u001b[31mWARNING: replacing docs for 'Li2 :: Tuple{Any,Array{T,1},Any}' in module 'Main'.\u001b[0m\n"
     ]
    },
    {
     "data": {
      "text/plain": [
       "Li2"
      ]
     },
     "execution_count": 152,
     "metadata": {},
     "output_type": "execute_result"
    }
   ],
   "source": [
    "\"\"\"\n",
    "Polinomio que vale 1 en xi y cero para todos\n",
    "los valores de xn.\n",
    "\"\"\"\n",
    "function Li2(x, xn:: Vector, xi)\n",
    "    n = length(xn)\n",
    "    Li = 1\n",
    "    for j in 1:n\n",
    "        Li *= (x - xn[j])/(xi - xn[j])\n",
    "    end\n",
    "    return Li\n",
    "end"
   ]
  },
  {
   "cell_type": "code",
   "execution_count": 153,
   "metadata": {
    "collapsed": false
   },
   "outputs": [
    {
     "data": {
      "text/plain": [
       "0.0"
      ]
     },
     "execution_count": 153,
     "metadata": {},
     "output_type": "execute_result"
    }
   ],
   "source": [
    "Li2(2,[1,2,3,4,5,6],20)"
   ]
  },
  {
   "cell_type": "code",
   "execution_count": 156,
   "metadata": {
    "collapsed": false
   },
   "outputs": [
    {
     "data": {
      "text/plain": [
       "1.0"
      ]
     },
     "execution_count": 156,
     "metadata": {},
     "output_type": "execute_result"
    }
   ],
   "source": [
    "Li2(20,[1,2,3,4,5,6],20)"
   ]
  },
  {
   "cell_type": "markdown",
   "metadata": {},
   "source": [
    "Aquí definí dos funciones distintas que hacen lo mismo, una toma una de las entradas del vector y se hace 1 ahí, a la otra se especifica cuál es el punto que queremos sea 1. No sé cuál vaya a ser más útil después."
   ]
  },
  {
   "cell_type": "markdown",
   "metadata": {},
   "source": [
    "(iii) Dibuja algunas $L_i$ para $N$ chiquitas. ¡Asegúrate de que sí se comporten correctamente!"
   ]
  },
  {
   "cell_type": "code",
   "execution_count": 180,
   "metadata": {
    "collapsed": false
   },
   "outputs": [
    {
     "data": {
      "text/html": [
       "<?xml version=\"1.0\" encoding=\"utf-8\"?>\n",
       "<svg xmlns=\"http://www.w3.org/2000/svg\" xmlns:xlink=\"http://www.w3.org/1999/xlink\" width=\"600\" height=\"400\" viewBox=\"0 0 600 400\">\n",
       "<defs>\n",
       "  <clipPath id=\"clip00\">\n",
       "    <rect x=\"0\" y=\"0\" width=\"600\" height=\"400\"/>\n",
       "  </clipPath>\n",
       "</defs>\n",
       "<polygon clip-path=\"url(#clip00)\" points=\"\n",
       "0,400 600,400 600,0 0,0 \n",
       "  \" fill=\"#ffffff\" fill-opacity=\"1\"/>\n",
       "<defs>\n",
       "  <clipPath id=\"clip01\">\n",
       "    <rect x=\"120\" y=\"0\" width=\"421\" height=\"400\"/>\n",
       "  </clipPath>\n",
       "</defs>\n",
       "<polygon clip-path=\"url(#clip00)\" points=\"\n",
       "30.6037,384.952 596.063,384.952 596.063,3.93701 30.6037,3.93701 \n",
       "  \" fill=\"#ffffff\" fill-opacity=\"1\"/>\n",
       "<defs>\n",
       "  <clipPath id=\"clip02\">\n",
       "    <rect x=\"30\" y=\"3\" width=\"566\" height=\"382\"/>\n",
       "  </clipPath>\n",
       "</defs>\n",
       "<polyline clip-path=\"url(#clip02)\" style=\"stroke:#00002d; stroke-width:0.8; stroke-opacity:0.5; fill:none\" stroke-dasharray=\"1, 2\" points=\"\n",
       "  153.298,379.237 153.298,9.65223 \n",
       "  \"/>\n",
       "<polyline clip-path=\"url(#clip02)\" style=\"stroke:#00002d; stroke-width:0.8; stroke-opacity:0.5; fill:none\" stroke-dasharray=\"1, 2\" points=\"\n",
       "  366.679,379.237 366.679,9.65223 \n",
       "  \"/>\n",
       "<polyline clip-path=\"url(#clip02)\" style=\"stroke:#00002d; stroke-width:0.8; stroke-opacity:0.5; fill:none\" stroke-dasharray=\"1, 2\" points=\"\n",
       "  580.059,379.237 580.059,9.65223 \n",
       "  \"/>\n",
       "<polyline clip-path=\"url(#clip02)\" style=\"stroke:#00002d; stroke-width:0.8; stroke-opacity:0.5; fill:none\" stroke-dasharray=\"1, 2\" points=\"\n",
       "  39.0856,326.343 587.581,326.343 \n",
       "  \"/>\n",
       "<polyline clip-path=\"url(#clip02)\" style=\"stroke:#00002d; stroke-width:0.8; stroke-opacity:0.5; fill:none\" stroke-dasharray=\"1, 2\" points=\"\n",
       "  39.0856,202.353 587.581,202.353 \n",
       "  \"/>\n",
       "<polyline clip-path=\"url(#clip02)\" style=\"stroke:#00002d; stroke-width:0.8; stroke-opacity:0.5; fill:none\" stroke-dasharray=\"1, 2\" points=\"\n",
       "  39.0856,78.3623 587.581,78.3623 \n",
       "  \"/>\n",
       "<polyline clip-path=\"url(#clip02)\" style=\"stroke:#00002d; stroke-width:0.8; stroke-opacity:1; fill:none\" points=\"\n",
       "  30.6037,384.952 596.063,384.952 \n",
       "  \"/>\n",
       "<polyline clip-path=\"url(#clip02)\" style=\"stroke:#00002d; stroke-width:0.8; stroke-opacity:1; fill:none\" points=\"\n",
       "  153.298,384.952 153.298,379.237 \n",
       "  \"/>\n",
       "<polyline clip-path=\"url(#clip02)\" style=\"stroke:#00002d; stroke-width:0.8; stroke-opacity:1; fill:none\" points=\"\n",
       "  366.679,384.952 366.679,379.237 \n",
       "  \"/>\n",
       "<polyline clip-path=\"url(#clip02)\" style=\"stroke:#00002d; stroke-width:0.8; stroke-opacity:1; fill:none\" points=\"\n",
       "  580.059,384.952 580.059,379.237 \n",
       "  \"/>\n",
       "<polyline clip-path=\"url(#clip02)\" style=\"stroke:#00002d; stroke-width:0.8; stroke-opacity:1; fill:none\" points=\"\n",
       "  30.6037,384.952 30.6037,3.93701 \n",
       "  \"/>\n",
       "<polyline clip-path=\"url(#clip02)\" style=\"stroke:#00002d; stroke-width:0.8; stroke-opacity:1; fill:none\" points=\"\n",
       "  30.6037,326.343 39.0856,326.343 \n",
       "  \"/>\n",
       "<polyline clip-path=\"url(#clip02)\" style=\"stroke:#00002d; stroke-width:0.8; stroke-opacity:1; fill:none\" points=\"\n",
       "  30.6037,202.353 39.0856,202.353 \n",
       "  \"/>\n",
       "<polyline clip-path=\"url(#clip02)\" style=\"stroke:#00002d; stroke-width:0.8; stroke-opacity:1; fill:none\" points=\"\n",
       "  30.6037,78.3623 39.0856,78.3623 \n",
       "  \"/>\n",
       "<g clip-path=\"url(#clip00)\">\n",
       "<text style=\"fill:#00002d; fill-opacity:1; font-family:Arial,Helvetica Neue,Helvetica,sans-serif; font-size:12; text-anchor:middle;\" transform=\"rotate(0, 153.298, 396.952)\" x=\"153.298\" y=\"396.952\">2</text>\n",
       "</g>\n",
       "<g clip-path=\"url(#clip00)\">\n",
       "<text style=\"fill:#00002d; fill-opacity:1; font-family:Arial,Helvetica Neue,Helvetica,sans-serif; font-size:12; text-anchor:middle;\" transform=\"rotate(0, 366.679, 396.952)\" x=\"366.679\" y=\"396.952\">4</text>\n",
       "</g>\n",
       "<g clip-path=\"url(#clip00)\">\n",
       "<text style=\"fill:#00002d; fill-opacity:1; font-family:Arial,Helvetica Neue,Helvetica,sans-serif; font-size:12; text-anchor:middle;\" transform=\"rotate(0, 580.059, 396.952)\" x=\"580.059\" y=\"396.952\">6</text>\n",
       "</g>\n",
       "<g clip-path=\"url(#clip00)\">\n",
       "<text style=\"fill:#00002d; fill-opacity:1; font-family:Arial,Helvetica Neue,Helvetica,sans-serif; font-size:12; text-anchor:end;\" transform=\"rotate(0, 29.4037, 330.843)\" x=\"29.4037\" y=\"330.843\">0.0</text>\n",
       "</g>\n",
       "<g clip-path=\"url(#clip00)\">\n",
       "<text style=\"fill:#00002d; fill-opacity:1; font-family:Arial,Helvetica Neue,Helvetica,sans-serif; font-size:12; text-anchor:end;\" transform=\"rotate(0, 29.4037, 206.853)\" x=\"29.4037\" y=\"206.853\">0.5</text>\n",
       "</g>\n",
       "<g clip-path=\"url(#clip00)\">\n",
       "<text style=\"fill:#00002d; fill-opacity:1; font-family:Arial,Helvetica Neue,Helvetica,sans-serif; font-size:12; text-anchor:end;\" transform=\"rotate(0, 29.4037, 82.8623)\" x=\"29.4037\" y=\"82.8623\">1.0</text>\n",
       "</g>\n",
       "<polyline clip-path=\"url(#clip02)\" style=\"stroke:#0099ff; stroke-width:0.8; stroke-opacity:1; fill:none\" points=\"\n",
       "  46.6072,326.343 47.6741,314.103 48.741,302.176 49.808,290.559 50.8749,279.247 51.9418,268.235 53.0087,257.521 54.0756,247.099 55.1425,236.965 56.2094,227.115 \n",
       "  57.2763,217.546 58.3432,208.252 59.4101,199.23 60.477,190.476 61.5439,181.986 62.6108,173.756 63.6777,165.782 64.7446,158.061 65.8115,150.587 66.8784,143.358 \n",
       "  67.9453,136.37 69.0122,129.619 70.0791,123.101 71.146,116.813 72.2129,110.75 73.2798,104.91 74.3468,99.2887 75.4137,93.8826 76.4806,88.688 77.5475,83.7016 \n",
       "  78.6144,78.92 79.6813,74.3395 80.7482,69.957 81.8151,65.7689 82.882,61.772 83.9489,57.9629 85.0158,54.3384 86.0827,50.8952 87.1496,47.6301 88.2165,44.5399 \n",
       "  89.2834,41.6214 90.3503,38.8716 91.4172,36.2874 92.4841,33.8656 93.551,31.6032 94.6179,29.4972 95.6848,27.5447 96.7517,25.7427 97.8187,24.0882 98.8856,22.5784 \n",
       "  99.9525,21.2104 101.019,19.9814 102.086,18.8886 103.153,17.9291 104.22,17.1003 105.287,16.3994 106.354,15.8238 107.421,15.3707 108.488,15.0375 109.555,14.8216 \n",
       "  110.622,14.7204 111.688,14.7315 112.755,14.8521 113.822,15.08 114.889,15.4124 115.956,15.8471 117.023,16.3816 118.09,17.0136 119.157,17.7405 120.224,18.5602 \n",
       "  121.291,19.4702 122.357,20.4684 123.424,21.5523 124.491,22.7199 125.558,23.9689 126.625,25.297 127.692,26.7022 128.759,28.1824 129.826,29.7353 130.893,31.3589 \n",
       "  131.96,33.0512 133.026,34.8101 134.093,36.6337 135.16,38.5199 136.227,40.4667 137.294,42.4723 138.361,44.5347 139.428,46.6521 140.495,48.8225 141.562,51.0442 \n",
       "  142.629,53.3153 143.696,55.634 144.762,57.9986 145.829,60.4074 146.896,62.8585 147.963,65.3503 149.03,67.8812 150.097,70.4495 151.164,73.0535 152.231,75.6916 \n",
       "  153.298,78.3623 154.365,81.064 155.431,83.7952 156.498,86.5543 157.565,89.3398 158.632,92.1504 159.699,94.9844 160.766,97.8406 161.833,100.717 162.9,103.614 \n",
       "  163.967,106.528 165.034,109.458 166.101,112.404 167.167,115.364 168.234,118.337 169.301,121.321 170.368,124.315 171.435,127.318 172.502,130.329 173.569,133.347 \n",
       "  174.636,136.37 175.703,139.397 176.77,142.428 177.836,145.46 178.903,148.494 179.97,151.528 181.037,154.56 182.104,157.59 183.171,160.618 184.238,163.641 \n",
       "  185.305,166.659 186.372,169.671 187.439,172.676 188.506,175.673 189.572,178.662 190.639,181.641 191.706,184.609 192.773,187.566 193.84,190.511 194.907,193.443 \n",
       "  195.974,196.362 197.041,199.266 198.108,202.154 199.175,205.027 200.241,207.883 201.308,210.722 202.375,213.543 203.442,216.345 204.509,219.127 205.576,221.89 \n",
       "  206.643,224.632 207.71,227.353 208.777,230.053 209.844,232.729 210.911,235.383 211.977,238.014 213.044,240.621 214.111,243.203 215.178,245.76 216.245,248.292 \n",
       "  217.312,250.798 218.379,253.278 219.446,255.731 220.513,258.157 221.58,260.556 222.646,262.926 223.713,265.269 224.78,267.582 225.847,269.867 226.914,272.122 \n",
       "  227.981,274.348 229.048,276.544 230.115,278.71 231.182,280.845 232.249,282.95 233.316,285.023 234.382,287.066 235.449,289.077 236.516,291.056 237.583,293.004 \n",
       "  238.65,294.919 239.717,296.803 240.784,298.654 241.851,300.472 242.918,302.259 243.985,304.012 245.051,305.733 246.118,307.42 247.185,309.075 248.252,310.697 \n",
       "  249.319,312.285 250.386,313.84 251.453,315.363 252.52,316.851 253.587,318.307 254.654,319.73 255.72,321.119 256.787,322.475 257.854,323.797 258.921,325.087 \n",
       "  259.988,326.343 261.055,327.567 262.122,328.757 263.189,329.915 264.256,331.039 265.323,332.131 266.39,333.19 267.456,334.217 268.523,335.212 269.59,336.174 \n",
       "  270.657,337.104 271.724,338.002 272.791,338.868 273.858,339.702 274.925,340.505 275.992,341.277 277.059,342.018 278.125,342.728 279.192,343.407 280.259,344.056 \n",
       "  281.326,344.674 282.393,345.263 283.46,345.821 284.527,346.35 285.594,346.85 286.661,347.321 287.728,347.763 288.795,348.177 289.861,348.563 290.928,348.92 \n",
       "  291.995,349.25 293.062,349.553 294.129,349.829 295.196,350.078 296.263,350.301 297.33,350.497 298.397,350.668 299.464,350.814 300.53,350.934 301.597,351.03 \n",
       "  302.664,351.102 303.731,351.149 304.798,351.173 305.865,351.174 306.932,351.152 307.999,351.107 309.066,351.041 310.133,350.952 311.2,350.842 312.266,350.712 \n",
       "  313.333,350.56 314.4,350.389 315.467,350.198 316.534,349.987 317.601,349.758 318.668,349.51 319.735,349.244 320.802,348.96 321.869,348.659 322.935,348.341 \n",
       "  324.002,348.007 325.069,347.657 326.136,347.291 327.203,346.911 328.27,346.515 329.337,346.106 330.404,345.682 331.471,345.246 332.538,344.796 333.605,344.334 \n",
       "  334.671,343.86 335.738,343.375 336.805,342.879 337.872,342.372 338.939,341.854 340.006,341.328 341.073,340.791 342.14,340.247 343.207,339.693 344.274,339.132 \n",
       "  345.34,338.564 346.407,337.988 347.474,337.407 348.541,336.819 349.608,336.225 350.675,335.627 351.742,335.023 352.809,334.416 353.876,333.805 354.943,333.19 \n",
       "  356.01,332.573 357.076,331.953 358.143,331.332 359.21,330.709 360.277,330.085 361.344,329.46 362.411,328.835 363.478,328.211 364.545,327.587 365.612,326.964 \n",
       "  366.679,326.343 367.745,325.725 368.812,325.108 369.879,324.495 370.946,323.885 372.013,323.278 373.08,322.676 374.147,322.079 375.214,321.486 376.281,320.899 \n",
       "  377.348,320.318 378.415,319.744 379.481,319.175 380.548,318.614 381.615,318.061 382.682,317.515 383.749,316.977 384.816,316.448 385.883,315.928 386.95,315.417 \n",
       "  388.017,314.916 389.084,314.426 390.15,313.945 391.217,313.476 392.284,313.017 393.351,312.57 394.418,312.135 395.485,311.712 396.552,311.301 397.619,310.903 \n",
       "  398.686,310.519 399.753,310.148 400.819,309.79 401.886,309.446 402.953,309.117 404.02,308.803 405.087,308.503 406.154,308.218 407.221,307.949 408.288,307.695 \n",
       "  409.355,307.457 410.422,307.235 411.489,307.03 412.555,306.841 413.622,306.669 414.689,306.514 415.756,306.377 416.823,306.256 417.89,306.153 418.957,306.068 \n",
       "  420.024,306.001 421.091,305.952 422.158,305.921 423.224,305.909 424.291,305.915 425.358,305.94 426.425,305.983 427.492,306.045 428.559,306.127 429.626,306.227 \n",
       "  430.693,306.346 431.76,306.485 432.827,306.643 433.894,306.82 434.96,307.016 436.027,307.232 437.094,307.467 438.161,307.721 439.228,307.995 440.295,308.288 \n",
       "  441.362,308.601 442.429,308.932 443.496,309.283 444.563,309.654 445.629,310.043 446.696,310.451 447.763,310.878 448.83,311.324 449.897,311.789 450.964,312.272 \n",
       "  452.031,312.774 453.098,313.294 454.165,313.832 455.232,314.388 456.299,314.962 457.365,315.553 458.432,316.161 459.499,316.787 460.566,317.429 461.633,318.088 \n",
       "  462.7,318.764 463.767,319.455 464.834,320.162 465.901,320.884 466.968,321.622 468.034,322.374 469.101,323.141 470.168,323.921 471.235,324.716 472.302,325.523 \n",
       "  473.369,326.343 474.436,327.176 475.503,328.021 476.57,328.877 477.637,329.744 478.704,330.622 479.77,331.51 480.837,332.407 481.904,333.313 482.971,334.228 \n",
       "  484.038,335.151 485.105,336.081 486.172,337.017 487.239,337.96 488.306,338.908 489.373,339.861 490.439,340.818 491.506,341.779 492.573,342.742 493.64,343.707 \n",
       "  494.707,344.674 495.774,345.641 496.841,346.609 497.908,347.575 498.975,348.539 500.042,349.501 501.109,350.459 502.175,351.413 503.242,352.362 504.309,353.305 \n",
       "  505.376,354.241 506.443,355.169 507.51,356.088 508.577,356.998 509.644,357.896 510.711,358.783 511.778,359.657 512.844,360.518 513.911,361.363 514.978,362.193 \n",
       "  516.045,363.005 517.112,363.799 518.179,364.574 519.246,365.328 520.313,366.061 521.38,366.771 522.447,367.457 523.513,368.117 524.58,368.751 525.647,369.357 \n",
       "  526.714,369.934 527.781,370.48 528.848,370.995 529.915,371.476 530.982,371.923 532.049,372.334 533.116,372.707 534.183,373.042 535.249,373.336 536.316,373.588 \n",
       "  537.383,373.797 538.45,373.961 539.517,374.079 540.584,374.148 541.651,374.168 542.718,374.137 543.785,374.053 544.852,373.914 545.918,373.719 546.985,373.466 \n",
       "  548.052,373.153 549.119,372.779 550.186,372.341 551.253,371.838 552.32,371.269 553.387,370.63 554.454,369.921 555.521,369.139 556.588,368.282 557.654,367.349 \n",
       "  558.721,366.338 559.788,365.246 560.855,364.071 561.922,362.812 562.989,361.466 564.056,360.031 565.123,358.506 566.19,356.887 567.257,355.173 568.323,353.362 \n",
       "  569.39,351.451 570.457,349.437 571.524,347.32 572.591,345.096 573.658,342.763 574.725,340.319 575.792,337.761 576.859,335.087 577.926,332.294 578.993,329.381 \n",
       "  580.059,326.343 \n",
       "  \"/>\n",
       "<circle clip-path=\"url(#clip02)\" style=\"fill:#00002d; stroke:none; fill-opacity:1\" cx=\"46.6072\" cy=\"326.343\" r=\"3\"/>\n",
       "<circle clip-path=\"url(#clip02)\" style=\"fill:#e9746a; stroke:none; fill-opacity:1\" cx=\"46.6072\" cy=\"326.343\" r=\"2\"/>\n",
       "<circle clip-path=\"url(#clip02)\" style=\"fill:#00002d; stroke:none; fill-opacity:1\" cx=\"153.298\" cy=\"78.3623\" r=\"3\"/>\n",
       "<circle clip-path=\"url(#clip02)\" style=\"fill:#e9746a; stroke:none; fill-opacity:1\" cx=\"153.298\" cy=\"78.3623\" r=\"2\"/>\n",
       "<circle clip-path=\"url(#clip02)\" style=\"fill:#00002d; stroke:none; fill-opacity:1\" cx=\"259.988\" cy=\"326.343\" r=\"3\"/>\n",
       "<circle clip-path=\"url(#clip02)\" style=\"fill:#e9746a; stroke:none; fill-opacity:1\" cx=\"259.988\" cy=\"326.343\" r=\"2\"/>\n",
       "<circle clip-path=\"url(#clip02)\" style=\"fill:#00002d; stroke:none; fill-opacity:1\" cx=\"366.679\" cy=\"326.343\" r=\"3\"/>\n",
       "<circle clip-path=\"url(#clip02)\" style=\"fill:#e9746a; stroke:none; fill-opacity:1\" cx=\"366.679\" cy=\"326.343\" r=\"2\"/>\n",
       "<circle clip-path=\"url(#clip02)\" style=\"fill:#00002d; stroke:none; fill-opacity:1\" cx=\"473.369\" cy=\"326.343\" r=\"3\"/>\n",
       "<circle clip-path=\"url(#clip02)\" style=\"fill:#e9746a; stroke:none; fill-opacity:1\" cx=\"473.369\" cy=\"326.343\" r=\"2\"/>\n",
       "<circle clip-path=\"url(#clip02)\" style=\"fill:#00002d; stroke:none; fill-opacity:1\" cx=\"580.059\" cy=\"326.343\" r=\"3\"/>\n",
       "<circle clip-path=\"url(#clip02)\" style=\"fill:#e9746a; stroke:none; fill-opacity:1\" cx=\"580.059\" cy=\"326.343\" r=\"2\"/>\n",
       "<polygon clip-path=\"url(#clip00)\" points=\"\n",
       "505.547,70.177 578.063,70.177 578.063,24.817 505.547,24.817 \n",
       "  \" fill=\"#ffffff\" fill-opacity=\"1\"/>\n",
       "<polyline clip-path=\"url(#clip00)\" style=\"stroke:#00002d; stroke-width:0.8; stroke-opacity:1; fill:none\" points=\"\n",
       "  505.547,70.177 578.063,70.177 578.063,24.817 505.547,24.817 505.547,70.177 \n",
       "  \"/>\n",
       "<polyline clip-path=\"url(#clip00)\" style=\"stroke:#0099ff; stroke-width:0.8; stroke-opacity:1; fill:none\" points=\"\n",
       "  511.547,39.937 547.547,39.937 \n",
       "  \"/>\n",
       "<g clip-path=\"url(#clip00)\">\n",
       "<text style=\"fill:#00002d; fill-opacity:1; font-family:Arial,Helvetica Neue,Helvetica,sans-serif; font-size:12; text-anchor:start;\" transform=\"rotate(0, 553.547, 44.437)\" x=\"553.547\" y=\"44.437\">y1</text>\n",
       "</g>\n",
       "<circle clip-path=\"url(#clip00)\" style=\"fill:#00002d; stroke:none; fill-opacity:1\" cx=\"517.547\" cy=\"55.057\" r=\"7\"/>\n",
       "<circle clip-path=\"url(#clip00)\" style=\"fill:#e9746a; stroke:none; fill-opacity:1\" cx=\"517.547\" cy=\"55.057\" r=\"7\"/>\n",
       "<circle clip-path=\"url(#clip00)\" style=\"fill:#00002d; stroke:none; fill-opacity:1\" cx=\"541.547\" cy=\"55.057\" r=\"7\"/>\n",
       "<circle clip-path=\"url(#clip00)\" style=\"fill:#e9746a; stroke:none; fill-opacity:1\" cx=\"541.547\" cy=\"55.057\" r=\"7\"/>\n",
       "<g clip-path=\"url(#clip00)\">\n",
       "<text style=\"fill:#00002d; fill-opacity:1; font-family:Arial,Helvetica Neue,Helvetica,sans-serif; font-size:12; text-anchor:start;\" transform=\"rotate(0, 553.547, 59.557)\" x=\"553.547\" y=\"59.557\">y2</text>\n",
       "</g>\n",
       "</svg>\n"
      ]
     },
     "execution_count": 180,
     "metadata": {},
     "output_type": "execute_result"
    }
   ],
   "source": [
    "rango = collect(1:0.01:6)\n",
    "plot(rango,[Li(x, [1,2,3,4,5,6], 2) for x in rango])\n",
    "scatter!([Li(x, [1,2,3,4,5,6], 2) for x in [1,2,3,4,5,6]])"
   ]
  },
  {
   "cell_type": "code",
   "execution_count": 184,
   "metadata": {
    "collapsed": false
   },
   "outputs": [
    {
     "data": {
      "text/html": [
       "<?xml version=\"1.0\" encoding=\"utf-8\"?>\n",
       "<svg xmlns=\"http://www.w3.org/2000/svg\" xmlns:xlink=\"http://www.w3.org/1999/xlink\" width=\"600\" height=\"400\" viewBox=\"0 0 600 400\">\n",
       "<defs>\n",
       "  <clipPath id=\"clip00\">\n",
       "    <rect x=\"0\" y=\"0\" width=\"600\" height=\"400\"/>\n",
       "  </clipPath>\n",
       "</defs>\n",
       "<polygon clip-path=\"url(#clip00)\" points=\"\n",
       "0,400 600,400 600,0 0,0 \n",
       "  \" fill=\"#ffffff\" fill-opacity=\"1\"/>\n",
       "<defs>\n",
       "  <clipPath id=\"clip01\">\n",
       "    <rect x=\"120\" y=\"0\" width=\"421\" height=\"400\"/>\n",
       "  </clipPath>\n",
       "</defs>\n",
       "<polygon clip-path=\"url(#clip00)\" points=\"\n",
       "30.6037,384.952 596.063,384.952 596.063,3.93701 30.6037,3.93701 \n",
       "  \" fill=\"#ffffff\" fill-opacity=\"1\"/>\n",
       "<defs>\n",
       "  <clipPath id=\"clip02\">\n",
       "    <rect x=\"30\" y=\"3\" width=\"566\" height=\"382\"/>\n",
       "  </clipPath>\n",
       "</defs>\n",
       "<polyline clip-path=\"url(#clip02)\" style=\"stroke:#00002d; stroke-width:0.8; stroke-opacity:0.5; fill:none\" stroke-dasharray=\"1, 2\" points=\"\n",
       "  153.298,379.237 153.298,9.65223 \n",
       "  \"/>\n",
       "<polyline clip-path=\"url(#clip02)\" style=\"stroke:#00002d; stroke-width:0.8; stroke-opacity:0.5; fill:none\" stroke-dasharray=\"1, 2\" points=\"\n",
       "  366.679,379.237 366.679,9.65223 \n",
       "  \"/>\n",
       "<polyline clip-path=\"url(#clip02)\" style=\"stroke:#00002d; stroke-width:0.8; stroke-opacity:0.5; fill:none\" stroke-dasharray=\"1, 2\" points=\"\n",
       "  580.059,379.237 580.059,9.65223 \n",
       "  \"/>\n",
       "<polyline clip-path=\"url(#clip02)\" style=\"stroke:#00002d; stroke-width:0.8; stroke-opacity:0.5; fill:none\" stroke-dasharray=\"1, 2\" points=\"\n",
       "  39.0856,326.343 587.581,326.343 \n",
       "  \"/>\n",
       "<polyline clip-path=\"url(#clip02)\" style=\"stroke:#00002d; stroke-width:0.8; stroke-opacity:0.5; fill:none\" stroke-dasharray=\"1, 2\" points=\"\n",
       "  39.0856,202.353 587.581,202.353 \n",
       "  \"/>\n",
       "<polyline clip-path=\"url(#clip02)\" style=\"stroke:#00002d; stroke-width:0.8; stroke-opacity:0.5; fill:none\" stroke-dasharray=\"1, 2\" points=\"\n",
       "  39.0856,78.3623 587.581,78.3623 \n",
       "  \"/>\n",
       "<polyline clip-path=\"url(#clip02)\" style=\"stroke:#00002d; stroke-width:0.8; stroke-opacity:1; fill:none\" points=\"\n",
       "  30.6037,384.952 596.063,384.952 \n",
       "  \"/>\n",
       "<polyline clip-path=\"url(#clip02)\" style=\"stroke:#00002d; stroke-width:0.8; stroke-opacity:1; fill:none\" points=\"\n",
       "  153.298,384.952 153.298,379.237 \n",
       "  \"/>\n",
       "<polyline clip-path=\"url(#clip02)\" style=\"stroke:#00002d; stroke-width:0.8; stroke-opacity:1; fill:none\" points=\"\n",
       "  366.679,384.952 366.679,379.237 \n",
       "  \"/>\n",
       "<polyline clip-path=\"url(#clip02)\" style=\"stroke:#00002d; stroke-width:0.8; stroke-opacity:1; fill:none\" points=\"\n",
       "  580.059,384.952 580.059,379.237 \n",
       "  \"/>\n",
       "<polyline clip-path=\"url(#clip02)\" style=\"stroke:#00002d; stroke-width:0.8; stroke-opacity:1; fill:none\" points=\"\n",
       "  30.6037,384.952 30.6037,3.93701 \n",
       "  \"/>\n",
       "<polyline clip-path=\"url(#clip02)\" style=\"stroke:#00002d; stroke-width:0.8; stroke-opacity:1; fill:none\" points=\"\n",
       "  30.6037,326.343 39.0856,326.343 \n",
       "  \"/>\n",
       "<polyline clip-path=\"url(#clip02)\" style=\"stroke:#00002d; stroke-width:0.8; stroke-opacity:1; fill:none\" points=\"\n",
       "  30.6037,202.353 39.0856,202.353 \n",
       "  \"/>\n",
       "<polyline clip-path=\"url(#clip02)\" style=\"stroke:#00002d; stroke-width:0.8; stroke-opacity:1; fill:none\" points=\"\n",
       "  30.6037,78.3623 39.0856,78.3623 \n",
       "  \"/>\n",
       "<g clip-path=\"url(#clip00)\">\n",
       "<text style=\"fill:#00002d; fill-opacity:1; font-family:Arial,Helvetica Neue,Helvetica,sans-serif; font-size:12; text-anchor:middle;\" transform=\"rotate(0, 153.298, 396.952)\" x=\"153.298\" y=\"396.952\">2</text>\n",
       "</g>\n",
       "<g clip-path=\"url(#clip00)\">\n",
       "<text style=\"fill:#00002d; fill-opacity:1; font-family:Arial,Helvetica Neue,Helvetica,sans-serif; font-size:12; text-anchor:middle;\" transform=\"rotate(0, 366.679, 396.952)\" x=\"366.679\" y=\"396.952\">4</text>\n",
       "</g>\n",
       "<g clip-path=\"url(#clip00)\">\n",
       "<text style=\"fill:#00002d; fill-opacity:1; font-family:Arial,Helvetica Neue,Helvetica,sans-serif; font-size:12; text-anchor:middle;\" transform=\"rotate(0, 580.059, 396.952)\" x=\"580.059\" y=\"396.952\">6</text>\n",
       "</g>\n",
       "<g clip-path=\"url(#clip00)\">\n",
       "<text style=\"fill:#00002d; fill-opacity:1; font-family:Arial,Helvetica Neue,Helvetica,sans-serif; font-size:12; text-anchor:end;\" transform=\"rotate(0, 29.4037, 330.843)\" x=\"29.4037\" y=\"330.843\">0.0</text>\n",
       "</g>\n",
       "<g clip-path=\"url(#clip00)\">\n",
       "<text style=\"fill:#00002d; fill-opacity:1; font-family:Arial,Helvetica Neue,Helvetica,sans-serif; font-size:12; text-anchor:end;\" transform=\"rotate(0, 29.4037, 206.853)\" x=\"29.4037\" y=\"206.853\">0.5</text>\n",
       "</g>\n",
       "<g clip-path=\"url(#clip00)\">\n",
       "<text style=\"fill:#00002d; fill-opacity:1; font-family:Arial,Helvetica Neue,Helvetica,sans-serif; font-size:12; text-anchor:end;\" transform=\"rotate(0, 29.4037, 82.8623)\" x=\"29.4037\" y=\"82.8623\">1.0</text>\n",
       "</g>\n",
       "<polyline clip-path=\"url(#clip02)\" style=\"stroke:#0099ff; stroke-width:0.8; stroke-opacity:1; fill:none\" points=\"\n",
       "  46.6072,326.343 47.6741,314.103 48.741,302.176 49.808,290.559 50.8749,279.247 51.9418,268.235 53.0087,257.521 54.0756,247.099 55.1425,236.965 56.2094,227.115 \n",
       "  57.2763,217.546 58.3432,208.252 59.4101,199.23 60.477,190.476 61.5439,181.986 62.6108,173.756 63.6777,165.782 64.7446,158.061 65.8115,150.587 66.8784,143.358 \n",
       "  67.9453,136.37 69.0122,129.619 70.0791,123.101 71.146,116.813 72.2129,110.75 73.2798,104.91 74.3468,99.2887 75.4137,93.8826 76.4806,88.688 77.5475,83.7016 \n",
       "  78.6144,78.92 79.6813,74.3395 80.7482,69.957 81.8151,65.7689 82.882,61.772 83.9489,57.9629 85.0158,54.3384 86.0827,50.8952 87.1496,47.6301 88.2165,44.5399 \n",
       "  89.2834,41.6214 90.3503,38.8716 91.4172,36.2874 92.4841,33.8656 93.551,31.6032 94.6179,29.4972 95.6848,27.5447 96.7517,25.7427 97.8187,24.0882 98.8856,22.5784 \n",
       "  99.9525,21.2104 101.019,19.9814 102.086,18.8886 103.153,17.9291 104.22,17.1003 105.287,16.3994 106.354,15.8238 107.421,15.3707 108.488,15.0375 109.555,14.8216 \n",
       "  110.622,14.7204 111.688,14.7315 112.755,14.8521 113.822,15.08 114.889,15.4124 115.956,15.8471 117.023,16.3816 118.09,17.0136 119.157,17.7405 120.224,18.5602 \n",
       "  121.291,19.4702 122.357,20.4684 123.424,21.5523 124.491,22.7199 125.558,23.9689 126.625,25.297 127.692,26.7022 128.759,28.1824 129.826,29.7353 130.893,31.3589 \n",
       "  131.96,33.0512 133.026,34.8101 134.093,36.6337 135.16,38.5199 136.227,40.4667 137.294,42.4723 138.361,44.5347 139.428,46.6521 140.495,48.8225 141.562,51.0442 \n",
       "  142.629,53.3153 143.696,55.634 144.762,57.9986 145.829,60.4074 146.896,62.8585 147.963,65.3503 149.03,67.8812 150.097,70.4495 151.164,73.0535 152.231,75.6916 \n",
       "  153.298,78.3623 154.365,81.064 155.431,83.7952 156.498,86.5543 157.565,89.3398 158.632,92.1504 159.699,94.9844 160.766,97.8406 161.833,100.717 162.9,103.614 \n",
       "  163.967,106.528 165.034,109.458 166.101,112.404 167.167,115.364 168.234,118.337 169.301,121.321 170.368,124.315 171.435,127.318 172.502,130.329 173.569,133.347 \n",
       "  174.636,136.37 175.703,139.397 176.77,142.428 177.836,145.46 178.903,148.494 179.97,151.528 181.037,154.56 182.104,157.59 183.171,160.618 184.238,163.641 \n",
       "  185.305,166.659 186.372,169.671 187.439,172.676 188.506,175.673 189.572,178.662 190.639,181.641 191.706,184.609 192.773,187.566 193.84,190.511 194.907,193.443 \n",
       "  195.974,196.362 197.041,199.266 198.108,202.154 199.175,205.027 200.241,207.883 201.308,210.722 202.375,213.543 203.442,216.345 204.509,219.127 205.576,221.89 \n",
       "  206.643,224.632 207.71,227.353 208.777,230.053 209.844,232.729 210.911,235.383 211.977,238.014 213.044,240.621 214.111,243.203 215.178,245.76 216.245,248.292 \n",
       "  217.312,250.798 218.379,253.278 219.446,255.731 220.513,258.157 221.58,260.556 222.646,262.926 223.713,265.269 224.78,267.582 225.847,269.867 226.914,272.122 \n",
       "  227.981,274.348 229.048,276.544 230.115,278.71 231.182,280.845 232.249,282.95 233.316,285.023 234.382,287.066 235.449,289.077 236.516,291.056 237.583,293.004 \n",
       "  238.65,294.919 239.717,296.803 240.784,298.654 241.851,300.472 242.918,302.259 243.985,304.012 245.051,305.733 246.118,307.42 247.185,309.075 248.252,310.697 \n",
       "  249.319,312.285 250.386,313.84 251.453,315.363 252.52,316.851 253.587,318.307 254.654,319.73 255.72,321.119 256.787,322.475 257.854,323.797 258.921,325.087 \n",
       "  259.988,326.343 261.055,327.567 262.122,328.757 263.189,329.915 264.256,331.039 265.323,332.131 266.39,333.19 267.456,334.217 268.523,335.212 269.59,336.174 \n",
       "  270.657,337.104 271.724,338.002 272.791,338.868 273.858,339.702 274.925,340.505 275.992,341.277 277.059,342.018 278.125,342.728 279.192,343.407 280.259,344.056 \n",
       "  281.326,344.674 282.393,345.263 283.46,345.821 284.527,346.35 285.594,346.85 286.661,347.321 287.728,347.763 288.795,348.177 289.861,348.563 290.928,348.92 \n",
       "  291.995,349.25 293.062,349.553 294.129,349.829 295.196,350.078 296.263,350.301 297.33,350.497 298.397,350.668 299.464,350.814 300.53,350.934 301.597,351.03 \n",
       "  302.664,351.102 303.731,351.149 304.798,351.173 305.865,351.174 306.932,351.152 307.999,351.107 309.066,351.041 310.133,350.952 311.2,350.842 312.266,350.712 \n",
       "  313.333,350.56 314.4,350.389 315.467,350.198 316.534,349.987 317.601,349.758 318.668,349.51 319.735,349.244 320.802,348.96 321.869,348.659 322.935,348.341 \n",
       "  324.002,348.007 325.069,347.657 326.136,347.291 327.203,346.911 328.27,346.515 329.337,346.106 330.404,345.682 331.471,345.246 332.538,344.796 333.605,344.334 \n",
       "  334.671,343.86 335.738,343.375 336.805,342.879 337.872,342.372 338.939,341.854 340.006,341.328 341.073,340.791 342.14,340.247 343.207,339.693 344.274,339.132 \n",
       "  345.34,338.564 346.407,337.988 347.474,337.407 348.541,336.819 349.608,336.225 350.675,335.627 351.742,335.023 352.809,334.416 353.876,333.805 354.943,333.19 \n",
       "  356.01,332.573 357.076,331.953 358.143,331.332 359.21,330.709 360.277,330.085 361.344,329.46 362.411,328.835 363.478,328.211 364.545,327.587 365.612,326.964 \n",
       "  366.679,326.343 367.745,325.725 368.812,325.108 369.879,324.495 370.946,323.885 372.013,323.278 373.08,322.676 374.147,322.079 375.214,321.486 376.281,320.899 \n",
       "  377.348,320.318 378.415,319.744 379.481,319.175 380.548,318.614 381.615,318.061 382.682,317.515 383.749,316.977 384.816,316.448 385.883,315.928 386.95,315.417 \n",
       "  388.017,314.916 389.084,314.426 390.15,313.945 391.217,313.476 392.284,313.017 393.351,312.57 394.418,312.135 395.485,311.712 396.552,311.301 397.619,310.903 \n",
       "  398.686,310.519 399.753,310.148 400.819,309.79 401.886,309.446 402.953,309.117 404.02,308.803 405.087,308.503 406.154,308.218 407.221,307.949 408.288,307.695 \n",
       "  409.355,307.457 410.422,307.235 411.489,307.03 412.555,306.841 413.622,306.669 414.689,306.514 415.756,306.377 416.823,306.256 417.89,306.153 418.957,306.068 \n",
       "  420.024,306.001 421.091,305.952 422.158,305.921 423.224,305.909 424.291,305.915 425.358,305.94 426.425,305.983 427.492,306.045 428.559,306.127 429.626,306.227 \n",
       "  430.693,306.346 431.76,306.485 432.827,306.643 433.894,306.82 434.96,307.016 436.027,307.232 437.094,307.467 438.161,307.721 439.228,307.995 440.295,308.288 \n",
       "  441.362,308.601 442.429,308.932 443.496,309.283 444.563,309.654 445.629,310.043 446.696,310.451 447.763,310.878 448.83,311.324 449.897,311.789 450.964,312.272 \n",
       "  452.031,312.774 453.098,313.294 454.165,313.832 455.232,314.388 456.299,314.962 457.365,315.553 458.432,316.161 459.499,316.787 460.566,317.429 461.633,318.088 \n",
       "  462.7,318.764 463.767,319.455 464.834,320.162 465.901,320.884 466.968,321.622 468.034,322.374 469.101,323.141 470.168,323.921 471.235,324.716 472.302,325.523 \n",
       "  473.369,326.343 474.436,327.176 475.503,328.021 476.57,328.877 477.637,329.744 478.704,330.622 479.77,331.51 480.837,332.407 481.904,333.313 482.971,334.228 \n",
       "  484.038,335.151 485.105,336.081 486.172,337.017 487.239,337.96 488.306,338.908 489.373,339.861 490.439,340.818 491.506,341.779 492.573,342.742 493.64,343.707 \n",
       "  494.707,344.674 495.774,345.641 496.841,346.609 497.908,347.575 498.975,348.539 500.042,349.501 501.109,350.459 502.175,351.413 503.242,352.362 504.309,353.305 \n",
       "  505.376,354.241 506.443,355.169 507.51,356.088 508.577,356.998 509.644,357.896 510.711,358.783 511.778,359.657 512.844,360.518 513.911,361.363 514.978,362.193 \n",
       "  516.045,363.005 517.112,363.799 518.179,364.574 519.246,365.328 520.313,366.061 521.38,366.771 522.447,367.457 523.513,368.117 524.58,368.751 525.647,369.357 \n",
       "  526.714,369.934 527.781,370.48 528.848,370.995 529.915,371.476 530.982,371.923 532.049,372.334 533.116,372.707 534.183,373.042 535.249,373.336 536.316,373.588 \n",
       "  537.383,373.797 538.45,373.961 539.517,374.079 540.584,374.148 541.651,374.168 542.718,374.137 543.785,374.053 544.852,373.914 545.918,373.719 546.985,373.466 \n",
       "  548.052,373.153 549.119,372.779 550.186,372.341 551.253,371.838 552.32,371.269 553.387,370.63 554.454,369.921 555.521,369.139 556.588,368.282 557.654,367.349 \n",
       "  558.721,366.338 559.788,365.246 560.855,364.071 561.922,362.812 562.989,361.466 564.056,360.031 565.123,358.506 566.19,356.887 567.257,355.173 568.323,353.362 \n",
       "  569.39,351.451 570.457,349.437 571.524,347.32 572.591,345.096 573.658,342.763 574.725,340.319 575.792,337.761 576.859,335.087 577.926,332.294 578.993,329.381 \n",
       "  580.059,326.343 \n",
       "  \"/>\n",
       "<circle clip-path=\"url(#clip02)\" style=\"fill:#00002d; stroke:none; fill-opacity:1\" cx=\"46.6072\" cy=\"326.343\" r=\"3\"/>\n",
       "<circle clip-path=\"url(#clip02)\" style=\"fill:#e9746a; stroke:none; fill-opacity:1\" cx=\"46.6072\" cy=\"326.343\" r=\"2\"/>\n",
       "<circle clip-path=\"url(#clip02)\" style=\"fill:#00002d; stroke:none; fill-opacity:1\" cx=\"153.298\" cy=\"78.3623\" r=\"3\"/>\n",
       "<circle clip-path=\"url(#clip02)\" style=\"fill:#e9746a; stroke:none; fill-opacity:1\" cx=\"153.298\" cy=\"78.3623\" r=\"2\"/>\n",
       "<circle clip-path=\"url(#clip02)\" style=\"fill:#00002d; stroke:none; fill-opacity:1\" cx=\"259.988\" cy=\"326.343\" r=\"3\"/>\n",
       "<circle clip-path=\"url(#clip02)\" style=\"fill:#e9746a; stroke:none; fill-opacity:1\" cx=\"259.988\" cy=\"326.343\" r=\"2\"/>\n",
       "<circle clip-path=\"url(#clip02)\" style=\"fill:#00002d; stroke:none; fill-opacity:1\" cx=\"366.679\" cy=\"326.343\" r=\"3\"/>\n",
       "<circle clip-path=\"url(#clip02)\" style=\"fill:#e9746a; stroke:none; fill-opacity:1\" cx=\"366.679\" cy=\"326.343\" r=\"2\"/>\n",
       "<circle clip-path=\"url(#clip02)\" style=\"fill:#00002d; stroke:none; fill-opacity:1\" cx=\"473.369\" cy=\"326.343\" r=\"3\"/>\n",
       "<circle clip-path=\"url(#clip02)\" style=\"fill:#e9746a; stroke:none; fill-opacity:1\" cx=\"473.369\" cy=\"326.343\" r=\"2\"/>\n",
       "<circle clip-path=\"url(#clip02)\" style=\"fill:#00002d; stroke:none; fill-opacity:1\" cx=\"580.059\" cy=\"326.343\" r=\"3\"/>\n",
       "<circle clip-path=\"url(#clip02)\" style=\"fill:#e9746a; stroke:none; fill-opacity:1\" cx=\"580.059\" cy=\"326.343\" r=\"2\"/>\n",
       "<polygon clip-path=\"url(#clip00)\" points=\"\n",
       "505.547,70.177 578.063,70.177 578.063,24.817 505.547,24.817 \n",
       "  \" fill=\"#ffffff\" fill-opacity=\"1\"/>\n",
       "<polyline clip-path=\"url(#clip00)\" style=\"stroke:#00002d; stroke-width:0.8; stroke-opacity:1; fill:none\" points=\"\n",
       "  505.547,70.177 578.063,70.177 578.063,24.817 505.547,24.817 505.547,70.177 \n",
       "  \"/>\n",
       "<polyline clip-path=\"url(#clip00)\" style=\"stroke:#0099ff; stroke-width:0.8; stroke-opacity:1; fill:none\" points=\"\n",
       "  511.547,39.937 547.547,39.937 \n",
       "  \"/>\n",
       "<g clip-path=\"url(#clip00)\">\n",
       "<text style=\"fill:#00002d; fill-opacity:1; font-family:Arial,Helvetica Neue,Helvetica,sans-serif; font-size:12; text-anchor:start;\" transform=\"rotate(0, 553.547, 44.437)\" x=\"553.547\" y=\"44.437\">y1</text>\n",
       "</g>\n",
       "<circle clip-path=\"url(#clip00)\" style=\"fill:#00002d; stroke:none; fill-opacity:1\" cx=\"517.547\" cy=\"55.057\" r=\"7\"/>\n",
       "<circle clip-path=\"url(#clip00)\" style=\"fill:#e9746a; stroke:none; fill-opacity:1\" cx=\"517.547\" cy=\"55.057\" r=\"7\"/>\n",
       "<circle clip-path=\"url(#clip00)\" style=\"fill:#00002d; stroke:none; fill-opacity:1\" cx=\"541.547\" cy=\"55.057\" r=\"7\"/>\n",
       "<circle clip-path=\"url(#clip00)\" style=\"fill:#e9746a; stroke:none; fill-opacity:1\" cx=\"541.547\" cy=\"55.057\" r=\"7\"/>\n",
       "<g clip-path=\"url(#clip00)\">\n",
       "<text style=\"fill:#00002d; fill-opacity:1; font-family:Arial,Helvetica Neue,Helvetica,sans-serif; font-size:12; text-anchor:start;\" transform=\"rotate(0, 553.547, 59.557)\" x=\"553.547\" y=\"59.557\">y2</text>\n",
       "</g>\n",
       "</svg>\n"
      ]
     },
     "execution_count": 184,
     "metadata": {},
     "output_type": "execute_result"
    }
   ],
   "source": [
    "rango = collect(1:0.01:6)\n",
    "plot(rango,[Li2(x, [1,3,4,5,6], 2) for x in rango])\n",
    "scatter!([Li2(x, [1,3,4,5,6], 2) for x in [1,2,3,4,5,6]])"
   ]
  },
  {
   "cell_type": "markdown",
   "metadata": {},
   "source": [
    "(iv) Utiliza las $L_i$ para interpolar los datos $(x_i, y_i)_{i=1}^N$ con un polinomio $p$. ¿De qué orden es el polinomio resultante? Nota que $p$ es *único* en el conjunto de polinomios con grado $\\le$ el grado de $p$."
   ]
  },
  {
   "cell_type": "code",
   "execution_count": 198,
   "metadata": {
    "collapsed": false
   },
   "outputs": [
    {
     "name": "stderr",
     "output_type": "stream",
     "text": [
      "WARNING: Method definition polY(Any, Array{T<:Any, 1}, Array{T<:Any, 1}) in module Main at In[196]:2 overwritten at In[198]:2.\n"
     ]
    },
    {
     "data": {
      "text/plain": [
       "polY (generic function with 1 method)"
      ]
     },
     "execution_count": 198,
     "metadata": {},
     "output_type": "execute_result"
    }
   ],
   "source": [
    "function polY(x, xn:: Vector, yn:: Vector)\n",
    "    if length(xn) != length(yn)\n",
    "        error(\"Ambos vectores deben ser de la misma dimensión\")\n",
    "    end\n",
    "    n = length(yn)\n",
    "    L = 1.0\n",
    "    for i in 1:n\n",
    "        L = Li(x, xn, i)*yn[i]\n",
    "    end\n",
    "    return L\n",
    "end"
   ]
  },
  {
   "cell_type": "code",
   "execution_count": 201,
   "metadata": {
    "collapsed": false
   },
   "outputs": [
    {
     "data": {
      "text/plain": [
       "-7.354367999999999"
      ]
     },
     "execution_count": 201,
     "metadata": {},
     "output_type": "execute_result"
    }
   ],
   "source": [
    "polY(0.2,[1,2,3,4,5,6],[2,4,6,8,10,12])"
   ]
  },
  {
   "cell_type": "markdown",
   "metadata": {},
   "source": [
    "El polinomio resultante debe ser de orden n, siendo n el número de puntos $x$ y $y$."
   ]
  },
  {
   "cell_type": "markdown",
   "metadata": {},
   "source": [
    "**[3]** (i) Escribe una función `interpolar` que acepta un vector de $N$ pares $(x_i, y_i)$, y regresa una función que las interpole. [Pista: Puedes ¡definir una función adentro de la función `interpolar`!, y luego ¡regresar esta función de la función `interpolar`!]"
   ]
  },
  {
   "cell_type": "code",
   "execution_count": null,
   "metadata": {
    "collapsed": true
   },
   "outputs": [],
   "source": [
    "function interpolar()\n",
    "    \n",
    "    "
   ]
  },
  {
   "cell_type": "markdown",
   "metadata": {},
   "source": [
    "(ii) Toma funciones polinomiales de orden $n$ diferentes, y genera $n+1$ datos al muestrear la función en distintos puntos $x_i$, espaciados de forma uniforme. Dibuja la función original y la función interpolada."
   ]
  },
  {
   "cell_type": "markdown",
   "metadata": {},
   "source": [
    "(iii) Ahora toma funciones que *no sean* polinomiales, y haz lo mismo. ¿Qué observas?"
   ]
  },
  {
   "cell_type": "code",
   "execution_count": null,
   "metadata": {
    "collapsed": true
   },
   "outputs": [],
   "source": []
  },
  {
   "cell_type": "markdown",
   "metadata": {},
   "source": [
    "**[4]** Considera la función de Runga, $f(x) = \\frac{1}{1+25x^2}$, en la región $x \\in [-1, 1]$. Interpólala con tu función `interpolar` para distintos números $N$ de puntos. ¿Qué observas? Utiliza `@manipulate`. "
   ]
  },
  {
   "cell_type": "markdown",
   "metadata": {},
   "source": [
    "Le que observaste en [4] se llama el **fenómeno de Runge**. Demuestra que en general es una mala idea interpolar en puntos espaciados de forma igual. Sin embargo, resulta que el problema no es la interpolación en sí, sino la elección de puntos donde interpolar."
   ]
  },
  {
   "cell_type": "markdown",
   "metadata": {},
   "source": [
    "## Interpolación en puntos espaciados no-uniformemente"
   ]
  },
  {
   "cell_type": "markdown",
   "metadata": {},
   "source": [
    "Resulta que la solución es tomar puntos en el intervalo $[-1,1]$, espaciados tales que se amontonen cerca de los puntos extremos del intervalo. [La razón por esto se puede entender con la teoría de potenciales (\"potential theory\"); ver e.g. Trefethen, *Approximation Theory and Approximation Practice*.] \n",
    "\n",
    "Lo más común es utilizar los **puntos de Chebyshev** con parámetro $n$, definidos como \n",
    "\n",
    "$$x_j := \\cos \\left( \\frac{j \\pi}{n} \\right) \\quad \\text{con } 0 \\le j \\le n.$$"
   ]
  },
  {
   "cell_type": "markdown",
   "metadata": {},
   "source": [
    "**[5]** (i) Escribe una función que calcula los puntos de Chebyshev para un valor de $n$ dado.\n",
    "\n",
    "(ii) Escribe una función que interpola una función dada en los puntos de Chebyshev. Grafica los resultados.\n",
    "\n",
    "(iii) Interpola la función de Runge con puntos de Chebyshev. ¿Qué observas?"
   ]
  },
  {
   "cell_type": "markdown",
   "metadata": {},
   "source": [
    "**[6]** Dada una función $f$, calcula numéricamente el error al utilizar la interpolación de Chebyshev $p$ con respecto a la función original $f$, dado por la norma\n",
    "\n",
    "$$\\|f - p\\|_{\\infty} := \\sup_x |f(x) - p(x)|,$$\n",
    "\n",
    "para distintos números de puntos de Chebyshev.\n",
    "\n",
    "Conforme se aumenta el número de puntos, ¿cómo es la convergencia a $0$ del error?  "
   ]
  },
  {
   "cell_type": "markdown",
   "metadata": {},
   "source": [
    "**[7]** Resulta que la tasa de convergencia depende de qué tan suave es la función.\n",
    "Por ejemplo, inténtalo con la función `abs` y con la función `floor`."
   ]
  },
  {
   "cell_type": "markdown",
   "metadata": {},
   "source": [
    "## Hacia el futuro"
   ]
  },
  {
   "cell_type": "markdown",
   "metadata": {},
   "source": [
    "Lo que hemos logrado es reemplazar (aproximar) una función continua $f$ por un conjunto discreto de sus valores $f(x_i)$ en la **malla** $(x_i)_{i=1}^N$. Ahora podremos manipular la función ¡al manipular sólo estos valores discretos!"
   ]
  },
  {
   "cell_type": "markdown",
   "metadata": {},
   "source": [
    "Resulta que es más útil **cambiar de base** en el espacio de polinomios, y utilizar los **polinomios de Chebyshev**. \n",
    "\n",
    "La idea es escribir el polinomio interpolante como una suma de polinomios de Chebyshev y examinar los coeficientes de estos polinomios, que tienen propiedades muy útiles. Esto lo podremos ver hasta después de ver álgebra lineal numérica.  ¡Podría formar un proyecto final interesante!  "
   ]
  }
 ],
 "metadata": {
  "kernelspec": {
   "display_name": "Julia 0.5.1-pre",
   "language": "julia",
   "name": "julia-0.5"
  },
  "language_info": {
   "file_extension": ".jl",
   "mimetype": "application/julia",
   "name": "julia",
   "version": "0.5.1"
  }
 },
 "nbformat": 4,
 "nbformat_minor": 2
}
